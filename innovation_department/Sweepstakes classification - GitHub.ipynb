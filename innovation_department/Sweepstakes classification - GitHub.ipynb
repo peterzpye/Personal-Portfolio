{
 "cells": [
  {
   "cell_type": "markdown",
   "metadata": {},
   "source": [
    "In this project, I worked on predicting if a customer would accept an invitation or not. "
   ]
  },
  {
   "cell_type": "markdown",
   "metadata": {},
   "source": [
    "## Classification on Sweepstakes Customers"
   ]
  },
  {
   "cell_type": "markdown",
   "metadata": {},
   "source": [
    "Since we are basically predicting on brands willingness to invite with another brand, we can try a classification problem on status(accpeted/rejected). "
   ]
  },
  {
   "cell_type": "code",
   "execution_count": 43,
   "metadata": {},
   "outputs": [],
   "source": [
    "%config IPCompleter.greedy=True\n",
    "from sklearn.preprocessing import LabelEncoder\n",
    "from sklearn.preprocessing import normalize\n",
    "from sklearn.preprocessing import MinMaxScaler\n",
    "import pandas as pd\n",
    "import numpy as np\n",
    "from sklearn.preprocessing import OneHotEncoder\n",
    "from sklearn.svm import SVC\n",
    "from sklearn.ensemble import RandomForestClassifier\n",
    "from sklearn.model_selection import train_test_split"
   ]
  },
  {
   "cell_type": "code",
   "execution_count": 44,
   "metadata": {},
   "outputs": [
    {
     "data": {
      "text/html": [
       "<div>\n",
       "<style scoped>\n",
       "    .dataframe tbody tr th:only-of-type {\n",
       "        vertical-align: middle;\n",
       "    }\n",
       "\n",
       "    .dataframe tbody tr th {\n",
       "        vertical-align: top;\n",
       "    }\n",
       "\n",
       "    .dataframe thead th {\n",
       "        text-align: right;\n",
       "    }\n",
       "</style>\n",
       "<table border=\"1\" class=\"dataframe\">\n",
       "  <thead>\n",
       "    <tr style=\"text-align: right;\">\n",
       "      <th></th>\n",
       "      <th>campaign_id</th>\n",
       "      <th>gap_months</th>\n",
       "      <th>minimum_entries_required</th>\n",
       "      <th>prizing_value</th>\n",
       "      <th>days_pushed</th>\n",
       "      <th>nb_viewers</th>\n",
       "      <th>nb_participants</th>\n",
       "      <th>participants</th>\n",
       "      <th>partic_list_sizes</th>\n",
       "      <th>nb_pending_invites_duplicate_column_name_1</th>\n",
       "      <th>nb_pending_invites</th>\n",
       "      <th>nb_total_invites</th>\n",
       "      <th>invite_apps_ratio</th>\n",
       "      <th>response_rate</th>\n",
       "    </tr>\n",
       "  </thead>\n",
       "  <tbody>\n",
       "    <tr>\n",
       "      <th>0</th>\n",
       "      <td>3439.0</td>\n",
       "      <td>0.0</td>\n",
       "      <td>0.0</td>\n",
       "      <td>1000.0</td>\n",
       "      <td>0.0</td>\n",
       "      <td>NaN</td>\n",
       "      <td>2.0</td>\n",
       "      <td>3368, 2436</td>\n",
       "      <td>125225, 3600000</td>\n",
       "      <td>0</td>\n",
       "      <td>0</td>\n",
       "      <td>22</td>\n",
       "      <td>1.0</td>\n",
       "      <td>0.388889</td>\n",
       "    </tr>\n",
       "    <tr>\n",
       "      <th>1</th>\n",
       "      <td>431.0</td>\n",
       "      <td>0.0</td>\n",
       "      <td>0.0</td>\n",
       "      <td>0.0</td>\n",
       "      <td>0.0</td>\n",
       "      <td>NaN</td>\n",
       "      <td>5.0</td>\n",
       "      <td>117, 506, 554, 49, 194</td>\n",
       "      <td>200000, 700000, 1000000, 1000000, 145000</td>\n",
       "      <td>0</td>\n",
       "      <td>0</td>\n",
       "      <td>0</td>\n",
       "      <td>1.0</td>\n",
       "      <td>1.000000</td>\n",
       "    </tr>\n",
       "    <tr>\n",
       "      <th>2</th>\n",
       "      <td>3239.0</td>\n",
       "      <td>0.0</td>\n",
       "      <td>0.0</td>\n",
       "      <td>5000.0</td>\n",
       "      <td>0.0</td>\n",
       "      <td>NaN</td>\n",
       "      <td>6.0</td>\n",
       "      <td>49, 690, 131, 1416, 149, 4</td>\n",
       "      <td>1000000, 600000, 350000, 600000, 400000, 1000000</td>\n",
       "      <td>0</td>\n",
       "      <td>0</td>\n",
       "      <td>8</td>\n",
       "      <td>1.0</td>\n",
       "      <td>0.166667</td>\n",
       "    </tr>\n",
       "    <tr>\n",
       "      <th>3</th>\n",
       "      <td>3224.0</td>\n",
       "      <td>0.0</td>\n",
       "      <td>0.0</td>\n",
       "      <td>3500.0</td>\n",
       "      <td>0.0</td>\n",
       "      <td>1.0</td>\n",
       "      <td>8.0</td>\n",
       "      <td>2650, 2231, 1582, 4209, 3215, 3223, 4028, 1770</td>\n",
       "      <td>60000, 95000, 80000, 25000, 250000, 25000, 109...</td>\n",
       "      <td>0</td>\n",
       "      <td>0</td>\n",
       "      <td>53</td>\n",
       "      <td>1.0</td>\n",
       "      <td>0.353383</td>\n",
       "    </tr>\n",
       "    <tr>\n",
       "      <th>4</th>\n",
       "      <td>2943.0</td>\n",
       "      <td>0.0</td>\n",
       "      <td>0.0</td>\n",
       "      <td>4500.0</td>\n",
       "      <td>0.0</td>\n",
       "      <td>1.0</td>\n",
       "      <td>7.0</td>\n",
       "      <td>2971, 1641, 2505, 691, 2169, 215, 2241</td>\n",
       "      <td>40000, 30000, 70000, 100000, 77000, 230000, 20...</td>\n",
       "      <td>0</td>\n",
       "      <td>0</td>\n",
       "      <td>54</td>\n",
       "      <td>1.0</td>\n",
       "      <td>0.405660</td>\n",
       "    </tr>\n",
       "  </tbody>\n",
       "</table>\n",
       "</div>"
      ],
      "text/plain": [
       "   campaign_id  gap_months  minimum_entries_required  prizing_value  \\\n",
       "0       3439.0         0.0                       0.0         1000.0   \n",
       "1        431.0         0.0                       0.0            0.0   \n",
       "2       3239.0         0.0                       0.0         5000.0   \n",
       "3       3224.0         0.0                       0.0         3500.0   \n",
       "4       2943.0         0.0                       0.0         4500.0   \n",
       "\n",
       "   days_pushed  nb_viewers  nb_participants  \\\n",
       "0          0.0         NaN              2.0   \n",
       "1          0.0         NaN              5.0   \n",
       "2          0.0         NaN              6.0   \n",
       "3          0.0         1.0              8.0   \n",
       "4          0.0         1.0              7.0   \n",
       "\n",
       "                                     participants  \\\n",
       "0                                      3368, 2436   \n",
       "1                          117, 506, 554, 49, 194   \n",
       "2                      49, 690, 131, 1416, 149, 4   \n",
       "3  2650, 2231, 1582, 4209, 3215, 3223, 4028, 1770   \n",
       "4          2971, 1641, 2505, 691, 2169, 215, 2241   \n",
       "\n",
       "                                   partic_list_sizes  \\\n",
       "0                                    125225, 3600000   \n",
       "1           200000, 700000, 1000000, 1000000, 145000   \n",
       "2   1000000, 600000, 350000, 600000, 400000, 1000000   \n",
       "3  60000, 95000, 80000, 25000, 250000, 25000, 109...   \n",
       "4  40000, 30000, 70000, 100000, 77000, 230000, 20...   \n",
       "\n",
       "   nb_pending_invites_duplicate_column_name_1  nb_pending_invites  \\\n",
       "0                                           0                   0   \n",
       "1                                           0                   0   \n",
       "2                                           0                   0   \n",
       "3                                           0                   0   \n",
       "4                                           0                   0   \n",
       "\n",
       "   nb_total_invites  invite_apps_ratio  response_rate  \n",
       "0                22                1.0       0.388889  \n",
       "1                 0                1.0       1.000000  \n",
       "2                 8                1.0       0.166667  \n",
       "3                53                1.0       0.353383  \n",
       "4                54                1.0       0.405660  "
      ]
     },
     "execution_count": 44,
     "metadata": {},
     "output_type": "execute_result"
    }
   ],
   "source": [
    "# loading data\n",
    "data = pd.read_csv('sweepstakes_category.csv')\n",
    "data.head()"
   ]
  },
  {
   "cell_type": "markdown",
   "metadata": {},
   "source": [
    "Data Preprocessing"
   ]
  },
  {
   "cell_type": "code",
   "execution_count": 45,
   "metadata": {},
   "outputs": [],
   "source": [
    "participants = data['participants'].str.split(',', expand = True)\n",
    "list_size = data['partic_list_sizes'].str.split(',', expand = True)"
   ]
  },
  {
   "cell_type": "code",
   "execution_count": 46,
   "metadata": {},
   "outputs": [],
   "source": [
    "list_size.fillna(0, inplace = True)\n",
    "list_size = list_size.astype(int)\n",
    "data['total_list_size'] = list_size.sum(axis = 1)\n",
    "data['avg_list_size'] = list_size.mean(axis = 1)"
   ]
  },
  {
   "cell_type": "code",
   "execution_count": 47,
   "metadata": {},
   "outputs": [],
   "source": [
    "participants.fillna(0, inplace = True)\n",
    "participants = participants.astype(int)\n",
    "data['total_par_counts'] = participants.nunique(axis = 1)\n"
   ]
  },
  {
   "cell_type": "code",
   "execution_count": 48,
   "metadata": {},
   "outputs": [
    {
     "data": {
      "text/html": [
       "<div>\n",
       "<style scoped>\n",
       "    .dataframe tbody tr th:only-of-type {\n",
       "        vertical-align: middle;\n",
       "    }\n",
       "\n",
       "    .dataframe tbody tr th {\n",
       "        vertical-align: top;\n",
       "    }\n",
       "\n",
       "    .dataframe thead th {\n",
       "        text-align: right;\n",
       "    }\n",
       "</style>\n",
       "<table border=\"1\" class=\"dataframe\">\n",
       "  <thead>\n",
       "    <tr style=\"text-align: right;\">\n",
       "      <th></th>\n",
       "      <th>campaign_id</th>\n",
       "      <th>gap_months</th>\n",
       "      <th>minimum_entries_required</th>\n",
       "      <th>prizing_value</th>\n",
       "      <th>days_pushed</th>\n",
       "      <th>nb_viewers</th>\n",
       "      <th>nb_participants</th>\n",
       "      <th>participants</th>\n",
       "      <th>partic_list_sizes</th>\n",
       "      <th>nb_pending_invites_duplicate_column_name_1</th>\n",
       "      <th>nb_pending_invites</th>\n",
       "      <th>nb_total_invites</th>\n",
       "      <th>invite_apps_ratio</th>\n",
       "      <th>response_rate</th>\n",
       "      <th>total_list_size</th>\n",
       "      <th>avg_list_size</th>\n",
       "      <th>total_par_counts</th>\n",
       "    </tr>\n",
       "  </thead>\n",
       "  <tbody>\n",
       "    <tr>\n",
       "      <th>0</th>\n",
       "      <td>3439.0</td>\n",
       "      <td>0.0</td>\n",
       "      <td>0.0</td>\n",
       "      <td>1000.0</td>\n",
       "      <td>0.0</td>\n",
       "      <td>NaN</td>\n",
       "      <td>2.0</td>\n",
       "      <td>3368, 2436</td>\n",
       "      <td>125225, 3600000</td>\n",
       "      <td>0</td>\n",
       "      <td>0</td>\n",
       "      <td>22</td>\n",
       "      <td>1.0</td>\n",
       "      <td>0.388889</td>\n",
       "      <td>3725225</td>\n",
       "      <td>266087.500000</td>\n",
       "      <td>3</td>\n",
       "    </tr>\n",
       "    <tr>\n",
       "      <th>1</th>\n",
       "      <td>431.0</td>\n",
       "      <td>0.0</td>\n",
       "      <td>0.0</td>\n",
       "      <td>0.0</td>\n",
       "      <td>0.0</td>\n",
       "      <td>NaN</td>\n",
       "      <td>5.0</td>\n",
       "      <td>117, 506, 554, 49, 194</td>\n",
       "      <td>200000, 700000, 1000000, 1000000, 145000</td>\n",
       "      <td>0</td>\n",
       "      <td>0</td>\n",
       "      <td>0</td>\n",
       "      <td>1.0</td>\n",
       "      <td>1.000000</td>\n",
       "      <td>3045000</td>\n",
       "      <td>217500.000000</td>\n",
       "      <td>6</td>\n",
       "    </tr>\n",
       "    <tr>\n",
       "      <th>2</th>\n",
       "      <td>3239.0</td>\n",
       "      <td>0.0</td>\n",
       "      <td>0.0</td>\n",
       "      <td>5000.0</td>\n",
       "      <td>0.0</td>\n",
       "      <td>NaN</td>\n",
       "      <td>6.0</td>\n",
       "      <td>49, 690, 131, 1416, 149, 4</td>\n",
       "      <td>1000000, 600000, 350000, 600000, 400000, 1000000</td>\n",
       "      <td>0</td>\n",
       "      <td>0</td>\n",
       "      <td>8</td>\n",
       "      <td>1.0</td>\n",
       "      <td>0.166667</td>\n",
       "      <td>3950000</td>\n",
       "      <td>282142.857143</td>\n",
       "      <td>7</td>\n",
       "    </tr>\n",
       "    <tr>\n",
       "      <th>3</th>\n",
       "      <td>3224.0</td>\n",
       "      <td>0.0</td>\n",
       "      <td>0.0</td>\n",
       "      <td>3500.0</td>\n",
       "      <td>0.0</td>\n",
       "      <td>1.0</td>\n",
       "      <td>8.0</td>\n",
       "      <td>2650, 2231, 1582, 4209, 3215, 3223, 4028, 1770</td>\n",
       "      <td>60000, 95000, 80000, 25000, 250000, 25000, 109...</td>\n",
       "      <td>0</td>\n",
       "      <td>0</td>\n",
       "      <td>53</td>\n",
       "      <td>1.0</td>\n",
       "      <td>0.353383</td>\n",
       "      <td>1136098</td>\n",
       "      <td>81149.857143</td>\n",
       "      <td>9</td>\n",
       "    </tr>\n",
       "    <tr>\n",
       "      <th>4</th>\n",
       "      <td>2943.0</td>\n",
       "      <td>0.0</td>\n",
       "      <td>0.0</td>\n",
       "      <td>4500.0</td>\n",
       "      <td>0.0</td>\n",
       "      <td>1.0</td>\n",
       "      <td>7.0</td>\n",
       "      <td>2971, 1641, 2505, 691, 2169, 215, 2241</td>\n",
       "      <td>40000, 30000, 70000, 100000, 77000, 230000, 20...</td>\n",
       "      <td>0</td>\n",
       "      <td>0</td>\n",
       "      <td>54</td>\n",
       "      <td>1.0</td>\n",
       "      <td>0.405660</td>\n",
       "      <td>747000</td>\n",
       "      <td>53357.142857</td>\n",
       "      <td>8</td>\n",
       "    </tr>\n",
       "  </tbody>\n",
       "</table>\n",
       "</div>"
      ],
      "text/plain": [
       "   campaign_id  gap_months  minimum_entries_required  prizing_value  \\\n",
       "0       3439.0         0.0                       0.0         1000.0   \n",
       "1        431.0         0.0                       0.0            0.0   \n",
       "2       3239.0         0.0                       0.0         5000.0   \n",
       "3       3224.0         0.0                       0.0         3500.0   \n",
       "4       2943.0         0.0                       0.0         4500.0   \n",
       "\n",
       "   days_pushed  nb_viewers  nb_participants  \\\n",
       "0          0.0         NaN              2.0   \n",
       "1          0.0         NaN              5.0   \n",
       "2          0.0         NaN              6.0   \n",
       "3          0.0         1.0              8.0   \n",
       "4          0.0         1.0              7.0   \n",
       "\n",
       "                                     participants  \\\n",
       "0                                      3368, 2436   \n",
       "1                          117, 506, 554, 49, 194   \n",
       "2                      49, 690, 131, 1416, 149, 4   \n",
       "3  2650, 2231, 1582, 4209, 3215, 3223, 4028, 1770   \n",
       "4          2971, 1641, 2505, 691, 2169, 215, 2241   \n",
       "\n",
       "                                   partic_list_sizes  \\\n",
       "0                                    125225, 3600000   \n",
       "1           200000, 700000, 1000000, 1000000, 145000   \n",
       "2   1000000, 600000, 350000, 600000, 400000, 1000000   \n",
       "3  60000, 95000, 80000, 25000, 250000, 25000, 109...   \n",
       "4  40000, 30000, 70000, 100000, 77000, 230000, 20...   \n",
       "\n",
       "   nb_pending_invites_duplicate_column_name_1  nb_pending_invites  \\\n",
       "0                                           0                   0   \n",
       "1                                           0                   0   \n",
       "2                                           0                   0   \n",
       "3                                           0                   0   \n",
       "4                                           0                   0   \n",
       "\n",
       "   nb_total_invites  invite_apps_ratio  response_rate  total_list_size  \\\n",
       "0                22                1.0       0.388889          3725225   \n",
       "1                 0                1.0       1.000000          3045000   \n",
       "2                 8                1.0       0.166667          3950000   \n",
       "3                53                1.0       0.353383          1136098   \n",
       "4                54                1.0       0.405660           747000   \n",
       "\n",
       "   avg_list_size  total_par_counts  \n",
       "0  266087.500000                 3  \n",
       "1  217500.000000                 6  \n",
       "2  282142.857143                 7  \n",
       "3   81149.857143                 9  \n",
       "4   53357.142857                 8  "
      ]
     },
     "execution_count": 48,
     "metadata": {},
     "output_type": "execute_result"
    }
   ],
   "source": [
    "data.head()"
   ]
  },
  {
   "cell_type": "code",
   "execution_count": 49,
   "metadata": {},
   "outputs": [],
   "source": [
    "data2 = data[['campaign_id','prizing_value', 'response_rate', 'nb_participants', 'total_list_size','avg_list_size']]\n",
    "data3 = pd.read_pickle('sweepstakes_features_2019_08_05.pickle')\n",
    "data4 = pd.merge(data3, data2, on = 'campaign_id', how = 'left')"
   ]
  },
  {
   "cell_type": "code",
   "execution_count": 50,
   "metadata": {},
   "outputs": [
    {
     "data": {
      "text/html": [
       "<div>\n",
       "<style scoped>\n",
       "    .dataframe tbody tr th:only-of-type {\n",
       "        vertical-align: middle;\n",
       "    }\n",
       "\n",
       "    .dataframe tbody tr th {\n",
       "        vertical-align: top;\n",
       "    }\n",
       "\n",
       "    .dataframe thead th {\n",
       "        text-align: right;\n",
       "    }\n",
       "</style>\n",
       "<table border=\"1\" class=\"dataframe\">\n",
       "  <thead>\n",
       "    <tr style=\"text-align: right;\">\n",
       "      <th></th>\n",
       "      <th>campaign_id</th>\n",
       "      <th>hostbrand_id</th>\n",
       "      <th>invitee_id</th>\n",
       "      <th>status</th>\n",
       "      <th>idx_invite</th>\n",
       "      <th>brand_id</th>\n",
       "      <th>dojomojo_tags</th>\n",
       "      <th>dedicated_list_size</th>\n",
       "      <th>ntfs_provided</th>\n",
       "      <th>ntfs_acquired</th>\n",
       "      <th>...</th>\n",
       "      <th>dojomojo_tags_invitee</th>\n",
       "      <th>dedicated_list_size_invitee</th>\n",
       "      <th>ntfs_provided_invitee</th>\n",
       "      <th>ntfs_acquired_invitee</th>\n",
       "      <th>google_tags_invitee</th>\n",
       "      <th>prizing_value</th>\n",
       "      <th>response_rate</th>\n",
       "      <th>nb_participants</th>\n",
       "      <th>total_list_size</th>\n",
       "      <th>avg_list_size</th>\n",
       "    </tr>\n",
       "  </thead>\n",
       "  <tbody>\n",
       "    <tr>\n",
       "      <th>0</th>\n",
       "      <td>1.0</td>\n",
       "      <td>51.0</td>\n",
       "      <td>51.0</td>\n",
       "      <td>accepted</td>\n",
       "      <td>1</td>\n",
       "      <td>51</td>\n",
       "      <td>[]</td>\n",
       "      <td>500000.0</td>\n",
       "      <td>None</td>\n",
       "      <td>None</td>\n",
       "      <td>...</td>\n",
       "      <td>[]</td>\n",
       "      <td>500000.0</td>\n",
       "      <td>None</td>\n",
       "      <td>None</td>\n",
       "      <td>[]</td>\n",
       "      <td>0.0</td>\n",
       "      <td>1.0</td>\n",
       "      <td>1.0</td>\n",
       "      <td>500000.0</td>\n",
       "      <td>35714.285714</td>\n",
       "    </tr>\n",
       "    <tr>\n",
       "      <th>1</th>\n",
       "      <td>22.0</td>\n",
       "      <td>51.0</td>\n",
       "      <td>51.0</td>\n",
       "      <td>accepted</td>\n",
       "      <td>1</td>\n",
       "      <td>51</td>\n",
       "      <td>[]</td>\n",
       "      <td>500000.0</td>\n",
       "      <td>None</td>\n",
       "      <td>None</td>\n",
       "      <td>...</td>\n",
       "      <td>[]</td>\n",
       "      <td>500000.0</td>\n",
       "      <td>None</td>\n",
       "      <td>None</td>\n",
       "      <td>[]</td>\n",
       "      <td>0.0</td>\n",
       "      <td>1.0</td>\n",
       "      <td>1.0</td>\n",
       "      <td>500000.0</td>\n",
       "      <td>35714.285714</td>\n",
       "    </tr>\n",
       "    <tr>\n",
       "      <th>2</th>\n",
       "      <td>23.0</td>\n",
       "      <td>3.0</td>\n",
       "      <td>51.0</td>\n",
       "      <td>accepted</td>\n",
       "      <td>3</td>\n",
       "      <td>3</td>\n",
       "      <td>[Alcoholic Beverages, Food &amp; Beverages, Media]</td>\n",
       "      <td>1100000.0</td>\n",
       "      <td>2085.27142857142857160000</td>\n",
       "      <td>18906</td>\n",
       "      <td>...</td>\n",
       "      <td>[]</td>\n",
       "      <td>500000.0</td>\n",
       "      <td>None</td>\n",
       "      <td>None</td>\n",
       "      <td>[]</td>\n",
       "      <td>0.0</td>\n",
       "      <td>1.0</td>\n",
       "      <td>3.0</td>\n",
       "      <td>1760000.0</td>\n",
       "      <td>125714.285714</td>\n",
       "    </tr>\n",
       "    <tr>\n",
       "      <th>3</th>\n",
       "      <td>2.0</td>\n",
       "      <td>10.0</td>\n",
       "      <td>10.0</td>\n",
       "      <td>accepted</td>\n",
       "      <td>1</td>\n",
       "      <td>10</td>\n",
       "      <td>[Tech &amp; Electronics, Advertising &amp; Marketing, ...</td>\n",
       "      <td>1.0</td>\n",
       "      <td>None</td>\n",
       "      <td>None</td>\n",
       "      <td>...</td>\n",
       "      <td>[Tech &amp; Electronics, Advertising &amp; Marketing, ...</td>\n",
       "      <td>1.0</td>\n",
       "      <td>None</td>\n",
       "      <td>None</td>\n",
       "      <td>[]</td>\n",
       "      <td>0.0</td>\n",
       "      <td>1.0</td>\n",
       "      <td>1.0</td>\n",
       "      <td>1.0</td>\n",
       "      <td>0.071429</td>\n",
       "    </tr>\n",
       "    <tr>\n",
       "      <th>4</th>\n",
       "      <td>2.0</td>\n",
       "      <td>10.0</td>\n",
       "      <td>6.0</td>\n",
       "      <td>rejected</td>\n",
       "      <td>2</td>\n",
       "      <td>10</td>\n",
       "      <td>[Tech &amp; Electronics, Advertising &amp; Marketing, ...</td>\n",
       "      <td>1.0</td>\n",
       "      <td>None</td>\n",
       "      <td>None</td>\n",
       "      <td>...</td>\n",
       "      <td>[]</td>\n",
       "      <td>0.0</td>\n",
       "      <td>None</td>\n",
       "      <td>None</td>\n",
       "      <td>[]</td>\n",
       "      <td>0.0</td>\n",
       "      <td>1.0</td>\n",
       "      <td>1.0</td>\n",
       "      <td>1.0</td>\n",
       "      <td>0.071429</td>\n",
       "    </tr>\n",
       "  </tbody>\n",
       "</table>\n",
       "<p>5 rows × 22 columns</p>\n",
       "</div>"
      ],
      "text/plain": [
       "   campaign_id  hostbrand_id  invitee_id    status  idx_invite  brand_id  \\\n",
       "0          1.0          51.0        51.0  accepted           1        51   \n",
       "1         22.0          51.0        51.0  accepted           1        51   \n",
       "2         23.0           3.0        51.0  accepted           3         3   \n",
       "3          2.0          10.0        10.0  accepted           1        10   \n",
       "4          2.0          10.0         6.0  rejected           2        10   \n",
       "\n",
       "                                       dojomojo_tags  dedicated_list_size  \\\n",
       "0                                                 []             500000.0   \n",
       "1                                                 []             500000.0   \n",
       "2     [Alcoholic Beverages, Food & Beverages, Media]            1100000.0   \n",
       "3  [Tech & Electronics, Advertising & Marketing, ...                  1.0   \n",
       "4  [Tech & Electronics, Advertising & Marketing, ...                  1.0   \n",
       "\n",
       "               ntfs_provided ntfs_acquired  ...  \\\n",
       "0                       None          None  ...   \n",
       "1                       None          None  ...   \n",
       "2  2085.27142857142857160000         18906  ...   \n",
       "3                       None          None  ...   \n",
       "4                       None          None  ...   \n",
       "\n",
       "                               dojomojo_tags_invitee  \\\n",
       "0                                                 []   \n",
       "1                                                 []   \n",
       "2                                                 []   \n",
       "3  [Tech & Electronics, Advertising & Marketing, ...   \n",
       "4                                                 []   \n",
       "\n",
       "   dedicated_list_size_invitee ntfs_provided_invitee  ntfs_acquired_invitee  \\\n",
       "0                     500000.0                  None                   None   \n",
       "1                     500000.0                  None                   None   \n",
       "2                     500000.0                  None                   None   \n",
       "3                          1.0                  None                   None   \n",
       "4                          0.0                  None                   None   \n",
       "\n",
       "  google_tags_invitee prizing_value response_rate  nb_participants  \\\n",
       "0                  []           0.0           1.0              1.0   \n",
       "1                  []           0.0           1.0              1.0   \n",
       "2                  []           0.0           1.0              3.0   \n",
       "3                  []           0.0           1.0              1.0   \n",
       "4                  []           0.0           1.0              1.0   \n",
       "\n",
       "   total_list_size  avg_list_size  \n",
       "0         500000.0   35714.285714  \n",
       "1         500000.0   35714.285714  \n",
       "2        1760000.0  125714.285714  \n",
       "3              1.0       0.071429  \n",
       "4              1.0       0.071429  \n",
       "\n",
       "[5 rows x 22 columns]"
      ]
     },
     "execution_count": 50,
     "metadata": {},
     "output_type": "execute_result"
    }
   ],
   "source": [
    "data4.head()"
   ]
  },
  {
   "cell_type": "code",
   "execution_count": 51,
   "metadata": {},
   "outputs": [],
   "source": [
    "df = data4[['dedicated_list_size', 'ntfs_provided','ntfs_acquired', 'dedicated_list_size_invitee','ntfs_provided_invitee','ntfs_acquired_invitee','response_rate', 'nb_participants','total_list_size', 'avg_list_size','prizing_value']]"
   ]
  },
  {
   "cell_type": "code",
   "execution_count": 52,
   "metadata": {},
   "outputs": [
    {
     "data": {
      "text/html": [
       "<div>\n",
       "<style scoped>\n",
       "    .dataframe tbody tr th:only-of-type {\n",
       "        vertical-align: middle;\n",
       "    }\n",
       "\n",
       "    .dataframe tbody tr th {\n",
       "        vertical-align: top;\n",
       "    }\n",
       "\n",
       "    .dataframe thead th {\n",
       "        text-align: right;\n",
       "    }\n",
       "</style>\n",
       "<table border=\"1\" class=\"dataframe\">\n",
       "  <thead>\n",
       "    <tr style=\"text-align: right;\">\n",
       "      <th></th>\n",
       "      <th>dedicated_list_size</th>\n",
       "      <th>ntfs_provided</th>\n",
       "      <th>ntfs_acquired</th>\n",
       "      <th>dedicated_list_size_invitee</th>\n",
       "      <th>ntfs_provided_invitee</th>\n",
       "      <th>ntfs_acquired_invitee</th>\n",
       "      <th>response_rate</th>\n",
       "      <th>nb_participants</th>\n",
       "      <th>total_list_size</th>\n",
       "      <th>avg_list_size</th>\n",
       "      <th>prizing_value</th>\n",
       "    </tr>\n",
       "  </thead>\n",
       "  <tbody>\n",
       "    <tr>\n",
       "      <th>0</th>\n",
       "      <td>500000.0</td>\n",
       "      <td>None</td>\n",
       "      <td>None</td>\n",
       "      <td>500000.0</td>\n",
       "      <td>None</td>\n",
       "      <td>None</td>\n",
       "      <td>1.0</td>\n",
       "      <td>1.0</td>\n",
       "      <td>500000.0</td>\n",
       "      <td>35714.285714</td>\n",
       "      <td>0.0</td>\n",
       "    </tr>\n",
       "    <tr>\n",
       "      <th>1</th>\n",
       "      <td>500000.0</td>\n",
       "      <td>None</td>\n",
       "      <td>None</td>\n",
       "      <td>500000.0</td>\n",
       "      <td>None</td>\n",
       "      <td>None</td>\n",
       "      <td>1.0</td>\n",
       "      <td>1.0</td>\n",
       "      <td>500000.0</td>\n",
       "      <td>35714.285714</td>\n",
       "      <td>0.0</td>\n",
       "    </tr>\n",
       "    <tr>\n",
       "      <th>2</th>\n",
       "      <td>1100000.0</td>\n",
       "      <td>2085.27142857142857160000</td>\n",
       "      <td>18906</td>\n",
       "      <td>500000.0</td>\n",
       "      <td>None</td>\n",
       "      <td>None</td>\n",
       "      <td>1.0</td>\n",
       "      <td>3.0</td>\n",
       "      <td>1760000.0</td>\n",
       "      <td>125714.285714</td>\n",
       "      <td>0.0</td>\n",
       "    </tr>\n",
       "    <tr>\n",
       "      <th>3</th>\n",
       "      <td>1.0</td>\n",
       "      <td>None</td>\n",
       "      <td>None</td>\n",
       "      <td>1.0</td>\n",
       "      <td>None</td>\n",
       "      <td>None</td>\n",
       "      <td>1.0</td>\n",
       "      <td>1.0</td>\n",
       "      <td>1.0</td>\n",
       "      <td>0.071429</td>\n",
       "      <td>0.0</td>\n",
       "    </tr>\n",
       "    <tr>\n",
       "      <th>4</th>\n",
       "      <td>1.0</td>\n",
       "      <td>None</td>\n",
       "      <td>None</td>\n",
       "      <td>0.0</td>\n",
       "      <td>None</td>\n",
       "      <td>None</td>\n",
       "      <td>1.0</td>\n",
       "      <td>1.0</td>\n",
       "      <td>1.0</td>\n",
       "      <td>0.071429</td>\n",
       "      <td>0.0</td>\n",
       "    </tr>\n",
       "  </tbody>\n",
       "</table>\n",
       "</div>"
      ],
      "text/plain": [
       "   dedicated_list_size              ntfs_provided ntfs_acquired  \\\n",
       "0             500000.0                       None          None   \n",
       "1             500000.0                       None          None   \n",
       "2            1100000.0  2085.27142857142857160000         18906   \n",
       "3                  1.0                       None          None   \n",
       "4                  1.0                       None          None   \n",
       "\n",
       "   dedicated_list_size_invitee ntfs_provided_invitee ntfs_acquired_invitee  \\\n",
       "0                     500000.0                  None                  None   \n",
       "1                     500000.0                  None                  None   \n",
       "2                     500000.0                  None                  None   \n",
       "3                          1.0                  None                  None   \n",
       "4                          0.0                  None                  None   \n",
       "\n",
       "   response_rate  nb_participants  total_list_size  avg_list_size  \\\n",
       "0            1.0              1.0         500000.0   35714.285714   \n",
       "1            1.0              1.0         500000.0   35714.285714   \n",
       "2            1.0              3.0        1760000.0  125714.285714   \n",
       "3            1.0              1.0              1.0       0.071429   \n",
       "4            1.0              1.0              1.0       0.071429   \n",
       "\n",
       "   prizing_value  \n",
       "0            0.0  \n",
       "1            0.0  \n",
       "2            0.0  \n",
       "3            0.0  \n",
       "4            0.0  "
      ]
     },
     "execution_count": 52,
     "metadata": {},
     "output_type": "execute_result"
    }
   ],
   "source": [
    "df.head()"
   ]
  },
  {
   "cell_type": "code",
   "execution_count": 53,
   "metadata": {},
   "outputs": [
    {
     "name": "stderr",
     "output_type": "stream",
     "text": [
      "C:\\Users\\Public\\Anaconda3\\lib\\site-packages\\pandas\\core\\generic.py:6130: SettingWithCopyWarning: \n",
      "A value is trying to be set on a copy of a slice from a DataFrame\n",
      "\n",
      "See the caveats in the documentation: http://pandas.pydata.org/pandas-docs/stable/indexing.html#indexing-view-versus-copy\n",
      "  self._update_inplace(new_data)\n"
     ]
    }
   ],
   "source": [
    "df.fillna(df.mean(), inplace = True)"
   ]
  },
  {
   "cell_type": "code",
   "execution_count": 54,
   "metadata": {},
   "outputs": [
    {
     "name": "stderr",
     "output_type": "stream",
     "text": [
      "C:\\Users\\Public\\Anaconda3\\lib\\site-packages\\sklearn\\preprocessing\\data.py:334: DataConversionWarning: Data with input dtype float64, object were all converted to float64 by MinMaxScaler.\n",
      "  return self.partial_fit(X, y)\n"
     ]
    }
   ],
   "source": [
    "mms = MinMaxScaler()\n",
    "X = mms.fit_transform(df)"
   ]
  },
  {
   "cell_type": "code",
   "execution_count": 55,
   "metadata": {},
   "outputs": [
    {
     "name": "stderr",
     "output_type": "stream",
     "text": [
      "C:\\Users\\Public\\Anaconda3\\lib\\site-packages\\sklearn\\preprocessing\\label.py:235: DataConversionWarning: A column-vector y was passed when a 1d array was expected. Please change the shape of y to (n_samples, ), for example using ravel().\n",
      "  y = column_or_1d(y, warn=True)\n"
     ]
    }
   ],
   "source": [
    "le = LabelEncoder()\n",
    "Y = le.fit_transform(data4[['status']])"
   ]
  },
  {
   "cell_type": "code",
   "execution_count": 56,
   "metadata": {},
   "outputs": [
    {
     "data": {
      "text/plain": [
       "array([0, 0, 0, ..., 3, 2, 2])"
      ]
     },
     "execution_count": 56,
     "metadata": {},
     "output_type": "execute_result"
    }
   ],
   "source": [
    "Y"
   ]
  },
  {
   "cell_type": "code",
   "execution_count": 57,
   "metadata": {},
   "outputs": [],
   "source": [
    "x_train,x_test, y_train, y_test = train_test_split(X, Y, test_size = 0.3)"
   ]
  },
  {
   "cell_type": "code",
   "execution_count": 58,
   "metadata": {},
   "outputs": [
    {
     "data": {
      "text/plain": [
       "array([3, 3, 3, ..., 3, 3, 3])"
      ]
     },
     "execution_count": 58,
     "metadata": {},
     "output_type": "execute_result"
    }
   ],
   "source": [
    "y_train"
   ]
  },
  {
   "cell_type": "code",
   "execution_count": 59,
   "metadata": {},
   "outputs": [
    {
     "data": {
      "text/plain": [
       "RandomForestClassifier(bootstrap=True, class_weight=None, criterion='gini',\n",
       "            max_depth=None, max_features='auto', max_leaf_nodes=None,\n",
       "            min_impurity_decrease=0.0, min_impurity_split=None,\n",
       "            min_samples_leaf=1, min_samples_split=2,\n",
       "            min_weight_fraction_leaf=0.0, n_estimators=100, n_jobs=None,\n",
       "            oob_score=False, random_state=None, verbose=0,\n",
       "            warm_start=False)"
      ]
     },
     "execution_count": 59,
     "metadata": {},
     "output_type": "execute_result"
    }
   ],
   "source": [
    "rfc = RandomForestClassifier(n_estimators = 100)\n",
    "rfc.fit(x_train, y_train)"
   ]
  },
  {
   "cell_type": "code",
   "execution_count": 60,
   "metadata": {},
   "outputs": [
    {
     "data": {
      "text/plain": [
       "array([0.07885472, 0.0657419 , 0.05624639, 0.09967452, 0.11445362,\n",
       "       0.12288454, 0.17065802, 0.06228449, 0.06556254, 0.06872526,\n",
       "       0.09491398])"
      ]
     },
     "execution_count": 60,
     "metadata": {},
     "output_type": "execute_result"
    }
   ],
   "source": [
    "rfc.feature_importances_"
   ]
  },
  {
   "cell_type": "markdown",
   "metadata": {},
   "source": [
    "From now on, I worked on choosing and operate on some of the features iteratively, so I have 4 models in total in this projects. I would compare them at the model selection part"
   ]
  },
  {
   "cell_type": "markdown",
   "metadata": {},
   "source": [
    "#### Feature Engineering"
   ]
  },
  {
   "cell_type": "code",
   "execution_count": 61,
   "metadata": {},
   "outputs": [
    {
     "name": "stdout",
     "output_type": "stream",
     "text": [
      "dedicated_list_size\n",
      "ntfs_provided\n",
      "ntfs_acquired\n",
      "dedicated_list_size_invitee\n",
      "ntfs_provided_invitee\n",
      "ntfs_acquired_invitee\n",
      "response_rate\n",
      "nb_participants\n",
      "total_list_size\n",
      "avg_list_size\n",
      "prizing_value\n"
     ]
    }
   ],
   "source": [
    "for x in df.columns:\n",
    "    print(x)"
   ]
  },
  {
   "cell_type": "code",
   "execution_count": null,
   "metadata": {},
   "outputs": [],
   "source": []
  },
  {
   "cell_type": "code",
   "execution_count": 62,
   "metadata": {},
   "outputs": [
    {
     "data": {
      "text/plain": [
       "<matplotlib.axes._subplots.AxesSubplot at 0x26a236340f0>"
      ]
     },
     "execution_count": 62,
     "metadata": {},
     "output_type": "execute_result"
    },
    {
     "data": {
      "image/png": "[encoded data removed]",
      "text/plain": [
       "<Figure size 432x288 with 1 Axes>"
      ]
     },
     "metadata": {
      "needs_background": "light"
     },
     "output_type": "display_data"
    }
   ],
   "source": [
    "import seaborn as sb\n",
    "import matplotlib.pyplot as plt\n",
    "sb.distplot(np.round(df['dedicated_list_size']))"
   ]
  },
  {
   "cell_type": "code",
   "execution_count": 63,
   "metadata": {},
   "outputs": [
    {
     "name": "stderr",
     "output_type": "stream",
     "text": [
      "C:\\Users\\Public\\Anaconda3\\lib\\site-packages\\ipykernel_launcher.py:1: SettingWithCopyWarning: \n",
      "A value is trying to be set on a copy of a slice from a DataFrame.\n",
      "Try using .loc[row_indexer,col_indexer] = value instead\n",
      "\n",
      "See the caveats in the documentation: http://pandas.pydata.org/pandas-docs/stable/indexing.html#indexing-view-versus-copy\n",
      "  \"\"\"Entry point for launching an IPython kernel.\n"
     ]
    }
   ],
   "source": [
    "df['dedicated_list_size'] = df['dedicated_list_size'].apply(lambda x: np.log(x))"
   ]
  },
  {
   "cell_type": "code",
   "execution_count": 219,
   "metadata": {},
   "outputs": [],
   "source": [
    "viz = pd.DataFrame(X)"
   ]
  },
  {
   "cell_type": "markdown",
   "metadata": {},
   "source": [
    "7,"
   ]
  },
  {
   "cell_type": "code",
   "execution_count": 225,
   "metadata": {},
   "outputs": [
    {
     "data": {
      "text/plain": [
       "<matplotlib.axes._subplots.AxesSubplot at 0x26fbf675860>"
      ]
     },
     "execution_count": 225,
     "metadata": {},
     "output_type": "execute_result"
    },
    {
     "data": {
      "image/png": "[encoded data removed]",
      "text/plain": [
       "<Figure size 432x288 with 1 Axes>"
      ]
     },
     "metadata": {
      "needs_background": "light"
     },
     "output_type": "display_data"
    }
   ],
   "source": [
    "sb.distplot(viz[10])"
   ]
  },
  {
   "cell_type": "code",
   "execution_count": 228,
   "metadata": {},
   "outputs": [
    {
     "data": {
      "text/html": [
       "<div>\n",
       "<style scoped>\n",
       "    .dataframe tbody tr th:only-of-type {\n",
       "        vertical-align: middle;\n",
       "    }\n",
       "\n",
       "    .dataframe tbody tr th {\n",
       "        vertical-align: top;\n",
       "    }\n",
       "\n",
       "    .dataframe thead th {\n",
       "        text-align: right;\n",
       "    }\n",
       "</style>\n",
       "<table border=\"1\" class=\"dataframe\">\n",
       "  <thead>\n",
       "    <tr style=\"text-align: right;\">\n",
       "      <th></th>\n",
       "      <th>dedicated_list_size</th>\n",
       "      <th>ntfs_provided</th>\n",
       "      <th>ntfs_acquired</th>\n",
       "      <th>dedicated_list_size_invitee</th>\n",
       "      <th>ntfs_provided_invitee</th>\n",
       "      <th>ntfs_acquired_invitee</th>\n",
       "      <th>response_rate</th>\n",
       "      <th>avg_list_size</th>\n",
       "      <th>prizing_value</th>\n",
       "    </tr>\n",
       "  </thead>\n",
       "  <tbody>\n",
       "    <tr>\n",
       "      <th>0</th>\n",
       "      <td>500000.0</td>\n",
       "      <td>0</td>\n",
       "      <td>0</td>\n",
       "      <td>500000.0</td>\n",
       "      <td>0</td>\n",
       "      <td>0</td>\n",
       "      <td>1.0</td>\n",
       "      <td>35714.285714</td>\n",
       "      <td>0.0</td>\n",
       "    </tr>\n",
       "    <tr>\n",
       "      <th>1</th>\n",
       "      <td>500000.0</td>\n",
       "      <td>0</td>\n",
       "      <td>0</td>\n",
       "      <td>500000.0</td>\n",
       "      <td>0</td>\n",
       "      <td>0</td>\n",
       "      <td>1.0</td>\n",
       "      <td>35714.285714</td>\n",
       "      <td>0.0</td>\n",
       "    </tr>\n",
       "    <tr>\n",
       "      <th>2</th>\n",
       "      <td>1100000.0</td>\n",
       "      <td>2085.27142857142857160000</td>\n",
       "      <td>18906</td>\n",
       "      <td>500000.0</td>\n",
       "      <td>0</td>\n",
       "      <td>0</td>\n",
       "      <td>1.0</td>\n",
       "      <td>125714.285714</td>\n",
       "      <td>0.0</td>\n",
       "    </tr>\n",
       "    <tr>\n",
       "      <th>3</th>\n",
       "      <td>1.0</td>\n",
       "      <td>0</td>\n",
       "      <td>0</td>\n",
       "      <td>1.0</td>\n",
       "      <td>0</td>\n",
       "      <td>0</td>\n",
       "      <td>1.0</td>\n",
       "      <td>0.071429</td>\n",
       "      <td>0.0</td>\n",
       "    </tr>\n",
       "    <tr>\n",
       "      <th>4</th>\n",
       "      <td>1.0</td>\n",
       "      <td>0</td>\n",
       "      <td>0</td>\n",
       "      <td>0.0</td>\n",
       "      <td>0</td>\n",
       "      <td>0</td>\n",
       "      <td>1.0</td>\n",
       "      <td>0.071429</td>\n",
       "      <td>0.0</td>\n",
       "    </tr>\n",
       "  </tbody>\n",
       "</table>\n",
       "</div>"
      ],
      "text/plain": [
       "   dedicated_list_size              ntfs_provided ntfs_acquired  \\\n",
       "0             500000.0                          0             0   \n",
       "1             500000.0                          0             0   \n",
       "2            1100000.0  2085.27142857142857160000         18906   \n",
       "3                  1.0                          0             0   \n",
       "4                  1.0                          0             0   \n",
       "\n",
       "   dedicated_list_size_invitee ntfs_provided_invitee ntfs_acquired_invitee  \\\n",
       "0                     500000.0                     0                     0   \n",
       "1                     500000.0                     0                     0   \n",
       "2                     500000.0                     0                     0   \n",
       "3                          1.0                     0                     0   \n",
       "4                          0.0                     0                     0   \n",
       "\n",
       "   response_rate  avg_list_size  prizing_value  \n",
       "0            1.0   35714.285714            0.0  \n",
       "1            1.0   35714.285714            0.0  \n",
       "2            1.0  125714.285714            0.0  \n",
       "3            1.0       0.071429            0.0  \n",
       "4            1.0       0.071429            0.0  "
      ]
     },
     "execution_count": 228,
     "metadata": {},
     "output_type": "execute_result"
    }
   ],
   "source": [
    "df2 = df.drop(['nb_participants', 'total_list_size'], axis = 1)\n",
    "df2.head()"
   ]
  },
  {
   "cell_type": "code",
   "execution_count": 229,
   "metadata": {},
   "outputs": [
    {
     "name": "stderr",
     "output_type": "stream",
     "text": [
      "C:\\Users\\Public\\Anaconda3\\lib\\site-packages\\sklearn\\preprocessing\\data.py:334: DataConversionWarning: Data with input dtype float64, object were all converted to float64 by MinMaxScaler.\n",
      "  return self.partial_fit(X, y)\n"
     ]
    }
   ],
   "source": [
    "X2 = mms.fit_transform(df2)"
   ]
  },
  {
   "cell_type": "code",
   "execution_count": 262,
   "metadata": {},
   "outputs": [],
   "source": [
    "x2_train, x2_test, y_train,y_test = train_test_split(X2, Y, test_size = 0.3)"
   ]
  },
  {
   "cell_type": "code",
   "execution_count": 234,
   "metadata": {},
   "outputs": [
    {
     "data": {
      "text/plain": [
       "0.9642946551508323"
      ]
     },
     "execution_count": 234,
     "metadata": {},
     "output_type": "execute_result"
    }
   ],
   "source": [
    "rfc2 = RandomForestClassifier(n_estimators = 100)\n",
    "rfc2.fit(x2_train, y_train)\n",
    "rfc2.score(x2_test, y_test)"
   ]
  },
  {
   "cell_type": "code",
   "execution_count": 237,
   "metadata": {},
   "outputs": [
    {
     "data": {
      "text/plain": [
       "array([0.09032935, 0.07727837, 0.0650756 , 0.10305798, 0.11831104,\n",
       "       0.13083076, 0.19470442, 0.11538621, 0.10502627])"
      ]
     },
     "execution_count": 237,
     "metadata": {},
     "output_type": "execute_result"
    }
   ],
   "source": [
    "rfc2.feature_importances_"
   ]
  },
  {
   "cell_type": "code",
   "execution_count": 267,
   "metadata": {},
   "outputs": [],
   "source": [
    "viz2 = pd.DataFrame(X2)"
   ]
  },
  {
   "cell_type": "code",
   "execution_count": 268,
   "metadata": {},
   "outputs": [
    {
     "data": {
      "text/plain": [
       "<matplotlib.axes._subplots.AxesSubplot at 0x26fc043f630>"
      ]
     },
     "execution_count": 268,
     "metadata": {},
     "output_type": "execute_result"
    },
    {
     "data": {
      "image/png": "[encoded data removed]",
      "text/plain": [
       "<Figure size 432x288 with 1 Axes>"
      ]
     },
     "metadata": {
      "needs_background": "light"
     },
     "output_type": "display_data"
    }
   ],
   "source": [
    "sb.distplot(viz[2])"
   ]
  },
  {
   "cell_type": "code",
   "execution_count": 252,
   "metadata": {},
   "outputs": [
    {
     "name": "stderr",
     "output_type": "stream",
     "text": [
      "C:\\Users\\Public\\Anaconda3\\lib\\site-packages\\sklearn\\preprocessing\\data.py:334: DataConversionWarning: Data with input dtype float64, object were all converted to float64 by MinMaxScaler.\n",
      "  return self.partial_fit(X, y)\n"
     ]
    }
   ],
   "source": [
    "df3 = df2.drop(['ntfs_acquired'], axis = 1)\n",
    "X3 = mms.fit_transform(df3)\n",
    "x3_train, x3_test, y_train, y_test = train_test_split(X3, Y, test_size = 0.3)"
   ]
  },
  {
   "cell_type": "code",
   "execution_count": 253,
   "metadata": {},
   "outputs": [
    {
     "data": {
      "text/plain": [
       "0.9636062085367381"
      ]
     },
     "execution_count": 253,
     "metadata": {},
     "output_type": "execute_result"
    }
   ],
   "source": [
    "rfc3 = RandomForestClassifier(n_estimators = 100)\n",
    "rfc3.fit(x3_train, y_train)\n",
    "rfc3.score(x3_test, y_test)"
   ]
  },
  {
   "cell_type": "code",
   "execution_count": 266,
   "metadata": {},
   "outputs": [
    {
     "data": {
      "text/plain": [
       "array([0.10321817, 0.09808364, 0.10579494, 0.11811792, 0.13178965,\n",
       "       0.20000292, 0.13075916, 0.11223359])"
      ]
     },
     "execution_count": 266,
     "metadata": {},
     "output_type": "execute_result"
    }
   ],
   "source": [
    "rfc3.feature_importances_"
   ]
  },
  {
   "cell_type": "code",
   "execution_count": 277,
   "metadata": {},
   "outputs": [
    {
     "data": {
      "text/plain": [
       "<matplotlib.axes._subplots.AxesSubplot at 0x26fc0d74240>"
      ]
     },
     "execution_count": 277,
     "metadata": {},
     "output_type": "execute_result"
    },
    {
     "data": {
      "image/png": "[encoded data removed]",
      "text/plain": [
       "<Figure size 432x288 with 1 Axes>"
      ]
     },
     "metadata": {
      "needs_background": "light"
     },
     "output_type": "display_data"
    }
   ],
   "source": [
    "viz3 = pd.DataFrame(X3)\n",
    "sb.distplot(viz[1])\n"
   ]
  },
  {
   "cell_type": "code",
   "execution_count": 274,
   "metadata": {},
   "outputs": [],
   "source": [
    "df4 = df3\n",
    "df4['ntfs_provided'] = df3['ntfs_provided'].replace(to_replace = 0, value = df['ntfs_provided'].mean())"
   ]
  },
  {
   "cell_type": "code",
   "execution_count": 290,
   "metadata": {},
   "outputs": [
    {
     "data": {
      "text/html": [
       "<div>\n",
       "<style scoped>\n",
       "    .dataframe tbody tr th:only-of-type {\n",
       "        vertical-align: middle;\n",
       "    }\n",
       "\n",
       "    .dataframe tbody tr th {\n",
       "        vertical-align: top;\n",
       "    }\n",
       "\n",
       "    .dataframe thead th {\n",
       "        text-align: right;\n",
       "    }\n",
       "</style>\n",
       "<table border=\"1\" class=\"dataframe\">\n",
       "  <thead>\n",
       "    <tr style=\"text-align: right;\">\n",
       "      <th></th>\n",
       "      <th>dedicated_list_size</th>\n",
       "      <th>ntfs_provided</th>\n",
       "      <th>dedicated_list_size_invitee</th>\n",
       "      <th>ntfs_provided_invitee</th>\n",
       "      <th>ntfs_acquired_invitee</th>\n",
       "      <th>response_rate</th>\n",
       "      <th>avg_list_size</th>\n",
       "      <th>prizing_value</th>\n",
       "    </tr>\n",
       "  </thead>\n",
       "  <tbody>\n",
       "    <tr>\n",
       "      <th>0</th>\n",
       "      <td>500000.0</td>\n",
       "      <td>2649</td>\n",
       "      <td>500000.0</td>\n",
       "      <td>0</td>\n",
       "      <td>0</td>\n",
       "      <td>1.0</td>\n",
       "      <td>35714.285714</td>\n",
       "      <td>0.0</td>\n",
       "    </tr>\n",
       "    <tr>\n",
       "      <th>1</th>\n",
       "      <td>500000.0</td>\n",
       "      <td>2649</td>\n",
       "      <td>500000.0</td>\n",
       "      <td>0</td>\n",
       "      <td>0</td>\n",
       "      <td>1.0</td>\n",
       "      <td>35714.285714</td>\n",
       "      <td>0.0</td>\n",
       "    </tr>\n",
       "    <tr>\n",
       "      <th>2</th>\n",
       "      <td>1100000.0</td>\n",
       "      <td>2085</td>\n",
       "      <td>500000.0</td>\n",
       "      <td>0</td>\n",
       "      <td>0</td>\n",
       "      <td>1.0</td>\n",
       "      <td>125714.285714</td>\n",
       "      <td>0.0</td>\n",
       "    </tr>\n",
       "    <tr>\n",
       "      <th>3</th>\n",
       "      <td>1.0</td>\n",
       "      <td>2649</td>\n",
       "      <td>1.0</td>\n",
       "      <td>0</td>\n",
       "      <td>0</td>\n",
       "      <td>1.0</td>\n",
       "      <td>0.071429</td>\n",
       "      <td>0.0</td>\n",
       "    </tr>\n",
       "    <tr>\n",
       "      <th>4</th>\n",
       "      <td>1.0</td>\n",
       "      <td>2649</td>\n",
       "      <td>0.0</td>\n",
       "      <td>0</td>\n",
       "      <td>0</td>\n",
       "      <td>1.0</td>\n",
       "      <td>0.071429</td>\n",
       "      <td>0.0</td>\n",
       "    </tr>\n",
       "  </tbody>\n",
       "</table>\n",
       "</div>"
      ],
      "text/plain": [
       "   dedicated_list_size  ntfs_provided  dedicated_list_size_invitee  \\\n",
       "0             500000.0           2649                     500000.0   \n",
       "1             500000.0           2649                     500000.0   \n",
       "2            1100000.0           2085                     500000.0   \n",
       "3                  1.0           2649                          1.0   \n",
       "4                  1.0           2649                          0.0   \n",
       "\n",
       "  ntfs_provided_invitee ntfs_acquired_invitee  response_rate  avg_list_size  \\\n",
       "0                     0                     0            1.0   35714.285714   \n",
       "1                     0                     0            1.0   35714.285714   \n",
       "2                     0                     0            1.0  125714.285714   \n",
       "3                     0                     0            1.0       0.071429   \n",
       "4                     0                     0            1.0       0.071429   \n",
       "\n",
       "   prizing_value  \n",
       "0            0.0  \n",
       "1            0.0  \n",
       "2            0.0  \n",
       "3            0.0  \n",
       "4            0.0  "
      ]
     },
     "execution_count": 290,
     "metadata": {},
     "output_type": "execute_result"
    }
   ],
   "source": [
    "df4.head()"
   ]
  },
  {
   "cell_type": "code",
   "execution_count": 282,
   "metadata": {},
   "outputs": [
    {
     "data": {
      "text/plain": [
       "<matplotlib.axes._subplots.AxesSubplot at 0x26fc0e939e8>"
      ]
     },
     "execution_count": 282,
     "metadata": {},
     "output_type": "execute_result"
    },
    {
     "data": {
      "image/png": "[encoded data removed]",
      "text/plain": [
       "<Figure size 432x288 with 1 Axes>"
      ]
     },
     "metadata": {
      "needs_background": "light"
     },
     "output_type": "display_data"
    }
   ],
   "source": [
    "df4['ntfs_provided'] = df4['ntfs_provided'].astype(int)\n",
    "sb.distplot(df4['ntfs_provided'])"
   ]
  },
  {
   "cell_type": "code",
   "execution_count": 288,
   "metadata": {},
   "outputs": [
    {
     "name": "stderr",
     "output_type": "stream",
     "text": [
      "C:\\Users\\Public\\Anaconda3\\lib\\site-packages\\sklearn\\preprocessing\\data.py:334: DataConversionWarning: Data with input dtype int32, float64, object were all converted to float64 by MinMaxScaler.\n",
      "  return self.partial_fit(X, y)\n"
     ]
    },
    {
     "data": {
      "text/plain": [
       "array([[7.14285714e-02, 5.09691452e-02, 1.53969011e-03, ...,\n",
       "        1.00000000e+00, 2.70211846e-02, 0.00000000e+00],\n",
       "       [7.14285714e-02, 5.09691452e-02, 1.53969011e-03, ...,\n",
       "        1.00000000e+00, 2.70211846e-02, 0.00000000e+00],\n",
       "       [1.57142857e-01, 4.01131792e-02, 1.53969011e-03, ...,\n",
       "        1.00000000e+00, 9.51145698e-02, 0.00000000e+00],\n",
       "       ...,\n",
       "       [1.85714286e-03, 5.09691452e-02, 4.31113230e-05, ...,\n",
       "        1.87500000e-01, 7.02550800e-04, 3.00000000e-02],\n",
       "       [4.28571429e-02, 1.35487845e-01, 3.07938021e-03, ...,\n",
       "        1.00000000e+00, 1.62127108e-02, 3.00000000e-02],\n",
       "       [4.28571429e-02, 1.35487845e-01, 3.07938021e-03, ...,\n",
       "        1.00000000e+00, 1.62127108e-02, 3.00000000e-02]])"
      ]
     },
     "execution_count": 288,
     "metadata": {},
     "output_type": "execute_result"
    }
   ],
   "source": [
    "X4 = mms.fit_transform(df4)\n",
    "x4_train, x4_test = train_test_split(X4, test_size = 0.3)\n"
   ]
  },
  {
   "cell_type": "code",
   "execution_count": 286,
   "metadata": {},
   "outputs": [
    {
     "data": {
      "text/plain": [
       "0.6692952810113907"
      ]
     },
     "execution_count": 286,
     "metadata": {},
     "output_type": "execute_result"
    }
   ],
   "source": [
    "rfc4 = RandomForestClassifier(n_estimators = 100)\n",
    "rfc4.fit(x4_train, y_train)\n",
    "rfc4.score(x4_test, y_test)"
   ]
  },
  {
   "cell_type": "code",
   "execution_count": 287,
   "metadata": {},
   "outputs": [
    {
     "data": {
      "text/plain": [
       "array([0.06449889, 0.07445978, 0.19371377, 0.1803138 , 0.18385906,\n",
       "       0.1036129 , 0.11447249, 0.08506932])"
      ]
     },
     "execution_count": 287,
     "metadata": {},
     "output_type": "execute_result"
    }
   ],
   "source": [
    "rfc4.feature_importances_"
   ]
  },
  {
   "cell_type": "markdown",
   "metadata": {},
   "source": [
    "### F-1 score"
   ]
  },
  {
   "cell_type": "code",
   "execution_count": 235,
   "metadata": {},
   "outputs": [],
   "source": [
    "from sklearn.metrics import f1_score"
   ]
  },
  {
   "cell_type": "code",
   "execution_count": 172,
   "metadata": {},
   "outputs": [
    {
     "data": {
      "text/plain": [
       "0.963355864313431"
      ]
     },
     "execution_count": 172,
     "metadata": {},
     "output_type": "execute_result"
    }
   ],
   "source": [
    "y_true = y_test\n",
    "y_pred = rfc.predict(x_test)\n",
    "f1_score(y_true, y_pred, average = 'micro')"
   ]
  },
  {
   "cell_type": "code",
   "execution_count": 263,
   "metadata": {},
   "outputs": [
    {
     "data": {
      "text/plain": [
       "0.9890161472024033"
      ]
     },
     "execution_count": 263,
     "metadata": {},
     "output_type": "execute_result"
    }
   ],
   "source": [
    "y_true = y_test\n",
    "y_pred2 = rfc2.predict(x2_test)\n",
    "f1_score(y_true, y_pred2, average = 'micro')"
   ]
  },
  {
   "cell_type": "code",
   "execution_count": 254,
   "metadata": {},
   "outputs": [
    {
     "data": {
      "text/plain": [
       "0.9636062085367381"
      ]
     },
     "execution_count": 254,
     "metadata": {},
     "output_type": "execute_result"
    }
   ],
   "source": [
    "y_true = y_test\n",
    "y_pred3 = rfc3.predict(x3_test)\n",
    "f1_score(y_true, y_pred3, average = 'micro')"
   ]
  },
  {
   "cell_type": "markdown",
   "metadata": {},
   "source": [
    "### Accuracy"
   ]
  },
  {
   "cell_type": "code",
   "execution_count": 174,
   "metadata": {},
   "outputs": [
    {
     "data": {
      "text/plain": [
       "0.963355864313431"
      ]
     },
     "execution_count": 174,
     "metadata": {},
     "output_type": "execute_result"
    }
   ],
   "source": [
    "from sklearn.metrics import accuracy_score\n",
    "accuracy_score(y_true, y_pred)"
   ]
  },
  {
   "cell_type": "markdown",
   "metadata": {},
   "source": [
    "### Cross_validation"
   ]
  },
  {
   "cell_type": "code",
   "execution_count": 297,
   "metadata": {},
   "outputs": [
    {
     "data": {
      "text/plain": [
       "dict_keys(['explained_variance', 'r2', 'neg_median_absolute_error', 'neg_mean_absolute_error', 'neg_mean_squared_error', 'neg_mean_squared_log_error', 'accuracy', 'roc_auc', 'balanced_accuracy', 'average_precision', 'neg_log_loss', 'brier_score_loss', 'adjusted_rand_score', 'homogeneity_score', 'completeness_score', 'v_measure_score', 'mutual_info_score', 'adjusted_mutual_info_score', 'normalized_mutual_info_score', 'fowlkes_mallows_score', 'precision', 'precision_macro', 'precision_micro', 'precision_samples', 'precision_weighted', 'recall', 'recall_macro', 'recall_micro', 'recall_samples', 'recall_weighted', 'f1', 'f1_macro', 'f1_micro', 'f1_samples', 'f1_weighted'])"
      ]
     },
     "execution_count": 297,
     "metadata": {},
     "output_type": "execute_result"
    }
   ],
   "source": [
    "import sklearn.metrics\n",
    "sklearn.metrics.SCORERS.keys()"
   ]
  },
  {
   "cell_type": "markdown",
   "metadata": {},
   "source": [
    "rf1"
   ]
  },
  {
   "cell_type": "code",
   "execution_count": 188,
   "metadata": {},
   "outputs": [
    {
     "data": {
      "text/plain": [
       "0.953181269391665"
      ]
     },
     "execution_count": 188,
     "metadata": {},
     "output_type": "execute_result"
    }
   ],
   "source": [
    "np.mean(cross_val_score(rfc, x_train, y_train, scoring= 'f1_micro', cv = 5))"
   ]
  },
  {
   "cell_type": "code",
   "execution_count": 300,
   "metadata": {},
   "outputs": [
    {
     "data": {
      "text/plain": [
       "0.6856928375799972"
      ]
     },
     "execution_count": 300,
     "metadata": {},
     "output_type": "execute_result"
    }
   ],
   "source": [
    "np.mean(cross_val_score(rfc, x_train, y_train, scoring= 'accuracy', cv = 5))"
   ]
  },
  {
   "cell_type": "markdown",
   "metadata": {},
   "source": [
    "rf2"
   ]
  },
  {
   "cell_type": "code",
   "execution_count": 305,
   "metadata": {},
   "outputs": [
    {
     "data": {
      "text/plain": [
       "0.9455099777788938"
      ]
     },
     "execution_count": 305,
     "metadata": {},
     "output_type": "execute_result"
    }
   ],
   "source": [
    "np.mean(cross_val_score(rfc2, x2_train, y_train, scoring= 'f1_micro', cv = 5))"
   ]
  },
  {
   "cell_type": "code",
   "execution_count": 301,
   "metadata": {},
   "outputs": [
    {
     "data": {
      "text/plain": [
       "0.9454161071485"
      ]
     },
     "execution_count": 301,
     "metadata": {},
     "output_type": "execute_result"
    }
   ],
   "source": [
    "np.mean(cross_val_score(rfc2, x2_train, y_train, scoring= 'accuracy', cv = 5))"
   ]
  },
  {
   "cell_type": "markdown",
   "metadata": {},
   "source": [
    "rf3"
   ]
  },
  {
   "cell_type": "code",
   "execution_count": 256,
   "metadata": {},
   "outputs": [
    {
     "data": {
      "text/plain": [
       "0.9533554953057515"
      ]
     },
     "execution_count": 256,
     "metadata": {},
     "output_type": "execute_result"
    }
   ],
   "source": [
    "np.mean(cross_val_score(rfc3, x3_train, y_train, scoring= 'f1_micro', cv = 5))"
   ]
  },
  {
   "cell_type": "code",
   "execution_count": 304,
   "metadata": {},
   "outputs": [
    {
     "data": {
      "text/plain": [
       "0.6857867972649277"
      ]
     },
     "execution_count": 304,
     "metadata": {},
     "output_type": "execute_result"
    }
   ],
   "source": [
    "np.mean(cross_val_score(rfc3, x3_train, y_train, scoring= 'accuracy', cv = 5))"
   ]
  },
  {
   "cell_type": "markdown",
   "metadata": {},
   "source": [
    "rf4"
   ]
  },
  {
   "cell_type": "code",
   "execution_count": 291,
   "metadata": {},
   "outputs": [
    {
     "data": {
      "text/plain": [
       "0.6866719283412077"
      ]
     },
     "execution_count": 291,
     "metadata": {},
     "output_type": "execute_result"
    }
   ],
   "source": [
    "np.mean(cross_val_score(rfc4, x4_train, y_train, scoring= 'f1_micro', cv = 5))"
   ]
  },
  {
   "cell_type": "code",
   "execution_count": 303,
   "metadata": {},
   "outputs": [
    {
     "data": {
      "text/plain": [
       "0.6867255638198115"
      ]
     },
     "execution_count": 303,
     "metadata": {},
     "output_type": "execute_result"
    }
   ],
   "source": [
    "np.mean(cross_val_score(rfc4, x4_train, y_train, scoring= 'accuracy', cv = 5))"
   ]
  },
  {
   "cell_type": "markdown",
   "metadata": {},
   "source": [
    "## Parameter Tuning"
   ]
  },
  {
   "cell_type": "code",
   "execution_count": 309,
   "metadata": {},
   "outputs": [
    {
     "data": {
      "text/plain": [
       "GridSearchCV(cv=3, error_score='raise-deprecating',\n",
       "       estimator=RandomForestClassifier(bootstrap=True, class_weight=None, criterion='gini',\n",
       "            max_depth=None, max_features='auto', max_leaf_nodes=None,\n",
       "            min_impurity_decrease=0.0, min_impurity_split=None,\n",
       "            min_samples_leaf=1, min_samples_split=2,\n",
       "            min_weight_fraction_leaf=0.0, n_estimators=100, n_jobs=None,\n",
       "            oob_score=False, random_state=None, verbose=0,\n",
       "            warm_start=False),\n",
       "       fit_params=None, iid='warn', n_jobs=None,\n",
       "       param_grid={'n_estimators': [50, 100, 200], 'min_samples_leaf': [1, 2, 3], 'max_depth': [5, 10, None], 'random_state': [0, 42, None]},\n",
       "       pre_dispatch='2*n_jobs', refit=True, return_train_score='warn',\n",
       "       scoring='accuracy', verbose=0)"
      ]
     },
     "execution_count": 309,
     "metadata": {},
     "output_type": "execute_result"
    }
   ],
   "source": [
    "from sklearn.model_selection import GridSearchCV\n",
    "params = {'n_estimators': [50, 100, 200], 'min_samples_leaf':[ 1, 2, 3], 'max_depth': [5,10, None], 'random_state':[0, 42, None]}\n",
    "rfc_cv = GridSearchCV(rfc2, params, cv = 3, scoring = 'accuracy')\n",
    "rfc_cv.fit(x2_train, y_train)\n"
   ]
  },
  {
   "cell_type": "code",
   "execution_count": 310,
   "metadata": {},
   "outputs": [
    {
     "data": {
      "text/plain": [
       "0.9611027663036675"
      ]
     },
     "execution_count": 310,
     "metadata": {},
     "output_type": "execute_result"
    }
   ],
   "source": [
    "rfc_cv.score(x2_test, y_test)"
   ]
  },
  {
   "cell_type": "code",
   "execution_count": 311,
   "metadata": {},
   "outputs": [
    {
     "data": {
      "text/plain": [
       "0.9611027663036675"
      ]
     },
     "execution_count": 311,
     "metadata": {},
     "output_type": "execute_result"
    }
   ],
   "source": [
    "accuracy_score(y_test,rfc_cv.predict(x2_test))"
   ]
  },
  {
   "cell_type": "markdown",
   "metadata": {},
   "source": [
    "#### Confusion Matrix"
   ]
  },
  {
   "cell_type": "code",
   "execution_count": 318,
   "metadata": {},
   "outputs": [],
   "source": [
    "from sklearn.metrics import confusion_matrix\n",
    "viz_data = confusion_matrix(y_test,rfc_cv.predict(x2_test))"
   ]
  },
  {
   "cell_type": "code",
   "execution_count": 323,
   "metadata": {},
   "outputs": [
    {
     "data": {
      "text/html": [
       "<div>\n",
       "<style scoped>\n",
       "    .dataframe tbody tr th:only-of-type {\n",
       "        vertical-align: middle;\n",
       "    }\n",
       "\n",
       "    .dataframe tbody tr th {\n",
       "        vertical-align: top;\n",
       "    }\n",
       "\n",
       "    .dataframe thead th {\n",
       "        text-align: right;\n",
       "    }\n",
       "</style>\n",
       "<table border=\"1\" class=\"dataframe\">\n",
       "  <thead>\n",
       "    <tr style=\"text-align: right;\">\n",
       "      <th></th>\n",
       "      <th>0</th>\n",
       "      <th>1</th>\n",
       "      <th>2</th>\n",
       "      <th>3</th>\n",
       "    </tr>\n",
       "  </thead>\n",
       "  <tbody>\n",
       "    <tr>\n",
       "      <th>0</th>\n",
       "      <td>4994</td>\n",
       "      <td>2</td>\n",
       "      <td>10</td>\n",
       "      <td>835</td>\n",
       "    </tr>\n",
       "    <tr>\n",
       "      <th>1</th>\n",
       "      <td>0</td>\n",
       "      <td>31</td>\n",
       "      <td>14</td>\n",
       "      <td>0</td>\n",
       "    </tr>\n",
       "    <tr>\n",
       "      <th>2</th>\n",
       "      <td>2</td>\n",
       "      <td>2</td>\n",
       "      <td>1348</td>\n",
       "      <td>39</td>\n",
       "    </tr>\n",
       "    <tr>\n",
       "      <th>3</th>\n",
       "      <td>294</td>\n",
       "      <td>0</td>\n",
       "      <td>45</td>\n",
       "      <td>24340</td>\n",
       "    </tr>\n",
       "  </tbody>\n",
       "</table>\n",
       "</div>"
      ],
      "text/plain": [
       "      0   1     2      3\n",
       "0  4994   2    10    835\n",
       "1     0  31    14      0\n",
       "2     2   2  1348     39\n",
       "3   294   0    45  24340"
      ]
     },
     "execution_count": 323,
     "metadata": {},
     "output_type": "execute_result"
    }
   ],
   "source": [
    "pd.DataFrame(viz_data)"
   ]
  },
  {
   "cell_type": "code",
   "execution_count": 322,
   "metadata": {},
   "outputs": [
    {
     "data": {
      "text/plain": [
       "<matplotlib.axes._subplots.AxesSubplot at 0x26fc1474a58>"
      ]
     },
     "execution_count": 322,
     "metadata": {},
     "output_type": "execute_result"
    },
    {
     "data": {
      "image/png": "[encoded data removed]",
      "text/plain": [
       "<Figure size 432x288 with 2 Axes>"
      ]
     },
     "metadata": {
      "needs_background": "light"
     },
     "output_type": "display_data"
    }
   ],
   "source": [
    "sb.heatmap(viz_data, linewidths = 1, annot = True, cmap = 'YlGnBu')"
   ]
  },
  {
   "cell_type": "code",
   "execution_count": 331,
   "metadata": {},
   "outputs": [
    {
     "data": {
      "text/plain": [
       "array([0, 1, 2, 3])"
      ]
     },
     "execution_count": 331,
     "metadata": {},
     "output_type": "execute_result"
    }
   ],
   "source": [
    "le.inverse_transform([0,1,2,3])"
   ]
  },
  {
   "cell_type": "code",
   "execution_count": 333,
   "metadata": {},
   "outputs": [],
   "source": [
    "filename = 'sweepstakes_clf_model.pickle'\n",
    "pickle.dump(rfc_cv, open(filename, 'wb'))"
   ]
  },
  {
   "cell_type": "code",
   "execution_count": null,
   "metadata": {},
   "outputs": [],
   "source": []
  }
 ],
 "metadata": {
  "kernelspec": {
   "display_name": "Python 3",
   "language": "python",
   "name": "python3"
  },
  "language_info": {
   "codemirror_mode": {
    "name": "ipython",
    "version": 3
   },
   "file_extension": ".py",
   "mimetype": "text/x-python",
   "name": "python",
   "nbconvert_exporter": "python",
   "pygments_lexer": "ipython3",
   "version": "3.7.3"
  }
 },
 "nbformat": 4,
 "nbformat_minor": 2
}
