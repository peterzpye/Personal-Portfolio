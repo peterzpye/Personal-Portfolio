{
 "cells": [
  {
   "cell_type": "markdown",
   "metadata": {},
   "source": [
    "# This is a starter point for EDA for email conversion data"
   ]
  },
  {
   "cell_type": "code",
   "execution_count": 70,
   "metadata": {},
   "outputs": [],
   "source": [
    "import pandas as pd\n",
    "import numpy as np\n",
    "import matplotlib as plt\n",
    "import plotly as py\n",
    "import seaborn as sb\n",
    "import os\n",
    "import sys\n",
    "import plotly.figure_factory as ff"
   ]
  },
  {
   "cell_type": "code",
   "execution_count": 38,
   "metadata": {},
   "outputs": [],
   "source": [
    "df = pd.read_csv('conversion_data.csv')"
   ]
  },
  {
   "cell_type": "markdown",
   "metadata": {},
   "source": [
    "first let's check on the data file size, data type, and basic statistical information"
   ]
  },
  {
   "cell_type": "code",
   "execution_count": 93,
   "metadata": {},
   "outputs": [
    {
     "data": {
      "text/plain": [
       "(5214468, 12)"
      ]
     },
     "execution_count": 93,
     "metadata": {},
     "output_type": "execute_result"
    }
   ],
   "source": [
    "df.shape"
   ]
  },
  {
   "cell_type": "code",
   "execution_count": 40,
   "metadata": {},
   "outputs": [
    {
     "data": {
      "text/html": [
       "<div>\n",
       "<style scoped>\n",
       "    .dataframe tbody tr th:only-of-type {\n",
       "        vertical-align: middle;\n",
       "    }\n",
       "\n",
       "    .dataframe tbody tr th {\n",
       "        vertical-align: top;\n",
       "    }\n",
       "\n",
       "    .dataframe thead th {\n",
       "        text-align: right;\n",
       "    }\n",
       "</style>\n",
       "<table border=\"1\" class=\"dataframe\">\n",
       "  <thead>\n",
       "    <tr style=\"text-align: right;\">\n",
       "      <th></th>\n",
       "      <th>id</th>\n",
       "      <th>value</th>\n",
       "      <th>email_id</th>\n",
       "      <th>brand_id</th>\n",
       "      <th>promotionalunit_id</th>\n",
       "      <th>cookie_id</th>\n",
       "    </tr>\n",
       "  </thead>\n",
       "  <tbody>\n",
       "    <tr>\n",
       "      <th>count</th>\n",
       "      <td>5.214468e+06</td>\n",
       "      <td>5.214468e+06</td>\n",
       "      <td>3.999819e+06</td>\n",
       "      <td>5.214468e+06</td>\n",
       "      <td>1.055407e+06</td>\n",
       "      <td>1.145911e+06</td>\n",
       "    </tr>\n",
       "    <tr>\n",
       "      <th>mean</th>\n",
       "      <td>2.609144e+06</td>\n",
       "      <td>6.262629e+01</td>\n",
       "      <td>9.642850e+06</td>\n",
       "      <td>3.992835e+03</td>\n",
       "      <td>2.055130e+04</td>\n",
       "      <td>4.604196e+06</td>\n",
       "    </tr>\n",
       "    <tr>\n",
       "      <th>std</th>\n",
       "      <td>1.505491e+06</td>\n",
       "      <td>3.823108e+03</td>\n",
       "      <td>4.506288e+06</td>\n",
       "      <td>2.591073e+03</td>\n",
       "      <td>1.251461e+04</td>\n",
       "      <td>2.503399e+06</td>\n",
       "    </tr>\n",
       "    <tr>\n",
       "      <th>min</th>\n",
       "      <td>1.000000e+00</td>\n",
       "      <td>0.000000e+00</td>\n",
       "      <td>1.000000e+00</td>\n",
       "      <td>3.000000e+00</td>\n",
       "      <td>6.600000e+01</td>\n",
       "      <td>3.697000e+03</td>\n",
       "    </tr>\n",
       "    <tr>\n",
       "      <th>25%</th>\n",
       "      <td>1.305616e+06</td>\n",
       "      <td>0.000000e+00</td>\n",
       "      <td>6.034170e+06</td>\n",
       "      <td>1.142000e+03</td>\n",
       "      <td>1.385600e+04</td>\n",
       "      <td>2.504334e+06</td>\n",
       "    </tr>\n",
       "    <tr>\n",
       "      <th>50%</th>\n",
       "      <td>2.609270e+06</td>\n",
       "      <td>2.000000e+01</td>\n",
       "      <td>1.194058e+07</td>\n",
       "      <td>4.464000e+03</td>\n",
       "      <td>1.881300e+04</td>\n",
       "      <td>4.400128e+06</td>\n",
       "    </tr>\n",
       "    <tr>\n",
       "      <th>75%</th>\n",
       "      <td>3.912886e+06</td>\n",
       "      <td>6.800000e+01</td>\n",
       "      <td>1.319826e+07</td>\n",
       "      <td>6.424000e+03</td>\n",
       "      <td>2.081500e+04</td>\n",
       "      <td>6.778536e+06</td>\n",
       "    </tr>\n",
       "    <tr>\n",
       "      <th>max</th>\n",
       "      <td>5.216537e+06</td>\n",
       "      <td>8.710000e+06</td>\n",
       "      <td>1.459597e+07</td>\n",
       "      <td>7.974000e+03</td>\n",
       "      <td>9.993800e+04</td>\n",
       "      <td>9.285089e+06</td>\n",
       "    </tr>\n",
       "  </tbody>\n",
       "</table>\n",
       "</div>"
      ],
      "text/plain": [
       "                 id         value      email_id      brand_id  \\\n",
       "count  5.214468e+06  5.214468e+06  3.999819e+06  5.214468e+06   \n",
       "mean   2.609144e+06  6.262629e+01  9.642850e+06  3.992835e+03   \n",
       "std    1.505491e+06  3.823108e+03  4.506288e+06  2.591073e+03   \n",
       "min    1.000000e+00  0.000000e+00  1.000000e+00  3.000000e+00   \n",
       "25%    1.305616e+06  0.000000e+00  6.034170e+06  1.142000e+03   \n",
       "50%    2.609270e+06  2.000000e+01  1.194058e+07  4.464000e+03   \n",
       "75%    3.912886e+06  6.800000e+01  1.319826e+07  6.424000e+03   \n",
       "max    5.216537e+06  8.710000e+06  1.459597e+07  7.974000e+03   \n",
       "\n",
       "       promotionalunit_id     cookie_id  \n",
       "count        1.055407e+06  1.145911e+06  \n",
       "mean         2.055130e+04  4.604196e+06  \n",
       "std          1.251461e+04  2.503399e+06  \n",
       "min          6.600000e+01  3.697000e+03  \n",
       "25%          1.385600e+04  2.504334e+06  \n",
       "50%          1.881300e+04  4.400128e+06  \n",
       "75%          2.081500e+04  6.778536e+06  \n",
       "max          9.993800e+04  9.285089e+06  "
      ]
     },
     "execution_count": 40,
     "metadata": {},
     "output_type": "execute_result"
    }
   ],
   "source": [
    "df.describe()"
   ]
  },
  {
   "cell_type": "code",
   "execution_count": 41,
   "metadata": {},
   "outputs": [
    {
     "name": "stdout",
     "output_type": "stream",
     "text": [
      "<class 'pandas.core.frame.DataFrame'>\n",
      "RangeIndex: 5214468 entries, 0 to 5214467\n",
      "Data columns (total 12 columns):\n",
      "id                    int64\n",
      "value                 int64\n",
      "currency              object\n",
      "order_id              object\n",
      "created_at            object\n",
      "updated_at            object\n",
      "email_id              float64\n",
      "brand_id              int64\n",
      "promotionalunit_id    float64\n",
      "conversion_type       object\n",
      "cookie_id             float64\n",
      "transaction_date      object\n",
      "dtypes: float64(3), int64(3), object(6)\n",
      "memory usage: 477.4+ MB\n"
     ]
    }
   ],
   "source": [
    "df.info()"
   ]
  },
  {
   "cell_type": "code",
   "execution_count": 49,
   "metadata": {},
   "outputs": [
    {
     "data": {
      "text/html": [
       "<div>\n",
       "<style scoped>\n",
       "    .dataframe tbody tr th:only-of-type {\n",
       "        vertical-align: middle;\n",
       "    }\n",
       "\n",
       "    .dataframe tbody tr th {\n",
       "        vertical-align: top;\n",
       "    }\n",
       "\n",
       "    .dataframe thead th {\n",
       "        text-align: right;\n",
       "    }\n",
       "</style>\n",
       "<table border=\"1\" class=\"dataframe\">\n",
       "  <thead>\n",
       "    <tr style=\"text-align: right;\">\n",
       "      <th></th>\n",
       "      <th>id</th>\n",
       "      <th>value</th>\n",
       "      <th>currency</th>\n",
       "      <th>order_id</th>\n",
       "      <th>created_at</th>\n",
       "      <th>updated_at</th>\n",
       "      <th>email_id</th>\n",
       "      <th>brand_id</th>\n",
       "      <th>promotionalunit_id</th>\n",
       "      <th>conversion_type</th>\n",
       "      <th>cookie_id</th>\n",
       "      <th>transaction_date</th>\n",
       "    </tr>\n",
       "  </thead>\n",
       "  <tbody>\n",
       "    <tr>\n",
       "      <th>0</th>\n",
       "      <td>1996226</td>\n",
       "      <td>17</td>\n",
       "      <td>USD</td>\n",
       "      <td>1.12569e+12</td>\n",
       "      <td>2019-04-17 11:02:00</td>\n",
       "      <td>2019-04-17 11:02:00</td>\n",
       "      <td>11966208.0</td>\n",
       "      <td>5477</td>\n",
       "      <td>NaN</td>\n",
       "      <td>shopify</td>\n",
       "      <td>NaN</td>\n",
       "      <td>2019-04-17 11:01:53</td>\n",
       "    </tr>\n",
       "    <tr>\n",
       "      <th>1</th>\n",
       "      <td>1996234</td>\n",
       "      <td>0</td>\n",
       "      <td>USD</td>\n",
       "      <td>NaN</td>\n",
       "      <td>2019-04-17 11:02:55</td>\n",
       "      <td>2019-04-17 11:02:55</td>\n",
       "      <td>NaN</td>\n",
       "      <td>1037</td>\n",
       "      <td>NaN</td>\n",
       "      <td>DOJO</td>\n",
       "      <td>2424675.0</td>\n",
       "      <td>NaN</td>\n",
       "    </tr>\n",
       "    <tr>\n",
       "      <th>2</th>\n",
       "      <td>2023386</td>\n",
       "      <td>50</td>\n",
       "      <td>USD</td>\n",
       "      <td>9.9728e+11</td>\n",
       "      <td>2019-04-17 20:55:51</td>\n",
       "      <td>2019-04-17 20:55:51</td>\n",
       "      <td>12431071.0</td>\n",
       "      <td>6401</td>\n",
       "      <td>NaN</td>\n",
       "      <td>shopify</td>\n",
       "      <td>NaN</td>\n",
       "      <td>2019-04-17 20:55:40</td>\n",
       "    </tr>\n",
       "    <tr>\n",
       "      <th>3</th>\n",
       "      <td>2023568</td>\n",
       "      <td>0</td>\n",
       "      <td>USD</td>\n",
       "      <td>NaN</td>\n",
       "      <td>2019-04-17 21:08:11</td>\n",
       "      <td>2019-04-17 21:08:11</td>\n",
       "      <td>NaN</td>\n",
       "      <td>1037</td>\n",
       "      <td>NaN</td>\n",
       "      <td>DOJO</td>\n",
       "      <td>2448882.0</td>\n",
       "      <td>NaN</td>\n",
       "    </tr>\n",
       "    <tr>\n",
       "      <th>4</th>\n",
       "      <td>2023647</td>\n",
       "      <td>0</td>\n",
       "      <td>USD</td>\n",
       "      <td>NaN</td>\n",
       "      <td>2019-04-17 21:12:07</td>\n",
       "      <td>2019-04-17 21:12:07</td>\n",
       "      <td>NaN</td>\n",
       "      <td>1037</td>\n",
       "      <td>NaN</td>\n",
       "      <td>DOJO</td>\n",
       "      <td>2449066.0</td>\n",
       "      <td>NaN</td>\n",
       "    </tr>\n",
       "  </tbody>\n",
       "</table>\n",
       "</div>"
      ],
      "text/plain": [
       "        id  value currency     order_id           created_at  \\\n",
       "0  1996226     17      USD  1.12569e+12  2019-04-17 11:02:00   \n",
       "1  1996234      0      USD          NaN  2019-04-17 11:02:55   \n",
       "2  2023386     50      USD   9.9728e+11  2019-04-17 20:55:51   \n",
       "3  2023568      0      USD          NaN  2019-04-17 21:08:11   \n",
       "4  2023647      0      USD          NaN  2019-04-17 21:12:07   \n",
       "\n",
       "            updated_at    email_id  brand_id  promotionalunit_id  \\\n",
       "0  2019-04-17 11:02:00  11966208.0      5477                 NaN   \n",
       "1  2019-04-17 11:02:55         NaN      1037                 NaN   \n",
       "2  2019-04-17 20:55:51  12431071.0      6401                 NaN   \n",
       "3  2019-04-17 21:08:11         NaN      1037                 NaN   \n",
       "4  2019-04-17 21:12:07         NaN      1037                 NaN   \n",
       "\n",
       "  conversion_type  cookie_id     transaction_date  \n",
       "0         shopify        NaN  2019-04-17 11:01:53  \n",
       "1            DOJO  2424675.0                  NaN  \n",
       "2         shopify        NaN  2019-04-17 20:55:40  \n",
       "3            DOJO  2448882.0                  NaN  \n",
       "4            DOJO  2449066.0                  NaN  "
      ]
     },
     "execution_count": 49,
     "metadata": {},
     "output_type": "execute_result"
    }
   ],
   "source": [
    "df.head()"
   ]
  },
  {
   "cell_type": "markdown",
   "metadata": {},
   "source": [
    "Let's check on the value data distribution"
   ]
  },
  {
   "cell_type": "code",
   "execution_count": 67,
   "metadata": {},
   "outputs": [
    {
     "data": {
      "text/plain": [
       "<matplotlib.axes._subplots.AxesSubplot at 0x25d8dcc9320>"
      ]
     },
     "execution_count": 67,
     "metadata": {},
     "output_type": "execute_result"
    },
    {
     "data": {
      "image/png": "[encoded data removed]",
      "text/plain": [
       "<Figure size 432x288 with 1 Axes>"
      ]
     },
     "metadata": {
      "needs_background": "light"
     },
     "output_type": "display_data"
    }
   ],
   "source": [
    "\n",
    "df[['value']].boxplot()\n"
   ]
  },
  {
   "cell_type": "code",
   "execution_count": 79,
   "metadata": {},
   "outputs": [
    {
     "data": {
      "text/plain": [
       "<matplotlib.axes._subplots.AxesSubplot at 0x25e11b2ae48>"
      ]
     },
     "execution_count": 79,
     "metadata": {},
     "output_type": "execute_result"
    },
    {
     "data": {
      "image/png": "[encoded data removed]",
      "text/plain": [
       "<Figure size 432x288 with 1 Axes>"
      ]
     },
     "metadata": {
      "needs_background": "light"
     },
     "output_type": "display_data"
    }
   ],
   "source": [
    "sb.distplot(df['value'])"
   ]
  },
  {
   "cell_type": "code",
   "execution_count": 81,
   "metadata": {},
   "outputs": [
    {
     "data": {
      "text/html": [
       "<div>\n",
       "<style scoped>\n",
       "    .dataframe tbody tr th:only-of-type {\n",
       "        vertical-align: middle;\n",
       "    }\n",
       "\n",
       "    .dataframe tbody tr th {\n",
       "        vertical-align: top;\n",
       "    }\n",
       "\n",
       "    .dataframe thead th {\n",
       "        text-align: right;\n",
       "    }\n",
       "</style>\n",
       "<table border=\"1\" class=\"dataframe\">\n",
       "  <thead>\n",
       "    <tr style=\"text-align: right;\">\n",
       "      <th></th>\n",
       "      <th>value</th>\n",
       "    </tr>\n",
       "  </thead>\n",
       "  <tbody>\n",
       "    <tr>\n",
       "      <th>count</th>\n",
       "      <td>5.214468e+06</td>\n",
       "    </tr>\n",
       "    <tr>\n",
       "      <th>mean</th>\n",
       "      <td>6.262629e+01</td>\n",
       "    </tr>\n",
       "    <tr>\n",
       "      <th>std</th>\n",
       "      <td>3.823108e+03</td>\n",
       "    </tr>\n",
       "    <tr>\n",
       "      <th>min</th>\n",
       "      <td>0.000000e+00</td>\n",
       "    </tr>\n",
       "    <tr>\n",
       "      <th>25%</th>\n",
       "      <td>0.000000e+00</td>\n",
       "    </tr>\n",
       "    <tr>\n",
       "      <th>50%</th>\n",
       "      <td>2.000000e+01</td>\n",
       "    </tr>\n",
       "    <tr>\n",
       "      <th>75%</th>\n",
       "      <td>6.800000e+01</td>\n",
       "    </tr>\n",
       "    <tr>\n",
       "      <th>max</th>\n",
       "      <td>8.710000e+06</td>\n",
       "    </tr>\n",
       "  </tbody>\n",
       "</table>\n",
       "</div>"
      ],
      "text/plain": [
       "              value\n",
       "count  5.214468e+06\n",
       "mean   6.262629e+01\n",
       "std    3.823108e+03\n",
       "min    0.000000e+00\n",
       "25%    0.000000e+00\n",
       "50%    2.000000e+01\n",
       "75%    6.800000e+01\n",
       "max    8.710000e+06"
      ]
     },
     "execution_count": 81,
     "metadata": {},
     "output_type": "execute_result"
    }
   ],
   "source": [
    "df[['value']].describe()"
   ]
  },
  {
   "cell_type": "markdown",
   "metadata": {},
   "source": [
    "The value data is really skewed to the right so we should be aware of that in the modeling"
   ]
  },
  {
   "cell_type": "markdown",
   "metadata": {},
   "source": [
    "The entry numbers of data is around 5 million"
   ]
  },
  {
   "cell_type": "code",
   "execution_count": 145,
   "metadata": {},
   "outputs": [
    {
     "data": {
      "text/plain": [
       "5214468"
      ]
     },
     "execution_count": 145,
     "metadata": {},
     "output_type": "execute_result"
    }
   ],
   "source": [
    "data_points = df.shape[0]\n",
    "data_points"
   ]
  },
  {
   "cell_type": "markdown",
   "metadata": {},
   "source": [
    "After grouping by the brand_id, here's how many unique conversions on email each brand have"
   ]
  },
  {
   "cell_type": "code",
   "execution_count": 137,
   "metadata": {},
   "outputs": [
    {
     "data": {
      "text/html": [
       "<div>\n",
       "<style scoped>\n",
       "    .dataframe tbody tr th:only-of-type {\n",
       "        vertical-align: middle;\n",
       "    }\n",
       "\n",
       "    .dataframe tbody tr th {\n",
       "        vertical-align: top;\n",
       "    }\n",
       "\n",
       "    .dataframe thead th {\n",
       "        text-align: right;\n",
       "    }\n",
       "</style>\n",
       "<table border=\"1\" class=\"dataframe\">\n",
       "  <thead>\n",
       "    <tr style=\"text-align: right;\">\n",
       "      <th></th>\n",
       "      <th>email_count</th>\n",
       "    </tr>\n",
       "    <tr>\n",
       "      <th>brand_id</th>\n",
       "      <th></th>\n",
       "    </tr>\n",
       "  </thead>\n",
       "  <tbody>\n",
       "    <tr>\n",
       "      <th>3</th>\n",
       "      <td>4053</td>\n",
       "    </tr>\n",
       "    <tr>\n",
       "      <th>52</th>\n",
       "      <td>13672</td>\n",
       "    </tr>\n",
       "    <tr>\n",
       "      <th>55</th>\n",
       "      <td>1</td>\n",
       "    </tr>\n",
       "    <tr>\n",
       "      <th>56</th>\n",
       "      <td>48463</td>\n",
       "    </tr>\n",
       "    <tr>\n",
       "      <th>60</th>\n",
       "      <td>289</td>\n",
       "    </tr>\n",
       "  </tbody>\n",
       "</table>\n",
       "</div>"
      ],
      "text/plain": [
       "          email_count\n",
       "brand_id             \n",
       "3                4053\n",
       "52              13672\n",
       "55                  1\n",
       "56              48463\n",
       "60                289"
      ]
     },
     "execution_count": 137,
     "metadata": {},
     "output_type": "execute_result"
    }
   ],
   "source": [
    "sources = pd.DataFrame(df[['id','brand_id']].groupby(['brand_id']).nunique().iloc[:,0])\n",
    "sources.columns = ['email_count']\n",
    "sources.head()"
   ]
  },
  {
   "cell_type": "markdown",
   "metadata": {},
   "source": [
    "Here's how much money on average each email spend on one campaign"
   ]
  },
  {
   "cell_type": "code",
   "execution_count": 130,
   "metadata": {},
   "outputs": [
    {
     "data": {
      "text/html": [
       "<div>\n",
       "<style scoped>\n",
       "    .dataframe tbody tr th:only-of-type {\n",
       "        vertical-align: middle;\n",
       "    }\n",
       "\n",
       "    .dataframe tbody tr th {\n",
       "        vertical-align: top;\n",
       "    }\n",
       "\n",
       "    .dataframe thead th {\n",
       "        text-align: right;\n",
       "    }\n",
       "</style>\n",
       "<table border=\"1\" class=\"dataframe\">\n",
       "  <thead>\n",
       "    <tr style=\"text-align: right;\">\n",
       "      <th></th>\n",
       "      <th>Average spend per email id</th>\n",
       "    </tr>\n",
       "    <tr>\n",
       "      <th>email_id</th>\n",
       "      <th></th>\n",
       "    </tr>\n",
       "  </thead>\n",
       "  <tbody>\n",
       "    <tr>\n",
       "      <th>1.0</th>\n",
       "      <td>36.000000</td>\n",
       "    </tr>\n",
       "    <tr>\n",
       "      <th>2.0</th>\n",
       "      <td>0.000000</td>\n",
       "    </tr>\n",
       "    <tr>\n",
       "      <th>5.0</th>\n",
       "      <td>5.841270</td>\n",
       "    </tr>\n",
       "    <tr>\n",
       "      <th>6.0</th>\n",
       "      <td>3.333333</td>\n",
       "    </tr>\n",
       "    <tr>\n",
       "      <th>28.0</th>\n",
       "      <td>0.000000</td>\n",
       "    </tr>\n",
       "  </tbody>\n",
       "</table>\n",
       "</div>"
      ],
      "text/plain": [
       "          Average spend per email id\n",
       "email_id                            \n",
       "1.0                        36.000000\n",
       "2.0                         0.000000\n",
       "5.0                         5.841270\n",
       "6.0                         3.333333\n",
       "28.0                        0.000000"
      ]
     },
     "execution_count": 130,
     "metadata": {},
     "output_type": "execute_result"
    }
   ],
   "source": [
    "avg_spent = pd.DataFrame(df[['email_id', 'value']].groupby(['email_id']).mean())\n",
    "avg_spent.columns = ['Average spend per email id']\n",
    "avg_spent.head()"
   ]
  },
  {
   "cell_type": "markdown",
   "metadata": {},
   "source": [
    "Here's how much money on average spent by each brand sources"
   ]
  },
  {
   "cell_type": "code",
   "execution_count": 134,
   "metadata": {},
   "outputs": [
    {
     "data": {
      "text/html": [
       "<div>\n",
       "<style scoped>\n",
       "    .dataframe tbody tr th:only-of-type {\n",
       "        vertical-align: middle;\n",
       "    }\n",
       "\n",
       "    .dataframe tbody tr th {\n",
       "        vertical-align: top;\n",
       "    }\n",
       "\n",
       "    .dataframe thead th {\n",
       "        text-align: right;\n",
       "    }\n",
       "</style>\n",
       "<table border=\"1\" class=\"dataframe\">\n",
       "  <thead>\n",
       "    <tr style=\"text-align: right;\">\n",
       "      <th></th>\n",
       "      <th>Average spend per source</th>\n",
       "    </tr>\n",
       "    <tr>\n",
       "      <th>brand_id</th>\n",
       "      <th></th>\n",
       "    </tr>\n",
       "  </thead>\n",
       "  <tbody>\n",
       "    <tr>\n",
       "      <th>3</th>\n",
       "      <td>45.744140</td>\n",
       "    </tr>\n",
       "    <tr>\n",
       "      <th>52</th>\n",
       "      <td>60.342232</td>\n",
       "    </tr>\n",
       "    <tr>\n",
       "      <th>55</th>\n",
       "      <td>108.000000</td>\n",
       "    </tr>\n",
       "    <tr>\n",
       "      <th>56</th>\n",
       "      <td>86.039494</td>\n",
       "    </tr>\n",
       "    <tr>\n",
       "      <th>60</th>\n",
       "      <td>0.000000</td>\n",
       "    </tr>\n",
       "  </tbody>\n",
       "</table>\n",
       "</div>"
      ],
      "text/plain": [
       "          Average spend per source\n",
       "brand_id                          \n",
       "3                        45.744140\n",
       "52                       60.342232\n",
       "55                      108.000000\n",
       "56                       86.039494\n",
       "60                        0.000000"
      ]
     },
     "execution_count": 134,
     "metadata": {},
     "output_type": "execute_result"
    }
   ],
   "source": [
    "avg_b_spent = pd.DataFrame(df[['brand_id', 'value']].groupby(['brand_id']).mean())\n",
    "avg_b_spent.columns = ['Average spend per source']\n",
    "avg_b_spent.head()"
   ]
  },
  {
   "cell_type": "markdown",
   "metadata": {},
   "source": [
    "Here's the list of emails that purchased in more than one brand that Dojo has and the number of brands they purchases in "
   ]
  },
  {
   "cell_type": "code",
   "execution_count": 139,
   "metadata": {},
   "outputs": [
    {
     "data": {
      "text/html": [
       "<div>\n",
       "<style scoped>\n",
       "    .dataframe tbody tr th:only-of-type {\n",
       "        vertical-align: middle;\n",
       "    }\n",
       "\n",
       "    .dataframe tbody tr th {\n",
       "        vertical-align: top;\n",
       "    }\n",
       "\n",
       "    .dataframe thead th {\n",
       "        text-align: right;\n",
       "    }\n",
       "</style>\n",
       "<table border=\"1\" class=\"dataframe\">\n",
       "  <thead>\n",
       "    <tr style=\"text-align: right;\">\n",
       "      <th></th>\n",
       "      <th>num_brand_purchase</th>\n",
       "    </tr>\n",
       "    <tr>\n",
       "      <th>email_id</th>\n",
       "      <th></th>\n",
       "    </tr>\n",
       "  </thead>\n",
       "  <tbody>\n",
       "    <tr>\n",
       "      <th>1.0</th>\n",
       "      <td>2</td>\n",
       "    </tr>\n",
       "    <tr>\n",
       "      <th>28.0</th>\n",
       "      <td>2</td>\n",
       "    </tr>\n",
       "    <tr>\n",
       "      <th>45.0</th>\n",
       "      <td>2</td>\n",
       "    </tr>\n",
       "    <tr>\n",
       "      <th>53.0</th>\n",
       "      <td>2</td>\n",
       "    </tr>\n",
       "    <tr>\n",
       "      <th>69.0</th>\n",
       "      <td>2</td>\n",
       "    </tr>\n",
       "  </tbody>\n",
       "</table>\n",
       "</div>"
      ],
      "text/plain": [
       "          num_brand_purchase\n",
       "email_id                    \n",
       "1.0                        2\n",
       "28.0                       2\n",
       "45.0                       2\n",
       "53.0                       2\n",
       "69.0                       2"
      ]
     },
     "execution_count": 139,
     "metadata": {},
     "output_type": "execute_result"
    }
   ],
   "source": [
    "email_spent = pd.DataFrame(df[['email_id', 'brand_id']].groupby(['email_id']).nunique())[['brand_id']]\n",
    "email_spent_mult = email_spent.drop(email_spent[email_spent['brand_id'] == 1].index, axis = 0)\n",
    "email_spent_mult.columns = ['num_brand_purchase']\n",
    "email_spent_mult.head()"
   ]
  },
  {
   "cell_type": "markdown",
   "metadata": {},
   "source": [
    "The statistics comparison for multi-brand emails and all-brand emails"
   ]
  },
  {
   "cell_type": "code",
   "execution_count": 153,
   "metadata": {},
   "outputs": [
    {
     "data": {
      "text/html": [
       "<div>\n",
       "<style scoped>\n",
       "    .dataframe tbody tr th:only-of-type {\n",
       "        vertical-align: middle;\n",
       "    }\n",
       "\n",
       "    .dataframe tbody tr th {\n",
       "        vertical-align: top;\n",
       "    }\n",
       "\n",
       "    .dataframe thead th {\n",
       "        text-align: right;\n",
       "    }\n",
       "</style>\n",
       "<table border=\"1\" class=\"dataframe\">\n",
       "  <thead>\n",
       "    <tr style=\"text-align: right;\">\n",
       "      <th></th>\n",
       "      <th>multi-brand-emails</th>\n",
       "      <th>all-emails</th>\n",
       "      <th>relative-change</th>\n",
       "    </tr>\n",
       "  </thead>\n",
       "  <tbody>\n",
       "    <tr>\n",
       "      <th>count</th>\n",
       "      <td>93961.000000</td>\n",
       "      <td>2.108375e+06</td>\n",
       "      <td>0.044566</td>\n",
       "    </tr>\n",
       "    <tr>\n",
       "      <th>mean</th>\n",
       "      <td>2.145326</td>\n",
       "      <td>1.051042e+00</td>\n",
       "      <td>2.041142</td>\n",
       "    </tr>\n",
       "    <tr>\n",
       "      <th>std</th>\n",
       "      <td>0.470597</td>\n",
       "      <td>2.563672e-01</td>\n",
       "      <td>1.835639</td>\n",
       "    </tr>\n",
       "    <tr>\n",
       "      <th>min</th>\n",
       "      <td>2.000000</td>\n",
       "      <td>1.000000e+00</td>\n",
       "      <td>2.000000</td>\n",
       "    </tr>\n",
       "    <tr>\n",
       "      <th>25%</th>\n",
       "      <td>2.000000</td>\n",
       "      <td>1.000000e+00</td>\n",
       "      <td>2.000000</td>\n",
       "    </tr>\n",
       "    <tr>\n",
       "      <th>50%</th>\n",
       "      <td>2.000000</td>\n",
       "      <td>1.000000e+00</td>\n",
       "      <td>2.000000</td>\n",
       "    </tr>\n",
       "    <tr>\n",
       "      <th>75%</th>\n",
       "      <td>2.000000</td>\n",
       "      <td>1.000000e+00</td>\n",
       "      <td>2.000000</td>\n",
       "    </tr>\n",
       "    <tr>\n",
       "      <th>max</th>\n",
       "      <td>43.000000</td>\n",
       "      <td>4.300000e+01</td>\n",
       "      <td>1.000000</td>\n",
       "    </tr>\n",
       "  </tbody>\n",
       "</table>\n",
       "</div>"
      ],
      "text/plain": [
       "       multi-brand-emails    all-emails  relative-change\n",
       "count        93961.000000  2.108375e+06         0.044566\n",
       "mean             2.145326  1.051042e+00         2.041142\n",
       "std              0.470597  2.563672e-01         1.835639\n",
       "min              2.000000  1.000000e+00         2.000000\n",
       "25%              2.000000  1.000000e+00         2.000000\n",
       "50%              2.000000  1.000000e+00         2.000000\n",
       "75%              2.000000  1.000000e+00         2.000000\n",
       "max             43.000000  4.300000e+01         1.000000"
      ]
     },
     "execution_count": 153,
     "metadata": {},
     "output_type": "execute_result"
    }
   ],
   "source": [
    "compare1 = email_spent_mult.describe()\n",
    "compare2 = email_spent.describe()\n",
    "compare = pd.concat([compare1, compare2], axis = 1)\n",
    "compare.columns = ['multi-brand-emails', 'all-emails']\n",
    "compare['relative-change'] = compare.apply(lambda row: row['multi-brand-emails']/ row['all-emails'], axis = 1)\n",
    "compare"
   ]
  },
  {
   "cell_type": "markdown",
   "metadata": {},
   "source": [
    "The percentage of the emails spending on more than one brands of all the emails"
   ]
  },
  {
   "cell_type": "code",
   "execution_count": 142,
   "metadata": {},
   "outputs": [
    {
     "data": {
      "text/plain": [
       "0.04456560147032668"
      ]
     },
     "execution_count": 142,
     "metadata": {},
     "output_type": "execute_result"
    }
   ],
   "source": [
    "rate = float(email_spent_mult.shape[0]/email_spent.shape[0])\n",
    "rate"
   ]
  },
  {
   "cell_type": "code",
   "execution_count": null,
   "metadata": {},
   "outputs": [],
   "source": []
  }
 ],
 "metadata": {
  "kernelspec": {
   "display_name": "Python 3",
   "language": "python",
   "name": "python3"
  },
  "language_info": {
   "codemirror_mode": {
    "name": "ipython",
    "version": 3
   },
   "file_extension": ".py",
   "mimetype": "text/x-python",
   "name": "python",
   "nbconvert_exporter": "python",
   "pygments_lexer": "ipython3",
   "version": "3.7.3"
  }
 },
 "nbformat": 4,
 "nbformat_minor": 2
}
