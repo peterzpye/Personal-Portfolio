{
  "nbformat": 4,
  "nbformat_minor": 0,
  "metadata": {
    "colab": {
      "name": "RBC_task.ipynb",
      "provenance": [],
      "toc_visible": true
    },
    "kernelspec": {
      "name": "python3",
      "display_name": "Python 3"
    }
  },
  "cells": [
    {
      "cell_type": "code",
      "metadata": {
        "id": "-eWdG24ByzON"
      },
      "source": [
        "# pip install --upgrade plotly"
      ],
      "execution_count": 1,
      "outputs": []
    },
    {
      "cell_type": "code",
      "metadata": {
        "id": "SCMWakOQHFh3"
      },
      "source": [
        "import pandas as pd\n",
        "import numpy as np\n",
        "import matplotlib.pyplot as plt\n",
        "import seaborn as sb\n",
        "import plotly.express as px\n",
        "import plotly.graph_objects as go\n"
      ],
      "execution_count": 2,
      "outputs": []
    },
    {
      "cell_type": "code",
      "metadata": {
        "id": "g2yfEBhlHKur"
      },
      "source": [
        "input_path = '/content/drive/MyDrive/Other/amplify_case_study_data.xls'\n",
        "colname_map = pd.read_excel(input_path, sheet_name='Column Codes',index_col=0)\n",
        "df = pd.read_excel(input_path, sheet_name='Data',index_col=0)\n",
        "data = df.copy()"
      ],
      "execution_count": 3,
      "outputs": []
    },
    {
      "cell_type": "code",
      "metadata": {
        "colab": {
          "base_uri": "https://localhost:8080/",
          "height": 284
        },
        "id": "yYx0rK1nHfqd",
        "outputId": "77527dee-7055-4574-a939-399ef4ef7b4c"
      },
      "source": [
        "data.describe()"
      ],
      "execution_count": 4,
      "outputs": [
        {
          "output_type": "execute_result",
          "data": {
            "text/html": [
              "<div>\n",
              "<style scoped>\n",
              "    .dataframe tbody tr th:only-of-type {\n",
              "        vertical-align: middle;\n",
              "    }\n",
              "\n",
              "    .dataframe tbody tr th {\n",
              "        vertical-align: top;\n",
              "    }\n",
              "\n",
              "    .dataframe thead th {\n",
              "        text-align: right;\n",
              "    }\n",
              "</style>\n",
              "<table border=\"1\" class=\"dataframe\">\n",
              "  <thead>\n",
              "    <tr style=\"text-align: right;\">\n",
              "      <th></th>\n",
              "      <th>CRIM</th>\n",
              "      <th>ZN</th>\n",
              "      <th>INDUS</th>\n",
              "      <th>CHAS</th>\n",
              "      <th>NOX</th>\n",
              "      <th>RM</th>\n",
              "      <th>AGE</th>\n",
              "      <th>DIS</th>\n",
              "      <th>RAD</th>\n",
              "      <th>TAX</th>\n",
              "      <th>PTRATIO</th>\n",
              "      <th>MEDV</th>\n",
              "    </tr>\n",
              "  </thead>\n",
              "  <tbody>\n",
              "    <tr>\n",
              "      <th>count</th>\n",
              "      <td>511.000000</td>\n",
              "      <td>511.000000</td>\n",
              "      <td>511.000000</td>\n",
              "      <td>511.000000</td>\n",
              "      <td>511.000000</td>\n",
              "      <td>506.000000</td>\n",
              "      <td>511.000000</td>\n",
              "      <td>511.000000</td>\n",
              "      <td>511.000000</td>\n",
              "      <td>511.000000</td>\n",
              "      <td>511.000000</td>\n",
              "      <td>511.000000</td>\n",
              "    </tr>\n",
              "    <tr>\n",
              "      <th>mean</th>\n",
              "      <td>3.584139</td>\n",
              "      <td>11.252446</td>\n",
              "      <td>11.151096</td>\n",
              "      <td>0.068493</td>\n",
              "      <td>0.554757</td>\n",
              "      <td>6.287589</td>\n",
              "      <td>68.616243</td>\n",
              "      <td>3.783876</td>\n",
              "      <td>9.485323</td>\n",
              "      <td>407.440313</td>\n",
              "      <td>18.500000</td>\n",
              "      <td>22.682192</td>\n",
              "    </tr>\n",
              "    <tr>\n",
              "      <th>std</th>\n",
              "      <td>8.564433</td>\n",
              "      <td>23.234838</td>\n",
              "      <td>6.828175</td>\n",
              "      <td>0.252838</td>\n",
              "      <td>0.115310</td>\n",
              "      <td>0.703802</td>\n",
              "      <td>28.099130</td>\n",
              "      <td>2.098631</td>\n",
              "      <td>8.688469</td>\n",
              "      <td>167.903532</td>\n",
              "      <td>2.200348</td>\n",
              "      <td>9.484262</td>\n",
              "    </tr>\n",
              "    <tr>\n",
              "      <th>min</th>\n",
              "      <td>0.006320</td>\n",
              "      <td>0.000000</td>\n",
              "      <td>0.460000</td>\n",
              "      <td>0.000000</td>\n",
              "      <td>0.385000</td>\n",
              "      <td>3.561000</td>\n",
              "      <td>2.900000</td>\n",
              "      <td>1.129600</td>\n",
              "      <td>1.000000</td>\n",
              "      <td>187.000000</td>\n",
              "      <td>12.600000</td>\n",
              "      <td>5.000000</td>\n",
              "    </tr>\n",
              "    <tr>\n",
              "      <th>25%</th>\n",
              "      <td>0.082325</td>\n",
              "      <td>0.000000</td>\n",
              "      <td>5.190000</td>\n",
              "      <td>0.000000</td>\n",
              "      <td>0.449000</td>\n",
              "      <td>5.885500</td>\n",
              "      <td>45.050000</td>\n",
              "      <td>2.100350</td>\n",
              "      <td>4.000000</td>\n",
              "      <td>279.500000</td>\n",
              "      <td>17.400000</td>\n",
              "      <td>17.050000</td>\n",
              "    </tr>\n",
              "    <tr>\n",
              "      <th>50%</th>\n",
              "      <td>0.261690</td>\n",
              "      <td>0.000000</td>\n",
              "      <td>9.690000</td>\n",
              "      <td>0.000000</td>\n",
              "      <td>0.538000</td>\n",
              "      <td>6.209000</td>\n",
              "      <td>77.300000</td>\n",
              "      <td>3.152300</td>\n",
              "      <td>5.000000</td>\n",
              "      <td>330.000000</td>\n",
              "      <td>19.100000</td>\n",
              "      <td>21.200000</td>\n",
              "    </tr>\n",
              "    <tr>\n",
              "      <th>75%</th>\n",
              "      <td>3.621175</td>\n",
              "      <td>12.500000</td>\n",
              "      <td>18.100000</td>\n",
              "      <td>0.000000</td>\n",
              "      <td>0.624000</td>\n",
              "      <td>6.629750</td>\n",
              "      <td>94.050000</td>\n",
              "      <td>5.118000</td>\n",
              "      <td>24.000000</td>\n",
              "      <td>666.000000</td>\n",
              "      <td>20.200000</td>\n",
              "      <td>25.000000</td>\n",
              "    </tr>\n",
              "    <tr>\n",
              "      <th>max</th>\n",
              "      <td>88.976200</td>\n",
              "      <td>100.000000</td>\n",
              "      <td>27.740000</td>\n",
              "      <td>1.000000</td>\n",
              "      <td>0.871000</td>\n",
              "      <td>8.780000</td>\n",
              "      <td>100.000000</td>\n",
              "      <td>12.126500</td>\n",
              "      <td>24.000000</td>\n",
              "      <td>711.000000</td>\n",
              "      <td>23.000000</td>\n",
              "      <td>67.000000</td>\n",
              "    </tr>\n",
              "  </tbody>\n",
              "</table>\n",
              "</div>"
            ],
            "text/plain": [
              "             CRIM          ZN       INDUS  ...         TAX     PTRATIO        MEDV\n",
              "count  511.000000  511.000000  511.000000  ...  511.000000  511.000000  511.000000\n",
              "mean     3.584139   11.252446   11.151096  ...  407.440313   18.500000   22.682192\n",
              "std      8.564433   23.234838    6.828175  ...  167.903532    2.200348    9.484262\n",
              "min      0.006320    0.000000    0.460000  ...  187.000000   12.600000    5.000000\n",
              "25%      0.082325    0.000000    5.190000  ...  279.500000   17.400000   17.050000\n",
              "50%      0.261690    0.000000    9.690000  ...  330.000000   19.100000   21.200000\n",
              "75%      3.621175   12.500000   18.100000  ...  666.000000   20.200000   25.000000\n",
              "max     88.976200  100.000000   27.740000  ...  711.000000   23.000000   67.000000\n",
              "\n",
              "[8 rows x 12 columns]"
            ]
          },
          "metadata": {
            "tags": []
          },
          "execution_count": 4
        }
      ]
    },
    {
      "cell_type": "code",
      "metadata": {
        "colab": {
          "base_uri": "https://localhost:8080/"
        },
        "id": "cTO7kgCNKpFe",
        "outputId": "e46f67d6-bd41-4029-80b9-09f031c8752a"
      },
      "source": [
        "data.shape"
      ],
      "execution_count": 5,
      "outputs": [
        {
          "output_type": "execute_result",
          "data": {
            "text/plain": [
              "(511, 12)"
            ]
          },
          "metadata": {
            "tags": []
          },
          "execution_count": 5
        }
      ]
    },
    {
      "cell_type": "code",
      "metadata": {
        "colab": {
          "base_uri": "https://localhost:8080/",
          "height": 1000
        },
        "id": "ckDMzaRJLCp3",
        "outputId": "1496d2c0-4e00-42ec-f36e-2966667e8be3"
      },
      "source": [
        "for col in data.columns.values:\n",
        "    sb.distplot(data[col])\n",
        "    plt.show()"
      ],
      "execution_count": 6,
      "outputs": [
        {
          "output_type": "stream",
          "text": [
            "/usr/local/lib/python3.6/dist-packages/seaborn/distributions.py:2551: FutureWarning:\n",
            "\n",
            "`distplot` is a deprecated function and will be removed in a future version. Please adapt your code to use either `displot` (a figure-level function with similar flexibility) or `histplot` (an axes-level function for histograms).\n",
            "\n"
          ],
          "name": "stderr"
        },
        {
          "output_type": "display_data",
          "data": {
            "image/png": "[encoded data removed]",
            "text/plain": [
              "<Figure size 432x288 with 1 Axes>"
            ]
          },
          "metadata": {
            "tags": [],
            "needs_background": "light"
          }
        },
        {
          "output_type": "stream",
          "text": [
            "/usr/local/lib/python3.6/dist-packages/seaborn/distributions.py:2551: FutureWarning:\n",
            "\n",
            "`distplot` is a deprecated function and will be removed in a future version. Please adapt your code to use either `displot` (a figure-level function with similar flexibility) or `histplot` (an axes-level function for histograms).\n",
            "\n"
          ],
          "name": "stderr"
        },
        {
          "output_type": "display_data",
          "data": {
            "image/png": "[encoded data removed]",
            "text/plain": [
              "<Figure size 432x288 with 1 Axes>"
            ]
          },
          "metadata": {
            "tags": [],
            "needs_background": "light"
          }
        },
        {
          "output_type": "stream",
          "text": [
            "/usr/local/lib/python3.6/dist-packages/seaborn/distributions.py:2551: FutureWarning:\n",
            "\n",
            "`distplot` is a deprecated function and will be removed in a future version. Please adapt your code to use either `displot` (a figure-level function with similar flexibility) or `histplot` (an axes-level function for histograms).\n",
            "\n"
          ],
          "name": "stderr"
        },
        {
          "output_type": "display_data",
          "data": {
            "image/png": "[encoded data removed]",
            "text/plain": [
              "<Figure size 432x288 with 1 Axes>"
            ]
          },
          "metadata": {
            "tags": [],
            "needs_background": "light"
          }
        },
        {
          "output_type": "stream",
          "text": [
            "/usr/local/lib/python3.6/dist-packages/seaborn/distributions.py:2551: FutureWarning:\n",
            "\n",
            "`distplot` is a deprecated function and will be removed in a future version. Please adapt your code to use either `displot` (a figure-level function with similar flexibility) or `histplot` (an axes-level function for histograms).\n",
            "\n"
          ],
          "name": "stderr"
        },
        {
          "output_type": "display_data",
          "data": {
            "image/png": "[encoded data removed]",
            "text/plain": [
              "<Figure size 432x288 with 1 Axes>"
            ]
          },
          "metadata": {
            "tags": [],
            "needs_background": "light"
          }
        },
        {
          "output_type": "stream",
          "text": [
            "/usr/local/lib/python3.6/dist-packages/seaborn/distributions.py:2551: FutureWarning:\n",
            "\n",
            "`distplot` is a deprecated function and will be removed in a future version. Please adapt your code to use either `displot` (a figure-level function with similar flexibility) or `histplot` (an axes-level function for histograms).\n",
            "\n"
          ],
          "name": "stderr"
        },
        {
          "output_type": "display_data",
          "data": {
            "image/png": "[encoded data removed]",
            "text/plain": [
              "<Figure size 432x288 with 1 Axes>"
            ]
          },
          "metadata": {
            "tags": [],
            "needs_background": "light"
          }
        },
        {
          "output_type": "stream",
          "text": [
            "/usr/local/lib/python3.6/dist-packages/seaborn/distributions.py:2551: FutureWarning:\n",
            "\n",
            "`distplot` is a deprecated function and will be removed in a future version. Please adapt your code to use either `displot` (a figure-level function with similar flexibility) or `histplot` (an axes-level function for histograms).\n",
            "\n"
          ],
          "name": "stderr"
        },
        {
          "output_type": "display_data",
          "data": {
            "image/png": "[encoded data removed]",
            "text/plain": [
              "<Figure size 432x288 with 1 Axes>"
            ]
          },
          "metadata": {
            "tags": [],
            "needs_background": "light"
          }
        },
        {
          "output_type": "stream",
          "text": [
            "/usr/local/lib/python3.6/dist-packages/seaborn/distributions.py:2551: FutureWarning:\n",
            "\n",
            "`distplot` is a deprecated function and will be removed in a future version. Please adapt your code to use either `displot` (a figure-level function with similar flexibility) or `histplot` (an axes-level function for histograms).\n",
            "\n"
          ],
          "name": "stderr"
        },
        {
          "output_type": "display_data",
          "data": {
            "image/png": "[encoded data removed]",
            "text/plain": [
              "<Figure size 432x288 with 1 Axes>"
            ]
          },
          "metadata": {
            "tags": [],
            "needs_background": "light"
          }
        },
        {
          "output_type": "stream",
          "text": [
            "/usr/local/lib/python3.6/dist-packages/seaborn/distributions.py:2551: FutureWarning:\n",
            "\n",
            "`distplot` is a deprecated function and will be removed in a future version. Please adapt your code to use either `displot` (a figure-level function with similar flexibility) or `histplot` (an axes-level function for histograms).\n",
            "\n"
          ],
          "name": "stderr"
        },
        {
          "output_type": "display_data",
          "data": {
            "image/png": "[encoded data removed]",
            "text/plain": [
              "<Figure size 432x288 with 1 Axes>"
            ]
          },
          "metadata": {
            "tags": [],
            "needs_background": "light"
          }
        },
        {
          "output_type": "stream",
          "text": [
            "/usr/local/lib/python3.6/dist-packages/seaborn/distributions.py:2551: FutureWarning:\n",
            "\n",
            "`distplot` is a deprecated function and will be removed in a future version. Please adapt your code to use either `displot` (a figure-level function with similar flexibility) or `histplot` (an axes-level function for histograms).\n",
            "\n"
          ],
          "name": "stderr"
        },
        {
          "output_type": "display_data",
          "data": {
            "image/png": "[encoded data removed]",
            "text/plain": [
              "<Figure size 432x288 with 1 Axes>"
            ]
          },
          "metadata": {
            "tags": [],
            "needs_background": "light"
          }
        },
        {
          "output_type": "stream",
          "text": [
            "/usr/local/lib/python3.6/dist-packages/seaborn/distributions.py:2551: FutureWarning:\n",
            "\n",
            "`distplot` is a deprecated function and will be removed in a future version. Please adapt your code to use either `displot` (a figure-level function with similar flexibility) or `histplot` (an axes-level function for histograms).\n",
            "\n"
          ],
          "name": "stderr"
        },
        {
          "output_type": "display_data",
          "data": {
            "image/png": "[encoded data removed]",
            "text/plain": [
              "<Figure size 432x288 with 1 Axes>"
            ]
          },
          "metadata": {
            "tags": [],
            "needs_background": "light"
          }
        },
        {
          "output_type": "stream",
          "text": [
            "/usr/local/lib/python3.6/dist-packages/seaborn/distributions.py:2551: FutureWarning:\n",
            "\n",
            "`distplot` is a deprecated function and will be removed in a future version. Please adapt your code to use either `displot` (a figure-level function with similar flexibility) or `histplot` (an axes-level function for histograms).\n",
            "\n"
          ],
          "name": "stderr"
        },
        {
          "output_type": "display_data",
          "data": {
            "image/png": "[encoded data removed]",
            "text/plain": [
              "<Figure size 432x288 with 1 Axes>"
            ]
          },
          "metadata": {
            "tags": [],
            "needs_background": "light"
          }
        },
        {
          "output_type": "stream",
          "text": [
            "/usr/local/lib/python3.6/dist-packages/seaborn/distributions.py:2551: FutureWarning:\n",
            "\n",
            "`distplot` is a deprecated function and will be removed in a future version. Please adapt your code to use either `displot` (a figure-level function with similar flexibility) or `histplot` (an axes-level function for histograms).\n",
            "\n"
          ],
          "name": "stderr"
        },
        {
          "output_type": "display_data",
          "data": {
            "image/png": "[encoded data removed]",
            "text/plain": [
              "<Figure size 432x288 with 1 Axes>"
            ]
          },
          "metadata": {
            "tags": [],
            "needs_background": "light"
          }
        }
      ]
    },
    {
      "cell_type": "markdown",
      "metadata": {
        "id": "TEQ8XIKEkIT9"
      },
      "source": [
        "## Missing value"
      ]
    },
    {
      "cell_type": "code",
      "metadata": {
        "colab": {
          "base_uri": "https://localhost:8080/",
          "height": 136
        },
        "id": "Y7_2FRptMOT9",
        "outputId": "fe45c4a4-ccae-4bc6-9c1d-71443b6dbc62"
      },
      "source": [
        "data['room_na'] = data['RM'].apply(lambda x: 1 if pd.isna(x) else 0)\n",
        "data.groupby('room_na').mean()"
      ],
      "execution_count": 7,
      "outputs": [
        {
          "output_type": "execute_result",
          "data": {
            "text/html": [
              "<div>\n",
              "<style scoped>\n",
              "    .dataframe tbody tr th:only-of-type {\n",
              "        vertical-align: middle;\n",
              "    }\n",
              "\n",
              "    .dataframe tbody tr th {\n",
              "        vertical-align: top;\n",
              "    }\n",
              "\n",
              "    .dataframe thead th {\n",
              "        text-align: right;\n",
              "    }\n",
              "</style>\n",
              "<table border=\"1\" class=\"dataframe\">\n",
              "  <thead>\n",
              "    <tr style=\"text-align: right;\">\n",
              "      <th></th>\n",
              "      <th>CRIM</th>\n",
              "      <th>ZN</th>\n",
              "      <th>INDUS</th>\n",
              "      <th>CHAS</th>\n",
              "      <th>NOX</th>\n",
              "      <th>RM</th>\n",
              "      <th>AGE</th>\n",
              "      <th>DIS</th>\n",
              "      <th>RAD</th>\n",
              "      <th>TAX</th>\n",
              "      <th>PTRATIO</th>\n",
              "      <th>MEDV</th>\n",
              "    </tr>\n",
              "    <tr>\n",
              "      <th>room_na</th>\n",
              "      <th></th>\n",
              "      <th></th>\n",
              "      <th></th>\n",
              "      <th></th>\n",
              "      <th></th>\n",
              "      <th></th>\n",
              "      <th></th>\n",
              "      <th></th>\n",
              "      <th></th>\n",
              "      <th></th>\n",
              "      <th></th>\n",
              "      <th></th>\n",
              "    </tr>\n",
              "  </thead>\n",
              "  <tbody>\n",
              "    <tr>\n",
              "      <th>0</th>\n",
              "      <td>3.617404</td>\n",
              "      <td>11.289526</td>\n",
              "      <td>11.174842</td>\n",
              "      <td>0.06917</td>\n",
              "      <td>0.555209</td>\n",
              "      <td>6.287589</td>\n",
              "      <td>68.555731</td>\n",
              "      <td>3.775231</td>\n",
              "      <td>9.531621</td>\n",
              "      <td>408.33004</td>\n",
              "      <td>18.498419</td>\n",
              "      <td>22.711858</td>\n",
              "    </tr>\n",
              "    <tr>\n",
              "      <th>1</th>\n",
              "      <td>0.217676</td>\n",
              "      <td>7.500000</td>\n",
              "      <td>8.748000</td>\n",
              "      <td>0.00000</td>\n",
              "      <td>0.509000</td>\n",
              "      <td>NaN</td>\n",
              "      <td>74.740000</td>\n",
              "      <td>4.658760</td>\n",
              "      <td>4.800000</td>\n",
              "      <td>317.40000</td>\n",
              "      <td>18.660000</td>\n",
              "      <td>19.680000</td>\n",
              "    </tr>\n",
              "  </tbody>\n",
              "</table>\n",
              "</div>"
            ],
            "text/plain": [
              "             CRIM         ZN      INDUS  ...        TAX    PTRATIO       MEDV\n",
              "room_na                                  ...                                 \n",
              "0        3.617404  11.289526  11.174842  ...  408.33004  18.498419  22.711858\n",
              "1        0.217676   7.500000   8.748000  ...  317.40000  18.660000  19.680000\n",
              "\n",
              "[2 rows x 12 columns]"
            ]
          },
          "metadata": {
            "tags": []
          },
          "execution_count": 7
        }
      ]
    },
    {
      "cell_type": "code",
      "metadata": {
        "colab": {
          "base_uri": "https://localhost:8080/",
          "height": 1000
        },
        "id": "ilwjQwvsTTCj",
        "outputId": "48c6ffde-e746-4892-8e2e-b7903ea5298b"
      },
      "source": [
        "for col in data.columns.values:\n",
        "    if data[col].dtypes in ['float', 'int']:\n",
        "        sb.distplot(data[data['room_na'] == 0][col])\n",
        "        sb.distplot(data[data['room_na'] == 1][col])\n",
        "        plt.legend([0,1])\n",
        "        plt.show()"
      ],
      "execution_count": 8,
      "outputs": [
        {
          "output_type": "stream",
          "text": [
            "/usr/local/lib/python3.6/dist-packages/seaborn/distributions.py:2551: FutureWarning:\n",
            "\n",
            "`distplot` is a deprecated function and will be removed in a future version. Please adapt your code to use either `displot` (a figure-level function with similar flexibility) or `histplot` (an axes-level function for histograms).\n",
            "\n",
            "/usr/local/lib/python3.6/dist-packages/seaborn/distributions.py:2551: FutureWarning:\n",
            "\n",
            "`distplot` is a deprecated function and will be removed in a future version. Please adapt your code to use either `displot` (a figure-level function with similar flexibility) or `histplot` (an axes-level function for histograms).\n",
            "\n"
          ],
          "name": "stderr"
        },
        {
          "output_type": "display_data",
          "data": {
            "image/png": "[encoded data removed]",
            "text/plain": [
              "<Figure size 432x288 with 1 Axes>"
            ]
          },
          "metadata": {
            "tags": [],
            "needs_background": "light"
          }
        },
        {
          "output_type": "stream",
          "text": [
            "/usr/local/lib/python3.6/dist-packages/seaborn/distributions.py:2551: FutureWarning:\n",
            "\n",
            "`distplot` is a deprecated function and will be removed in a future version. Please adapt your code to use either `displot` (a figure-level function with similar flexibility) or `histplot` (an axes-level function for histograms).\n",
            "\n",
            "/usr/local/lib/python3.6/dist-packages/seaborn/distributions.py:2551: FutureWarning:\n",
            "\n",
            "`distplot` is a deprecated function and will be removed in a future version. Please adapt your code to use either `displot` (a figure-level function with similar flexibility) or `histplot` (an axes-level function for histograms).\n",
            "\n"
          ],
          "name": "stderr"
        },
        {
          "output_type": "display_data",
          "data": {
            "image/png": "[encoded data removed]",
            "text/plain": [
              "<Figure size 432x288 with 1 Axes>"
            ]
          },
          "metadata": {
            "tags": [],
            "needs_background": "light"
          }
        },
        {
          "output_type": "stream",
          "text": [
            "/usr/local/lib/python3.6/dist-packages/seaborn/distributions.py:2551: FutureWarning:\n",
            "\n",
            "`distplot` is a deprecated function and will be removed in a future version. Please adapt your code to use either `displot` (a figure-level function with similar flexibility) or `histplot` (an axes-level function for histograms).\n",
            "\n",
            "/usr/local/lib/python3.6/dist-packages/seaborn/distributions.py:2551: FutureWarning:\n",
            "\n",
            "`distplot` is a deprecated function and will be removed in a future version. Please adapt your code to use either `displot` (a figure-level function with similar flexibility) or `histplot` (an axes-level function for histograms).\n",
            "\n"
          ],
          "name": "stderr"
        },
        {
          "output_type": "display_data",
          "data": {
            "image/png": "[encoded data removed]",
            "text/plain": [
              "<Figure size 432x288 with 1 Axes>"
            ]
          },
          "metadata": {
            "tags": [],
            "needs_background": "light"
          }
        },
        {
          "output_type": "stream",
          "text": [
            "/usr/local/lib/python3.6/dist-packages/seaborn/distributions.py:2551: FutureWarning:\n",
            "\n",
            "`distplot` is a deprecated function and will be removed in a future version. Please adapt your code to use either `displot` (a figure-level function with similar flexibility) or `histplot` (an axes-level function for histograms).\n",
            "\n",
            "/usr/local/lib/python3.6/dist-packages/seaborn/distributions.py:2551: FutureWarning:\n",
            "\n",
            "`distplot` is a deprecated function and will be removed in a future version. Please adapt your code to use either `displot` (a figure-level function with similar flexibility) or `histplot` (an axes-level function for histograms).\n",
            "\n",
            "/usr/local/lib/python3.6/dist-packages/seaborn/distributions.py:305: UserWarning:\n",
            "\n",
            "Dataset has 0 variance; skipping density estimate.\n",
            "\n"
          ],
          "name": "stderr"
        },
        {
          "output_type": "display_data",
          "data": {
            "image/png": "[encoded data removed]",
            "text/plain": [
              "<Figure size 432x288 with 1 Axes>"
            ]
          },
          "metadata": {
            "tags": [],
            "needs_background": "light"
          }
        },
        {
          "output_type": "stream",
          "text": [
            "/usr/local/lib/python3.6/dist-packages/seaborn/distributions.py:2551: FutureWarning:\n",
            "\n",
            "`distplot` is a deprecated function and will be removed in a future version. Please adapt your code to use either `displot` (a figure-level function with similar flexibility) or `histplot` (an axes-level function for histograms).\n",
            "\n",
            "/usr/local/lib/python3.6/dist-packages/seaborn/distributions.py:2551: FutureWarning:\n",
            "\n",
            "`distplot` is a deprecated function and will be removed in a future version. Please adapt your code to use either `displot` (a figure-level function with similar flexibility) or `histplot` (an axes-level function for histograms).\n",
            "\n"
          ],
          "name": "stderr"
        },
        {
          "output_type": "display_data",
          "data": {
            "image/png": "[encoded data removed]",
            "text/plain": [
              "<Figure size 432x288 with 1 Axes>"
            ]
          },
          "metadata": {
            "tags": [],
            "needs_background": "light"
          }
        },
        {
          "output_type": "stream",
          "text": [
            "/usr/local/lib/python3.6/dist-packages/seaborn/distributions.py:2551: FutureWarning:\n",
            "\n",
            "`distplot` is a deprecated function and will be removed in a future version. Please adapt your code to use either `displot` (a figure-level function with similar flexibility) or `histplot` (an axes-level function for histograms).\n",
            "\n",
            "/usr/local/lib/python3.6/dist-packages/seaborn/distributions.py:2551: FutureWarning:\n",
            "\n",
            "`distplot` is a deprecated function and will be removed in a future version. Please adapt your code to use either `displot` (a figure-level function with similar flexibility) or `histplot` (an axes-level function for histograms).\n",
            "\n",
            "/usr/local/lib/python3.6/dist-packages/seaborn/distributions.py:2589: RuntimeWarning:\n",
            "\n",
            "Mean of empty slice.\n",
            "\n",
            "/usr/local/lib/python3.6/dist-packages/numpy/core/_methods.py:161: RuntimeWarning:\n",
            "\n",
            "invalid value encountered in double_scalars\n",
            "\n",
            "/usr/local/lib/python3.6/dist-packages/numpy/lib/histograms.py:908: RuntimeWarning:\n",
            "\n",
            "invalid value encountered in true_divide\n",
            "\n"
          ],
          "name": "stderr"
        },
        {
          "output_type": "display_data",
          "data": {
            "image/png": "[encoded data removed]",
            "text/plain": [
              "<Figure size 432x288 with 1 Axes>"
            ]
          },
          "metadata": {
            "tags": [],
            "needs_background": "light"
          }
        },
        {
          "output_type": "stream",
          "text": [
            "/usr/local/lib/python3.6/dist-packages/seaborn/distributions.py:2551: FutureWarning:\n",
            "\n",
            "`distplot` is a deprecated function and will be removed in a future version. Please adapt your code to use either `displot` (a figure-level function with similar flexibility) or `histplot` (an axes-level function for histograms).\n",
            "\n",
            "/usr/local/lib/python3.6/dist-packages/seaborn/distributions.py:2551: FutureWarning:\n",
            "\n",
            "`distplot` is a deprecated function and will be removed in a future version. Please adapt your code to use either `displot` (a figure-level function with similar flexibility) or `histplot` (an axes-level function for histograms).\n",
            "\n"
          ],
          "name": "stderr"
        },
        {
          "output_type": "display_data",
          "data": {
            "image/png": "[encoded data removed]",
            "text/plain": [
              "<Figure size 432x288 with 1 Axes>"
            ]
          },
          "metadata": {
            "tags": [],
            "needs_background": "light"
          }
        },
        {
          "output_type": "stream",
          "text": [
            "/usr/local/lib/python3.6/dist-packages/seaborn/distributions.py:2551: FutureWarning:\n",
            "\n",
            "`distplot` is a deprecated function and will be removed in a future version. Please adapt your code to use either `displot` (a figure-level function with similar flexibility) or `histplot` (an axes-level function for histograms).\n",
            "\n",
            "/usr/local/lib/python3.6/dist-packages/seaborn/distributions.py:2551: FutureWarning:\n",
            "\n",
            "`distplot` is a deprecated function and will be removed in a future version. Please adapt your code to use either `displot` (a figure-level function with similar flexibility) or `histplot` (an axes-level function for histograms).\n",
            "\n"
          ],
          "name": "stderr"
        },
        {
          "output_type": "display_data",
          "data": {
            "image/png": "[encoded data removed]",
            "text/plain": [
              "<Figure size 432x288 with 1 Axes>"
            ]
          },
          "metadata": {
            "tags": [],
            "needs_background": "light"
          }
        },
        {
          "output_type": "stream",
          "text": [
            "/usr/local/lib/python3.6/dist-packages/seaborn/distributions.py:2551: FutureWarning:\n",
            "\n",
            "`distplot` is a deprecated function and will be removed in a future version. Please adapt your code to use either `displot` (a figure-level function with similar flexibility) or `histplot` (an axes-level function for histograms).\n",
            "\n",
            "/usr/local/lib/python3.6/dist-packages/seaborn/distributions.py:2551: FutureWarning:\n",
            "\n",
            "`distplot` is a deprecated function and will be removed in a future version. Please adapt your code to use either `displot` (a figure-level function with similar flexibility) or `histplot` (an axes-level function for histograms).\n",
            "\n"
          ],
          "name": "stderr"
        },
        {
          "output_type": "display_data",
          "data": {
            "image/png": "[encoded data removed]",
            "text/plain": [
              "<Figure size 432x288 with 1 Axes>"
            ]
          },
          "metadata": {
            "tags": [],
            "needs_background": "light"
          }
        },
        {
          "output_type": "stream",
          "text": [
            "/usr/local/lib/python3.6/dist-packages/seaborn/distributions.py:2551: FutureWarning:\n",
            "\n",
            "`distplot` is a deprecated function and will be removed in a future version. Please adapt your code to use either `displot` (a figure-level function with similar flexibility) or `histplot` (an axes-level function for histograms).\n",
            "\n",
            "/usr/local/lib/python3.6/dist-packages/seaborn/distributions.py:2551: FutureWarning:\n",
            "\n",
            "`distplot` is a deprecated function and will be removed in a future version. Please adapt your code to use either `displot` (a figure-level function with similar flexibility) or `histplot` (an axes-level function for histograms).\n",
            "\n"
          ],
          "name": "stderr"
        },
        {
          "output_type": "display_data",
          "data": {
            "image/png": "[encoded data removed]",
            "text/plain": [
              "<Figure size 432x288 with 1 Axes>"
            ]
          },
          "metadata": {
            "tags": [],
            "needs_background": "light"
          }
        },
        {
          "output_type": "stream",
          "text": [
            "/usr/local/lib/python3.6/dist-packages/seaborn/distributions.py:2551: FutureWarning:\n",
            "\n",
            "`distplot` is a deprecated function and will be removed in a future version. Please adapt your code to use either `displot` (a figure-level function with similar flexibility) or `histplot` (an axes-level function for histograms).\n",
            "\n",
            "/usr/local/lib/python3.6/dist-packages/seaborn/distributions.py:2551: FutureWarning:\n",
            "\n",
            "`distplot` is a deprecated function and will be removed in a future version. Please adapt your code to use either `displot` (a figure-level function with similar flexibility) or `histplot` (an axes-level function for histograms).\n",
            "\n"
          ],
          "name": "stderr"
        },
        {
          "output_type": "display_data",
          "data": {
            "image/png": "[encoded data removed]",
            "text/plain": [
              "<Figure size 432x288 with 1 Axes>"
            ]
          },
          "metadata": {
            "tags": [],
            "needs_background": "light"
          }
        },
        {
          "output_type": "stream",
          "text": [
            "/usr/local/lib/python3.6/dist-packages/seaborn/distributions.py:2551: FutureWarning:\n",
            "\n",
            "`distplot` is a deprecated function and will be removed in a future version. Please adapt your code to use either `displot` (a figure-level function with similar flexibility) or `histplot` (an axes-level function for histograms).\n",
            "\n",
            "/usr/local/lib/python3.6/dist-packages/seaborn/distributions.py:2551: FutureWarning:\n",
            "\n",
            "`distplot` is a deprecated function and will be removed in a future version. Please adapt your code to use either `displot` (a figure-level function with similar flexibility) or `histplot` (an axes-level function for histograms).\n",
            "\n"
          ],
          "name": "stderr"
        },
        {
          "output_type": "display_data",
          "data": {
            "image/png": "[encoded data removed]",
            "text/plain": [
              "<Figure size 432x288 with 1 Axes>"
            ]
          },
          "metadata": {
            "tags": [],
            "needs_background": "light"
          }
        },
        {
          "output_type": "stream",
          "text": [
            "/usr/local/lib/python3.6/dist-packages/seaborn/distributions.py:2551: FutureWarning:\n",
            "\n",
            "`distplot` is a deprecated function and will be removed in a future version. Please adapt your code to use either `displot` (a figure-level function with similar flexibility) or `histplot` (an axes-level function for histograms).\n",
            "\n",
            "/usr/local/lib/python3.6/dist-packages/seaborn/distributions.py:305: UserWarning:\n",
            "\n",
            "Dataset has 0 variance; skipping density estimate.\n",
            "\n",
            "/usr/local/lib/python3.6/dist-packages/seaborn/distributions.py:2551: FutureWarning:\n",
            "\n",
            "`distplot` is a deprecated function and will be removed in a future version. Please adapt your code to use either `displot` (a figure-level function with similar flexibility) or `histplot` (an axes-level function for histograms).\n",
            "\n",
            "/usr/local/lib/python3.6/dist-packages/seaborn/distributions.py:305: UserWarning:\n",
            "\n",
            "Dataset has 0 variance; skipping density estimate.\n",
            "\n"
          ],
          "name": "stderr"
        },
        {
          "output_type": "display_data",
          "data": {
            "image/png": "[encoded data removed]",
            "text/plain": [
              "<Figure size 432x288 with 1 Axes>"
            ]
          },
          "metadata": {
            "tags": [],
            "needs_background": "light"
          }
        }
      ]
    },
    {
      "cell_type": "code",
      "metadata": {
        "id": "-nvkP_pWkOoG"
      },
      "source": [
        "from sklearn.impute import KNNImputer\n",
        "knn_imp = KNNImputer(n_neighbors=5)\n",
        "df = pd.DataFrame(knn_imp.fit_transform(df), columns = df.columns, index= df.index)\n"
      ],
      "execution_count": 9,
      "outputs": []
    },
    {
      "cell_type": "markdown",
      "metadata": {
        "id": "ypN4spToTTep"
      },
      "source": [
        "## crime rate"
      ]
    },
    {
      "cell_type": "code",
      "metadata": {
        "colab": {
          "base_uri": "https://localhost:8080/"
        },
        "id": "_bSZ-yVLMqd5",
        "outputId": "70acb75d-7b08-43ba-fb55-69b5ebd06b19"
      },
      "source": [
        "data.CRIM.describe()"
      ],
      "execution_count": 10,
      "outputs": [
        {
          "output_type": "execute_result",
          "data": {
            "text/plain": [
              "count    511.000000\n",
              "mean       3.584139\n",
              "std        8.564433\n",
              "min        0.006320\n",
              "25%        0.082325\n",
              "50%        0.261690\n",
              "75%        3.621175\n",
              "max       88.976200\n",
              "Name: CRIM, dtype: float64"
            ]
          },
          "metadata": {
            "tags": []
          },
          "execution_count": 10
        }
      ]
    },
    {
      "cell_type": "code",
      "metadata": {
        "colab": {
          "base_uri": "https://localhost:8080/",
          "height": 202
        },
        "id": "X6k2s-xpSodd",
        "outputId": "eb44ddb3-aabe-4395-a696-472a942093d2"
      },
      "source": [
        "def split(x):\n",
        "    if x<0.262:\n",
        "        return 'safe'\n",
        "    elif x < 1:\n",
        "        return 'unsafe'\n",
        "    else:\n",
        "        return 'extremely unsafe'\n",
        "data['crime_class'] = data.CRIM.apply(lambda x: split(x))\n",
        "data.groupby('crime_class').mean()"
      ],
      "execution_count": 11,
      "outputs": [
        {
          "output_type": "execute_result",
          "data": {
            "text/html": [
              "<div>\n",
              "<style scoped>\n",
              "    .dataframe tbody tr th:only-of-type {\n",
              "        vertical-align: middle;\n",
              "    }\n",
              "\n",
              "    .dataframe tbody tr th {\n",
              "        vertical-align: top;\n",
              "    }\n",
              "\n",
              "    .dataframe thead th {\n",
              "        text-align: right;\n",
              "    }\n",
              "</style>\n",
              "<table border=\"1\" class=\"dataframe\">\n",
              "  <thead>\n",
              "    <tr style=\"text-align: right;\">\n",
              "      <th></th>\n",
              "      <th>CRIM</th>\n",
              "      <th>ZN</th>\n",
              "      <th>INDUS</th>\n",
              "      <th>CHAS</th>\n",
              "      <th>NOX</th>\n",
              "      <th>RM</th>\n",
              "      <th>AGE</th>\n",
              "      <th>DIS</th>\n",
              "      <th>RAD</th>\n",
              "      <th>TAX</th>\n",
              "      <th>PTRATIO</th>\n",
              "      <th>MEDV</th>\n",
              "      <th>room_na</th>\n",
              "    </tr>\n",
              "    <tr>\n",
              "      <th>crime_class</th>\n",
              "      <th></th>\n",
              "      <th></th>\n",
              "      <th></th>\n",
              "      <th></th>\n",
              "      <th></th>\n",
              "      <th></th>\n",
              "      <th></th>\n",
              "      <th></th>\n",
              "      <th></th>\n",
              "      <th></th>\n",
              "      <th></th>\n",
              "      <th></th>\n",
              "      <th></th>\n",
              "    </tr>\n",
              "  </thead>\n",
              "  <tbody>\n",
              "    <tr>\n",
              "      <th>extremely unsafe</th>\n",
              "      <td>10.138975</td>\n",
              "      <td>0.000000</td>\n",
              "      <td>17.836437</td>\n",
              "      <td>0.086207</td>\n",
              "      <td>0.677006</td>\n",
              "      <td>6.021885</td>\n",
              "      <td>90.339655</td>\n",
              "      <td>2.124741</td>\n",
              "      <td>19.344828</td>\n",
              "      <td>597.373563</td>\n",
              "      <td>19.294253</td>\n",
              "      <td>17.613793</td>\n",
              "      <td>0.000000</td>\n",
              "    </tr>\n",
              "    <tr>\n",
              "      <th>safe</th>\n",
              "      <td>0.097220</td>\n",
              "      <td>21.273438</td>\n",
              "      <td>7.093242</td>\n",
              "      <td>0.050781</td>\n",
              "      <td>0.472206</td>\n",
              "      <td>6.393821</td>\n",
              "      <td>51.733984</td>\n",
              "      <td>5.060352</td>\n",
              "      <td>4.152344</td>\n",
              "      <td>306.304688</td>\n",
              "      <td>17.941797</td>\n",
              "      <td>24.921094</td>\n",
              "      <td>0.015625</td>\n",
              "    </tr>\n",
              "    <tr>\n",
              "      <th>unsafe</th>\n",
              "      <td>0.523762</td>\n",
              "      <td>3.753086</td>\n",
              "      <td>9.614815</td>\n",
              "      <td>0.086420</td>\n",
              "      <td>0.553049</td>\n",
              "      <td>6.530863</td>\n",
              "      <td>75.307407</td>\n",
              "      <td>3.313648</td>\n",
              "      <td>5.160494</td>\n",
              "      <td>319.074074</td>\n",
              "      <td>18.558025</td>\n",
              "      <td>26.493827</td>\n",
              "      <td>0.012346</td>\n",
              "    </tr>\n",
              "  </tbody>\n",
              "</table>\n",
              "</div>"
            ],
            "text/plain": [
              "                       CRIM         ZN  ...       MEDV   room_na\n",
              "crime_class                             ...                     \n",
              "extremely unsafe  10.138975   0.000000  ...  17.613793  0.000000\n",
              "safe               0.097220  21.273438  ...  24.921094  0.015625\n",
              "unsafe             0.523762   3.753086  ...  26.493827  0.012346\n",
              "\n",
              "[3 rows x 13 columns]"
            ]
          },
          "metadata": {
            "tags": []
          },
          "execution_count": 11
        }
      ]
    },
    {
      "cell_type": "code",
      "metadata": {
        "id": "2x8Gax9Jhivo"
      },
      "source": [
        "def split(x):\n",
        "    if x <= 25:\n",
        "        return \"1\"\n",
        "    elif x<= 50:\n",
        "        return '2'\n",
        "    elif x<= 75:\n",
        "        return '3'\n",
        "    else:\n",
        "        return '4'\n",
        "data['indus_class'] = pd.qcut(data.INDUS, 4, labels = [1,2,3,4])\n",
        "data['zn_class'] = data.ZN.apply(lambda x: split(x))\n"
      ],
      "execution_count": 12,
      "outputs": []
    },
    {
      "cell_type": "code",
      "metadata": {
        "colab": {
          "base_uri": "https://localhost:8080/"
        },
        "id": "pBtK9PFzlRJh",
        "outputId": "3592ec84-b05a-4793-f0f1-c6b6142a8f8c"
      },
      "source": [
        "df.CRIM.describe()"
      ],
      "execution_count": 13,
      "outputs": [
        {
          "output_type": "execute_result",
          "data": {
            "text/plain": [
              "count    511.000000\n",
              "mean       3.584139\n",
              "std        8.564433\n",
              "min        0.006320\n",
              "25%        0.082325\n",
              "50%        0.261690\n",
              "75%        3.621175\n",
              "max       88.976200\n",
              "Name: CRIM, dtype: float64"
            ]
          },
          "metadata": {
            "tags": []
          },
          "execution_count": 13
        }
      ]
    },
    {
      "cell_type": "code",
      "metadata": {
        "colab": {
          "base_uri": "https://localhost:8080/"
        },
        "id": "MFTOFTFikIPn",
        "outputId": "43d25e7b-5448-4df7-8ded-61cbee80bb2e"
      },
      "source": [
        "data.groupby('zn_class').CRIM.mean()"
      ],
      "execution_count": 14,
      "outputs": [
        {
          "output_type": "execute_result",
          "data": {
            "text/plain": [
              "zn_class\n",
              "1    4.211130\n",
              "2    0.072587\n",
              "3    0.038870\n",
              "4    0.031716\n",
              "Name: CRIM, dtype: float64"
            ]
          },
          "metadata": {
            "tags": []
          },
          "execution_count": 14
        }
      ]
    },
    {
      "cell_type": "code",
      "metadata": {
        "id": "MF9xSugykJas"
      },
      "source": [
        ""
      ],
      "execution_count": 14,
      "outputs": []
    },
    {
      "cell_type": "code",
      "metadata": {
        "colab": {
          "base_uri": "https://localhost:8080/",
          "height": 617
        },
        "id": "uT8zU4CMTePG",
        "outputId": "7a047e4f-715c-4efa-d130-f9fe19292489"
      },
      "source": [
        "fig = px.bar(data.corr().loc['CRIM'].sort_values()[:-1].reset_index(), x = 'CRIM', y = 'index', color = 'index', orientation='h')\n",
        "fig.update_layout(\n",
        "    title = 'Correlation with Crime Rate',\n",
        "    height = 600,\n",
        "    width = 850\n",
        ")"
      ],
      "execution_count": 15,
      "outputs": [
        {
          "output_type": "display_data",
          "data": {
            "text/html": [
              "<html>\n",
              "<head><meta charset=\"utf-8\" /></head>\n",
              "<body>\n",
              "    <div>            <script src=\"https://cdnjs.cloudflare.com/ajax/libs/mathjax/2.7.5/MathJax.js?config=TeX-AMS-MML_SVG\"></script><script type=\"text/javascript\">if (window.MathJax) {MathJax.Hub.Config({SVG: {font: \"STIX-Web\"}});}</script>                <script type=\"text/javascript\">window.PlotlyConfig = {MathJaxConfig: 'local'};</script>\n",
              "        <script src=\"https://cdn.plot.ly/plotly-latest.min.js\"></script>                <div id=\"5f504cc3-3a17-4322-9263-18e8ac34beef\" class=\"plotly-graph-div\" style=\"height:600px; width:850px;\"></div>            <script type=\"text/javascript\">                                    window.PLOTLYENV=window.PLOTLYENV || {};                                    if (document.getElementById(\"5f504cc3-3a17-4322-9263-18e8ac34beef\")) {                    Plotly.newPlot(                        \"5f504cc3-3a17-4322-9263-18e8ac34beef\",                        [{\"alignmentgroup\": \"True\", \"hovertemplate\": \"index=%{y}<br>CRIM=%{x}<extra></extra>\", \"legendgroup\": \"MEDV\", \"marker\": {\"color\": \"#636efa\"}, \"name\": \"MEDV\", \"offsetgroup\": \"MEDV\", \"orientation\": \"h\", \"showlegend\": true, \"textposition\": \"auto\", \"type\": \"bar\", \"x\": [-0.3800719924931599], \"xaxis\": \"x\", \"y\": [\"MEDV\"], \"yaxis\": \"y\"}, {\"alignmentgroup\": \"True\", \"hovertemplate\": \"index=%{y}<br>CRIM=%{x}<extra></extra>\", \"legendgroup\": \"DIS\", \"marker\": {\"color\": \"#EF553B\"}, \"name\": \"DIS\", \"offsetgroup\": \"DIS\", \"orientation\": \"h\", \"showlegend\": true, \"textposition\": \"auto\", \"type\": \"bar\", \"x\": [-0.3770278573999549], \"xaxis\": \"x\", \"y\": [\"DIS\"], \"yaxis\": \"y\"}, {\"alignmentgroup\": \"True\", \"hovertemplate\": \"index=%{y}<br>CRIM=%{x}<extra></extra>\", \"legendgroup\": \"RM\", \"marker\": {\"color\": \"#00cc96\"}, \"name\": \"RM\", \"offsetgroup\": \"RM\", \"orientation\": \"h\", \"showlegend\": true, \"textposition\": \"auto\", \"type\": \"bar\", \"x\": [-0.22036263915881782], \"xaxis\": \"x\", \"y\": [\"RM\"], \"yaxis\": \"y\"}, {\"alignmentgroup\": \"True\", \"hovertemplate\": \"index=%{y}<br>CRIM=%{x}<extra></extra>\", \"legendgroup\": \"ZN\", \"marker\": {\"color\": \"#ab63fa\"}, \"name\": \"ZN\", \"offsetgroup\": \"ZN\", \"orientation\": \"h\", \"showlegend\": true, \"textposition\": \"auto\", \"type\": \"bar\", \"x\": [-0.19845088111900405], \"xaxis\": \"x\", \"y\": [\"ZN\"], \"yaxis\": \"y\"}, {\"alignmentgroup\": \"True\", \"hovertemplate\": \"index=%{y}<br>CRIM=%{x}<extra></extra>\", \"legendgroup\": \"CHAS\", \"marker\": {\"color\": \"#FFA15A\"}, \"name\": \"CHAS\", \"offsetgroup\": \"CHAS\", \"orientation\": \"h\", \"showlegend\": true, \"textposition\": \"auto\", \"type\": \"bar\", \"x\": [-0.054906349401770894], \"xaxis\": \"x\", \"y\": [\"CHAS\"], \"yaxis\": \"y\"}, {\"alignmentgroup\": \"True\", \"hovertemplate\": \"index=%{y}<br>CRIM=%{x}<extra></extra>\", \"legendgroup\": \"room_na\", \"marker\": {\"color\": \"#19d3f3\"}, \"name\": \"room_na\", \"offsetgroup\": \"room_na\", \"orientation\": \"h\", \"showlegend\": true, \"textposition\": \"auto\", \"type\": \"bar\", \"x\": [-0.0391120215656947], \"xaxis\": \"x\", \"y\": [\"room_na\"], \"yaxis\": \"y\"}, {\"alignmentgroup\": \"True\", \"hovertemplate\": \"index=%{y}<br>CRIM=%{x}<extra></extra>\", \"legendgroup\": \"PTRATIO\", \"marker\": {\"color\": \"#FF6692\"}, \"name\": \"PTRATIO\", \"offsetgroup\": \"PTRATIO\", \"orientation\": \"h\", \"showlegend\": true, \"textposition\": \"auto\", \"type\": \"bar\", \"x\": [0.27669548289516926], \"xaxis\": \"x\", \"y\": [\"PTRATIO\"], \"yaxis\": \"y\"}, {\"alignmentgroup\": \"True\", \"hovertemplate\": \"index=%{y}<br>CRIM=%{x}<extra></extra>\", \"legendgroup\": \"AGE\", \"marker\": {\"color\": \"#B6E880\"}, \"name\": \"AGE\", \"offsetgroup\": \"AGE\", \"orientation\": \"h\", \"showlegend\": true, \"textposition\": \"auto\", \"type\": \"bar\", \"x\": [0.35084688766669536], \"xaxis\": \"x\", \"y\": [\"AGE\"], \"yaxis\": \"y\"}, {\"alignmentgroup\": \"True\", \"hovertemplate\": \"index=%{y}<br>CRIM=%{x}<extra></extra>\", \"legendgroup\": \"INDUS\", \"marker\": {\"color\": \"#FF97FF\"}, \"name\": \"INDUS\", \"offsetgroup\": \"INDUS\", \"orientation\": \"h\", \"showlegend\": true, \"textposition\": \"auto\", \"type\": \"bar\", \"x\": [0.4055238221191884], \"xaxis\": \"x\", \"y\": [\"INDUS\"], \"yaxis\": \"y\"}, {\"alignmentgroup\": \"True\", \"hovertemplate\": \"index=%{y}<br>CRIM=%{x}<extra></extra>\", \"legendgroup\": \"NOX\", \"marker\": {\"color\": \"#FECB52\"}, \"name\": \"NOX\", \"offsetgroup\": \"NOX\", \"orientation\": \"h\", \"showlegend\": true, \"textposition\": \"auto\", \"type\": \"bar\", \"x\": [0.4205237924391389], \"xaxis\": \"x\", \"y\": [\"NOX\"], \"yaxis\": \"y\"}, {\"alignmentgroup\": \"True\", \"hovertemplate\": \"index=%{y}<br>CRIM=%{x}<extra></extra>\", \"legendgroup\": \"TAX\", \"marker\": {\"color\": \"#636efa\"}, \"name\": \"TAX\", \"offsetgroup\": \"TAX\", \"orientation\": \"h\", \"showlegend\": true, \"textposition\": \"auto\", \"type\": \"bar\", \"x\": [0.5833885031611177], \"xaxis\": \"x\", \"y\": [\"TAX\"], \"yaxis\": \"y\"}, {\"alignmentgroup\": \"True\", \"hovertemplate\": \"index=%{y}<br>CRIM=%{x}<extra></extra>\", \"legendgroup\": \"RAD\", \"marker\": {\"color\": \"#EF553B\"}, \"name\": \"RAD\", \"offsetgroup\": \"RAD\", \"orientation\": \"h\", \"showlegend\": true, \"textposition\": \"auto\", \"type\": \"bar\", \"x\": [0.625964329753295], \"xaxis\": \"x\", \"y\": [\"RAD\"], \"yaxis\": \"y\"}],                        {\"barmode\": \"relative\", \"height\": 600, \"legend\": {\"title\": {\"text\": \"index\"}, \"tracegroupgap\": 0}, \"margin\": {\"t\": 60}, \"template\": {\"data\": {\"bar\": [{\"error_x\": {\"color\": \"#2a3f5f\"}, \"error_y\": {\"color\": \"#2a3f5f\"}, \"marker\": {\"line\": {\"color\": \"#E5ECF6\", \"width\": 0.5}}, \"type\": \"bar\"}], \"barpolar\": [{\"marker\": {\"line\": {\"color\": \"#E5ECF6\", \"width\": 0.5}}, \"type\": \"barpolar\"}], \"carpet\": [{\"aaxis\": {\"endlinecolor\": \"#2a3f5f\", \"gridcolor\": \"white\", \"linecolor\": \"white\", \"minorgridcolor\": \"white\", \"startlinecolor\": \"#2a3f5f\"}, \"baxis\": {\"endlinecolor\": \"#2a3f5f\", \"gridcolor\": \"white\", \"linecolor\": \"white\", \"minorgridcolor\": \"white\", \"startlinecolor\": \"#2a3f5f\"}, \"type\": \"carpet\"}], \"choropleth\": [{\"colorbar\": {\"outlinewidth\": 0, \"ticks\": \"\"}, \"type\": \"choropleth\"}], \"contour\": [{\"colorbar\": {\"outlinewidth\": 0, \"ticks\": \"\"}, \"colorscale\": [[0.0, \"#0d0887\"], [0.1111111111111111, \"#46039f\"], [0.2222222222222222, \"#7201a8\"], [0.3333333333333333, \"#9c179e\"], [0.4444444444444444, \"#bd3786\"], [0.5555555555555556, \"#d8576b\"], [0.6666666666666666, \"#ed7953\"], [0.7777777777777778, \"#fb9f3a\"], [0.8888888888888888, \"#fdca26\"], [1.0, \"#f0f921\"]], \"type\": \"contour\"}], \"contourcarpet\": [{\"colorbar\": {\"outlinewidth\": 0, \"ticks\": \"\"}, \"type\": \"contourcarpet\"}], \"heatmap\": [{\"colorbar\": {\"outlinewidth\": 0, \"ticks\": \"\"}, \"colorscale\": [[0.0, \"#0d0887\"], [0.1111111111111111, \"#46039f\"], [0.2222222222222222, \"#7201a8\"], [0.3333333333333333, \"#9c179e\"], [0.4444444444444444, \"#bd3786\"], [0.5555555555555556, \"#d8576b\"], [0.6666666666666666, \"#ed7953\"], [0.7777777777777778, \"#fb9f3a\"], [0.8888888888888888, \"#fdca26\"], [1.0, \"#f0f921\"]], \"type\": \"heatmap\"}], \"heatmapgl\": [{\"colorbar\": {\"outlinewidth\": 0, \"ticks\": \"\"}, \"colorscale\": [[0.0, \"#0d0887\"], [0.1111111111111111, \"#46039f\"], [0.2222222222222222, \"#7201a8\"], [0.3333333333333333, \"#9c179e\"], [0.4444444444444444, \"#bd3786\"], [0.5555555555555556, \"#d8576b\"], [0.6666666666666666, \"#ed7953\"], [0.7777777777777778, \"#fb9f3a\"], [0.8888888888888888, \"#fdca26\"], [1.0, \"#f0f921\"]], \"type\": \"heatmapgl\"}], \"histogram\": [{\"marker\": {\"colorbar\": {\"outlinewidth\": 0, \"ticks\": \"\"}}, \"type\": \"histogram\"}], \"histogram2d\": [{\"colorbar\": {\"outlinewidth\": 0, \"ticks\": \"\"}, \"colorscale\": [[0.0, \"#0d0887\"], [0.1111111111111111, \"#46039f\"], [0.2222222222222222, \"#7201a8\"], [0.3333333333333333, \"#9c179e\"], [0.4444444444444444, \"#bd3786\"], [0.5555555555555556, \"#d8576b\"], [0.6666666666666666, \"#ed7953\"], [0.7777777777777778, \"#fb9f3a\"], [0.8888888888888888, \"#fdca26\"], [1.0, \"#f0f921\"]], \"type\": \"histogram2d\"}], \"histogram2dcontour\": [{\"colorbar\": {\"outlinewidth\": 0, \"ticks\": \"\"}, \"colorscale\": [[0.0, \"#0d0887\"], [0.1111111111111111, \"#46039f\"], [0.2222222222222222, \"#7201a8\"], [0.3333333333333333, \"#9c179e\"], [0.4444444444444444, \"#bd3786\"], [0.5555555555555556, \"#d8576b\"], [0.6666666666666666, \"#ed7953\"], [0.7777777777777778, \"#fb9f3a\"], [0.8888888888888888, \"#fdca26\"], [1.0, \"#f0f921\"]], \"type\": \"histogram2dcontour\"}], \"mesh3d\": [{\"colorbar\": {\"outlinewidth\": 0, \"ticks\": \"\"}, \"type\": \"mesh3d\"}], \"parcoords\": [{\"line\": {\"colorbar\": {\"outlinewidth\": 0, \"ticks\": \"\"}}, \"type\": \"parcoords\"}], \"pie\": [{\"automargin\": true, \"type\": \"pie\"}], \"scatter\": [{\"marker\": {\"colorbar\": {\"outlinewidth\": 0, \"ticks\": \"\"}}, \"type\": \"scatter\"}], \"scatter3d\": [{\"line\": {\"colorbar\": {\"outlinewidth\": 0, \"ticks\": \"\"}}, \"marker\": {\"colorbar\": {\"outlinewidth\": 0, \"ticks\": \"\"}}, \"type\": \"scatter3d\"}], \"scattercarpet\": [{\"marker\": {\"colorbar\": {\"outlinewidth\": 0, \"ticks\": \"\"}}, \"type\": \"scattercarpet\"}], \"scattergeo\": [{\"marker\": {\"colorbar\": {\"outlinewidth\": 0, \"ticks\": \"\"}}, \"type\": \"scattergeo\"}], \"scattergl\": [{\"marker\": {\"colorbar\": {\"outlinewidth\": 0, \"ticks\": \"\"}}, \"type\": \"scattergl\"}], \"scattermapbox\": [{\"marker\": {\"colorbar\": {\"outlinewidth\": 0, \"ticks\": \"\"}}, \"type\": \"scattermapbox\"}], \"scatterpolar\": [{\"marker\": {\"colorbar\": {\"outlinewidth\": 0, \"ticks\": \"\"}}, \"type\": \"scatterpolar\"}], \"scatterpolargl\": [{\"marker\": {\"colorbar\": {\"outlinewidth\": 0, \"ticks\": \"\"}}, \"type\": \"scatterpolargl\"}], \"scatterternary\": [{\"marker\": {\"colorbar\": {\"outlinewidth\": 0, \"ticks\": \"\"}}, \"type\": \"scatterternary\"}], \"surface\": [{\"colorbar\": {\"outlinewidth\": 0, \"ticks\": \"\"}, \"colorscale\": [[0.0, \"#0d0887\"], [0.1111111111111111, \"#46039f\"], [0.2222222222222222, \"#7201a8\"], [0.3333333333333333, \"#9c179e\"], [0.4444444444444444, \"#bd3786\"], [0.5555555555555556, \"#d8576b\"], [0.6666666666666666, \"#ed7953\"], [0.7777777777777778, \"#fb9f3a\"], [0.8888888888888888, \"#fdca26\"], [1.0, \"#f0f921\"]], \"type\": \"surface\"}], \"table\": [{\"cells\": {\"fill\": {\"color\": \"#EBF0F8\"}, \"line\": {\"color\": \"white\"}}, \"header\": {\"fill\": {\"color\": \"#C8D4E3\"}, \"line\": {\"color\": \"white\"}}, \"type\": \"table\"}]}, \"layout\": {\"annotationdefaults\": {\"arrowcolor\": \"#2a3f5f\", \"arrowhead\": 0, \"arrowwidth\": 1}, \"coloraxis\": {\"colorbar\": {\"outlinewidth\": 0, \"ticks\": \"\"}}, \"colorscale\": {\"diverging\": [[0, \"#8e0152\"], [0.1, \"#c51b7d\"], [0.2, \"#de77ae\"], [0.3, \"#f1b6da\"], [0.4, \"#fde0ef\"], [0.5, \"#f7f7f7\"], [0.6, \"#e6f5d0\"], [0.7, \"#b8e186\"], [0.8, \"#7fbc41\"], [0.9, \"#4d9221\"], [1, \"#276419\"]], \"sequential\": [[0.0, \"#0d0887\"], [0.1111111111111111, \"#46039f\"], [0.2222222222222222, \"#7201a8\"], [0.3333333333333333, \"#9c179e\"], [0.4444444444444444, \"#bd3786\"], [0.5555555555555556, \"#d8576b\"], [0.6666666666666666, \"#ed7953\"], [0.7777777777777778, \"#fb9f3a\"], [0.8888888888888888, \"#fdca26\"], [1.0, \"#f0f921\"]], \"sequentialminus\": [[0.0, \"#0d0887\"], [0.1111111111111111, \"#46039f\"], [0.2222222222222222, \"#7201a8\"], [0.3333333333333333, \"#9c179e\"], [0.4444444444444444, \"#bd3786\"], [0.5555555555555556, \"#d8576b\"], [0.6666666666666666, \"#ed7953\"], [0.7777777777777778, \"#fb9f3a\"], [0.8888888888888888, \"#fdca26\"], [1.0, \"#f0f921\"]]}, \"colorway\": [\"#636efa\", \"#EF553B\", \"#00cc96\", \"#ab63fa\", \"#FFA15A\", \"#19d3f3\", \"#FF6692\", \"#B6E880\", \"#FF97FF\", \"#FECB52\"], \"font\": {\"color\": \"#2a3f5f\"}, \"geo\": {\"bgcolor\": \"white\", \"lakecolor\": \"white\", \"landcolor\": \"#E5ECF6\", \"showlakes\": true, \"showland\": true, \"subunitcolor\": \"white\"}, \"hoverlabel\": {\"align\": \"left\"}, \"hovermode\": \"closest\", \"mapbox\": {\"style\": \"light\"}, \"paper_bgcolor\": \"white\", \"plot_bgcolor\": \"#E5ECF6\", \"polar\": {\"angularaxis\": {\"gridcolor\": \"white\", \"linecolor\": \"white\", \"ticks\": \"\"}, \"bgcolor\": \"#E5ECF6\", \"radialaxis\": {\"gridcolor\": \"white\", \"linecolor\": \"white\", \"ticks\": \"\"}}, \"scene\": {\"xaxis\": {\"backgroundcolor\": \"#E5ECF6\", \"gridcolor\": \"white\", \"gridwidth\": 2, \"linecolor\": \"white\", \"showbackground\": true, \"ticks\": \"\", \"zerolinecolor\": \"white\"}, \"yaxis\": {\"backgroundcolor\": \"#E5ECF6\", \"gridcolor\": \"white\", \"gridwidth\": 2, \"linecolor\": \"white\", \"showbackground\": true, \"ticks\": \"\", \"zerolinecolor\": \"white\"}, \"zaxis\": {\"backgroundcolor\": \"#E5ECF6\", \"gridcolor\": \"white\", \"gridwidth\": 2, \"linecolor\": \"white\", \"showbackground\": true, \"ticks\": \"\", \"zerolinecolor\": \"white\"}}, \"shapedefaults\": {\"line\": {\"color\": \"#2a3f5f\"}}, \"ternary\": {\"aaxis\": {\"gridcolor\": \"white\", \"linecolor\": \"white\", \"ticks\": \"\"}, \"baxis\": {\"gridcolor\": \"white\", \"linecolor\": \"white\", \"ticks\": \"\"}, \"bgcolor\": \"#E5ECF6\", \"caxis\": {\"gridcolor\": \"white\", \"linecolor\": \"white\", \"ticks\": \"\"}}, \"title\": {\"x\": 0.05}, \"xaxis\": {\"automargin\": true, \"gridcolor\": \"white\", \"linecolor\": \"white\", \"ticks\": \"\", \"title\": {\"standoff\": 15}, \"zerolinecolor\": \"white\", \"zerolinewidth\": 2}, \"yaxis\": {\"automargin\": true, \"gridcolor\": \"white\", \"linecolor\": \"white\", \"ticks\": \"\", \"title\": {\"standoff\": 15}, \"zerolinecolor\": \"white\", \"zerolinewidth\": 2}}}, \"title\": {\"text\": \"Correlation with Crime Rate\"}, \"width\": 850, \"xaxis\": {\"anchor\": \"y\", \"domain\": [0.0, 1.0], \"title\": {\"text\": \"CRIM\"}}, \"yaxis\": {\"anchor\": \"x\", \"categoryarray\": [\"RAD\", \"TAX\", \"NOX\", \"INDUS\", \"AGE\", \"PTRATIO\", \"room_na\", \"CHAS\", \"ZN\", \"RM\", \"DIS\", \"MEDV\"], \"categoryorder\": \"array\", \"domain\": [0.0, 1.0], \"title\": {\"text\": \"index\"}}},                        {\"responsive\": true}                    ).then(function(){\n",
              "                            \n",
              "var gd = document.getElementById('5f504cc3-3a17-4322-9263-18e8ac34beef');\n",
              "var x = new MutationObserver(function (mutations, observer) {{\n",
              "        var display = window.getComputedStyle(gd).display;\n",
              "        if (!display || display === 'none') {{\n",
              "            console.log([gd, 'removed!']);\n",
              "            Plotly.purge(gd);\n",
              "            observer.disconnect();\n",
              "        }}\n",
              "}});\n",
              "\n",
              "// Listen for the removal of the full notebook cells\n",
              "var notebookContainer = gd.closest('#notebook-container');\n",
              "if (notebookContainer) {{\n",
              "    x.observe(notebookContainer, {childList: true});\n",
              "}}\n",
              "\n",
              "// Listen for the clearing of the current output cell\n",
              "var outputEl = gd.closest('.output');\n",
              "if (outputEl) {{\n",
              "    x.observe(outputEl, {childList: true});\n",
              "}}\n",
              "\n",
              "                        })                };                            </script>        </div>\n",
              "</body>\n",
              "</html>"
            ]
          },
          "metadata": {
            "tags": []
          }
        }
      ]
    },
    {
      "cell_type": "markdown",
      "metadata": {
        "id": "vlhKJOIxrq76"
      },
      "source": [
        "Hypothesis: is metropolitan area a dangerous place?\n",
        "\n"
      ]
    },
    {
      "cell_type": "code",
      "metadata": {
        "colab": {
          "base_uri": "https://localhost:8080/",
          "height": 156
        },
        "id": "AjTvaq1SUhs4",
        "outputId": "c4558d5c-2f0f-4554-9575-bc1aeec8990f"
      },
      "source": [
        "data['is_metropolitan'] = data.ZN.apply(lambda x: 1 if x ==0 else 0)\n",
        "data.groupby('is_metropolitan').mean()"
      ],
      "execution_count": 16,
      "outputs": [
        {
          "output_type": "execute_result",
          "data": {
            "text/html": [
              "<div>\n",
              "<style scoped>\n",
              "    .dataframe tbody tr th:only-of-type {\n",
              "        vertical-align: middle;\n",
              "    }\n",
              "\n",
              "    .dataframe tbody tr th {\n",
              "        vertical-align: top;\n",
              "    }\n",
              "\n",
              "    .dataframe thead th {\n",
              "        text-align: right;\n",
              "    }\n",
              "</style>\n",
              "<table border=\"1\" class=\"dataframe\">\n",
              "  <thead>\n",
              "    <tr style=\"text-align: right;\">\n",
              "      <th></th>\n",
              "      <th>CRIM</th>\n",
              "      <th>ZN</th>\n",
              "      <th>INDUS</th>\n",
              "      <th>CHAS</th>\n",
              "      <th>NOX</th>\n",
              "      <th>RM</th>\n",
              "      <th>AGE</th>\n",
              "      <th>DIS</th>\n",
              "      <th>RAD</th>\n",
              "      <th>TAX</th>\n",
              "      <th>PTRATIO</th>\n",
              "      <th>MEDV</th>\n",
              "      <th>room_na</th>\n",
              "    </tr>\n",
              "    <tr>\n",
              "      <th>is_metropolitan</th>\n",
              "      <th></th>\n",
              "      <th></th>\n",
              "      <th></th>\n",
              "      <th></th>\n",
              "      <th></th>\n",
              "      <th></th>\n",
              "      <th></th>\n",
              "      <th></th>\n",
              "      <th></th>\n",
              "      <th></th>\n",
              "      <th></th>\n",
              "      <th></th>\n",
              "      <th></th>\n",
              "    </tr>\n",
              "  </thead>\n",
              "  <tbody>\n",
              "    <tr>\n",
              "      <th>0</th>\n",
              "      <td>0.129597</td>\n",
              "      <td>42.910448</td>\n",
              "      <td>4.458955</td>\n",
              "      <td>0.052239</td>\n",
              "      <td>0.453057</td>\n",
              "      <td>6.665598</td>\n",
              "      <td>43.196269</td>\n",
              "      <td>6.129492</td>\n",
              "      <td>4.477612</td>\n",
              "      <td>294.567164</td>\n",
              "      <td>16.783582</td>\n",
              "      <td>28.250000</td>\n",
              "      <td>0.014925</td>\n",
              "    </tr>\n",
              "    <tr>\n",
              "      <th>1</th>\n",
              "      <td>4.812013</td>\n",
              "      <td>0.000000</td>\n",
              "      <td>13.529735</td>\n",
              "      <td>0.074271</td>\n",
              "      <td>0.590905</td>\n",
              "      <td>6.154174</td>\n",
              "      <td>77.651459</td>\n",
              "      <td>2.950156</td>\n",
              "      <td>11.265252</td>\n",
              "      <td>447.559682</td>\n",
              "      <td>19.110080</td>\n",
              "      <td>20.703183</td>\n",
              "      <td>0.007958</td>\n",
              "    </tr>\n",
              "  </tbody>\n",
              "</table>\n",
              "</div>"
            ],
            "text/plain": [
              "                     CRIM         ZN      INDUS  ...    PTRATIO       MEDV   room_na\n",
              "is_metropolitan                                  ...                                \n",
              "0                0.129597  42.910448   4.458955  ...  16.783582  28.250000  0.014925\n",
              "1                4.812013   0.000000  13.529735  ...  19.110080  20.703183  0.007958\n",
              "\n",
              "[2 rows x 13 columns]"
            ]
          },
          "metadata": {
            "tags": []
          },
          "execution_count": 16
        }
      ]
    },
    {
      "cell_type": "code",
      "metadata": {
        "colab": {
          "base_uri": "https://localhost:8080/",
          "height": 542
        },
        "id": "54ivNR1qh9r5",
        "outputId": "3824d730-8e9f-43d7-a64f-a7d418def2e9"
      },
      "source": [
        "fig = px.bar(data_frame = data.groupby('indus_class').CRIM.mean().reset_index(), x = 'indus_class', y = 'CRIM', color = 'indus_class')\n",
        "fig.update_layout(\n",
        "    title = 'Crime Rate by different level of business buildings',\n",
        "    width = 550\n",
        ")"
      ],
      "execution_count": 17,
      "outputs": [
        {
          "output_type": "display_data",
          "data": {
            "text/html": [
              "<html>\n",
              "<head><meta charset=\"utf-8\" /></head>\n",
              "<body>\n",
              "    <div>            <script src=\"https://cdnjs.cloudflare.com/ajax/libs/mathjax/2.7.5/MathJax.js?config=TeX-AMS-MML_SVG\"></script><script type=\"text/javascript\">if (window.MathJax) {MathJax.Hub.Config({SVG: {font: \"STIX-Web\"}});}</script>                <script type=\"text/javascript\">window.PlotlyConfig = {MathJaxConfig: 'local'};</script>\n",
              "        <script src=\"https://cdn.plot.ly/plotly-latest.min.js\"></script>                <div id=\"8b16a9d6-be1c-4c52-89e7-3d4991719194\" class=\"plotly-graph-div\" style=\"height:525px; width:550px;\"></div>            <script type=\"text/javascript\">                                    window.PLOTLYENV=window.PLOTLYENV || {};                                    if (document.getElementById(\"8b16a9d6-be1c-4c52-89e7-3d4991719194\")) {                    Plotly.newPlot(                        \"8b16a9d6-be1c-4c52-89e7-3d4991719194\",                        [{\"alignmentgroup\": \"True\", \"hovertemplate\": \"indus_class=%{x}<br>CRIM=%{y}<extra></extra>\", \"legendgroup\": \"1\", \"marker\": {\"color\": \"#636efa\"}, \"name\": \"1\", \"offsetgroup\": \"1\", \"orientation\": \"v\", \"showlegend\": true, \"textposition\": \"auto\", \"type\": \"bar\", \"x\": [1], \"xaxis\": \"x\", \"y\": [0.10958820895522389], \"yaxis\": \"y\"}, {\"alignmentgroup\": \"True\", \"hovertemplate\": \"indus_class=%{x}<br>CRIM=%{y}<extra></extra>\", \"legendgroup\": \"2\", \"marker\": {\"color\": \"#EF553B\"}, \"name\": \"2\", \"offsetgroup\": \"2\", \"orientation\": \"v\", \"showlegend\": true, \"textposition\": \"auto\", \"type\": \"bar\", \"x\": [2], \"xaxis\": \"x\", \"y\": [0.3423757500000002], \"yaxis\": \"y\"}, {\"alignmentgroup\": \"True\", \"hovertemplate\": \"indus_class=%{x}<br>CRIM=%{y}<extra></extra>\", \"legendgroup\": \"3\", \"marker\": {\"color\": \"#00cc96\"}, \"name\": \"3\", \"offsetgroup\": \"3\", \"orientation\": \"v\", \"showlegend\": true, \"textposition\": \"auto\", \"type\": \"bar\", \"x\": [3], \"xaxis\": \"x\", \"y\": [8.675493826530618], \"yaxis\": \"y\"}, {\"alignmentgroup\": \"True\", \"hovertemplate\": \"indus_class=%{x}<br>CRIM=%{y}<extra></extra>\", \"legendgroup\": \"4\", \"marker\": {\"color\": \"#ab63fa\"}, \"name\": \"4\", \"offsetgroup\": \"4\", \"orientation\": \"v\", \"showlegend\": true, \"textposition\": \"auto\", \"type\": \"bar\", \"x\": [4], \"xaxis\": \"x\", \"y\": [1.2975194736842102], \"yaxis\": \"y\"}],                        {\"barmode\": \"relative\", \"legend\": {\"title\": {\"text\": \"indus_class\"}, \"tracegroupgap\": 0}, \"margin\": {\"t\": 60}, \"template\": {\"data\": {\"bar\": [{\"error_x\": {\"color\": \"#2a3f5f\"}, \"error_y\": {\"color\": \"#2a3f5f\"}, \"marker\": {\"line\": {\"color\": \"#E5ECF6\", \"width\": 0.5}}, \"type\": \"bar\"}], \"barpolar\": [{\"marker\": {\"line\": {\"color\": \"#E5ECF6\", \"width\": 0.5}}, \"type\": \"barpolar\"}], \"carpet\": [{\"aaxis\": {\"endlinecolor\": \"#2a3f5f\", \"gridcolor\": \"white\", \"linecolor\": \"white\", \"minorgridcolor\": \"white\", \"startlinecolor\": \"#2a3f5f\"}, \"baxis\": {\"endlinecolor\": \"#2a3f5f\", \"gridcolor\": \"white\", \"linecolor\": \"white\", \"minorgridcolor\": \"white\", \"startlinecolor\": \"#2a3f5f\"}, \"type\": \"carpet\"}], \"choropleth\": [{\"colorbar\": {\"outlinewidth\": 0, \"ticks\": \"\"}, \"type\": \"choropleth\"}], \"contour\": [{\"colorbar\": {\"outlinewidth\": 0, \"ticks\": \"\"}, \"colorscale\": [[0.0, \"#0d0887\"], [0.1111111111111111, \"#46039f\"], [0.2222222222222222, \"#7201a8\"], [0.3333333333333333, \"#9c179e\"], [0.4444444444444444, \"#bd3786\"], [0.5555555555555556, \"#d8576b\"], [0.6666666666666666, \"#ed7953\"], [0.7777777777777778, \"#fb9f3a\"], [0.8888888888888888, \"#fdca26\"], [1.0, \"#f0f921\"]], \"type\": \"contour\"}], \"contourcarpet\": [{\"colorbar\": {\"outlinewidth\": 0, \"ticks\": \"\"}, \"type\": \"contourcarpet\"}], \"heatmap\": [{\"colorbar\": {\"outlinewidth\": 0, \"ticks\": \"\"}, \"colorscale\": [[0.0, \"#0d0887\"], [0.1111111111111111, \"#46039f\"], [0.2222222222222222, \"#7201a8\"], [0.3333333333333333, \"#9c179e\"], [0.4444444444444444, \"#bd3786\"], [0.5555555555555556, \"#d8576b\"], [0.6666666666666666, \"#ed7953\"], [0.7777777777777778, \"#fb9f3a\"], [0.8888888888888888, \"#fdca26\"], [1.0, \"#f0f921\"]], \"type\": \"heatmap\"}], \"heatmapgl\": [{\"colorbar\": {\"outlinewidth\": 0, \"ticks\": \"\"}, \"colorscale\": [[0.0, \"#0d0887\"], [0.1111111111111111, \"#46039f\"], [0.2222222222222222, \"#7201a8\"], [0.3333333333333333, \"#9c179e\"], [0.4444444444444444, \"#bd3786\"], [0.5555555555555556, \"#d8576b\"], [0.6666666666666666, \"#ed7953\"], [0.7777777777777778, \"#fb9f3a\"], [0.8888888888888888, \"#fdca26\"], [1.0, \"#f0f921\"]], \"type\": \"heatmapgl\"}], \"histogram\": [{\"marker\": {\"colorbar\": {\"outlinewidth\": 0, \"ticks\": \"\"}}, \"type\": \"histogram\"}], \"histogram2d\": [{\"colorbar\": {\"outlinewidth\": 0, \"ticks\": \"\"}, \"colorscale\": [[0.0, \"#0d0887\"], [0.1111111111111111, \"#46039f\"], [0.2222222222222222, \"#7201a8\"], [0.3333333333333333, \"#9c179e\"], [0.4444444444444444, \"#bd3786\"], [0.5555555555555556, \"#d8576b\"], [0.6666666666666666, \"#ed7953\"], [0.7777777777777778, \"#fb9f3a\"], [0.8888888888888888, \"#fdca26\"], [1.0, \"#f0f921\"]], \"type\": \"histogram2d\"}], \"histogram2dcontour\": [{\"colorbar\": {\"outlinewidth\": 0, \"ticks\": \"\"}, \"colorscale\": [[0.0, \"#0d0887\"], [0.1111111111111111, \"#46039f\"], [0.2222222222222222, \"#7201a8\"], [0.3333333333333333, \"#9c179e\"], [0.4444444444444444, \"#bd3786\"], [0.5555555555555556, \"#d8576b\"], [0.6666666666666666, \"#ed7953\"], [0.7777777777777778, \"#fb9f3a\"], [0.8888888888888888, \"#fdca26\"], [1.0, \"#f0f921\"]], \"type\": \"histogram2dcontour\"}], \"mesh3d\": [{\"colorbar\": {\"outlinewidth\": 0, \"ticks\": \"\"}, \"type\": \"mesh3d\"}], \"parcoords\": [{\"line\": {\"colorbar\": {\"outlinewidth\": 0, \"ticks\": \"\"}}, \"type\": \"parcoords\"}], \"pie\": [{\"automargin\": true, \"type\": \"pie\"}], \"scatter\": [{\"marker\": {\"colorbar\": {\"outlinewidth\": 0, \"ticks\": \"\"}}, \"type\": \"scatter\"}], \"scatter3d\": [{\"line\": {\"colorbar\": {\"outlinewidth\": 0, \"ticks\": \"\"}}, \"marker\": {\"colorbar\": {\"outlinewidth\": 0, \"ticks\": \"\"}}, \"type\": \"scatter3d\"}], \"scattercarpet\": [{\"marker\": {\"colorbar\": {\"outlinewidth\": 0, \"ticks\": \"\"}}, \"type\": \"scattercarpet\"}], \"scattergeo\": [{\"marker\": {\"colorbar\": {\"outlinewidth\": 0, \"ticks\": \"\"}}, \"type\": \"scattergeo\"}], \"scattergl\": [{\"marker\": {\"colorbar\": {\"outlinewidth\": 0, \"ticks\": \"\"}}, \"type\": \"scattergl\"}], \"scattermapbox\": [{\"marker\": {\"colorbar\": {\"outlinewidth\": 0, \"ticks\": \"\"}}, \"type\": \"scattermapbox\"}], \"scatterpolar\": [{\"marker\": {\"colorbar\": {\"outlinewidth\": 0, \"ticks\": \"\"}}, \"type\": \"scatterpolar\"}], \"scatterpolargl\": [{\"marker\": {\"colorbar\": {\"outlinewidth\": 0, \"ticks\": \"\"}}, \"type\": \"scatterpolargl\"}], \"scatterternary\": [{\"marker\": {\"colorbar\": {\"outlinewidth\": 0, \"ticks\": \"\"}}, \"type\": \"scatterternary\"}], \"surface\": [{\"colorbar\": {\"outlinewidth\": 0, \"ticks\": \"\"}, \"colorscale\": [[0.0, \"#0d0887\"], [0.1111111111111111, \"#46039f\"], [0.2222222222222222, \"#7201a8\"], [0.3333333333333333, \"#9c179e\"], [0.4444444444444444, \"#bd3786\"], [0.5555555555555556, \"#d8576b\"], [0.6666666666666666, \"#ed7953\"], [0.7777777777777778, \"#fb9f3a\"], [0.8888888888888888, \"#fdca26\"], [1.0, \"#f0f921\"]], \"type\": \"surface\"}], \"table\": [{\"cells\": {\"fill\": {\"color\": \"#EBF0F8\"}, \"line\": {\"color\": \"white\"}}, \"header\": {\"fill\": {\"color\": \"#C8D4E3\"}, \"line\": {\"color\": \"white\"}}, \"type\": \"table\"}]}, \"layout\": {\"annotationdefaults\": {\"arrowcolor\": \"#2a3f5f\", \"arrowhead\": 0, \"arrowwidth\": 1}, \"coloraxis\": {\"colorbar\": {\"outlinewidth\": 0, \"ticks\": \"\"}}, \"colorscale\": {\"diverging\": [[0, \"#8e0152\"], [0.1, \"#c51b7d\"], [0.2, \"#de77ae\"], [0.3, \"#f1b6da\"], [0.4, \"#fde0ef\"], [0.5, \"#f7f7f7\"], [0.6, \"#e6f5d0\"], [0.7, \"#b8e186\"], [0.8, \"#7fbc41\"], [0.9, \"#4d9221\"], [1, \"#276419\"]], \"sequential\": [[0.0, \"#0d0887\"], [0.1111111111111111, \"#46039f\"], [0.2222222222222222, \"#7201a8\"], [0.3333333333333333, \"#9c179e\"], [0.4444444444444444, \"#bd3786\"], [0.5555555555555556, \"#d8576b\"], [0.6666666666666666, \"#ed7953\"], [0.7777777777777778, \"#fb9f3a\"], [0.8888888888888888, \"#fdca26\"], [1.0, \"#f0f921\"]], \"sequentialminus\": [[0.0, \"#0d0887\"], [0.1111111111111111, \"#46039f\"], [0.2222222222222222, \"#7201a8\"], [0.3333333333333333, \"#9c179e\"], [0.4444444444444444, \"#bd3786\"], [0.5555555555555556, \"#d8576b\"], [0.6666666666666666, \"#ed7953\"], [0.7777777777777778, \"#fb9f3a\"], [0.8888888888888888, \"#fdca26\"], [1.0, \"#f0f921\"]]}, \"colorway\": [\"#636efa\", \"#EF553B\", \"#00cc96\", \"#ab63fa\", \"#FFA15A\", \"#19d3f3\", \"#FF6692\", \"#B6E880\", \"#FF97FF\", \"#FECB52\"], \"font\": {\"color\": \"#2a3f5f\"}, \"geo\": {\"bgcolor\": \"white\", \"lakecolor\": \"white\", \"landcolor\": \"#E5ECF6\", \"showlakes\": true, \"showland\": true, \"subunitcolor\": \"white\"}, \"hoverlabel\": {\"align\": \"left\"}, \"hovermode\": \"closest\", \"mapbox\": {\"style\": \"light\"}, \"paper_bgcolor\": \"white\", \"plot_bgcolor\": \"#E5ECF6\", \"polar\": {\"angularaxis\": {\"gridcolor\": \"white\", \"linecolor\": \"white\", \"ticks\": \"\"}, \"bgcolor\": \"#E5ECF6\", \"radialaxis\": {\"gridcolor\": \"white\", \"linecolor\": \"white\", \"ticks\": \"\"}}, \"scene\": {\"xaxis\": {\"backgroundcolor\": \"#E5ECF6\", \"gridcolor\": \"white\", \"gridwidth\": 2, \"linecolor\": \"white\", \"showbackground\": true, \"ticks\": \"\", \"zerolinecolor\": \"white\"}, \"yaxis\": {\"backgroundcolor\": \"#E5ECF6\", \"gridcolor\": \"white\", \"gridwidth\": 2, \"linecolor\": \"white\", \"showbackground\": true, \"ticks\": \"\", \"zerolinecolor\": \"white\"}, \"zaxis\": {\"backgroundcolor\": \"#E5ECF6\", \"gridcolor\": \"white\", \"gridwidth\": 2, \"linecolor\": \"white\", \"showbackground\": true, \"ticks\": \"\", \"zerolinecolor\": \"white\"}}, \"shapedefaults\": {\"line\": {\"color\": \"#2a3f5f\"}}, \"ternary\": {\"aaxis\": {\"gridcolor\": \"white\", \"linecolor\": \"white\", \"ticks\": \"\"}, \"baxis\": {\"gridcolor\": \"white\", \"linecolor\": \"white\", \"ticks\": \"\"}, \"bgcolor\": \"#E5ECF6\", \"caxis\": {\"gridcolor\": \"white\", \"linecolor\": \"white\", \"ticks\": \"\"}}, \"title\": {\"x\": 0.05}, \"xaxis\": {\"automargin\": true, \"gridcolor\": \"white\", \"linecolor\": \"white\", \"ticks\": \"\", \"title\": {\"standoff\": 15}, \"zerolinecolor\": \"white\", \"zerolinewidth\": 2}, \"yaxis\": {\"automargin\": true, \"gridcolor\": \"white\", \"linecolor\": \"white\", \"ticks\": \"\", \"title\": {\"standoff\": 15}, \"zerolinecolor\": \"white\", \"zerolinewidth\": 2}}}, \"title\": {\"text\": \"Crime Rate by different level of business buildings\"}, \"width\": 550, \"xaxis\": {\"anchor\": \"y\", \"categoryarray\": [1, 2, 3, 4], \"categoryorder\": \"array\", \"domain\": [0.0, 1.0], \"title\": {\"text\": \"indus_class\"}}, \"yaxis\": {\"anchor\": \"x\", \"domain\": [0.0, 1.0], \"title\": {\"text\": \"CRIM\"}}},                        {\"responsive\": true}                    ).then(function(){\n",
              "                            \n",
              "var gd = document.getElementById('8b16a9d6-be1c-4c52-89e7-3d4991719194');\n",
              "var x = new MutationObserver(function (mutations, observer) {{\n",
              "        var display = window.getComputedStyle(gd).display;\n",
              "        if (!display || display === 'none') {{\n",
              "            console.log([gd, 'removed!']);\n",
              "            Plotly.purge(gd);\n",
              "            observer.disconnect();\n",
              "        }}\n",
              "}});\n",
              "\n",
              "// Listen for the removal of the full notebook cells\n",
              "var notebookContainer = gd.closest('#notebook-container');\n",
              "if (notebookContainer) {{\n",
              "    x.observe(notebookContainer, {childList: true});\n",
              "}}\n",
              "\n",
              "// Listen for the clearing of the current output cell\n",
              "var outputEl = gd.closest('.output');\n",
              "if (outputEl) {{\n",
              "    x.observe(outputEl, {childList: true});\n",
              "}}\n",
              "\n",
              "                        })                };                            </script>        </div>\n",
              "</body>\n",
              "</html>"
            ]
          },
          "metadata": {
            "tags": []
          }
        }
      ]
    },
    {
      "cell_type": "code",
      "metadata": {
        "colab": {
          "base_uri": "https://localhost:8080/",
          "height": 542
        },
        "id": "nYBCPCtLlesR",
        "outputId": "21fc8375-2343-4ad8-aace-4ae866c9ebd9"
      },
      "source": [
        "\n",
        "fig = px.bar(data_frame = data.groupby('zn_class').CRIM.mean().reset_index(), x = 'zn_class', y = 'CRIM', color = 'zn_class')\n",
        "fig.update_layout(\n",
        "    title = 'Crime Rate by different level of residential buildings',\n",
        "    width = 550\n",
        ")"
      ],
      "execution_count": 18,
      "outputs": [
        {
          "output_type": "display_data",
          "data": {
            "text/html": [
              "<html>\n",
              "<head><meta charset=\"utf-8\" /></head>\n",
              "<body>\n",
              "    <div>            <script src=\"https://cdnjs.cloudflare.com/ajax/libs/mathjax/2.7.5/MathJax.js?config=TeX-AMS-MML_SVG\"></script><script type=\"text/javascript\">if (window.MathJax) {MathJax.Hub.Config({SVG: {font: \"STIX-Web\"}});}</script>                <script type=\"text/javascript\">window.PlotlyConfig = {MathJaxConfig: 'local'};</script>\n",
              "        <script src=\"https://cdn.plot.ly/plotly-latest.min.js\"></script>                <div id=\"2ff77a2c-3c14-4332-a937-ed953d2ddc89\" class=\"plotly-graph-div\" style=\"height:525px; width:550px;\"></div>            <script type=\"text/javascript\">                                    window.PLOTLYENV=window.PLOTLYENV || {};                                    if (document.getElementById(\"2ff77a2c-3c14-4332-a937-ed953d2ddc89\")) {                    Plotly.newPlot(                        \"2ff77a2c-3c14-4332-a937-ed953d2ddc89\",                        [{\"alignmentgroup\": \"True\", \"hovertemplate\": \"zn_class=%{x}<br>CRIM=%{y}<extra></extra>\", \"legendgroup\": \"1\", \"marker\": {\"color\": \"#636efa\"}, \"name\": \"1\", \"offsetgroup\": \"1\", \"orientation\": \"v\", \"showlegend\": true, \"textposition\": \"auto\", \"type\": \"bar\", \"x\": [\"1\"], \"xaxis\": \"x\", \"y\": [4.211129868663597], \"yaxis\": \"y\"}, {\"alignmentgroup\": \"True\", \"hovertemplate\": \"zn_class=%{x}<br>CRIM=%{y}<extra></extra>\", \"legendgroup\": \"2\", \"marker\": {\"color\": \"#EF553B\"}, \"name\": \"2\", \"offsetgroup\": \"2\", \"orientation\": \"v\", \"showlegend\": true, \"textposition\": \"auto\", \"type\": \"bar\", \"x\": [\"2\"], \"xaxis\": \"x\", \"y\": [0.0725865625], \"yaxis\": \"y\"}, {\"alignmentgroup\": \"True\", \"hovertemplate\": \"zn_class=%{x}<br>CRIM=%{y}<extra></extra>\", \"legendgroup\": \"3\", \"marker\": {\"color\": \"#00cc96\"}, \"name\": \"3\", \"offsetgroup\": \"3\", \"orientation\": \"v\", \"showlegend\": true, \"textposition\": \"auto\", \"type\": \"bar\", \"x\": [\"3\"], \"xaxis\": \"x\", \"y\": [0.03887], \"yaxis\": \"y\"}, {\"alignmentgroup\": \"True\", \"hovertemplate\": \"zn_class=%{x}<br>CRIM=%{y}<extra></extra>\", \"legendgroup\": \"4\", \"marker\": {\"color\": \"#ab63fa\"}, \"name\": \"4\", \"offsetgroup\": \"4\", \"orientation\": \"v\", \"showlegend\": true, \"textposition\": \"auto\", \"type\": \"bar\", \"x\": [\"4\"], \"xaxis\": \"x\", \"y\": [0.03171586206896552], \"yaxis\": \"y\"}],                        {\"barmode\": \"relative\", \"legend\": {\"title\": {\"text\": \"zn_class\"}, \"tracegroupgap\": 0}, \"margin\": {\"t\": 60}, \"template\": {\"data\": {\"bar\": [{\"error_x\": {\"color\": \"#2a3f5f\"}, \"error_y\": {\"color\": \"#2a3f5f\"}, \"marker\": {\"line\": {\"color\": \"#E5ECF6\", \"width\": 0.5}}, \"type\": \"bar\"}], \"barpolar\": [{\"marker\": {\"line\": {\"color\": \"#E5ECF6\", \"width\": 0.5}}, \"type\": \"barpolar\"}], \"carpet\": [{\"aaxis\": {\"endlinecolor\": \"#2a3f5f\", \"gridcolor\": \"white\", \"linecolor\": \"white\", \"minorgridcolor\": \"white\", \"startlinecolor\": \"#2a3f5f\"}, \"baxis\": {\"endlinecolor\": \"#2a3f5f\", \"gridcolor\": \"white\", \"linecolor\": \"white\", \"minorgridcolor\": \"white\", \"startlinecolor\": \"#2a3f5f\"}, \"type\": \"carpet\"}], \"choropleth\": [{\"colorbar\": {\"outlinewidth\": 0, \"ticks\": \"\"}, \"type\": \"choropleth\"}], \"contour\": [{\"colorbar\": {\"outlinewidth\": 0, \"ticks\": \"\"}, \"colorscale\": [[0.0, \"#0d0887\"], [0.1111111111111111, \"#46039f\"], [0.2222222222222222, \"#7201a8\"], [0.3333333333333333, \"#9c179e\"], [0.4444444444444444, \"#bd3786\"], [0.5555555555555556, \"#d8576b\"], [0.6666666666666666, \"#ed7953\"], [0.7777777777777778, \"#fb9f3a\"], [0.8888888888888888, \"#fdca26\"], [1.0, \"#f0f921\"]], \"type\": \"contour\"}], \"contourcarpet\": [{\"colorbar\": {\"outlinewidth\": 0, \"ticks\": \"\"}, \"type\": \"contourcarpet\"}], \"heatmap\": [{\"colorbar\": {\"outlinewidth\": 0, \"ticks\": \"\"}, \"colorscale\": [[0.0, \"#0d0887\"], [0.1111111111111111, \"#46039f\"], [0.2222222222222222, \"#7201a8\"], [0.3333333333333333, \"#9c179e\"], [0.4444444444444444, \"#bd3786\"], [0.5555555555555556, \"#d8576b\"], [0.6666666666666666, \"#ed7953\"], [0.7777777777777778, \"#fb9f3a\"], [0.8888888888888888, \"#fdca26\"], [1.0, \"#f0f921\"]], \"type\": \"heatmap\"}], \"heatmapgl\": [{\"colorbar\": {\"outlinewidth\": 0, \"ticks\": \"\"}, \"colorscale\": [[0.0, \"#0d0887\"], [0.1111111111111111, \"#46039f\"], [0.2222222222222222, \"#7201a8\"], [0.3333333333333333, \"#9c179e\"], [0.4444444444444444, \"#bd3786\"], [0.5555555555555556, \"#d8576b\"], [0.6666666666666666, \"#ed7953\"], [0.7777777777777778, \"#fb9f3a\"], [0.8888888888888888, \"#fdca26\"], [1.0, \"#f0f921\"]], \"type\": \"heatmapgl\"}], \"histogram\": [{\"marker\": {\"colorbar\": {\"outlinewidth\": 0, \"ticks\": \"\"}}, \"type\": \"histogram\"}], \"histogram2d\": [{\"colorbar\": {\"outlinewidth\": 0, \"ticks\": \"\"}, \"colorscale\": [[0.0, \"#0d0887\"], [0.1111111111111111, \"#46039f\"], [0.2222222222222222, \"#7201a8\"], [0.3333333333333333, \"#9c179e\"], [0.4444444444444444, \"#bd3786\"], [0.5555555555555556, \"#d8576b\"], [0.6666666666666666, \"#ed7953\"], [0.7777777777777778, \"#fb9f3a\"], [0.8888888888888888, \"#fdca26\"], [1.0, \"#f0f921\"]], \"type\": \"histogram2d\"}], \"histogram2dcontour\": [{\"colorbar\": {\"outlinewidth\": 0, \"ticks\": \"\"}, \"colorscale\": [[0.0, \"#0d0887\"], [0.1111111111111111, \"#46039f\"], [0.2222222222222222, \"#7201a8\"], [0.3333333333333333, \"#9c179e\"], [0.4444444444444444, \"#bd3786\"], [0.5555555555555556, \"#d8576b\"], [0.6666666666666666, \"#ed7953\"], [0.7777777777777778, \"#fb9f3a\"], [0.8888888888888888, \"#fdca26\"], [1.0, \"#f0f921\"]], \"type\": \"histogram2dcontour\"}], \"mesh3d\": [{\"colorbar\": {\"outlinewidth\": 0, \"ticks\": \"\"}, \"type\": \"mesh3d\"}], \"parcoords\": [{\"line\": {\"colorbar\": {\"outlinewidth\": 0, \"ticks\": \"\"}}, \"type\": \"parcoords\"}], \"pie\": [{\"automargin\": true, \"type\": \"pie\"}], \"scatter\": [{\"marker\": {\"colorbar\": {\"outlinewidth\": 0, \"ticks\": \"\"}}, \"type\": \"scatter\"}], \"scatter3d\": [{\"line\": {\"colorbar\": {\"outlinewidth\": 0, \"ticks\": \"\"}}, \"marker\": {\"colorbar\": {\"outlinewidth\": 0, \"ticks\": \"\"}}, \"type\": \"scatter3d\"}], \"scattercarpet\": [{\"marker\": {\"colorbar\": {\"outlinewidth\": 0, \"ticks\": \"\"}}, \"type\": \"scattercarpet\"}], \"scattergeo\": [{\"marker\": {\"colorbar\": {\"outlinewidth\": 0, \"ticks\": \"\"}}, \"type\": \"scattergeo\"}], \"scattergl\": [{\"marker\": {\"colorbar\": {\"outlinewidth\": 0, \"ticks\": \"\"}}, \"type\": \"scattergl\"}], \"scattermapbox\": [{\"marker\": {\"colorbar\": {\"outlinewidth\": 0, \"ticks\": \"\"}}, \"type\": \"scattermapbox\"}], \"scatterpolar\": [{\"marker\": {\"colorbar\": {\"outlinewidth\": 0, \"ticks\": \"\"}}, \"type\": \"scatterpolar\"}], \"scatterpolargl\": [{\"marker\": {\"colorbar\": {\"outlinewidth\": 0, \"ticks\": \"\"}}, \"type\": \"scatterpolargl\"}], \"scatterternary\": [{\"marker\": {\"colorbar\": {\"outlinewidth\": 0, \"ticks\": \"\"}}, \"type\": \"scatterternary\"}], \"surface\": [{\"colorbar\": {\"outlinewidth\": 0, \"ticks\": \"\"}, \"colorscale\": [[0.0, \"#0d0887\"], [0.1111111111111111, \"#46039f\"], [0.2222222222222222, \"#7201a8\"], [0.3333333333333333, \"#9c179e\"], [0.4444444444444444, \"#bd3786\"], [0.5555555555555556, \"#d8576b\"], [0.6666666666666666, \"#ed7953\"], [0.7777777777777778, \"#fb9f3a\"], [0.8888888888888888, \"#fdca26\"], [1.0, \"#f0f921\"]], \"type\": \"surface\"}], \"table\": [{\"cells\": {\"fill\": {\"color\": \"#EBF0F8\"}, \"line\": {\"color\": \"white\"}}, \"header\": {\"fill\": {\"color\": \"#C8D4E3\"}, \"line\": {\"color\": \"white\"}}, \"type\": \"table\"}]}, \"layout\": {\"annotationdefaults\": {\"arrowcolor\": \"#2a3f5f\", \"arrowhead\": 0, \"arrowwidth\": 1}, \"coloraxis\": {\"colorbar\": {\"outlinewidth\": 0, \"ticks\": \"\"}}, \"colorscale\": {\"diverging\": [[0, \"#8e0152\"], [0.1, \"#c51b7d\"], [0.2, \"#de77ae\"], [0.3, \"#f1b6da\"], [0.4, \"#fde0ef\"], [0.5, \"#f7f7f7\"], [0.6, \"#e6f5d0\"], [0.7, \"#b8e186\"], [0.8, \"#7fbc41\"], [0.9, \"#4d9221\"], [1, \"#276419\"]], \"sequential\": [[0.0, \"#0d0887\"], [0.1111111111111111, \"#46039f\"], [0.2222222222222222, \"#7201a8\"], [0.3333333333333333, \"#9c179e\"], [0.4444444444444444, \"#bd3786\"], [0.5555555555555556, \"#d8576b\"], [0.6666666666666666, \"#ed7953\"], [0.7777777777777778, \"#fb9f3a\"], [0.8888888888888888, \"#fdca26\"], [1.0, \"#f0f921\"]], \"sequentialminus\": [[0.0, \"#0d0887\"], [0.1111111111111111, \"#46039f\"], [0.2222222222222222, \"#7201a8\"], [0.3333333333333333, \"#9c179e\"], [0.4444444444444444, \"#bd3786\"], [0.5555555555555556, \"#d8576b\"], [0.6666666666666666, \"#ed7953\"], [0.7777777777777778, \"#fb9f3a\"], [0.8888888888888888, \"#fdca26\"], [1.0, \"#f0f921\"]]}, \"colorway\": [\"#636efa\", \"#EF553B\", \"#00cc96\", \"#ab63fa\", \"#FFA15A\", \"#19d3f3\", \"#FF6692\", \"#B6E880\", \"#FF97FF\", \"#FECB52\"], \"font\": {\"color\": \"#2a3f5f\"}, \"geo\": {\"bgcolor\": \"white\", \"lakecolor\": \"white\", \"landcolor\": \"#E5ECF6\", \"showlakes\": true, \"showland\": true, \"subunitcolor\": \"white\"}, \"hoverlabel\": {\"align\": \"left\"}, \"hovermode\": \"closest\", \"mapbox\": {\"style\": \"light\"}, \"paper_bgcolor\": \"white\", \"plot_bgcolor\": \"#E5ECF6\", \"polar\": {\"angularaxis\": {\"gridcolor\": \"white\", \"linecolor\": \"white\", \"ticks\": \"\"}, \"bgcolor\": \"#E5ECF6\", \"radialaxis\": {\"gridcolor\": \"white\", \"linecolor\": \"white\", \"ticks\": \"\"}}, \"scene\": {\"xaxis\": {\"backgroundcolor\": \"#E5ECF6\", \"gridcolor\": \"white\", \"gridwidth\": 2, \"linecolor\": \"white\", \"showbackground\": true, \"ticks\": \"\", \"zerolinecolor\": \"white\"}, \"yaxis\": {\"backgroundcolor\": \"#E5ECF6\", \"gridcolor\": \"white\", \"gridwidth\": 2, \"linecolor\": \"white\", \"showbackground\": true, \"ticks\": \"\", \"zerolinecolor\": \"white\"}, \"zaxis\": {\"backgroundcolor\": \"#E5ECF6\", \"gridcolor\": \"white\", \"gridwidth\": 2, \"linecolor\": \"white\", \"showbackground\": true, \"ticks\": \"\", \"zerolinecolor\": \"white\"}}, \"shapedefaults\": {\"line\": {\"color\": \"#2a3f5f\"}}, \"ternary\": {\"aaxis\": {\"gridcolor\": \"white\", \"linecolor\": \"white\", \"ticks\": \"\"}, \"baxis\": {\"gridcolor\": \"white\", \"linecolor\": \"white\", \"ticks\": \"\"}, \"bgcolor\": \"#E5ECF6\", \"caxis\": {\"gridcolor\": \"white\", \"linecolor\": \"white\", \"ticks\": \"\"}}, \"title\": {\"x\": 0.05}, \"xaxis\": {\"automargin\": true, \"gridcolor\": \"white\", \"linecolor\": \"white\", \"ticks\": \"\", \"title\": {\"standoff\": 15}, \"zerolinecolor\": \"white\", \"zerolinewidth\": 2}, \"yaxis\": {\"automargin\": true, \"gridcolor\": \"white\", \"linecolor\": \"white\", \"ticks\": \"\", \"title\": {\"standoff\": 15}, \"zerolinecolor\": \"white\", \"zerolinewidth\": 2}}}, \"title\": {\"text\": \"Crime Rate by different level of residential buildings\"}, \"width\": 550, \"xaxis\": {\"anchor\": \"y\", \"categoryarray\": [\"1\", \"2\", \"3\", \"4\"], \"categoryorder\": \"array\", \"domain\": [0.0, 1.0], \"title\": {\"text\": \"zn_class\"}}, \"yaxis\": {\"anchor\": \"x\", \"domain\": [0.0, 1.0], \"title\": {\"text\": \"CRIM\"}}},                        {\"responsive\": true}                    ).then(function(){\n",
              "                            \n",
              "var gd = document.getElementById('2ff77a2c-3c14-4332-a937-ed953d2ddc89');\n",
              "var x = new MutationObserver(function (mutations, observer) {{\n",
              "        var display = window.getComputedStyle(gd).display;\n",
              "        if (!display || display === 'none') {{\n",
              "            console.log([gd, 'removed!']);\n",
              "            Plotly.purge(gd);\n",
              "            observer.disconnect();\n",
              "        }}\n",
              "}});\n",
              "\n",
              "// Listen for the removal of the full notebook cells\n",
              "var notebookContainer = gd.closest('#notebook-container');\n",
              "if (notebookContainer) {{\n",
              "    x.observe(notebookContainer, {childList: true});\n",
              "}}\n",
              "\n",
              "// Listen for the clearing of the current output cell\n",
              "var outputEl = gd.closest('.output');\n",
              "if (outputEl) {{\n",
              "    x.observe(outputEl, {childList: true});\n",
              "}}\n",
              "\n",
              "                        })                };                            </script>        </div>\n",
              "</body>\n",
              "</html>"
            ]
          },
          "metadata": {
            "tags": []
          }
        }
      ]
    },
    {
      "cell_type": "code",
      "metadata": {
        "colab": {
          "base_uri": "https://localhost:8080/"
        },
        "id": "vgiPvGNohC3z",
        "outputId": "0d16de4d-e300-4083-fe70-77e985223422"
      },
      "source": [
        "data['INDUS'].describe()"
      ],
      "execution_count": 19,
      "outputs": [
        {
          "output_type": "execute_result",
          "data": {
            "text/plain": [
              "count    511.000000\n",
              "mean      11.151096\n",
              "std        6.828175\n",
              "min        0.460000\n",
              "25%        5.190000\n",
              "50%        9.690000\n",
              "75%       18.100000\n",
              "max       27.740000\n",
              "Name: INDUS, dtype: float64"
            ]
          },
          "metadata": {
            "tags": []
          },
          "execution_count": 19
        }
      ]
    },
    {
      "cell_type": "markdown",
      "metadata": {
        "id": "ShOo6nahrx8q"
      },
      "source": [
        "Well, from simply splitting the different level of urbanization, we see significantly spike in crime rate, and we are almost sure this is true!"
      ]
    },
    {
      "cell_type": "code",
      "metadata": {
        "id": "9868RxXWhalQ"
      },
      "source": [
        ""
      ],
      "execution_count": 19,
      "outputs": []
    },
    {
      "cell_type": "markdown",
      "metadata": {
        "id": "PYZroYvKd7IW"
      },
      "source": [
        "The myth of boston's safe neighborhood:\n",
        "\n",
        "1. Boston metropolitan is the most dangerous place\n",
        "\n",
        "2. Old people community is a harbour for crime\n",
        "\n",
        "3. Property tax value serves as a strong indicator of the crime rate\n",
        "\n",
        "4. Crime is less of a problem for rich people\n",
        "\n"
      ]
    },
    {
      "cell_type": "markdown",
      "metadata": {
        "id": "qW-lciJXg0KY"
      },
      "source": [
        "## DIS"
      ]
    },
    {
      "cell_type": "code",
      "metadata": {
        "id": "Qqpy8ulLhJMN"
      },
      "source": [
        ""
      ],
      "execution_count": 19,
      "outputs": []
    },
    {
      "cell_type": "code",
      "metadata": {
        "colab": {
          "base_uri": "https://localhost:8080/",
          "height": 617
        },
        "id": "NeJ1ulsKgzkv",
        "outputId": "9d78e9d7-ba94-44eb-f3e9-3f18c664cc41"
      },
      "source": [
        "fig = px.bar(data_frame = data.corr().loc['DIS'].sort_values()[:-1].reset_index(), x = 'DIS', y ='index', color = 'index', orientation='h')\n",
        "fig.update_layout(\n",
        "    title = 'Correlation with Distance from city',\n",
        "    height = 600,\n",
        "    width = 850\n",
        ")"
      ],
      "execution_count": 20,
      "outputs": [
        {
          "output_type": "display_data",
          "data": {
            "text/html": [
              "<html>\n",
              "<head><meta charset=\"utf-8\" /></head>\n",
              "<body>\n",
              "    <div>            <script src=\"https://cdnjs.cloudflare.com/ajax/libs/mathjax/2.7.5/MathJax.js?config=TeX-AMS-MML_SVG\"></script><script type=\"text/javascript\">if (window.MathJax) {MathJax.Hub.Config({SVG: {font: \"STIX-Web\"}});}</script>                <script type=\"text/javascript\">window.PlotlyConfig = {MathJaxConfig: 'local'};</script>\n",
              "        <script src=\"https://cdn.plot.ly/plotly-latest.min.js\"></script>                <div id=\"fd0039c0-965b-4c77-b7bb-117fe781809d\" class=\"plotly-graph-div\" style=\"height:600px; width:850px;\"></div>            <script type=\"text/javascript\">                                    window.PLOTLYENV=window.PLOTLYENV || {};                                    if (document.getElementById(\"fd0039c0-965b-4c77-b7bb-117fe781809d\")) {                    Plotly.newPlot(                        \"fd0039c0-965b-4c77-b7bb-117fe781809d\",                        [{\"alignmentgroup\": \"True\", \"hovertemplate\": \"index=%{y}<br>DIS=%{x}<extra></extra>\", \"legendgroup\": \"NOX\", \"marker\": {\"color\": \"#636efa\"}, \"name\": \"NOX\", \"offsetgroup\": \"NOX\", \"orientation\": \"h\", \"showlegend\": true, \"textposition\": \"auto\", \"type\": \"bar\", \"x\": [-0.7683094959128088], \"xaxis\": \"x\", \"y\": [\"NOX\"], \"yaxis\": \"y\"}, {\"alignmentgroup\": \"True\", \"hovertemplate\": \"index=%{y}<br>DIS=%{x}<extra></extra>\", \"legendgroup\": \"AGE\", \"marker\": {\"color\": \"#EF553B\"}, \"name\": \"AGE\", \"offsetgroup\": \"AGE\", \"orientation\": \"h\", \"showlegend\": true, \"textposition\": \"auto\", \"type\": \"bar\", \"x\": [-0.7450966447119557], \"xaxis\": \"x\", \"y\": [\"AGE\"], \"yaxis\": \"y\"}, {\"alignmentgroup\": \"True\", \"hovertemplate\": \"index=%{y}<br>DIS=%{x}<extra></extra>\", \"legendgroup\": \"INDUS\", \"marker\": {\"color\": \"#00cc96\"}, \"name\": \"INDUS\", \"offsetgroup\": \"INDUS\", \"orientation\": \"h\", \"showlegend\": true, \"textposition\": \"auto\", \"type\": \"bar\", \"x\": [-0.7078860572223222], \"xaxis\": \"x\", \"y\": [\"INDUS\"], \"yaxis\": \"y\"}, {\"alignmentgroup\": \"True\", \"hovertemplate\": \"index=%{y}<br>DIS=%{x}<extra></extra>\", \"legendgroup\": \"is_metropolitan\", \"marker\": {\"color\": \"#ab63fa\"}, \"name\": \"is_metropolitan\", \"offsetgroup\": \"is_metropolitan\", \"orientation\": \"h\", \"showlegend\": true, \"textposition\": \"auto\", \"type\": \"bar\", \"x\": [-0.6670030457954876], \"xaxis\": \"x\", \"y\": [\"is_metropolitan\"], \"yaxis\": \"y\"}, {\"alignmentgroup\": \"True\", \"hovertemplate\": \"index=%{y}<br>DIS=%{x}<extra></extra>\", \"legendgroup\": \"TAX\", \"marker\": {\"color\": \"#FFA15A\"}, \"name\": \"TAX\", \"offsetgroup\": \"TAX\", \"orientation\": \"h\", \"showlegend\": true, \"textposition\": \"auto\", \"type\": \"bar\", \"x\": [-0.5303793286964481], \"xaxis\": \"x\", \"y\": [\"TAX\"], \"yaxis\": \"y\"}, {\"alignmentgroup\": \"True\", \"hovertemplate\": \"index=%{y}<br>DIS=%{x}<extra></extra>\", \"legendgroup\": \"RAD\", \"marker\": {\"color\": \"#19d3f3\"}, \"name\": \"RAD\", \"offsetgroup\": \"RAD\", \"orientation\": \"h\", \"showlegend\": true, \"textposition\": \"auto\", \"type\": \"bar\", \"x\": [-0.4884741561510076], \"xaxis\": \"x\", \"y\": [\"RAD\"], \"yaxis\": \"y\"}, {\"alignmentgroup\": \"True\", \"hovertemplate\": \"index=%{y}<br>DIS=%{x}<extra></extra>\", \"legendgroup\": \"CRIM\", \"marker\": {\"color\": \"#FF6692\"}, \"name\": \"CRIM\", \"offsetgroup\": \"CRIM\", \"orientation\": \"h\", \"showlegend\": true, \"textposition\": \"auto\", \"type\": \"bar\", \"x\": [-0.3770278573999549], \"xaxis\": \"x\", \"y\": [\"CRIM\"], \"yaxis\": \"y\"}, {\"alignmentgroup\": \"True\", \"hovertemplate\": \"index=%{y}<br>DIS=%{x}<extra></extra>\", \"legendgroup\": \"PTRATIO\", \"marker\": {\"color\": \"#B6E880\"}, \"name\": \"PTRATIO\", \"offsetgroup\": \"PTRATIO\", \"orientation\": \"h\", \"showlegend\": true, \"textposition\": \"auto\", \"type\": \"bar\", \"x\": [-0.23815517778550788], \"xaxis\": \"x\", \"y\": [\"PTRATIO\"], \"yaxis\": \"y\"}, {\"alignmentgroup\": \"True\", \"hovertemplate\": \"index=%{y}<br>DIS=%{x}<extra></extra>\", \"legendgroup\": \"CHAS\", \"marker\": {\"color\": \"#FF97FF\"}, \"name\": \"CHAS\", \"offsetgroup\": \"CHAS\", \"orientation\": \"h\", \"showlegend\": true, \"textposition\": \"auto\", \"type\": \"bar\", \"x\": [-0.09754106214414707], \"xaxis\": \"x\", \"y\": [\"CHAS\"], \"yaxis\": \"y\"}, {\"alignmentgroup\": \"True\", \"hovertemplate\": \"index=%{y}<br>DIS=%{x}<extra></extra>\", \"legendgroup\": \"room_na\", \"marker\": {\"color\": \"#FECB52\"}, \"name\": \"room_na\", \"offsetgroup\": \"room_na\", \"orientation\": \"h\", \"showlegend\": true, \"textposition\": \"auto\", \"type\": \"bar\", \"x\": [0.041481022786568414], \"xaxis\": \"x\", \"y\": [\"room_na\"], \"yaxis\": \"y\"}, {\"alignmentgroup\": \"True\", \"hovertemplate\": \"index=%{y}<br>DIS=%{x}<extra></extra>\", \"legendgroup\": \"RM\", \"marker\": {\"color\": \"#636efa\"}, \"name\": \"RM\", \"offsetgroup\": \"RM\", \"orientation\": \"h\", \"showlegend\": true, \"textposition\": \"auto\", \"type\": \"bar\", \"x\": [0.19985262149720165], \"xaxis\": \"x\", \"y\": [\"RM\"], \"yaxis\": \"y\"}, {\"alignmentgroup\": \"True\", \"hovertemplate\": \"index=%{y}<br>DIS=%{x}<extra></extra>\", \"legendgroup\": \"MEDV\", \"marker\": {\"color\": \"#EF553B\"}, \"name\": \"MEDV\", \"offsetgroup\": \"MEDV\", \"orientation\": \"h\", \"showlegend\": true, \"textposition\": \"auto\", \"type\": \"bar\", \"x\": [0.23346931519421407], \"xaxis\": \"x\", \"y\": [\"MEDV\"], \"yaxis\": \"y\"}, {\"alignmentgroup\": \"True\", \"hovertemplate\": \"index=%{y}<br>DIS=%{x}<extra></extra>\", \"legendgroup\": \"ZN\", \"marker\": {\"color\": \"#00cc96\"}, \"name\": \"ZN\", \"offsetgroup\": \"ZN\", \"orientation\": \"h\", \"showlegend\": true, \"textposition\": \"auto\", \"type\": \"bar\", \"x\": [0.665184652081973], \"xaxis\": \"x\", \"y\": [\"ZN\"], \"yaxis\": \"y\"}],                        {\"barmode\": \"relative\", \"height\": 600, \"legend\": {\"title\": {\"text\": \"index\"}, \"tracegroupgap\": 0}, \"margin\": {\"t\": 60}, \"template\": {\"data\": {\"bar\": [{\"error_x\": {\"color\": \"#2a3f5f\"}, \"error_y\": {\"color\": \"#2a3f5f\"}, \"marker\": {\"line\": {\"color\": \"#E5ECF6\", \"width\": 0.5}}, \"type\": \"bar\"}], \"barpolar\": [{\"marker\": {\"line\": {\"color\": \"#E5ECF6\", \"width\": 0.5}}, \"type\": \"barpolar\"}], \"carpet\": [{\"aaxis\": {\"endlinecolor\": \"#2a3f5f\", \"gridcolor\": \"white\", \"linecolor\": \"white\", \"minorgridcolor\": \"white\", \"startlinecolor\": \"#2a3f5f\"}, \"baxis\": {\"endlinecolor\": \"#2a3f5f\", \"gridcolor\": \"white\", \"linecolor\": \"white\", \"minorgridcolor\": \"white\", \"startlinecolor\": \"#2a3f5f\"}, \"type\": \"carpet\"}], \"choropleth\": [{\"colorbar\": {\"outlinewidth\": 0, \"ticks\": \"\"}, \"type\": \"choropleth\"}], \"contour\": [{\"colorbar\": {\"outlinewidth\": 0, \"ticks\": \"\"}, \"colorscale\": [[0.0, \"#0d0887\"], [0.1111111111111111, \"#46039f\"], [0.2222222222222222, \"#7201a8\"], [0.3333333333333333, \"#9c179e\"], [0.4444444444444444, \"#bd3786\"], [0.5555555555555556, \"#d8576b\"], [0.6666666666666666, \"#ed7953\"], [0.7777777777777778, \"#fb9f3a\"], [0.8888888888888888, \"#fdca26\"], [1.0, \"#f0f921\"]], \"type\": \"contour\"}], \"contourcarpet\": [{\"colorbar\": {\"outlinewidth\": 0, \"ticks\": \"\"}, \"type\": \"contourcarpet\"}], \"heatmap\": [{\"colorbar\": {\"outlinewidth\": 0, \"ticks\": \"\"}, \"colorscale\": [[0.0, \"#0d0887\"], [0.1111111111111111, \"#46039f\"], [0.2222222222222222, \"#7201a8\"], [0.3333333333333333, \"#9c179e\"], [0.4444444444444444, \"#bd3786\"], [0.5555555555555556, \"#d8576b\"], [0.6666666666666666, \"#ed7953\"], [0.7777777777777778, \"#fb9f3a\"], [0.8888888888888888, \"#fdca26\"], [1.0, \"#f0f921\"]], \"type\": \"heatmap\"}], \"heatmapgl\": [{\"colorbar\": {\"outlinewidth\": 0, \"ticks\": \"\"}, \"colorscale\": [[0.0, \"#0d0887\"], [0.1111111111111111, \"#46039f\"], [0.2222222222222222, \"#7201a8\"], [0.3333333333333333, \"#9c179e\"], [0.4444444444444444, \"#bd3786\"], [0.5555555555555556, \"#d8576b\"], [0.6666666666666666, \"#ed7953\"], [0.7777777777777778, \"#fb9f3a\"], [0.8888888888888888, \"#fdca26\"], [1.0, \"#f0f921\"]], \"type\": \"heatmapgl\"}], \"histogram\": [{\"marker\": {\"colorbar\": {\"outlinewidth\": 0, \"ticks\": \"\"}}, \"type\": \"histogram\"}], \"histogram2d\": [{\"colorbar\": {\"outlinewidth\": 0, \"ticks\": \"\"}, \"colorscale\": [[0.0, \"#0d0887\"], [0.1111111111111111, \"#46039f\"], [0.2222222222222222, \"#7201a8\"], [0.3333333333333333, \"#9c179e\"], [0.4444444444444444, \"#bd3786\"], [0.5555555555555556, \"#d8576b\"], [0.6666666666666666, \"#ed7953\"], [0.7777777777777778, \"#fb9f3a\"], [0.8888888888888888, \"#fdca26\"], [1.0, \"#f0f921\"]], \"type\": \"histogram2d\"}], \"histogram2dcontour\": [{\"colorbar\": {\"outlinewidth\": 0, \"ticks\": \"\"}, \"colorscale\": [[0.0, \"#0d0887\"], [0.1111111111111111, \"#46039f\"], [0.2222222222222222, \"#7201a8\"], [0.3333333333333333, \"#9c179e\"], [0.4444444444444444, \"#bd3786\"], [0.5555555555555556, \"#d8576b\"], [0.6666666666666666, \"#ed7953\"], [0.7777777777777778, \"#fb9f3a\"], [0.8888888888888888, \"#fdca26\"], [1.0, \"#f0f921\"]], \"type\": \"histogram2dcontour\"}], \"mesh3d\": [{\"colorbar\": {\"outlinewidth\": 0, \"ticks\": \"\"}, \"type\": \"mesh3d\"}], \"parcoords\": [{\"line\": {\"colorbar\": {\"outlinewidth\": 0, \"ticks\": \"\"}}, \"type\": \"parcoords\"}], \"pie\": [{\"automargin\": true, \"type\": \"pie\"}], \"scatter\": [{\"marker\": {\"colorbar\": {\"outlinewidth\": 0, \"ticks\": \"\"}}, \"type\": \"scatter\"}], \"scatter3d\": [{\"line\": {\"colorbar\": {\"outlinewidth\": 0, \"ticks\": \"\"}}, \"marker\": {\"colorbar\": {\"outlinewidth\": 0, \"ticks\": \"\"}}, \"type\": \"scatter3d\"}], \"scattercarpet\": [{\"marker\": {\"colorbar\": {\"outlinewidth\": 0, \"ticks\": \"\"}}, \"type\": \"scattercarpet\"}], \"scattergeo\": [{\"marker\": {\"colorbar\": {\"outlinewidth\": 0, \"ticks\": \"\"}}, \"type\": \"scattergeo\"}], \"scattergl\": [{\"marker\": {\"colorbar\": {\"outlinewidth\": 0, \"ticks\": \"\"}}, \"type\": \"scattergl\"}], \"scattermapbox\": [{\"marker\": {\"colorbar\": {\"outlinewidth\": 0, \"ticks\": \"\"}}, \"type\": \"scattermapbox\"}], \"scatterpolar\": [{\"marker\": {\"colorbar\": {\"outlinewidth\": 0, \"ticks\": \"\"}}, \"type\": \"scatterpolar\"}], \"scatterpolargl\": [{\"marker\": {\"colorbar\": {\"outlinewidth\": 0, \"ticks\": \"\"}}, \"type\": \"scatterpolargl\"}], \"scatterternary\": [{\"marker\": {\"colorbar\": {\"outlinewidth\": 0, \"ticks\": \"\"}}, \"type\": \"scatterternary\"}], \"surface\": [{\"colorbar\": {\"outlinewidth\": 0, \"ticks\": \"\"}, \"colorscale\": [[0.0, \"#0d0887\"], [0.1111111111111111, \"#46039f\"], [0.2222222222222222, \"#7201a8\"], [0.3333333333333333, \"#9c179e\"], [0.4444444444444444, \"#bd3786\"], [0.5555555555555556, \"#d8576b\"], [0.6666666666666666, \"#ed7953\"], [0.7777777777777778, \"#fb9f3a\"], [0.8888888888888888, \"#fdca26\"], [1.0, \"#f0f921\"]], \"type\": \"surface\"}], \"table\": [{\"cells\": {\"fill\": {\"color\": \"#EBF0F8\"}, \"line\": {\"color\": \"white\"}}, \"header\": {\"fill\": {\"color\": \"#C8D4E3\"}, \"line\": {\"color\": \"white\"}}, \"type\": \"table\"}]}, \"layout\": {\"annotationdefaults\": {\"arrowcolor\": \"#2a3f5f\", \"arrowhead\": 0, \"arrowwidth\": 1}, \"coloraxis\": {\"colorbar\": {\"outlinewidth\": 0, \"ticks\": \"\"}}, \"colorscale\": {\"diverging\": [[0, \"#8e0152\"], [0.1, \"#c51b7d\"], [0.2, \"#de77ae\"], [0.3, \"#f1b6da\"], [0.4, \"#fde0ef\"], [0.5, \"#f7f7f7\"], [0.6, \"#e6f5d0\"], [0.7, \"#b8e186\"], [0.8, \"#7fbc41\"], [0.9, \"#4d9221\"], [1, \"#276419\"]], \"sequential\": [[0.0, \"#0d0887\"], [0.1111111111111111, \"#46039f\"], [0.2222222222222222, \"#7201a8\"], [0.3333333333333333, \"#9c179e\"], [0.4444444444444444, \"#bd3786\"], [0.5555555555555556, \"#d8576b\"], [0.6666666666666666, \"#ed7953\"], [0.7777777777777778, \"#fb9f3a\"], [0.8888888888888888, \"#fdca26\"], [1.0, \"#f0f921\"]], \"sequentialminus\": [[0.0, \"#0d0887\"], [0.1111111111111111, \"#46039f\"], [0.2222222222222222, \"#7201a8\"], [0.3333333333333333, \"#9c179e\"], [0.4444444444444444, \"#bd3786\"], [0.5555555555555556, \"#d8576b\"], [0.6666666666666666, \"#ed7953\"], [0.7777777777777778, \"#fb9f3a\"], [0.8888888888888888, \"#fdca26\"], [1.0, \"#f0f921\"]]}, \"colorway\": [\"#636efa\", \"#EF553B\", \"#00cc96\", \"#ab63fa\", \"#FFA15A\", \"#19d3f3\", \"#FF6692\", \"#B6E880\", \"#FF97FF\", \"#FECB52\"], \"font\": {\"color\": \"#2a3f5f\"}, \"geo\": {\"bgcolor\": \"white\", \"lakecolor\": \"white\", \"landcolor\": \"#E5ECF6\", \"showlakes\": true, \"showland\": true, \"subunitcolor\": \"white\"}, \"hoverlabel\": {\"align\": \"left\"}, \"hovermode\": \"closest\", \"mapbox\": {\"style\": \"light\"}, \"paper_bgcolor\": \"white\", \"plot_bgcolor\": \"#E5ECF6\", \"polar\": {\"angularaxis\": {\"gridcolor\": \"white\", \"linecolor\": \"white\", \"ticks\": \"\"}, \"bgcolor\": \"#E5ECF6\", \"radialaxis\": {\"gridcolor\": \"white\", \"linecolor\": \"white\", \"ticks\": \"\"}}, \"scene\": {\"xaxis\": {\"backgroundcolor\": \"#E5ECF6\", \"gridcolor\": \"white\", \"gridwidth\": 2, \"linecolor\": \"white\", \"showbackground\": true, \"ticks\": \"\", \"zerolinecolor\": \"white\"}, \"yaxis\": {\"backgroundcolor\": \"#E5ECF6\", \"gridcolor\": \"white\", \"gridwidth\": 2, \"linecolor\": \"white\", \"showbackground\": true, \"ticks\": \"\", \"zerolinecolor\": \"white\"}, \"zaxis\": {\"backgroundcolor\": \"#E5ECF6\", \"gridcolor\": \"white\", \"gridwidth\": 2, \"linecolor\": \"white\", \"showbackground\": true, \"ticks\": \"\", \"zerolinecolor\": \"white\"}}, \"shapedefaults\": {\"line\": {\"color\": \"#2a3f5f\"}}, \"ternary\": {\"aaxis\": {\"gridcolor\": \"white\", \"linecolor\": \"white\", \"ticks\": \"\"}, \"baxis\": {\"gridcolor\": \"white\", \"linecolor\": \"white\", \"ticks\": \"\"}, \"bgcolor\": \"#E5ECF6\", \"caxis\": {\"gridcolor\": \"white\", \"linecolor\": \"white\", \"ticks\": \"\"}}, \"title\": {\"x\": 0.05}, \"xaxis\": {\"automargin\": true, \"gridcolor\": \"white\", \"linecolor\": \"white\", \"ticks\": \"\", \"title\": {\"standoff\": 15}, \"zerolinecolor\": \"white\", \"zerolinewidth\": 2}, \"yaxis\": {\"automargin\": true, \"gridcolor\": \"white\", \"linecolor\": \"white\", \"ticks\": \"\", \"title\": {\"standoff\": 15}, \"zerolinecolor\": \"white\", \"zerolinewidth\": 2}}}, \"title\": {\"text\": \"Correlation with Distance from city\"}, \"width\": 850, \"xaxis\": {\"anchor\": \"y\", \"domain\": [0.0, 1.0], \"title\": {\"text\": \"DIS\"}}, \"yaxis\": {\"anchor\": \"x\", \"categoryarray\": [\"ZN\", \"MEDV\", \"RM\", \"room_na\", \"CHAS\", \"PTRATIO\", \"CRIM\", \"RAD\", \"TAX\", \"is_metropolitan\", \"INDUS\", \"AGE\", \"NOX\"], \"categoryorder\": \"array\", \"domain\": [0.0, 1.0], \"title\": {\"text\": \"index\"}}},                        {\"responsive\": true}                    ).then(function(){\n",
              "                            \n",
              "var gd = document.getElementById('fd0039c0-965b-4c77-b7bb-117fe781809d');\n",
              "var x = new MutationObserver(function (mutations, observer) {{\n",
              "        var display = window.getComputedStyle(gd).display;\n",
              "        if (!display || display === 'none') {{\n",
              "            console.log([gd, 'removed!']);\n",
              "            Plotly.purge(gd);\n",
              "            observer.disconnect();\n",
              "        }}\n",
              "}});\n",
              "\n",
              "// Listen for the removal of the full notebook cells\n",
              "var notebookContainer = gd.closest('#notebook-container');\n",
              "if (notebookContainer) {{\n",
              "    x.observe(notebookContainer, {childList: true});\n",
              "}}\n",
              "\n",
              "// Listen for the clearing of the current output cell\n",
              "var outputEl = gd.closest('.output');\n",
              "if (outputEl) {{\n",
              "    x.observe(outputEl, {childList: true});\n",
              "}}\n",
              "\n",
              "                        })                };                            </script>        </div>\n",
              "</body>\n",
              "</html>"
            ]
          },
          "metadata": {
            "tags": []
          }
        }
      ]
    },
    {
      "cell_type": "markdown",
      "metadata": {
        "id": "6IceNgMHijkm"
      },
      "source": [
        "##### trade-off between air quality and commuting distance"
      ]
    },
    {
      "cell_type": "markdown",
      "metadata": {
        "id": "8tyHlETLsJiM"
      },
      "source": [
        "Linear regression analysis"
      ]
    },
    {
      "cell_type": "code",
      "metadata": {
        "colab": {
          "base_uri": "https://localhost:8080/"
        },
        "id": "_MBvIuegsZ6R",
        "outputId": "ad93d058-1655-4314-c1bd-1a794d7d1b8b"
      },
      "source": [
        "from statsmodels.regression.linear_model import OLS\n",
        "lm = OLS( data.DIS, data[['NOX', 'AGE', 'TAX']])\n",
        "result = lm.fit()\n",
        "result.params"
      ],
      "execution_count": 21,
      "outputs": [
        {
          "output_type": "stream",
          "text": [
            "/usr/local/lib/python3.6/dist-packages/statsmodels/tools/_testing.py:19: FutureWarning:\n",
            "\n",
            "pandas.util.testing is deprecated. Use the functions in the public API at pandas.testing instead.\n",
            "\n"
          ],
          "name": "stderr"
        },
        {
          "output_type": "execute_result",
          "data": {
            "text/plain": [
              "NOX    15.995260\n",
              "AGE    -0.060000\n",
              "TAX    -0.003331\n",
              "dtype: float64"
            ]
          },
          "metadata": {
            "tags": []
          },
          "execution_count": 21
        }
      ]
    },
    {
      "cell_type": "code",
      "metadata": {
        "colab": {
          "base_uri": "https://localhost:8080/"
        },
        "id": "iI7xB1fztVig",
        "outputId": "e3633faa-a401-4138-85a6-dff2dec4d6e0"
      },
      "source": [
        "result.tvalues"
      ],
      "execution_count": 22,
      "outputs": [
        {
          "output_type": "execute_result",
          "data": {
            "text/plain": [
              "NOX    18.287855\n",
              "AGE   -11.498838\n",
              "TAX    -4.048777\n",
              "dtype: float64"
            ]
          },
          "metadata": {
            "tags": []
          },
          "execution_count": 22
        }
      ]
    },
    {
      "cell_type": "markdown",
      "metadata": {
        "id": "UAgmOSDnnBLd"
      },
      "source": [
        "All significant results, but NOX has the highest impact. Every 1 increase in DIS is going to increase the NO. index by 18!"
      ]
    },
    {
      "cell_type": "code",
      "metadata": {
        "id": "4DrXqu8xnAlx"
      },
      "source": [
        ""
      ],
      "execution_count": 22,
      "outputs": []
    },
    {
      "cell_type": "markdown",
      "metadata": {
        "id": "z4tjjFeMoNup"
      },
      "source": [
        "## PTRATIO"
      ]
    },
    {
      "cell_type": "code",
      "metadata": {
        "colab": {
          "base_uri": "https://localhost:8080/",
          "height": 617
        },
        "id": "c-MfaboGiRYU",
        "outputId": "f53e52c0-9f4c-4263-a957-55de775d58c1"
      },
      "source": [
        "fig = px.bar(data_frame = data.corr().loc['PTRATIO'].sort_values()[:-1].reset_index(), x = 'PTRATIO', y ='index', color = 'index',orientation='h')\n",
        "fig.update_layout(\n",
        "    title = 'Correlation with Student-Teacher ratio',\n",
        "    height = 600,\n",
        "    width = 850\n",
        ")"
      ],
      "execution_count": 23,
      "outputs": [
        {
          "output_type": "display_data",
          "data": {
            "text/html": [
              "<html>\n",
              "<head><meta charset=\"utf-8\" /></head>\n",
              "<body>\n",
              "    <div>            <script src=\"https://cdnjs.cloudflare.com/ajax/libs/mathjax/2.7.5/MathJax.js?config=TeX-AMS-MML_SVG\"></script><script type=\"text/javascript\">if (window.MathJax) {MathJax.Hub.Config({SVG: {font: \"STIX-Web\"}});}</script>                <script type=\"text/javascript\">window.PlotlyConfig = {MathJaxConfig: 'local'};</script>\n",
              "        <script src=\"https://cdn.plot.ly/plotly-latest.min.js\"></script>                <div id=\"bec1916d-6af4-4c90-b176-b8782d16609f\" class=\"plotly-graph-div\" style=\"height:600px; width:850px;\"></div>            <script type=\"text/javascript\">                                    window.PLOTLYENV=window.PLOTLYENV || {};                                    if (document.getElementById(\"bec1916d-6af4-4c90-b176-b8782d16609f\")) {                    Plotly.newPlot(                        \"bec1916d-6af4-4c90-b176-b8782d16609f\",                        [{\"alignmentgroup\": \"True\", \"hovertemplate\": \"index=%{y}<br>PTRATIO=%{x}<extra></extra>\", \"legendgroup\": \"MEDV\", \"marker\": {\"color\": \"#636efa\"}, \"name\": \"MEDV\", \"offsetgroup\": \"MEDV\", \"orientation\": \"h\", \"showlegend\": true, \"textposition\": \"auto\", \"type\": \"bar\", \"x\": [-0.4474640140421778], \"xaxis\": \"x\", \"y\": [\"MEDV\"], \"yaxis\": \"y\"}, {\"alignmentgroup\": \"True\", \"hovertemplate\": \"index=%{y}<br>PTRATIO=%{x}<extra></extra>\", \"legendgroup\": \"ZN\", \"marker\": {\"color\": \"#EF553B\"}, \"name\": \"ZN\", \"offsetgroup\": \"ZN\", \"orientation\": \"h\", \"showlegend\": true, \"textposition\": \"auto\", \"type\": \"bar\", \"x\": [-0.39284361021424546], \"xaxis\": \"x\", \"y\": [\"ZN\"], \"yaxis\": \"y\"}, {\"alignmentgroup\": \"True\", \"hovertemplate\": \"index=%{y}<br>PTRATIO=%{x}<extra></extra>\", \"legendgroup\": \"RM\", \"marker\": {\"color\": \"#00cc96\"}, \"name\": \"RM\", \"offsetgroup\": \"RM\", \"orientation\": \"h\", \"showlegend\": true, \"textposition\": \"auto\", \"type\": \"bar\", \"x\": [-0.33975522655650403], \"xaxis\": \"x\", \"y\": [\"RM\"], \"yaxis\": \"y\"}, {\"alignmentgroup\": \"True\", \"hovertemplate\": \"index=%{y}<br>PTRATIO=%{x}<extra></extra>\", \"legendgroup\": \"DIS\", \"marker\": {\"color\": \"#ab63fa\"}, \"name\": \"DIS\", \"offsetgroup\": \"DIS\", \"orientation\": \"h\", \"showlegend\": true, \"textposition\": \"auto\", \"type\": \"bar\", \"x\": [-0.23815517778550788], \"xaxis\": \"x\", \"y\": [\"DIS\"], \"yaxis\": \"y\"}, {\"alignmentgroup\": \"True\", \"hovertemplate\": \"index=%{y}<br>PTRATIO=%{x}<extra></extra>\", \"legendgroup\": \"CHAS\", \"marker\": {\"color\": \"#FFA15A\"}, \"name\": \"CHAS\", \"offsetgroup\": \"CHAS\", \"orientation\": \"h\", \"showlegend\": true, \"textposition\": \"auto\", \"type\": \"bar\", \"x\": [-0.12441458109538651], \"xaxis\": \"x\", \"y\": [\"CHAS\"], \"yaxis\": \"y\"}, {\"alignmentgroup\": \"True\", \"hovertemplate\": \"index=%{y}<br>PTRATIO=%{x}<extra></extra>\", \"legendgroup\": \"room_na\", \"marker\": {\"color\": \"#19d3f3\"}, \"name\": \"room_na\", \"offsetgroup\": \"room_na\", \"orientation\": \"h\", \"showlegend\": true, \"textposition\": \"auto\", \"type\": \"bar\", \"x\": [0.007235420919053113], \"xaxis\": \"x\", \"y\": [\"room_na\"], \"yaxis\": \"y\"}, {\"alignmentgroup\": \"True\", \"hovertemplate\": \"index=%{y}<br>PTRATIO=%{x}<extra></extra>\", \"legendgroup\": \"NOX\", \"marker\": {\"color\": \"#FF6692\"}, \"name\": \"NOX\", \"offsetgroup\": \"NOX\", \"orientation\": \"h\", \"showlegend\": true, \"textposition\": \"auto\", \"type\": \"bar\", \"x\": [0.18607302997300978], \"xaxis\": \"x\", \"y\": [\"NOX\"], \"yaxis\": \"y\"}, {\"alignmentgroup\": \"True\", \"hovertemplate\": \"index=%{y}<br>PTRATIO=%{x}<extra></extra>\", \"legendgroup\": \"AGE\", \"marker\": {\"color\": \"#B6E880\"}, \"name\": \"AGE\", \"offsetgroup\": \"AGE\", \"orientation\": \"h\", \"showlegend\": true, \"textposition\": \"auto\", \"type\": \"bar\", \"x\": [0.2582505719180697], \"xaxis\": \"x\", \"y\": [\"AGE\"], \"yaxis\": \"y\"}, {\"alignmentgroup\": \"True\", \"hovertemplate\": \"index=%{y}<br>PTRATIO=%{x}<extra></extra>\", \"legendgroup\": \"CRIM\", \"marker\": {\"color\": \"#FF97FF\"}, \"name\": \"CRIM\", \"offsetgroup\": \"CRIM\", \"orientation\": \"h\", \"showlegend\": true, \"textposition\": \"auto\", \"type\": \"bar\", \"x\": [0.27669548289516926], \"xaxis\": \"x\", \"y\": [\"CRIM\"], \"yaxis\": \"y\"}, {\"alignmentgroup\": \"True\", \"hovertemplate\": \"index=%{y}<br>PTRATIO=%{x}<extra></extra>\", \"legendgroup\": \"INDUS\", \"marker\": {\"color\": \"#FECB52\"}, \"name\": \"INDUS\", \"offsetgroup\": \"INDUS\", \"orientation\": \"h\", \"showlegend\": true, \"textposition\": \"auto\", \"type\": \"bar\", \"x\": [0.3794407183948919], \"xaxis\": \"x\", \"y\": [\"INDUS\"], \"yaxis\": \"y\"}, {\"alignmentgroup\": \"True\", \"hovertemplate\": \"index=%{y}<br>PTRATIO=%{x}<extra></extra>\", \"legendgroup\": \"RAD\", \"marker\": {\"color\": \"#636efa\"}, \"name\": \"RAD\", \"offsetgroup\": \"RAD\", \"orientation\": \"h\", \"showlegend\": true, \"textposition\": \"auto\", \"type\": \"bar\", \"x\": [0.43864605947948576], \"xaxis\": \"x\", \"y\": [\"RAD\"], \"yaxis\": \"y\"}, {\"alignmentgroup\": \"True\", \"hovertemplate\": \"index=%{y}<br>PTRATIO=%{x}<extra></extra>\", \"legendgroup\": \"TAX\", \"marker\": {\"color\": \"#EF553B\"}, \"name\": \"TAX\", \"offsetgroup\": \"TAX\", \"orientation\": \"h\", \"showlegend\": true, \"textposition\": \"auto\", \"type\": \"bar\", \"x\": [0.44096216662692483], \"xaxis\": \"x\", \"y\": [\"TAX\"], \"yaxis\": \"y\"}, {\"alignmentgroup\": \"True\", \"hovertemplate\": \"index=%{y}<br>PTRATIO=%{x}<extra></extra>\", \"legendgroup\": \"is_metropolitan\", \"marker\": {\"color\": \"#00cc96\"}, \"name\": \"is_metropolitan\", \"offsetgroup\": \"is_metropolitan\", \"orientation\": \"h\", \"showlegend\": true, \"textposition\": \"auto\", \"type\": \"bar\", \"x\": [0.4655205277186765], \"xaxis\": \"x\", \"y\": [\"is_metropolitan\"], \"yaxis\": \"y\"}],                        {\"barmode\": \"relative\", \"height\": 600, \"legend\": {\"title\": {\"text\": \"index\"}, \"tracegroupgap\": 0}, \"margin\": {\"t\": 60}, \"template\": {\"data\": {\"bar\": [{\"error_x\": {\"color\": \"#2a3f5f\"}, \"error_y\": {\"color\": \"#2a3f5f\"}, \"marker\": {\"line\": {\"color\": \"#E5ECF6\", \"width\": 0.5}}, \"type\": \"bar\"}], \"barpolar\": [{\"marker\": {\"line\": {\"color\": \"#E5ECF6\", \"width\": 0.5}}, \"type\": \"barpolar\"}], \"carpet\": [{\"aaxis\": {\"endlinecolor\": \"#2a3f5f\", \"gridcolor\": \"white\", \"linecolor\": \"white\", \"minorgridcolor\": \"white\", \"startlinecolor\": \"#2a3f5f\"}, \"baxis\": {\"endlinecolor\": \"#2a3f5f\", \"gridcolor\": \"white\", \"linecolor\": \"white\", \"minorgridcolor\": \"white\", \"startlinecolor\": \"#2a3f5f\"}, \"type\": \"carpet\"}], \"choropleth\": [{\"colorbar\": {\"outlinewidth\": 0, \"ticks\": \"\"}, \"type\": \"choropleth\"}], \"contour\": [{\"colorbar\": {\"outlinewidth\": 0, \"ticks\": \"\"}, \"colorscale\": [[0.0, \"#0d0887\"], [0.1111111111111111, \"#46039f\"], [0.2222222222222222, \"#7201a8\"], [0.3333333333333333, \"#9c179e\"], [0.4444444444444444, \"#bd3786\"], [0.5555555555555556, \"#d8576b\"], [0.6666666666666666, \"#ed7953\"], [0.7777777777777778, \"#fb9f3a\"], [0.8888888888888888, \"#fdca26\"], [1.0, \"#f0f921\"]], \"type\": \"contour\"}], \"contourcarpet\": [{\"colorbar\": {\"outlinewidth\": 0, \"ticks\": \"\"}, \"type\": \"contourcarpet\"}], \"heatmap\": [{\"colorbar\": {\"outlinewidth\": 0, \"ticks\": \"\"}, \"colorscale\": [[0.0, \"#0d0887\"], [0.1111111111111111, \"#46039f\"], [0.2222222222222222, \"#7201a8\"], [0.3333333333333333, \"#9c179e\"], [0.4444444444444444, \"#bd3786\"], [0.5555555555555556, \"#d8576b\"], [0.6666666666666666, \"#ed7953\"], [0.7777777777777778, \"#fb9f3a\"], [0.8888888888888888, \"#fdca26\"], [1.0, \"#f0f921\"]], \"type\": \"heatmap\"}], \"heatmapgl\": [{\"colorbar\": {\"outlinewidth\": 0, \"ticks\": \"\"}, \"colorscale\": [[0.0, \"#0d0887\"], [0.1111111111111111, \"#46039f\"], [0.2222222222222222, \"#7201a8\"], [0.3333333333333333, \"#9c179e\"], [0.4444444444444444, \"#bd3786\"], [0.5555555555555556, \"#d8576b\"], [0.6666666666666666, \"#ed7953\"], [0.7777777777777778, \"#fb9f3a\"], [0.8888888888888888, \"#fdca26\"], [1.0, \"#f0f921\"]], \"type\": \"heatmapgl\"}], \"histogram\": [{\"marker\": {\"colorbar\": {\"outlinewidth\": 0, \"ticks\": \"\"}}, \"type\": \"histogram\"}], \"histogram2d\": [{\"colorbar\": {\"outlinewidth\": 0, \"ticks\": \"\"}, \"colorscale\": [[0.0, \"#0d0887\"], [0.1111111111111111, \"#46039f\"], [0.2222222222222222, \"#7201a8\"], [0.3333333333333333, \"#9c179e\"], [0.4444444444444444, \"#bd3786\"], [0.5555555555555556, \"#d8576b\"], [0.6666666666666666, \"#ed7953\"], [0.7777777777777778, \"#fb9f3a\"], [0.8888888888888888, \"#fdca26\"], [1.0, \"#f0f921\"]], \"type\": \"histogram2d\"}], \"histogram2dcontour\": [{\"colorbar\": {\"outlinewidth\": 0, \"ticks\": \"\"}, \"colorscale\": [[0.0, \"#0d0887\"], [0.1111111111111111, \"#46039f\"], [0.2222222222222222, \"#7201a8\"], [0.3333333333333333, \"#9c179e\"], [0.4444444444444444, \"#bd3786\"], [0.5555555555555556, \"#d8576b\"], [0.6666666666666666, \"#ed7953\"], [0.7777777777777778, \"#fb9f3a\"], [0.8888888888888888, \"#fdca26\"], [1.0, \"#f0f921\"]], \"type\": \"histogram2dcontour\"}], \"mesh3d\": [{\"colorbar\": {\"outlinewidth\": 0, \"ticks\": \"\"}, \"type\": \"mesh3d\"}], \"parcoords\": [{\"line\": {\"colorbar\": {\"outlinewidth\": 0, \"ticks\": \"\"}}, \"type\": \"parcoords\"}], \"pie\": [{\"automargin\": true, \"type\": \"pie\"}], \"scatter\": [{\"marker\": {\"colorbar\": {\"outlinewidth\": 0, \"ticks\": \"\"}}, \"type\": \"scatter\"}], \"scatter3d\": [{\"line\": {\"colorbar\": {\"outlinewidth\": 0, \"ticks\": \"\"}}, \"marker\": {\"colorbar\": {\"outlinewidth\": 0, \"ticks\": \"\"}}, \"type\": \"scatter3d\"}], \"scattercarpet\": [{\"marker\": {\"colorbar\": {\"outlinewidth\": 0, \"ticks\": \"\"}}, \"type\": \"scattercarpet\"}], \"scattergeo\": [{\"marker\": {\"colorbar\": {\"outlinewidth\": 0, \"ticks\": \"\"}}, \"type\": \"scattergeo\"}], \"scattergl\": [{\"marker\": {\"colorbar\": {\"outlinewidth\": 0, \"ticks\": \"\"}}, \"type\": \"scattergl\"}], \"scattermapbox\": [{\"marker\": {\"colorbar\": {\"outlinewidth\": 0, \"ticks\": \"\"}}, \"type\": \"scattermapbox\"}], \"scatterpolar\": [{\"marker\": {\"colorbar\": {\"outlinewidth\": 0, \"ticks\": \"\"}}, \"type\": \"scatterpolar\"}], \"scatterpolargl\": [{\"marker\": {\"colorbar\": {\"outlinewidth\": 0, \"ticks\": \"\"}}, \"type\": \"scatterpolargl\"}], \"scatterternary\": [{\"marker\": {\"colorbar\": {\"outlinewidth\": 0, \"ticks\": \"\"}}, \"type\": \"scatterternary\"}], \"surface\": [{\"colorbar\": {\"outlinewidth\": 0, \"ticks\": \"\"}, \"colorscale\": [[0.0, \"#0d0887\"], [0.1111111111111111, \"#46039f\"], [0.2222222222222222, \"#7201a8\"], [0.3333333333333333, \"#9c179e\"], [0.4444444444444444, \"#bd3786\"], [0.5555555555555556, \"#d8576b\"], [0.6666666666666666, \"#ed7953\"], [0.7777777777777778, \"#fb9f3a\"], [0.8888888888888888, \"#fdca26\"], [1.0, \"#f0f921\"]], \"type\": \"surface\"}], \"table\": [{\"cells\": {\"fill\": {\"color\": \"#EBF0F8\"}, \"line\": {\"color\": \"white\"}}, \"header\": {\"fill\": {\"color\": \"#C8D4E3\"}, \"line\": {\"color\": \"white\"}}, \"type\": \"table\"}]}, \"layout\": {\"annotationdefaults\": {\"arrowcolor\": \"#2a3f5f\", \"arrowhead\": 0, \"arrowwidth\": 1}, \"coloraxis\": {\"colorbar\": {\"outlinewidth\": 0, \"ticks\": \"\"}}, \"colorscale\": {\"diverging\": [[0, \"#8e0152\"], [0.1, \"#c51b7d\"], [0.2, \"#de77ae\"], [0.3, \"#f1b6da\"], [0.4, \"#fde0ef\"], [0.5, \"#f7f7f7\"], [0.6, \"#e6f5d0\"], [0.7, \"#b8e186\"], [0.8, \"#7fbc41\"], [0.9, \"#4d9221\"], [1, \"#276419\"]], \"sequential\": [[0.0, \"#0d0887\"], [0.1111111111111111, \"#46039f\"], [0.2222222222222222, \"#7201a8\"], [0.3333333333333333, \"#9c179e\"], [0.4444444444444444, \"#bd3786\"], [0.5555555555555556, \"#d8576b\"], [0.6666666666666666, \"#ed7953\"], [0.7777777777777778, \"#fb9f3a\"], [0.8888888888888888, \"#fdca26\"], [1.0, \"#f0f921\"]], \"sequentialminus\": [[0.0, \"#0d0887\"], [0.1111111111111111, \"#46039f\"], [0.2222222222222222, \"#7201a8\"], [0.3333333333333333, \"#9c179e\"], [0.4444444444444444, \"#bd3786\"], [0.5555555555555556, \"#d8576b\"], [0.6666666666666666, \"#ed7953\"], [0.7777777777777778, \"#fb9f3a\"], [0.8888888888888888, \"#fdca26\"], [1.0, \"#f0f921\"]]}, \"colorway\": [\"#636efa\", \"#EF553B\", \"#00cc96\", \"#ab63fa\", \"#FFA15A\", \"#19d3f3\", \"#FF6692\", \"#B6E880\", \"#FF97FF\", \"#FECB52\"], \"font\": {\"color\": \"#2a3f5f\"}, \"geo\": {\"bgcolor\": \"white\", \"lakecolor\": \"white\", \"landcolor\": \"#E5ECF6\", \"showlakes\": true, \"showland\": true, \"subunitcolor\": \"white\"}, \"hoverlabel\": {\"align\": \"left\"}, \"hovermode\": \"closest\", \"mapbox\": {\"style\": \"light\"}, \"paper_bgcolor\": \"white\", \"plot_bgcolor\": \"#E5ECF6\", \"polar\": {\"angularaxis\": {\"gridcolor\": \"white\", \"linecolor\": \"white\", \"ticks\": \"\"}, \"bgcolor\": \"#E5ECF6\", \"radialaxis\": {\"gridcolor\": \"white\", \"linecolor\": \"white\", \"ticks\": \"\"}}, \"scene\": {\"xaxis\": {\"backgroundcolor\": \"#E5ECF6\", \"gridcolor\": \"white\", \"gridwidth\": 2, \"linecolor\": \"white\", \"showbackground\": true, \"ticks\": \"\", \"zerolinecolor\": \"white\"}, \"yaxis\": {\"backgroundcolor\": \"#E5ECF6\", \"gridcolor\": \"white\", \"gridwidth\": 2, \"linecolor\": \"white\", \"showbackground\": true, \"ticks\": \"\", \"zerolinecolor\": \"white\"}, \"zaxis\": {\"backgroundcolor\": \"#E5ECF6\", \"gridcolor\": \"white\", \"gridwidth\": 2, \"linecolor\": \"white\", \"showbackground\": true, \"ticks\": \"\", \"zerolinecolor\": \"white\"}}, \"shapedefaults\": {\"line\": {\"color\": \"#2a3f5f\"}}, \"ternary\": {\"aaxis\": {\"gridcolor\": \"white\", \"linecolor\": \"white\", \"ticks\": \"\"}, \"baxis\": {\"gridcolor\": \"white\", \"linecolor\": \"white\", \"ticks\": \"\"}, \"bgcolor\": \"#E5ECF6\", \"caxis\": {\"gridcolor\": \"white\", \"linecolor\": \"white\", \"ticks\": \"\"}}, \"title\": {\"x\": 0.05}, \"xaxis\": {\"automargin\": true, \"gridcolor\": \"white\", \"linecolor\": \"white\", \"ticks\": \"\", \"title\": {\"standoff\": 15}, \"zerolinecolor\": \"white\", \"zerolinewidth\": 2}, \"yaxis\": {\"automargin\": true, \"gridcolor\": \"white\", \"linecolor\": \"white\", \"ticks\": \"\", \"title\": {\"standoff\": 15}, \"zerolinecolor\": \"white\", \"zerolinewidth\": 2}}}, \"title\": {\"text\": \"Correlation with Student-Teacher ratio\"}, \"width\": 850, \"xaxis\": {\"anchor\": \"y\", \"domain\": [0.0, 1.0], \"title\": {\"text\": \"PTRATIO\"}}, \"yaxis\": {\"anchor\": \"x\", \"categoryarray\": [\"is_metropolitan\", \"TAX\", \"RAD\", \"INDUS\", \"CRIM\", \"AGE\", \"NOX\", \"room_na\", \"CHAS\", \"DIS\", \"RM\", \"ZN\", \"MEDV\"], \"categoryorder\": \"array\", \"domain\": [0.0, 1.0], \"title\": {\"text\": \"index\"}}},                        {\"responsive\": true}                    ).then(function(){\n",
              "                            \n",
              "var gd = document.getElementById('bec1916d-6af4-4c90-b176-b8782d16609f');\n",
              "var x = new MutationObserver(function (mutations, observer) {{\n",
              "        var display = window.getComputedStyle(gd).display;\n",
              "        if (!display || display === 'none') {{\n",
              "            console.log([gd, 'removed!']);\n",
              "            Plotly.purge(gd);\n",
              "            observer.disconnect();\n",
              "        }}\n",
              "}});\n",
              "\n",
              "// Listen for the removal of the full notebook cells\n",
              "var notebookContainer = gd.closest('#notebook-container');\n",
              "if (notebookContainer) {{\n",
              "    x.observe(notebookContainer, {childList: true});\n",
              "}}\n",
              "\n",
              "// Listen for the clearing of the current output cell\n",
              "var outputEl = gd.closest('.output');\n",
              "if (outputEl) {{\n",
              "    x.observe(outputEl, {childList: true});\n",
              "}}\n",
              "\n",
              "                        })                };                            </script>        </div>\n",
              "</body>\n",
              "</html>"
            ]
          },
          "metadata": {
            "tags": []
          }
        }
      ]
    },
    {
      "cell_type": "markdown",
      "metadata": {
        "id": "V-VYJnESo7C7"
      },
      "source": [
        "Not surprisingly, metropolitan areas usually have higher pupil to teacher ratios"
      ]
    },
    {
      "cell_type": "markdown",
      "metadata": {
        "id": "T-lQNCimtp3-"
      },
      "source": [
        "You want better education resources, you pay more"
      ]
    },
    {
      "cell_type": "markdown",
      "metadata": {
        "id": "NWODgX5upTYi"
      },
      "source": [
        "## Clustering Analysis"
      ]
    },
    {
      "cell_type": "code",
      "metadata": {
        "colab": {
          "base_uri": "https://localhost:8080/"
        },
        "id": "BOh-Ork9auQs",
        "outputId": "987d3666-0652-4afb-fe39-1249c8ef5dee"
      },
      "source": [
        "!pip install kmodes"
      ],
      "execution_count": 24,
      "outputs": [
        {
          "output_type": "stream",
          "text": [
            "Requirement already satisfied: kmodes in /usr/local/lib/python3.6/dist-packages (0.10.2)\n",
            "Requirement already satisfied: scipy>=0.13.3 in /usr/local/lib/python3.6/dist-packages (from kmodes) (1.4.1)\n",
            "Requirement already satisfied: numpy>=1.10.4 in /usr/local/lib/python3.6/dist-packages (from kmodes) (1.18.5)\n",
            "Requirement already satisfied: joblib>=0.11 in /usr/local/lib/python3.6/dist-packages (from kmodes) (0.17.0)\n",
            "Requirement already satisfied: scikit-learn>=0.19.0 in /usr/local/lib/python3.6/dist-packages (from kmodes) (0.22.2.post1)\n"
          ],
          "name": "stdout"
        }
      ]
    },
    {
      "cell_type": "code",
      "metadata": {
        "id": "ea2zA4szai4r"
      },
      "source": [
        "from kmodes.kprototypes import KPrototypes\n",
        "from sklearn.preprocessing import StandardScaler, OneHotEncoder\n",
        "from tqdm import tqdm"
      ],
      "execution_count": 25,
      "outputs": []
    },
    {
      "cell_type": "code",
      "metadata": {
        "colab": {
          "base_uri": "https://localhost:8080/",
          "height": 225
        },
        "id": "xM46KhWIboUv",
        "outputId": "d5c2b275-e754-4c67-e5ee-db1620827a46"
      },
      "source": [
        "data.head()"
      ],
      "execution_count": 26,
      "outputs": [
        {
          "output_type": "execute_result",
          "data": {
            "text/html": [
              "<div>\n",
              "<style scoped>\n",
              "    .dataframe tbody tr th:only-of-type {\n",
              "        vertical-align: middle;\n",
              "    }\n",
              "\n",
              "    .dataframe tbody tr th {\n",
              "        vertical-align: top;\n",
              "    }\n",
              "\n",
              "    .dataframe thead th {\n",
              "        text-align: right;\n",
              "    }\n",
              "</style>\n",
              "<table border=\"1\" class=\"dataframe\">\n",
              "  <thead>\n",
              "    <tr style=\"text-align: right;\">\n",
              "      <th></th>\n",
              "      <th>CRIM</th>\n",
              "      <th>ZN</th>\n",
              "      <th>INDUS</th>\n",
              "      <th>CHAS</th>\n",
              "      <th>NOX</th>\n",
              "      <th>RM</th>\n",
              "      <th>AGE</th>\n",
              "      <th>DIS</th>\n",
              "      <th>RAD</th>\n",
              "      <th>TAX</th>\n",
              "      <th>PTRATIO</th>\n",
              "      <th>MEDV</th>\n",
              "      <th>room_na</th>\n",
              "      <th>crime_class</th>\n",
              "      <th>indus_class</th>\n",
              "      <th>zn_class</th>\n",
              "      <th>is_metropolitan</th>\n",
              "    </tr>\n",
              "    <tr>\n",
              "      <th>SUB</th>\n",
              "      <th></th>\n",
              "      <th></th>\n",
              "      <th></th>\n",
              "      <th></th>\n",
              "      <th></th>\n",
              "      <th></th>\n",
              "      <th></th>\n",
              "      <th></th>\n",
              "      <th></th>\n",
              "      <th></th>\n",
              "      <th></th>\n",
              "      <th></th>\n",
              "      <th></th>\n",
              "      <th></th>\n",
              "      <th></th>\n",
              "      <th></th>\n",
              "      <th></th>\n",
              "    </tr>\n",
              "  </thead>\n",
              "  <tbody>\n",
              "    <tr>\n",
              "      <th>1</th>\n",
              "      <td>0.00632</td>\n",
              "      <td>18.0</td>\n",
              "      <td>2.31</td>\n",
              "      <td>0</td>\n",
              "      <td>0.538</td>\n",
              "      <td>6.575</td>\n",
              "      <td>65.2</td>\n",
              "      <td>4.0900</td>\n",
              "      <td>1</td>\n",
              "      <td>296</td>\n",
              "      <td>15.3</td>\n",
              "      <td>24.0</td>\n",
              "      <td>0</td>\n",
              "      <td>safe</td>\n",
              "      <td>1</td>\n",
              "      <td>1</td>\n",
              "      <td>0</td>\n",
              "    </tr>\n",
              "    <tr>\n",
              "      <th>2</th>\n",
              "      <td>0.02731</td>\n",
              "      <td>0.0</td>\n",
              "      <td>7.07</td>\n",
              "      <td>0</td>\n",
              "      <td>0.469</td>\n",
              "      <td>6.421</td>\n",
              "      <td>78.9</td>\n",
              "      <td>4.9671</td>\n",
              "      <td>2</td>\n",
              "      <td>242</td>\n",
              "      <td>17.8</td>\n",
              "      <td>21.6</td>\n",
              "      <td>0</td>\n",
              "      <td>safe</td>\n",
              "      <td>2</td>\n",
              "      <td>1</td>\n",
              "      <td>1</td>\n",
              "    </tr>\n",
              "    <tr>\n",
              "      <th>3</th>\n",
              "      <td>0.02729</td>\n",
              "      <td>0.0</td>\n",
              "      <td>7.07</td>\n",
              "      <td>0</td>\n",
              "      <td>0.469</td>\n",
              "      <td>7.185</td>\n",
              "      <td>61.1</td>\n",
              "      <td>4.9671</td>\n",
              "      <td>2</td>\n",
              "      <td>242</td>\n",
              "      <td>17.8</td>\n",
              "      <td>34.7</td>\n",
              "      <td>0</td>\n",
              "      <td>safe</td>\n",
              "      <td>2</td>\n",
              "      <td>1</td>\n",
              "      <td>1</td>\n",
              "    </tr>\n",
              "    <tr>\n",
              "      <th>4</th>\n",
              "      <td>0.03237</td>\n",
              "      <td>0.0</td>\n",
              "      <td>2.18</td>\n",
              "      <td>0</td>\n",
              "      <td>0.458</td>\n",
              "      <td>6.998</td>\n",
              "      <td>45.8</td>\n",
              "      <td>6.0622</td>\n",
              "      <td>3</td>\n",
              "      <td>222</td>\n",
              "      <td>18.7</td>\n",
              "      <td>33.4</td>\n",
              "      <td>0</td>\n",
              "      <td>safe</td>\n",
              "      <td>1</td>\n",
              "      <td>1</td>\n",
              "      <td>1</td>\n",
              "    </tr>\n",
              "    <tr>\n",
              "      <th>5</th>\n",
              "      <td>0.06905</td>\n",
              "      <td>0.0</td>\n",
              "      <td>2.18</td>\n",
              "      <td>0</td>\n",
              "      <td>0.458</td>\n",
              "      <td>7.147</td>\n",
              "      <td>54.2</td>\n",
              "      <td>6.0622</td>\n",
              "      <td>3</td>\n",
              "      <td>222</td>\n",
              "      <td>18.7</td>\n",
              "      <td>36.2</td>\n",
              "      <td>0</td>\n",
              "      <td>safe</td>\n",
              "      <td>1</td>\n",
              "      <td>1</td>\n",
              "      <td>1</td>\n",
              "    </tr>\n",
              "  </tbody>\n",
              "</table>\n",
              "</div>"
            ],
            "text/plain": [
              "        CRIM    ZN  INDUS  ...  indus_class  zn_class  is_metropolitan\n",
              "SUB                        ...                                        \n",
              "1    0.00632  18.0   2.31  ...            1         1                0\n",
              "2    0.02731   0.0   7.07  ...            2         1                1\n",
              "3    0.02729   0.0   7.07  ...            2         1                1\n",
              "4    0.03237   0.0   2.18  ...            1         1                1\n",
              "5    0.06905   0.0   2.18  ...            1         1                1\n",
              "\n",
              "[5 rows x 17 columns]"
            ]
          },
          "metadata": {
            "tags": []
          },
          "execution_count": 26
        }
      ]
    },
    {
      "cell_type": "code",
      "metadata": {
        "id": "lrk8ljMGmlAq"
      },
      "source": [
        ""
      ],
      "execution_count": 26,
      "outputs": []
    },
    {
      "cell_type": "code",
      "metadata": {
        "colab": {
          "base_uri": "https://localhost:8080/"
        },
        "id": "Sa2caGBbd3mK",
        "outputId": "6ff594ad-03fd-4c8e-ccfb-0e45a9d7ec5c"
      },
      "source": [
        "data = df.copy()\n",
        "\n",
        "ohe = OneHotEncoder(sparse = False, drop = \"first\")\n",
        "# cat_feat = ['crime_class', 'RAD', 'CHAS', 'is_metropolitan']\n",
        "# cat_feat = [ 'RAD', 'CHAS']\n",
        "cat_feat = ['CHAS']\n",
        "temp = ohe.fit_transform(data[cat_feat])\n",
        "labels = []\n",
        "for i in range(len(ohe.categories_)):\n",
        "    c = ohe.categories_[i]\n",
        "    name = cat_feat[i]\n",
        "    for j in range(1, len(c)):\n",
        "        v = c[j]\n",
        "        labels.append(name+'_'+str(v))\n",
        "labels\n",
        "# data_cl = data.copy()\n",
        "cat = pd.DataFrame(temp, columns = labels, index = data.index)\n",
        "\n",
        "ss = StandardScaler()\n",
        "num_feats = data.drop(cat_feat, axis = 1).columns.values\n",
        "num = pd.DataFrame(ss.fit_transform(data.drop(cat_feat, axis = 1)), columns= num_feats, index = data.index)\n",
        "data_cl = pd.concat([cat, num], axis = 1)\n",
        "\n",
        "idx_lst = []\n",
        "for lab in labels:\n",
        "    idx_lst.append(data_cl.columns.values.tolist().index(lab))\n",
        "idx_lst\n",
        "\n",
        "\n",
        "costs = []\n",
        "for n in tqdm(range(3, 10)):\n",
        "\n",
        "    kp = KPrototypes(n_clusters = n)\n",
        "    kp.fit(data_cl, categorical = idx_lst)\n",
        "    costs.append(kp.cost_)\n",
        "    # data_cl"
      ],
      "execution_count": 27,
      "outputs": [
        {
          "output_type": "stream",
          "text": [
            "100%|██████████| 7/7 [00:36<00:00,  5.26s/it]\n"
          ],
          "name": "stderr"
        }
      ]
    },
    {
      "cell_type": "code",
      "metadata": {
        "colab": {
          "base_uri": "https://localhost:8080/",
          "height": 286
        },
        "id": "qdspqJBsoMcJ",
        "outputId": "f1a12134-95d2-467b-aa17-d7ee8d2a5fc1"
      },
      "source": [
        "plt.plot(np.arange(3,10),costs)\n",
        "plt.axvline(8)"
      ],
      "execution_count": 28,
      "outputs": [
        {
          "output_type": "execute_result",
          "data": {
            "text/plain": [
              "<matplotlib.lines.Line2D at 0x7ff55ab6f278>"
            ]
          },
          "metadata": {
            "tags": []
          },
          "execution_count": 28
        },
        {
          "output_type": "display_data",
          "data": {
            "image/png": "[encoded data removed]",
            "text/plain": [
              "<Figure size 432x288 with 1 Axes>"
            ]
          },
          "metadata": {
            "tags": [],
            "needs_background": "light"
          }
        }
      ]
    },
    {
      "cell_type": "code",
      "metadata": {
        "id": "eXu4z_8PjzG0"
      },
      "source": [
        "n = 8\n",
        "kp = KPrototypes(n_clusters = n)\n",
        "data_res = data_cl.copy()\n",
        "data_res['cluster'] = kp.fit_predict(df, categorical = idx_lst)\n",
        "\n",
        "# data_cl"
      ],
      "execution_count": 29,
      "outputs": []
    },
    {
      "cell_type": "code",
      "metadata": {
        "colab": {
          "base_uri": "https://localhost:8080/",
          "height": 314
        },
        "id": "f_1F7iULtj0E",
        "outputId": "8d5d77fd-17ed-4261-a6b2-393759f7b79f"
      },
      "source": [
        "data_res.groupby('cluster').mean()"
      ],
      "execution_count": 30,
      "outputs": [
        {
          "output_type": "execute_result",
          "data": {
            "text/html": [
              "<div>\n",
              "<style scoped>\n",
              "    .dataframe tbody tr th:only-of-type {\n",
              "        vertical-align: middle;\n",
              "    }\n",
              "\n",
              "    .dataframe tbody tr th {\n",
              "        vertical-align: top;\n",
              "    }\n",
              "\n",
              "    .dataframe thead th {\n",
              "        text-align: right;\n",
              "    }\n",
              "</style>\n",
              "<table border=\"1\" class=\"dataframe\">\n",
              "  <thead>\n",
              "    <tr style=\"text-align: right;\">\n",
              "      <th></th>\n",
              "      <th>CHAS_1.0</th>\n",
              "      <th>CRIM</th>\n",
              "      <th>ZN</th>\n",
              "      <th>INDUS</th>\n",
              "      <th>NOX</th>\n",
              "      <th>RM</th>\n",
              "      <th>AGE</th>\n",
              "      <th>DIS</th>\n",
              "      <th>RAD</th>\n",
              "      <th>TAX</th>\n",
              "      <th>PTRATIO</th>\n",
              "      <th>MEDV</th>\n",
              "    </tr>\n",
              "    <tr>\n",
              "      <th>cluster</th>\n",
              "      <th></th>\n",
              "      <th></th>\n",
              "      <th></th>\n",
              "      <th></th>\n",
              "      <th></th>\n",
              "      <th></th>\n",
              "      <th></th>\n",
              "      <th></th>\n",
              "      <th></th>\n",
              "      <th></th>\n",
              "      <th></th>\n",
              "      <th></th>\n",
              "    </tr>\n",
              "  </thead>\n",
              "  <tbody>\n",
              "    <tr>\n",
              "      <th>0</th>\n",
              "      <td>0.097087</td>\n",
              "      <td>-0.368785</td>\n",
              "      <td>-0.268525</td>\n",
              "      <td>-0.547517</td>\n",
              "      <td>-0.231679</td>\n",
              "      <td>0.269242</td>\n",
              "      <td>0.442601</td>\n",
              "      <td>0.021379</td>\n",
              "      <td>-0.544708</td>\n",
              "      <td>-0.667955</td>\n",
              "      <td>-0.130734</td>\n",
              "      <td>0.186320</td>\n",
              "    </tr>\n",
              "    <tr>\n",
              "      <th>1</th>\n",
              "      <td>0.000000</td>\n",
              "      <td>-0.409402</td>\n",
              "      <td>1.773559</td>\n",
              "      <td>-1.088466</td>\n",
              "      <td>-1.155194</td>\n",
              "      <td>0.431696</td>\n",
              "      <td>-1.479426</td>\n",
              "      <td>1.708535</td>\n",
              "      <td>-0.600532</td>\n",
              "      <td>-0.319540</td>\n",
              "      <td>-0.668938</td>\n",
              "      <td>0.447071</td>\n",
              "    </tr>\n",
              "    <tr>\n",
              "      <th>2</th>\n",
              "      <td>0.058394</td>\n",
              "      <td>1.018580</td>\n",
              "      <td>-0.484767</td>\n",
              "      <td>1.070254</td>\n",
              "      <td>1.001288</td>\n",
              "      <td>-0.400356</td>\n",
              "      <td>0.760613</td>\n",
              "      <td>-0.824871</td>\n",
              "      <td>1.588112</td>\n",
              "      <td>1.551230</td>\n",
              "      <td>0.771702</td>\n",
              "      <td>-0.676511</td>\n",
              "    </tr>\n",
              "    <tr>\n",
              "      <th>3</th>\n",
              "      <td>0.049180</td>\n",
              "      <td>-0.391170</td>\n",
              "      <td>0.043505</td>\n",
              "      <td>-0.486642</td>\n",
              "      <td>-0.730660</td>\n",
              "      <td>-0.024527</td>\n",
              "      <td>-1.128490</td>\n",
              "      <td>0.595052</td>\n",
              "      <td>-0.562072</td>\n",
              "      <td>-0.696130</td>\n",
              "      <td>-0.249833</td>\n",
              "      <td>0.283207</td>\n",
              "    </tr>\n",
              "    <tr>\n",
              "      <th>4</th>\n",
              "      <td>0.000000</td>\n",
              "      <td>-0.377081</td>\n",
              "      <td>-0.373350</td>\n",
              "      <td>0.559430</td>\n",
              "      <td>0.150583</td>\n",
              "      <td>-0.314046</td>\n",
              "      <td>0.474069</td>\n",
              "      <td>-0.450666</td>\n",
              "      <td>-0.576335</td>\n",
              "      <td>0.166151</td>\n",
              "      <td>0.461194</td>\n",
              "      <td>-0.462502</td>\n",
              "    </tr>\n",
              "    <tr>\n",
              "      <th>5</th>\n",
              "      <td>0.050847</td>\n",
              "      <td>-0.407576</td>\n",
              "      <td>-0.182835</td>\n",
              "      <td>-0.585276</td>\n",
              "      <td>-0.639722</td>\n",
              "      <td>0.175813</td>\n",
              "      <td>-0.438381</td>\n",
              "      <td>0.364375</td>\n",
              "      <td>-0.678817</td>\n",
              "      <td>-1.121291</td>\n",
              "      <td>-0.115657</td>\n",
              "      <td>0.395602</td>\n",
              "    </tr>\n",
              "    <tr>\n",
              "      <th>6</th>\n",
              "      <td>0.127273</td>\n",
              "      <td>-0.275744</td>\n",
              "      <td>-0.484767</td>\n",
              "      <td>0.571215</td>\n",
              "      <td>0.776753</td>\n",
              "      <td>-0.293553</td>\n",
              "      <td>0.522564</td>\n",
              "      <td>-0.648368</td>\n",
              "      <td>-0.504176</td>\n",
              "      <td>-0.067769</td>\n",
              "      <td>-0.667490</td>\n",
              "      <td>-0.042064</td>\n",
              "    </tr>\n",
              "    <tr>\n",
              "      <th>7</th>\n",
              "      <td>0.173913</td>\n",
              "      <td>-0.414666</td>\n",
              "      <td>2.680750</td>\n",
              "      <td>-1.120087</td>\n",
              "      <td>-1.185192</td>\n",
              "      <td>1.065133</td>\n",
              "      <td>-1.412340</td>\n",
              "      <td>1.154915</td>\n",
              "      <td>-0.707088</td>\n",
              "      <td>-0.962189</td>\n",
              "      <td>-0.757539</td>\n",
              "      <td>1.257819</td>\n",
              "    </tr>\n",
              "  </tbody>\n",
              "</table>\n",
              "</div>"
            ],
            "text/plain": [
              "         CHAS_1.0      CRIM        ZN  ...       TAX   PTRATIO      MEDV\n",
              "cluster                                ...                              \n",
              "0        0.097087 -0.368785 -0.268525  ... -0.667955 -0.130734  0.186320\n",
              "1        0.000000 -0.409402  1.773559  ... -0.319540 -0.668938  0.447071\n",
              "2        0.058394  1.018580 -0.484767  ...  1.551230  0.771702 -0.676511\n",
              "3        0.049180 -0.391170  0.043505  ... -0.696130 -0.249833  0.283207\n",
              "4        0.000000 -0.377081 -0.373350  ...  0.166151  0.461194 -0.462502\n",
              "5        0.050847 -0.407576 -0.182835  ... -1.121291 -0.115657  0.395602\n",
              "6        0.127273 -0.275744 -0.484767  ... -0.067769 -0.667490 -0.042064\n",
              "7        0.173913 -0.414666  2.680750  ... -0.962189 -0.757539  1.257819\n",
              "\n",
              "[8 rows x 12 columns]"
            ]
          },
          "metadata": {
            "tags": []
          },
          "execution_count": 30
        }
      ]
    },
    {
      "cell_type": "markdown",
      "metadata": {
        "id": "43Y1baqamZDs"
      },
      "source": [
        "##### Cluster description\n",
        "\n",
        "- cluster 0: metropolitan working class: This is a collection of residential districts inside the boston city that was built long time ago. Very close to the city center, and great education resources. Some of them even has a charles river view. However, one may have to bear with small rooms, worst air quality, and pretty far away from radial highway. It could be a bit dangerous as well.\n",
        "\n",
        "- cluster 1: Suburb middle Class: A collection of newly built communities far away from city center and office buildings. Generally very safe communities, air is fresh, low property tax rate, and above average education resources\n",
        "\n",
        "- cluster 2: Super riches' club: The most expensive communities in Boston. Lowest per capital crime rate, spatial rooms, best air quality, terrific education, low property tax, brand new buildings. The only drawback might be the price and the distance to the city.\n",
        "\n",
        "- cluster 3: Balancing life and work: A compromise of metropolitan working class and suburb middle class. Futhern to the city, but has better air qualities. Very safe and really low property tax rate, but really need some education opportunities\n",
        "\n",
        "- cluster 4: Parent's favorite: districts that are suitable for families with kids. Very safe area newly built far from city that are desined specifically for residential purpose and have fresh air. It has the best education resources in the city. However, it is rather expensive\n",
        "\n",
        "- cluster 5: Balancing Everything: districts that are pretty balanced. No big advantages and disadvantages. \n",
        "\n",
        "- cluster 6: City center: literarily the center of the city of Boston. Not really a residential area and definitely not recommended. Really high crime rate, old buildings, bad air, tiny rooms, little education resources. It's cheap tho.\n",
        "\n",
        "- Cluster 7: City's economy's plan. Cheap yet old buildings within the metropolitan areas. Could be hard to find education resources. At least it's pretty safe."
      ]
    },
    {
      "cell_type": "code",
      "metadata": {
        "id": "g_rmoGK7HSqW"
      },
      "source": [
        ""
      ],
      "execution_count": 30,
      "outputs": []
    },
    {
      "cell_type": "code",
      "metadata": {
        "colab": {
          "base_uri": "https://localhost:8080/",
          "height": 431
        },
        "id": "xPwti55iI36S",
        "outputId": "a0cde550-6807-4b99-af6b-0b258f359445"
      },
      "source": [
        "data_res"
      ],
      "execution_count": 31,
      "outputs": [
        {
          "output_type": "execute_result",
          "data": {
            "text/html": [
              "<div>\n",
              "<style scoped>\n",
              "    .dataframe tbody tr th:only-of-type {\n",
              "        vertical-align: middle;\n",
              "    }\n",
              "\n",
              "    .dataframe tbody tr th {\n",
              "        vertical-align: top;\n",
              "    }\n",
              "\n",
              "    .dataframe thead th {\n",
              "        text-align: right;\n",
              "    }\n",
              "</style>\n",
              "<table border=\"1\" class=\"dataframe\">\n",
              "  <thead>\n",
              "    <tr style=\"text-align: right;\">\n",
              "      <th></th>\n",
              "      <th>CHAS_1.0</th>\n",
              "      <th>CRIM</th>\n",
              "      <th>ZN</th>\n",
              "      <th>INDUS</th>\n",
              "      <th>NOX</th>\n",
              "      <th>RM</th>\n",
              "      <th>AGE</th>\n",
              "      <th>DIS</th>\n",
              "      <th>RAD</th>\n",
              "      <th>TAX</th>\n",
              "      <th>PTRATIO</th>\n",
              "      <th>MEDV</th>\n",
              "      <th>cluster</th>\n",
              "    </tr>\n",
              "    <tr>\n",
              "      <th>SUB</th>\n",
              "      <th></th>\n",
              "      <th></th>\n",
              "      <th></th>\n",
              "      <th></th>\n",
              "      <th></th>\n",
              "      <th></th>\n",
              "      <th></th>\n",
              "      <th></th>\n",
              "      <th></th>\n",
              "      <th></th>\n",
              "      <th></th>\n",
              "      <th></th>\n",
              "      <th></th>\n",
              "    </tr>\n",
              "  </thead>\n",
              "  <tbody>\n",
              "    <tr>\n",
              "      <th>1</th>\n",
              "      <td>0.0</td>\n",
              "      <td>-0.418162</td>\n",
              "      <td>0.290691</td>\n",
              "      <td>-1.296065</td>\n",
              "      <td>-0.145462</td>\n",
              "      <td>0.412311</td>\n",
              "      <td>-0.121697</td>\n",
              "      <td>0.146011</td>\n",
              "      <td>-0.977576</td>\n",
              "      <td>-0.664367</td>\n",
              "      <td>-1.455741</td>\n",
              "      <td>0.139083</td>\n",
              "      <td>0</td>\n",
              "    </tr>\n",
              "    <tr>\n",
              "      <th>2</th>\n",
              "      <td>0.0</td>\n",
              "      <td>-0.415709</td>\n",
              "      <td>-0.484767</td>\n",
              "      <td>-0.598270</td>\n",
              "      <td>-0.744435</td>\n",
              "      <td>0.192280</td>\n",
              "      <td>0.366340</td>\n",
              "      <td>0.564360</td>\n",
              "      <td>-0.862368</td>\n",
              "      <td>-0.986295</td>\n",
              "      <td>-0.318443</td>\n",
              "      <td>-0.114216</td>\n",
              "      <td>5</td>\n",
              "    </tr>\n",
              "    <tr>\n",
              "      <th>3</th>\n",
              "      <td>0.0</td>\n",
              "      <td>-0.415712</td>\n",
              "      <td>-0.484767</td>\n",
              "      <td>-0.598270</td>\n",
              "      <td>-0.744435</td>\n",
              "      <td>1.283859</td>\n",
              "      <td>-0.267752</td>\n",
              "      <td>0.564360</td>\n",
              "      <td>-0.862368</td>\n",
              "      <td>-0.986295</td>\n",
              "      <td>-0.318443</td>\n",
              "      <td>1.268373</td>\n",
              "      <td>5</td>\n",
              "    </tr>\n",
              "    <tr>\n",
              "      <th>4</th>\n",
              "      <td>0.0</td>\n",
              "      <td>-0.415118</td>\n",
              "      <td>-0.484767</td>\n",
              "      <td>-1.315123</td>\n",
              "      <td>-0.839924</td>\n",
              "      <td>1.016679</td>\n",
              "      <td>-0.812787</td>\n",
              "      <td>1.086688</td>\n",
              "      <td>-0.747160</td>\n",
              "      <td>-1.105528</td>\n",
              "      <td>0.090984</td>\n",
              "      <td>1.131170</td>\n",
              "      <td>5</td>\n",
              "    </tr>\n",
              "    <tr>\n",
              "      <th>5</th>\n",
              "      <td>0.0</td>\n",
              "      <td>-0.410831</td>\n",
              "      <td>-0.484767</td>\n",
              "      <td>-1.315123</td>\n",
              "      <td>-0.839924</td>\n",
              "      <td>1.229566</td>\n",
              "      <td>-0.513552</td>\n",
              "      <td>1.086688</td>\n",
              "      <td>-0.747160</td>\n",
              "      <td>-1.105528</td>\n",
              "      <td>0.090984</td>\n",
              "      <td>1.426685</td>\n",
              "      <td>5</td>\n",
              "    </tr>\n",
              "    <tr>\n",
              "      <th>...</th>\n",
              "      <td>...</td>\n",
              "      <td>...</td>\n",
              "      <td>...</td>\n",
              "      <td>...</td>\n",
              "      <td>...</td>\n",
              "      <td>...</td>\n",
              "      <td>...</td>\n",
              "      <td>...</td>\n",
              "      <td>...</td>\n",
              "      <td>...</td>\n",
              "      <td>...</td>\n",
              "      <td>...</td>\n",
              "      <td>...</td>\n",
              "    </tr>\n",
              "    <tr>\n",
              "      <th>507</th>\n",
              "      <td>0.0</td>\n",
              "      <td>-0.303468</td>\n",
              "      <td>-0.484767</td>\n",
              "      <td>0.197743</td>\n",
              "      <td>0.054196</td>\n",
              "      <td>0.990962</td>\n",
              "      <td>0.726134</td>\n",
              "      <td>-0.804109</td>\n",
              "      <td>-0.747160</td>\n",
              "      <td>-0.521287</td>\n",
              "      <td>2.047135</td>\n",
              "      <td>-1.127411</td>\n",
              "      <td>0</td>\n",
              "    </tr>\n",
              "    <tr>\n",
              "      <th>508</th>\n",
              "      <td>0.0</td>\n",
              "      <td>-0.391487</td>\n",
              "      <td>-0.484767</td>\n",
              "      <td>0.197743</td>\n",
              "      <td>0.054196</td>\n",
              "      <td>0.990962</td>\n",
              "      <td>0.263033</td>\n",
              "      <td>-0.538915</td>\n",
              "      <td>-0.747160</td>\n",
              "      <td>-0.521287</td>\n",
              "      <td>2.047135</td>\n",
              "      <td>0.983412</td>\n",
              "      <td>0</td>\n",
              "    </tr>\n",
              "    <tr>\n",
              "      <th>509</th>\n",
              "      <td>0.0</td>\n",
              "      <td>-0.366969</td>\n",
              "      <td>-0.484767</td>\n",
              "      <td>0.197743</td>\n",
              "      <td>0.054196</td>\n",
              "      <td>-0.233493</td>\n",
              "      <td>1.046742</td>\n",
              "      <td>-0.380084</td>\n",
              "      <td>-0.747160</td>\n",
              "      <td>-0.521287</td>\n",
              "      <td>2.047135</td>\n",
              "      <td>3.305317</td>\n",
              "      <td>0</td>\n",
              "    </tr>\n",
              "    <tr>\n",
              "      <th>510</th>\n",
              "      <td>0.0</td>\n",
              "      <td>-0.328015</td>\n",
              "      <td>-0.484767</td>\n",
              "      <td>0.227062</td>\n",
              "      <td>0.054196</td>\n",
              "      <td>-0.092045</td>\n",
              "      <td>-1.233140</td>\n",
              "      <td>-0.591858</td>\n",
              "      <td>-0.747160</td>\n",
              "      <td>-0.467633</td>\n",
              "      <td>2.047135</td>\n",
              "      <td>4.677352</td>\n",
              "      <td>3</td>\n",
              "    </tr>\n",
              "    <tr>\n",
              "      <th>511</th>\n",
              "      <td>0.0</td>\n",
              "      <td>-0.342427</td>\n",
              "      <td>-0.484767</td>\n",
              "      <td>0.241722</td>\n",
              "      <td>0.054196</td>\n",
              "      <td>0.676633</td>\n",
              "      <td>-0.057576</td>\n",
              "      <td>-0.380084</td>\n",
              "      <td>-0.747160</td>\n",
              "      <td>-0.372246</td>\n",
              "      <td>2.047135</td>\n",
              "      <td>0.139083</td>\n",
              "      <td>0</td>\n",
              "    </tr>\n",
              "  </tbody>\n",
              "</table>\n",
              "<p>511 rows × 13 columns</p>\n",
              "</div>"
            ],
            "text/plain": [
              "     CHAS_1.0      CRIM        ZN  ...   PTRATIO      MEDV  cluster\n",
              "SUB                                ...                             \n",
              "1         0.0 -0.418162  0.290691  ... -1.455741  0.139083        0\n",
              "2         0.0 -0.415709 -0.484767  ... -0.318443 -0.114216        5\n",
              "3         0.0 -0.415712 -0.484767  ... -0.318443  1.268373        5\n",
              "4         0.0 -0.415118 -0.484767  ...  0.090984  1.131170        5\n",
              "5         0.0 -0.410831 -0.484767  ...  0.090984  1.426685        5\n",
              "..        ...       ...       ...  ...       ...       ...      ...\n",
              "507       0.0 -0.303468 -0.484767  ...  2.047135 -1.127411        0\n",
              "508       0.0 -0.391487 -0.484767  ...  2.047135  0.983412        0\n",
              "509       0.0 -0.366969 -0.484767  ...  2.047135  3.305317        0\n",
              "510       0.0 -0.328015 -0.484767  ...  2.047135  4.677352        3\n",
              "511       0.0 -0.342427 -0.484767  ...  2.047135  0.139083        0\n",
              "\n",
              "[511 rows x 13 columns]"
            ]
          },
          "metadata": {
            "tags": []
          },
          "execution_count": 31
        }
      ]
    },
    {
      "cell_type": "code",
      "metadata": {
        "id": "EvVaV6a0t6Ma",
        "colab": {
          "base_uri": "https://localhost:8080/",
          "height": 619
        },
        "outputId": "04358004-9ca1-4ba0-e7ef-fd152a8ae8cd"
      },
      "source": [
        "data_res['utility'] = data_res.apply(lambda row: np.mean(-1*row['NOX'] + row['RM'] - row['CRIM'] - row['PTRATIO'] + row['CHAS_1.0']), axis = 1)\n",
        "data_res['cost'] = data_res[['MEDV', 'TAX']].mean(axis = 1)\n",
        "cluster_map = {0:'Metropolitan Middle Class', 1:'Rural Middle Class', 2: 'Super Rich Class', 3:'Balancing Life and Work', 4:\"Parent's favorite\", 5:'Balancing Everything', 6:'City Gang', 7:'City Economy Plan'}\n",
        "data_res['cluster_name'] = data_res['cluster'].map(cluster_map)\n",
        "data_res"
      ],
      "execution_count": 32,
      "outputs": [
        {
          "output_type": "execute_result",
          "data": {
            "text/html": [
              "<div>\n",
              "<style scoped>\n",
              "    .dataframe tbody tr th:only-of-type {\n",
              "        vertical-align: middle;\n",
              "    }\n",
              "\n",
              "    .dataframe tbody tr th {\n",
              "        vertical-align: top;\n",
              "    }\n",
              "\n",
              "    .dataframe thead th {\n",
              "        text-align: right;\n",
              "    }\n",
              "</style>\n",
              "<table border=\"1\" class=\"dataframe\">\n",
              "  <thead>\n",
              "    <tr style=\"text-align: right;\">\n",
              "      <th></th>\n",
              "      <th>CHAS_1.0</th>\n",
              "      <th>CRIM</th>\n",
              "      <th>ZN</th>\n",
              "      <th>INDUS</th>\n",
              "      <th>NOX</th>\n",
              "      <th>RM</th>\n",
              "      <th>AGE</th>\n",
              "      <th>DIS</th>\n",
              "      <th>RAD</th>\n",
              "      <th>TAX</th>\n",
              "      <th>PTRATIO</th>\n",
              "      <th>MEDV</th>\n",
              "      <th>cluster</th>\n",
              "      <th>utility</th>\n",
              "      <th>cost</th>\n",
              "      <th>cluster_name</th>\n",
              "    </tr>\n",
              "    <tr>\n",
              "      <th>SUB</th>\n",
              "      <th></th>\n",
              "      <th></th>\n",
              "      <th></th>\n",
              "      <th></th>\n",
              "      <th></th>\n",
              "      <th></th>\n",
              "      <th></th>\n",
              "      <th></th>\n",
              "      <th></th>\n",
              "      <th></th>\n",
              "      <th></th>\n",
              "      <th></th>\n",
              "      <th></th>\n",
              "      <th></th>\n",
              "      <th></th>\n",
              "      <th></th>\n",
              "    </tr>\n",
              "  </thead>\n",
              "  <tbody>\n",
              "    <tr>\n",
              "      <th>1</th>\n",
              "      <td>0.0</td>\n",
              "      <td>-0.418162</td>\n",
              "      <td>0.290691</td>\n",
              "      <td>-1.296065</td>\n",
              "      <td>-0.145462</td>\n",
              "      <td>0.412311</td>\n",
              "      <td>-0.121697</td>\n",
              "      <td>0.146011</td>\n",
              "      <td>-0.977576</td>\n",
              "      <td>-0.664367</td>\n",
              "      <td>-1.455741</td>\n",
              "      <td>0.139083</td>\n",
              "      <td>0</td>\n",
              "      <td>2.431675</td>\n",
              "      <td>-0.262642</td>\n",
              "      <td>Metropolitan Middle Class</td>\n",
              "    </tr>\n",
              "    <tr>\n",
              "      <th>2</th>\n",
              "      <td>0.0</td>\n",
              "      <td>-0.415709</td>\n",
              "      <td>-0.484767</td>\n",
              "      <td>-0.598270</td>\n",
              "      <td>-0.744435</td>\n",
              "      <td>0.192280</td>\n",
              "      <td>0.366340</td>\n",
              "      <td>0.564360</td>\n",
              "      <td>-0.862368</td>\n",
              "      <td>-0.986295</td>\n",
              "      <td>-0.318443</td>\n",
              "      <td>-0.114216</td>\n",
              "      <td>5</td>\n",
              "      <td>1.670868</td>\n",
              "      <td>-0.550255</td>\n",
              "      <td>Balancing Everything</td>\n",
              "    </tr>\n",
              "    <tr>\n",
              "      <th>3</th>\n",
              "      <td>0.0</td>\n",
              "      <td>-0.415712</td>\n",
              "      <td>-0.484767</td>\n",
              "      <td>-0.598270</td>\n",
              "      <td>-0.744435</td>\n",
              "      <td>1.283859</td>\n",
              "      <td>-0.267752</td>\n",
              "      <td>0.564360</td>\n",
              "      <td>-0.862368</td>\n",
              "      <td>-0.986295</td>\n",
              "      <td>-0.318443</td>\n",
              "      <td>1.268373</td>\n",
              "      <td>5</td>\n",
              "      <td>2.762449</td>\n",
              "      <td>0.141039</td>\n",
              "      <td>Balancing Everything</td>\n",
              "    </tr>\n",
              "    <tr>\n",
              "      <th>4</th>\n",
              "      <td>0.0</td>\n",
              "      <td>-0.415118</td>\n",
              "      <td>-0.484767</td>\n",
              "      <td>-1.315123</td>\n",
              "      <td>-0.839924</td>\n",
              "      <td>1.016679</td>\n",
              "      <td>-0.812787</td>\n",
              "      <td>1.086688</td>\n",
              "      <td>-0.747160</td>\n",
              "      <td>-1.105528</td>\n",
              "      <td>0.090984</td>\n",
              "      <td>1.131170</td>\n",
              "      <td>5</td>\n",
              "      <td>2.180737</td>\n",
              "      <td>0.012821</td>\n",
              "      <td>Balancing Everything</td>\n",
              "    </tr>\n",
              "    <tr>\n",
              "      <th>5</th>\n",
              "      <td>0.0</td>\n",
              "      <td>-0.410831</td>\n",
              "      <td>-0.484767</td>\n",
              "      <td>-1.315123</td>\n",
              "      <td>-0.839924</td>\n",
              "      <td>1.229566</td>\n",
              "      <td>-0.513552</td>\n",
              "      <td>1.086688</td>\n",
              "      <td>-0.747160</td>\n",
              "      <td>-1.105528</td>\n",
              "      <td>0.090984</td>\n",
              "      <td>1.426685</td>\n",
              "      <td>5</td>\n",
              "      <td>2.389337</td>\n",
              "      <td>0.160579</td>\n",
              "      <td>Balancing Everything</td>\n",
              "    </tr>\n",
              "    <tr>\n",
              "      <th>...</th>\n",
              "      <td>...</td>\n",
              "      <td>...</td>\n",
              "      <td>...</td>\n",
              "      <td>...</td>\n",
              "      <td>...</td>\n",
              "      <td>...</td>\n",
              "      <td>...</td>\n",
              "      <td>...</td>\n",
              "      <td>...</td>\n",
              "      <td>...</td>\n",
              "      <td>...</td>\n",
              "      <td>...</td>\n",
              "      <td>...</td>\n",
              "      <td>...</td>\n",
              "      <td>...</td>\n",
              "      <td>...</td>\n",
              "    </tr>\n",
              "    <tr>\n",
              "      <th>507</th>\n",
              "      <td>0.0</td>\n",
              "      <td>-0.303468</td>\n",
              "      <td>-0.484767</td>\n",
              "      <td>0.197743</td>\n",
              "      <td>0.054196</td>\n",
              "      <td>0.990962</td>\n",
              "      <td>0.726134</td>\n",
              "      <td>-0.804109</td>\n",
              "      <td>-0.747160</td>\n",
              "      <td>-0.521287</td>\n",
              "      <td>2.047135</td>\n",
              "      <td>-1.127411</td>\n",
              "      <td>0</td>\n",
              "      <td>-0.806902</td>\n",
              "      <td>-0.824349</td>\n",
              "      <td>Metropolitan Middle Class</td>\n",
              "    </tr>\n",
              "    <tr>\n",
              "      <th>508</th>\n",
              "      <td>0.0</td>\n",
              "      <td>-0.391487</td>\n",
              "      <td>-0.484767</td>\n",
              "      <td>0.197743</td>\n",
              "      <td>0.054196</td>\n",
              "      <td>0.990962</td>\n",
              "      <td>0.263033</td>\n",
              "      <td>-0.538915</td>\n",
              "      <td>-0.747160</td>\n",
              "      <td>-0.521287</td>\n",
              "      <td>2.047135</td>\n",
              "      <td>0.983412</td>\n",
              "      <td>0</td>\n",
              "      <td>-0.718884</td>\n",
              "      <td>0.231062</td>\n",
              "      <td>Metropolitan Middle Class</td>\n",
              "    </tr>\n",
              "    <tr>\n",
              "      <th>509</th>\n",
              "      <td>0.0</td>\n",
              "      <td>-0.366969</td>\n",
              "      <td>-0.484767</td>\n",
              "      <td>0.197743</td>\n",
              "      <td>0.054196</td>\n",
              "      <td>-0.233493</td>\n",
              "      <td>1.046742</td>\n",
              "      <td>-0.380084</td>\n",
              "      <td>-0.747160</td>\n",
              "      <td>-0.521287</td>\n",
              "      <td>2.047135</td>\n",
              "      <td>3.305317</td>\n",
              "      <td>0</td>\n",
              "      <td>-1.967855</td>\n",
              "      <td>1.392015</td>\n",
              "      <td>Metropolitan Middle Class</td>\n",
              "    </tr>\n",
              "    <tr>\n",
              "      <th>510</th>\n",
              "      <td>0.0</td>\n",
              "      <td>-0.328015</td>\n",
              "      <td>-0.484767</td>\n",
              "      <td>0.227062</td>\n",
              "      <td>0.054196</td>\n",
              "      <td>-0.092045</td>\n",
              "      <td>-1.233140</td>\n",
              "      <td>-0.591858</td>\n",
              "      <td>-0.747160</td>\n",
              "      <td>-0.467633</td>\n",
              "      <td>2.047135</td>\n",
              "      <td>4.677352</td>\n",
              "      <td>3</td>\n",
              "      <td>-1.865362</td>\n",
              "      <td>2.104860</td>\n",
              "      <td>Balancing Life and Work</td>\n",
              "    </tr>\n",
              "    <tr>\n",
              "      <th>511</th>\n",
              "      <td>0.0</td>\n",
              "      <td>-0.342427</td>\n",
              "      <td>-0.484767</td>\n",
              "      <td>0.241722</td>\n",
              "      <td>0.054196</td>\n",
              "      <td>0.676633</td>\n",
              "      <td>-0.057576</td>\n",
              "      <td>-0.380084</td>\n",
              "      <td>-0.747160</td>\n",
              "      <td>-0.372246</td>\n",
              "      <td>2.047135</td>\n",
              "      <td>0.139083</td>\n",
              "      <td>0</td>\n",
              "      <td>-1.082273</td>\n",
              "      <td>-0.116582</td>\n",
              "      <td>Metropolitan Middle Class</td>\n",
              "    </tr>\n",
              "  </tbody>\n",
              "</table>\n",
              "<p>511 rows × 16 columns</p>\n",
              "</div>"
            ],
            "text/plain": [
              "     CHAS_1.0      CRIM  ...      cost               cluster_name\n",
              "SUB                      ...                                     \n",
              "1         0.0 -0.418162  ... -0.262642  Metropolitan Middle Class\n",
              "2         0.0 -0.415709  ... -0.550255       Balancing Everything\n",
              "3         0.0 -0.415712  ...  0.141039       Balancing Everything\n",
              "4         0.0 -0.415118  ...  0.012821       Balancing Everything\n",
              "5         0.0 -0.410831  ...  0.160579       Balancing Everything\n",
              "..        ...       ...  ...       ...                        ...\n",
              "507       0.0 -0.303468  ... -0.824349  Metropolitan Middle Class\n",
              "508       0.0 -0.391487  ...  0.231062  Metropolitan Middle Class\n",
              "509       0.0 -0.366969  ...  1.392015  Metropolitan Middle Class\n",
              "510       0.0 -0.328015  ...  2.104860    Balancing Life and Work\n",
              "511       0.0 -0.342427  ... -0.116582  Metropolitan Middle Class\n",
              "\n",
              "[511 rows x 16 columns]"
            ]
          },
          "metadata": {
            "tags": []
          },
          "execution_count": 32
        }
      ]
    },
    {
      "cell_type": "code",
      "metadata": {
        "colab": {
          "base_uri": "https://localhost:8080/",
          "height": 542
        },
        "id": "dLqgRkofn1G7",
        "outputId": "15fb7915-cfa8-441a-ca5e-f10a6eae60a2"
      },
      "source": [
        "px.scatter(data_frame = data_res, x = 'cost', y = 'utility', color = 'cluster_name')\n"
      ],
      "execution_count": 33,
      "outputs": [
        {
          "output_type": "display_data",
          "data": {
            "text/html": [
              "<html>\n",
              "<head><meta charset=\"utf-8\" /></head>\n",
              "<body>\n",
              "    <div>            <script src=\"https://cdnjs.cloudflare.com/ajax/libs/mathjax/2.7.5/MathJax.js?config=TeX-AMS-MML_SVG\"></script><script type=\"text/javascript\">if (window.MathJax) {MathJax.Hub.Config({SVG: {font: \"STIX-Web\"}});}</script>                <script type=\"text/javascript\">window.PlotlyConfig = {MathJaxConfig: 'local'};</script>\n",
              "        <script src=\"https://cdn.plot.ly/plotly-latest.min.js\"></script>                <div id=\"d382655f-b392-4c6f-920d-9cdc4f1ac025\" class=\"plotly-graph-div\" style=\"height:525px; width:100%;\"></div>            <script type=\"text/javascript\">                                    window.PLOTLYENV=window.PLOTLYENV || {};                                    if (document.getElementById(\"d382655f-b392-4c6f-920d-9cdc4f1ac025\")) {                    Plotly.newPlot(                        \"d382655f-b392-4c6f-920d-9cdc4f1ac025\",                        [{\"hovertemplate\": \"cluster_name=Metropolitan Middle Class<br>cost=%{x}<br>utility=%{y}<extra></extra>\", \"legendgroup\": \"Metropolitan Middle Class\", \"marker\": {\"color\": \"#636efa\", \"symbol\": \"circle\"}, \"mode\": \"markers\", \"name\": \"Metropolitan Middle Class\", \"orientation\": \"v\", \"showlegend\": true, \"type\": \"scatter\", \"x\": [-0.26264185386993055, -0.275977206463589, -0.05434079974202577, -0.6137088738488278, -0.48705949857936326, -0.6928647333922432, -0.48705949857936326, -0.41982691309946246, -0.5359221737631383, -0.44621219961393427, -0.5728615748833987, -0.5359221737631383, -0.7786668096962788, -0.4620433715226172, -0.6942338928499691, -0.7311732939702296, -0.6731256636383915, -0.7628356377875957, -0.6203550906094479, -0.7153421220615463, -0.5253680591573496, -0.38816456928209625, -0.826160325422328, -0.7311732939702296, -0.7997750389078562, -0.8050520962107506, -0.7839438669991732, -0.5824456910874798, -0.5243980607556418, -0.5780957131138753, -0.7205762602920229, -0.3933987075125727, -0.3126311889110046, -0.3612513644943525, -0.09212144204674039, -0.41402193752329614, -0.44568428134066235, -0.5195630835811833, -0.45946171406275677, 0.4534691993379674, 0.16323104767877766, -0.3101353695959797, -0.2837500830815079, -0.3365206561104515, -0.23097951005256434, 0.048704527000836495, -0.3984332652150401, -0.530359697787399, -0.440649723638195, -0.5672990989076595, -0.0742365309514686, -0.4541846567598623, -0.37502879721644694, -0.0873723030171179, -0.3512251681618358, -0.04515584459396299, 0.09204764528129039, 0.8677750688067608, 1.1421820485572676, 0.48782694299836726, 0.17120350482470575, -0.21402167828658242, 0.1764805621276, 0.704186292417036, 1.0524720744080631, 0.03400001494945237, -0.22985285019526552, -0.1718052198634275, 0.16592644752181135, -0.45652381461929586, -0.49902569171529565, -0.45153217598924644, -0.34599102993135933, 1.0140068523744858, 0.27521882996927594, -0.03612755090149111, 0.1591235693055999, 0.6498898984747755, 0.9506821647397535, 0.01136596482455804, 0.30160411648374774, -0.004465207084125067, 1.0140068523744858, -0.3021199933776337, -0.43404642594999265, -0.48153994167604197, -0.36544468101236594, -0.2493494203486901, -0.6504057753686614, -0.5659728585223516, -0.4604317124644644, -0.28628882146895057, -0.39710702482973215, -0.579707372172028, -0.4156335965814491, -0.5106206280335474, -0.33647773703803374, -0.43674182579302645, -0.9697246133853565, -0.8243490858361662, 0.2310623747427054, 1.3920149813794642, -0.1165817465918772], \"xaxis\": \"x\", \"y\": [2.431675491446504, 1.7847215277562116, 2.0067489499346256, 1.2259909529928792, 1.7637367398459824, 1.6773150603008864, 1.7770247710367628, -1.128637004138607, -0.9195664879996658, -1.2926683321428871, -1.088107901528684, -1.457048316754549, -1.742840703472503, -1.1317559958194052, -0.9233273310091121, -1.3648695070701833, -1.1784398082759133, -1.6533410214659947, -1.3278757972213118, -1.0267206025056144, -0.36526985537620005, -0.13633882831965338, -1.5243871695347602, -1.0376292307611932, -1.215827409034221, -1.5439762710346363, -1.0335045898045154, 0.2654665745261691, -0.06332375553889885, -0.04040778703379566, 0.27844816075859247, 0.9857253865157086, 1.779111834755918, 2.331087399497432, 2.434377116052667, 1.4892549672011846, 1.4729886610096738, 1.2847296208014525, 1.4733561852712658, 4.131902553754964, 3.2050214743110725, 0.6347647278095763, 1.846180221645954, 1.0512107876715249, 1.7062610195559518, 2.4835172178306895, 0.19550364035507337, 0.5468019418263563, 1.457457009330629, 0.6395324255248465, 1.9153648261656921, 1.92334560233731, 2.5258696368320086, 3.241552914701472, 2.111313058743569, 3.107654444600423, 1.735781509901499, 4.151422861733781, 4.782496353026131, 3.820712773351006, 2.564148857597092, 0.8607798963916915, 2.914000493456462, 4.196439874687581, 4.096347548236952, 2.9095822690001314, 1.008899019988418, 2.7653558987740077, 2.805092934718872, 2.0976935229956073, 0.2054291695180645, 0.22429831255506605, 1.1109508354116842, 5.502895560231453, 3.5379805073514667, 2.8372571698842775, 3.366663206219922, 3.820282765510211, 5.076375039469003, 3.510503145620911, 3.369785421667146, 3.067922377333453, 5.550283325996084, 0.9981889493459483, 0.06769684621696384, 0.15081524318870995, 0.49710709846081297, 0.9154996799376633, -0.30258278974648034, -0.01153333879222427, -0.19159290143391275, 0.6473417092880973, 0.2544185359095922, -0.4050279391023887, -0.44605353946073567, -1.1198318502183506, 0.10138318004478997, -0.16435967721930345, -1.2486710895794704, -0.8069019437772449, -0.7188835153996171, -1.967854885678261, -1.0822725116689684], \"yaxis\": \"y\"}, {\"hovertemplate\": \"cluster_name=Balancing Everything<br>cost=%{x}<br>utility=%{y}<extra></extra>\", \"legendgroup\": \"Balancing Everything\", \"marker\": {\"color\": \"#EF553B\", \"symbol\": \"circle\"}, \"mode\": \"markers\", \"name\": \"Balancing Everything\", \"orientation\": \"v\", \"showlegend\": true, \"type\": \"scatter\", \"x\": [-0.5502554289968415, 0.14103907768231938, 0.012820962427119609, 0.16057856690816186, -0.23520073080891513, -0.31322993049503145, -0.38183167543265817, -0.4134940192500244, -0.5981910248513269, -0.6984551136063196, -0.6615157124860591, -0.8409356607844672, -0.9570309214481432, -0.6931780563034253, -0.6475386992359559, -0.605322240812801, -0.3678546621825549, -0.4522875790288647, -0.026172177879729475, -0.41397901845087837, -0.2714984712727305, -0.48785782069139927, -0.5036889926000824, -0.6901113996427108, -0.7798213737919149, -0.7692672591861262, -0.9381330928787457, -0.8589772333353303, -0.721773743460077, -1.0225660097250553, 0.1269054029766249, 0.2641088928518779, 0.07413482994768128, 0.16384480409688518, -0.12111629025941006, -0.443016785735966, -0.2741509520433464, 0.8023687377471025, -0.6543844965245852, -0.6332762673130076, -0.41691691789433905, -0.45913337631749396, 0.11078881239509697, 0.08464602548105205, 0.6281829276791708, 0.10047719738973504, 0.659845271496537, 0.15530150960526745, -0.25103190271759823, 0.012820962427119609, -0.26158601732338693, -0.572247818465291, -0.6514036780087065, -0.6302954487971288, -0.7147283656434387, -0.7674989386723823, -0.6566807353116006, -0.7411136521579105, -0.7569448240665936], \"xaxis\": \"x\", \"y\": [1.6708682082580315, 2.7624493310712497, 2.180737441239236, 2.389336854338256, 1.3694917209548523, 2.2946098762254494, 1.43427700022501, 1.4921978460180148, 1.29359864046023, 0.7349700219021382, 0.8815820126602756, 1.2254200028368734, 0.3209922085490939, 0.6150176057413981, 1.7246562562874672, 1.947130511227292, 2.5117270111756946, 1.7792119662823178, 2.7429064099827833, 1.4775990229432605, 1.8211420371559013, 0.9430890041266726, 1.0922441335263093, -0.6848963000841225, -0.4937522734004712, -0.5576834410916978, -0.7144116207611748, -0.6754852407203903, -0.5308503507058091, -1.089298449657771, 2.3010511893375636, 3.421689742437573, 1.1053061146927612, 2.547201795059103, 1.7003133820837275, 0.33211172665761496, 1.1191479573888918, 3.5171408343591386, 1.6271211631064944, 0.5113101156080996, 1.0759749513733268, 1.5073006248778027, 4.142131681725484, 3.753953375538946, 5.2145581783282475, 3.997099372213764, 5.961542254407153, 2.533066590175049, 1.6472724786576423, 2.793636407879506, 1.980814746573846, 0.02697721538668829, 0.01997659435347343, -0.37033771585418557, -0.6097466273372406, -0.572147515401445, -0.33813927864702187, -0.44642887522193936, -0.4714823034475262], \"yaxis\": \"y\"}, {\"hovertemplate\": \"cluster_name=Balancing Life and Work<br>cost=%{x}<br>utility=%{y}<extra></extra>\", \"legendgroup\": \"Balancing Life and Work\", \"marker\": {\"color\": \"#00cc96\", \"symbol\": \"circle\"}, \"mode\": \"markers\", \"name\": \"Balancing Life and Work\", \"orientation\": \"v\", \"showlegend\": true, \"type\": \"scatter\", \"x\": [-0.33930189409832123, -0.2773463659213147, -0.43038102770525116, -0.47162748772669816, -0.276376367519607, -0.3353510771807347, -0.5306021973878259, -0.24564110303153067, -0.2252603726212341, -0.3571868051935931, -0.29913917486175506, -0.267476831044389, -0.09627183949233581, -0.26513767318495524, -0.36540176193994817, -0.3981907656146132, -0.28737256225383156, -0.0900677028601517, 0.7225991217855794, 0.02231924048636469, -0.30485831229308546, -0.39315620791214567, -0.29816917646004737, -0.29816917646004737, -0.40371032251793454, -0.10291805625295597, -0.3351085775803078, -0.26650683264268116, -0.35919762530776383, 0.9680391575617538, 0.16592644752181135, -0.2665497517150991, -0.28765798092667644, -0.35625972586430316, -0.34570561125851446, -0.2665497517150991, -0.134908737815585, -0.4213527340127793, 0.6709981276863527, -0.35625972586430316, -0.3138007678407214, -0.36129428356677057, -0.2293678509944116, -0.2887846407839755, -0.4048799014476513, -0.040762947547940465, -0.11991880709135583, -0.4787587036881722, -0.6556828326715556, -0.33905939449789413, -0.300023335118627, -0.33696273623888745, -0.47944328341703524, -0.23669864748389471, -0.2578068766954721, -0.34223979354178186, -0.38445625196493677, -0.602912259642612, -0.48153994167604197, 0.160692309291335, 2.104859797398638], \"xaxis\": \"x\", \"y\": [1.6083414071049829, -1.198215208241655, -1.853233418473688, -0.048442881879301514, 0.10620147453309065, 0.5362149267697492, 0.23072405732154533, 0.6946458309501237, 1.5072665278640816, 0.847508515641249, 1.0039451343846526, 1.2489974584406036, 1.9338266820059462, 1.3271308822269101, 1.1343734228290183, 1.5605882107102214, 1.2320949108907158, 2.0686200784308166, 3.780692814431533, 2.0348583393481783, 1.2829079310131946, 0.36331799158545397, 0.9739310311490521, 1.6105591451282844, 1.2338613712104447, 1.0543625315394756, -0.3389591804101066, 0.7718899076349172, 1.840940698766002, 3.3247406575121747, 1.6877354175862185, 2.651965620345358, 2.8293835119429835, 3.2427274903364673, 2.473835860377694, 2.520959401759851, 1.4104669021404797, 0.9933080250681254, 4.3731147559518035, 3.5502595048521597, 2.4681096256197312, 2.618718697109978, 2.97625315577727, 2.3409815802459093, 2.1724640895116556, 3.1227781518844613, 2.947302928126776, 1.8526635068586164, -1.6268311700228164, 0.2304684031235016, 0.6344225759846872, 0.561349073336234, 0.06289538955591956, 0.5984292454073733, 0.6387309953730881, 0.45566302610388176, 0.13577290490964622, 1.3260195661238283, 1.792188945424078, 4.124824057585839, -1.8653617447670174], \"yaxis\": \"y\"}, {\"hovertemplate\": \"cluster_name=City Economy Plan<br>cost=%{x}<br>utility=%{y}<extra></extra>\", \"legendgroup\": \"City Economy Plan\", \"marker\": {\"color\": \"#ab63fa\", \"symbol\": \"circle\"}, \"mode\": \"markers\", \"name\": \"City Economy Plan\", \"orientation\": \"v\", \"showlegend\": true, \"type\": \"scatter\", \"x\": [-0.03495797197177436, 0.18140137744689422, 0.1302853825485214, 0.01918176051489512, 0.01962384064333106, -0.08591730541455606, 0.9871794857315782, 0.8156182521959252, 0.8947741117393404, 0.6377670438832517, 0.05543658190629258, 0.03432835269471518, 0.0976530403294476, 0.0923759830265532, -0.11870630908922108, 0.8172728303264957, 0.13728784129274196, -0.6323921070561356, -0.1771960195494951, 0.28718502310520827, -0.2088583633668613, -0.283949663609517, -0.2656505766241464], \"xaxis\": \"x\", \"y\": [2.047888873210696, 2.660133780713145, 3.3829872848440776, 3.96851626920213, 3.8041218510768458, 3.5249575498139194, 5.704595968214181, 5.58541566770665, 5.845776997963798, 4.663584430218041, 3.430919360584414, 2.5634527883627225, 4.152523009722449, 3.527511074661356, 2.0338514859942203, 7.319268133753534, 4.362260712312189, 1.9460865932610703, 2.165223594681709, 2.570156162956357, 1.8350461063151216, 2.637143822722431, 2.986795614543406], \"yaxis\": \"y\"}, {\"hovertemplate\": \"cluster_name=Parent's favorite<br>cost=%{x}<br>utility=%{y}<extra></extra>\", \"legendgroup\": \"Parent's favorite\", \"marker\": {\"color\": \"#FFA15A\", \"symbol\": \"circle\"}, \"mode\": \"markers\", \"name\": \"Parent's favorite\", \"orientation\": \"v\", \"showlegend\": true, \"type\": \"scatter\", \"x\": [-0.0160901730705382, 0.0794247766548322, -0.13165751546094212, -0.13693457276383653, -0.14748868736962523, -0.15804280197541387, -0.005008140191477592, -0.11054928624936476, -0.04722459861463249, -0.10527222894647033, -0.2539569127568023, -0.15896988130470383, -0.35422100151179503, -0.09564519366997157, -0.074536964458394, 0.10488298384001409, -0.13786165209312645, -0.2856192565741684, -0.1536928240018094, -0.19063222512207006, -0.20646339703075295, -0.4069915745407386, -0.1695239959104925, -0.37005217342047814, -0.3489439442089007, -0.11123386597822761, 0.06290902501728625, -0.0848485794637558, -0.28283801858629876], \"xaxis\": \"x\", \"y\": [-0.07812953905118403, 1.4052313574227229, 0.2567355118886263, 0.500934099660318, 0.7417224261147206, 0.2725511227789726, 0.6315326022077772, 0.40780615380222, 0.19730399333703158, -0.005809607787115312, -2.2886168353605365, -1.2419325852658865, -2.4413366379682273, -1.2050657494388848, -1.493344652913273, -1.3571577258827885, -2.112565411079803, -2.2809783781453032, -1.364816269647408, -1.9402740734874815, -1.2122148947202132, -2.0532060821199942, -1.6675940822101718, -1.6050902312739834, -3.411667521939802, 1.3637717712846733, 2.028023853823653, 1.7605345985391359, 2.2801518707394646], \"yaxis\": \"y\"}, {\"hovertemplate\": \"cluster_name=Rural Middle Class<br>cost=%{x}<br>utility=%{y}<extra></extra>\", \"legendgroup\": \"Rural Middle Class\", \"marker\": {\"color\": \"#19d3f3\", \"symbol\": \"circle\"}, \"mode\": \"markers\", \"name\": \"Rural Middle Class\", \"orientation\": \"v\", \"showlegend\": true, \"type\": \"scatter\", \"x\": [-0.17502853797973322, -0.1668135812333781, -0.38317293065204683, -0.22212289264976437, -0.4648675285829049, -0.2801705229816024, 0.04667869205258514, 0.46356621898123934, 0.3474709583175635, 0.6166008807651756, 0.7274190841259572, 0.384410359437824, 0.695756740308591, 0.32649148632323965, 0.16817976723640918, 0.3950932312608666, 0.6285241548286902, 0.5229830087708031, -0.10236223374134684, 0.858062195385426, -0.1454628524213737, -0.04519876366638095, -0.14018579511847945, -0.1190775659069019, 0.1342211846320273, 0.8307927486140823, -0.31682450542901797, -0.3695950784579616, -0.15698696542887025, 0.186021759259263, -0.03561464746229999, -0.2698159889038226, -0.03762546757647092, 0.3159373717174512, -0.04733834099780565, 0.3378868421134825, -0.43872474166886, -0.14619035122265453, -0.009186441875410234, -0.20443756208250163, 0.08542933275900746, -0.2048088189001822, -0.45544007383441504, -0.32879069856495036], \"xaxis\": \"x\", \"y\": [2.3569905475852075, 2.872400222453535, 2.152800729366915, 0.9119089021888165, 0.497063327386653, 0.9136973757038236, 1.3217316913617634, 3.641215665770986, 3.3128162232990928, 4.216430649278255, 3.8812831299939807, 3.580905328141423, 4.2060856564341815, 5.836514723978565, 5.578570935887702, 5.818224749000624, 3.398782583413048, 3.6289890142330132, 3.1789937322082027, 5.249331851714603, 0.9256124969539052, 1.8145872708702497, 1.4904359283390214, 1.4118019865783074, 2.168746257372408, 3.9954902874255063, 2.526529987623835, 2.196541300227672, 3.521647229012074, 4.517127518518493, 4.275574016828747, 2.9972583141420808, 2.854829502545666, 3.549781667179139, 2.024771267628475, 2.2785005849318827, 0.8683751718220138, 2.1093467246873105, 1.8936587511866003, 1.2482709541230026, 2.1665394443085657, 1.1743708012283314, -0.8385091180253695, -0.4558864419803361], \"yaxis\": \"y\"}, {\"hovertemplate\": \"cluster_name=City Gang<br>cost=%{x}<br>utility=%{y}<extra></extra>\", \"legendgroup\": \"City Gang\", \"marker\": {\"color\": \"#FF6692\", \"symbol\": \"circle\"}, \"mode\": \"markers\", \"name\": \"City Gang\", \"orientation\": \"v\", \"showlegend\": true, \"type\": \"scatter\", \"x\": [-0.09580185512556268, -0.16968065736608362, -0.1274641989429287, -0.10635596973135135, -0.15384948545740051, 0.18436718112869227, 0.1315966080997487, -0.2852909188289055, -0.24835151770864505, -0.20613505928549014, -0.23779740310285635, -0.23779740310285635, -0.1903038873768072, -0.22196623119417325, -0.24307446040575076, -0.12170214243918051, -0.503062346777718, -0.3869670861140422, -0.5874952636240277, -0.4819541175661406, -0.3869670861140422, -0.43973765914298574, -0.27087182545036625, -0.3975212007198309, -0.07562070524327505, -0.17588479399826776, -0.4027982580227252, -0.18643890860405662, -0.31308828387352117, -0.3869670861140422, -0.5188935186864011, 0.9692366407298078, 0.07213689923776702, 0.01936632620882344, 0.21461744641591465, 1.428340626081617, 1.428340626081617, 1.428340626081617, -0.012296017608542783, 0.10907630035802748, 1.428340626081617, 0.04575161272329523, 0.04575161272329523, -0.03340424682012014, -0.2919800546619438, -0.20227008051273956, -0.4545559135775431, -0.09555935552513561, 0.04692119165301202, -0.026957610587508916, -0.2063775588859172, -0.28025636112643815, -0.12722169934250183, -0.32247281954959306, -0.35941222066985345], \"xaxis\": \"x\", \"y\": [1.3384169537268364, 1.3276663998655274, 1.1307576741753869, 1.2657819199869609, 0.7510793789826704, 0.24091967307563467, 0.32208668210606883, -0.22850543449801886, -0.6094108403627582, -0.5581315313752723, -1.0088064360532472, -1.034747047209636, -0.6142969852864826, -0.1181463135908748, -0.4840440893218536, -0.5144245513957589, -1.2480021744052792, -2.2458692244065994, -2.899119846264042, -1.0992241567195973, -1.7902515127012886, -2.8182079664475395, -2.442330217172208, -1.9022053923972333, -1.0261830706366548, -2.033305580718683, -1.550168783332421, -1.673835236857843, 0.012190045418772222, -0.20286177872055822, -2.3329775931153116, 2.506532425442895, 1.2395641748894521, -0.44475483907775315, 2.5105663777231597, 3.2586151603107343, 4.662527380312147, 5.517998307943623, 0.8315327138535967, 1.1047708091482986, 3.8233615919718194, 0.9160630862042866, 1.4891263493747255, 1.5902843233596002, 0.9824968771138722, 0.86031934720161, 0.6990745181296756, -1.0101930490565527, -0.7097121309998062, -1.0637213244719883, -1.4767040723817557, -0.8970016661274405, -0.5721090536260475, -1.2078913202786703, -0.5535100631350811], \"yaxis\": \"y\"}, {\"hovertemplate\": \"cluster_name=Super Rich Class<br>cost=%{x}<br>utility=%{y}<extra></extra>\", \"legendgroup\": \"Super Rich Class\", \"marker\": {\"color\": \"#B6E880\", \"symbol\": \"circle\"}, \"mode\": \"markers\", \"name\": \"Super Rich Class\", \"orientation\": \"v\", \"showlegend\": true, \"type\": \"scatter\", \"x\": [0.513083444225716, 0.7188886790385959, 0.7716592520675395, 0.7663821947646452, 0.8930315700341097, 0.6239016475864974, 0.6713951633125468, 0.46031287119677244, 0.7294427936443846, 1.0249580026064686, 0.7294427936443846, 0.792767481279117, 2.2122958957576992, 2.2122958957576992, 2.2122958957576992, 2.2122958957576992, 2.2122958957576992, 0.30200115210994166, 0.30200115210994166, 0.3653258397446739, 0.307278209412836, 0.2756158655954699, 0.2650617509896811, 0.11202708920574478, 0.12258120381153348, 0.14896649032600529, 0.17007471953758269, 0.2228452925665263, 0.038148286965223765, -0.04628462988108606, 0.12785826111442788, -0.03573051527529725, 0.11202708920574478, 0.1806288341433714, 0.37060289704756827, 0.7980445385820113, 0.08564180269127297, 0.30200115210994166, 0.2439535217781037, 0.2650617509896811, 0.233399407172315, 0.02231711505654066, -0.16237989054476187, -0.09377814560713515, -0.13071754672739577, -0.04628462988108606, 0.2122911779607376, 0.01176300045075196, 0.02231711505654066, -0.16237989054476187, 0.2017370633549489, 1.046066231818046, 0.4814211004083498, 1.0249580026064686, 0.3653258397446739, 0.4814211004083498, 0.5183605015286102, 0.43392758468230064, -0.05683874448687465, -0.04628462988108606, -0.030453457972402953, 0.12258120381153348, 0.038148286965223765, 0.017040057753646365, 0.455035813893878, 0.32310938132151906, 0.6713951633125468, 0.28089292289836426, 0.1911829487491601, 0.01176300045075196, 0.11202708920574478, 0.14896649032600529, 0.15424354762889958, 0.07508768808548427, 0.33894055323020217, 0.3178323240186247, 0.42337347007651194, 0.32838643862441347, 0.1911829487491601, 0.28089292289836426, 0.08036474538837857, 0.03287122966232936, 0.017040057753646365, 0.2492305790809981, 0.12785826111442788, 0.47614404310545555, 0.544745788043082, 0.3864340689562514, 0.143689433023111, 0.1964600060520545, 0.3600487824417796, 0.2386764644752093, 0.3178323240186247, 0.2597846936867868, 0.28089292289836426, 0.3758799543504626, 0.42337347007651194, 0.513083444225716, 0.3600487824417796, 0.3178323240186247, 0.2439535217781037, 0.28616998020125856, 0.3600487824417796, 0.6291787048893919, 0.4392046419851949, 0.5078063869228215, 0.6027934183749201, 0.6397328194951806, 0.7030575071299128, 0.6239016475864974, 0.5764081318604483, 0.5816851891633427, 0.5816851891633427, 0.6344557621922863, 0.6239016475864974, 0.6080704756778145, 0.7980445385820113, 1.146330320573039, 0.30200115210994166, 0.2756158655954699, 0.455035813893878, 0.2070141206578432, 0.3442176105330965, 0.7030575071299128, 0.7874904239762226, 0.824429825096483, 0.8930315700341097, 0.7241657363414903, 0.6608410487067581, 0.6925033925241241, 0.5816851891633427, 0.6608410487067581, 0.5100167875650015, 0.0772980887276642, 0.1353457190595021, 0.42558387071869175, 0.7685925954068251], \"xaxis\": \"x\", \"y\": [-2.3791681858340943, -1.5177468190664993, -2.058681693524919, -2.970195659633793, -2.594364678437584, -2.721986387172626, -3.9736222474853156, -2.4071361566262404, 2.3851431836944483, -6.198009552870652, -4.09448930076724, -6.059245996934162, -3.46966026220781, -0.11238111385357819, 0.2618587885869189, -2.1959668342690613, -1.8915740031558288, -4.608078484005607, -6.569100431804767, -2.1886421931749394, -2.6323096750897563, -1.786466195142152, -3.9937581394139765, -3.5423539668792468, -10.788942280229264, -2.849437857242493, -3.7612106695773773, -3.644457454663722, -6.703716441443571, -5.022418230614102, -6.8015549243236, -6.094351864277829, -5.300007801889484, -3.848811031625805, -3.248283987993214, -2.570282033685522, -4.755032076055637, -2.6983672318176346, -3.6866470308753283, -2.3095836458587833, -2.0714041160623045, -3.221907455356538, -7.227706696874711, -3.3342193381643597, -4.909622594163156, -3.137559257044686, -2.5080407623311016, -5.7926120201920694, -7.487625779726035, -10.35500754502577, -6.750205221003501, -3.625483092585303, -2.5429544870549488, -1.6005822861756411, -7.454154022995685, -1.8338907721696964, -5.289227734974728, -5.686891501226755, -9.426395020676255, -3.3357975008674705, -1.9911857607926615, -5.8684861830117265, -10.498056349071648, -2.38404465215668, -2.889402170751165, -2.9929729752342324, -3.1890460268145886, -1.954834163324858, -2.6666515911349915, -3.8445065899673234, -2.6818439050229745, -5.955395520617024, -2.427509231465791, -2.390784103735308, -1.5128644696322207, -1.0034277444193602, -1.1634771665365826, -2.166719192752207, -3.466330822751138, -2.7774398431755176, -3.3985366037734903, -3.9284312184109664, -4.063264511836719, -4.002221122693775, -5.209036251123838, -2.9281949312499393, -2.7211124368521458, -2.843648413772743, -4.076634395153768, -2.963224614322209, -2.619464777155244, -3.1731075599420646, -2.9633949583797574, -2.4211833201227226, -1.8523623254444614, -1.8374644802189861, -2.3079433388884603, -1.1110998016253708, -2.2091422767515194, -1.9427033858707614, -2.7173331895185764, -3.1872620445822526, -2.6133601864674025, -2.816532711944922, -1.6982247423037165, -2.0317873566051308, -2.462250283988361, -2.0847637332297846, -2.251500447299538, -2.3479648681985616, -2.1436685132302893, -1.5301201345770554, -2.9089834448224856, -2.921049977669932, -1.2524898160579236, -0.7109527325198519, -0.7755460162957641, -0.42088871829244834, -2.7777620007953243, -1.5332906482750563, -1.1557987513573318, -4.028272821260381, -2.209643593618418, -2.626052745920532, -0.9010732010880138, -0.16172124457334325, 0.279939797905301, -1.2355947264859766, -1.4711753236756953, -0.992455208226747, -1.5112171533787826, -1.7097741483646907, -1.9868132764696123, -2.0477636491259656, -2.5092137429570895, -1.2257215194344768, -1.2263736896005222], \"yaxis\": \"y\"}],                        {\"legend\": {\"title\": {\"text\": \"cluster_name\"}, \"tracegroupgap\": 0}, \"margin\": {\"t\": 60}, \"template\": {\"data\": {\"bar\": [{\"error_x\": {\"color\": \"#2a3f5f\"}, \"error_y\": {\"color\": \"#2a3f5f\"}, \"marker\": {\"line\": {\"color\": \"#E5ECF6\", \"width\": 0.5}}, \"type\": \"bar\"}], \"barpolar\": [{\"marker\": {\"line\": {\"color\": \"#E5ECF6\", \"width\": 0.5}}, \"type\": \"barpolar\"}], \"carpet\": [{\"aaxis\": {\"endlinecolor\": \"#2a3f5f\", \"gridcolor\": \"white\", \"linecolor\": \"white\", \"minorgridcolor\": \"white\", \"startlinecolor\": \"#2a3f5f\"}, \"baxis\": {\"endlinecolor\": \"#2a3f5f\", \"gridcolor\": \"white\", \"linecolor\": \"white\", \"minorgridcolor\": \"white\", \"startlinecolor\": \"#2a3f5f\"}, \"type\": \"carpet\"}], \"choropleth\": [{\"colorbar\": {\"outlinewidth\": 0, \"ticks\": \"\"}, \"type\": \"choropleth\"}], \"contour\": [{\"colorbar\": {\"outlinewidth\": 0, \"ticks\": \"\"}, \"colorscale\": [[0.0, \"#0d0887\"], [0.1111111111111111, \"#46039f\"], [0.2222222222222222, \"#7201a8\"], [0.3333333333333333, \"#9c179e\"], [0.4444444444444444, \"#bd3786\"], [0.5555555555555556, \"#d8576b\"], [0.6666666666666666, \"#ed7953\"], [0.7777777777777778, \"#fb9f3a\"], [0.8888888888888888, \"#fdca26\"], [1.0, \"#f0f921\"]], \"type\": \"contour\"}], \"contourcarpet\": [{\"colorbar\": {\"outlinewidth\": 0, \"ticks\": \"\"}, \"type\": \"contourcarpet\"}], \"heatmap\": [{\"colorbar\": {\"outlinewidth\": 0, \"ticks\": \"\"}, \"colorscale\": [[0.0, \"#0d0887\"], [0.1111111111111111, \"#46039f\"], [0.2222222222222222, \"#7201a8\"], [0.3333333333333333, \"#9c179e\"], [0.4444444444444444, \"#bd3786\"], [0.5555555555555556, \"#d8576b\"], [0.6666666666666666, \"#ed7953\"], [0.7777777777777778, \"#fb9f3a\"], [0.8888888888888888, \"#fdca26\"], [1.0, \"#f0f921\"]], \"type\": \"heatmap\"}], \"heatmapgl\": [{\"colorbar\": {\"outlinewidth\": 0, \"ticks\": \"\"}, \"colorscale\": [[0.0, \"#0d0887\"], [0.1111111111111111, \"#46039f\"], [0.2222222222222222, \"#7201a8\"], [0.3333333333333333, \"#9c179e\"], [0.4444444444444444, \"#bd3786\"], [0.5555555555555556, \"#d8576b\"], [0.6666666666666666, \"#ed7953\"], [0.7777777777777778, \"#fb9f3a\"], [0.8888888888888888, \"#fdca26\"], [1.0, \"#f0f921\"]], \"type\": \"heatmapgl\"}], \"histogram\": [{\"marker\": {\"colorbar\": {\"outlinewidth\": 0, \"ticks\": \"\"}}, \"type\": \"histogram\"}], \"histogram2d\": [{\"colorbar\": {\"outlinewidth\": 0, \"ticks\": \"\"}, \"colorscale\": [[0.0, \"#0d0887\"], [0.1111111111111111, \"#46039f\"], [0.2222222222222222, \"#7201a8\"], [0.3333333333333333, \"#9c179e\"], [0.4444444444444444, \"#bd3786\"], [0.5555555555555556, \"#d8576b\"], [0.6666666666666666, \"#ed7953\"], [0.7777777777777778, \"#fb9f3a\"], [0.8888888888888888, \"#fdca26\"], [1.0, \"#f0f921\"]], \"type\": \"histogram2d\"}], \"histogram2dcontour\": [{\"colorbar\": {\"outlinewidth\": 0, \"ticks\": \"\"}, \"colorscale\": [[0.0, \"#0d0887\"], [0.1111111111111111, \"#46039f\"], [0.2222222222222222, \"#7201a8\"], [0.3333333333333333, \"#9c179e\"], [0.4444444444444444, \"#bd3786\"], [0.5555555555555556, \"#d8576b\"], [0.6666666666666666, \"#ed7953\"], [0.7777777777777778, \"#fb9f3a\"], [0.8888888888888888, \"#fdca26\"], [1.0, \"#f0f921\"]], \"type\": \"histogram2dcontour\"}], \"mesh3d\": [{\"colorbar\": {\"outlinewidth\": 0, \"ticks\": \"\"}, \"type\": \"mesh3d\"}], \"parcoords\": [{\"line\": {\"colorbar\": {\"outlinewidth\": 0, \"ticks\": \"\"}}, \"type\": \"parcoords\"}], \"pie\": [{\"automargin\": true, \"type\": \"pie\"}], \"scatter\": [{\"marker\": {\"colorbar\": {\"outlinewidth\": 0, \"ticks\": \"\"}}, \"type\": \"scatter\"}], \"scatter3d\": [{\"line\": {\"colorbar\": {\"outlinewidth\": 0, \"ticks\": \"\"}}, \"marker\": {\"colorbar\": {\"outlinewidth\": 0, \"ticks\": \"\"}}, \"type\": \"scatter3d\"}], \"scattercarpet\": [{\"marker\": {\"colorbar\": {\"outlinewidth\": 0, \"ticks\": \"\"}}, \"type\": \"scattercarpet\"}], \"scattergeo\": [{\"marker\": {\"colorbar\": {\"outlinewidth\": 0, \"ticks\": \"\"}}, \"type\": \"scattergeo\"}], \"scattergl\": [{\"marker\": {\"colorbar\": {\"outlinewidth\": 0, \"ticks\": \"\"}}, \"type\": \"scattergl\"}], \"scattermapbox\": [{\"marker\": {\"colorbar\": {\"outlinewidth\": 0, \"ticks\": \"\"}}, \"type\": \"scattermapbox\"}], \"scatterpolar\": [{\"marker\": {\"colorbar\": {\"outlinewidth\": 0, \"ticks\": \"\"}}, \"type\": \"scatterpolar\"}], \"scatterpolargl\": [{\"marker\": {\"colorbar\": {\"outlinewidth\": 0, \"ticks\": \"\"}}, \"type\": \"scatterpolargl\"}], \"scatterternary\": [{\"marker\": {\"colorbar\": {\"outlinewidth\": 0, \"ticks\": \"\"}}, \"type\": \"scatterternary\"}], \"surface\": [{\"colorbar\": {\"outlinewidth\": 0, \"ticks\": \"\"}, \"colorscale\": [[0.0, \"#0d0887\"], [0.1111111111111111, \"#46039f\"], [0.2222222222222222, \"#7201a8\"], [0.3333333333333333, \"#9c179e\"], [0.4444444444444444, \"#bd3786\"], [0.5555555555555556, \"#d8576b\"], [0.6666666666666666, \"#ed7953\"], [0.7777777777777778, \"#fb9f3a\"], [0.8888888888888888, \"#fdca26\"], [1.0, \"#f0f921\"]], \"type\": \"surface\"}], \"table\": [{\"cells\": {\"fill\": {\"color\": \"#EBF0F8\"}, \"line\": {\"color\": \"white\"}}, \"header\": {\"fill\": {\"color\": \"#C8D4E3\"}, \"line\": {\"color\": \"white\"}}, \"type\": \"table\"}]}, \"layout\": {\"annotationdefaults\": {\"arrowcolor\": \"#2a3f5f\", \"arrowhead\": 0, \"arrowwidth\": 1}, \"coloraxis\": {\"colorbar\": {\"outlinewidth\": 0, \"ticks\": \"\"}}, \"colorscale\": {\"diverging\": [[0, \"#8e0152\"], [0.1, \"#c51b7d\"], [0.2, \"#de77ae\"], [0.3, \"#f1b6da\"], [0.4, \"#fde0ef\"], [0.5, \"#f7f7f7\"], [0.6, \"#e6f5d0\"], [0.7, \"#b8e186\"], [0.8, \"#7fbc41\"], [0.9, \"#4d9221\"], [1, \"#276419\"]], \"sequential\": [[0.0, \"#0d0887\"], [0.1111111111111111, \"#46039f\"], [0.2222222222222222, \"#7201a8\"], [0.3333333333333333, \"#9c179e\"], [0.4444444444444444, \"#bd3786\"], [0.5555555555555556, \"#d8576b\"], [0.6666666666666666, \"#ed7953\"], [0.7777777777777778, \"#fb9f3a\"], [0.8888888888888888, \"#fdca26\"], [1.0, \"#f0f921\"]], \"sequentialminus\": [[0.0, \"#0d0887\"], [0.1111111111111111, \"#46039f\"], [0.2222222222222222, \"#7201a8\"], [0.3333333333333333, \"#9c179e\"], [0.4444444444444444, \"#bd3786\"], [0.5555555555555556, \"#d8576b\"], [0.6666666666666666, \"#ed7953\"], [0.7777777777777778, \"#fb9f3a\"], [0.8888888888888888, \"#fdca26\"], [1.0, \"#f0f921\"]]}, \"colorway\": [\"#636efa\", \"#EF553B\", \"#00cc96\", \"#ab63fa\", \"#FFA15A\", \"#19d3f3\", \"#FF6692\", \"#B6E880\", \"#FF97FF\", \"#FECB52\"], \"font\": {\"color\": \"#2a3f5f\"}, \"geo\": {\"bgcolor\": \"white\", \"lakecolor\": \"white\", \"landcolor\": \"#E5ECF6\", \"showlakes\": true, \"showland\": true, \"subunitcolor\": \"white\"}, \"hoverlabel\": {\"align\": \"left\"}, \"hovermode\": \"closest\", \"mapbox\": {\"style\": \"light\"}, \"paper_bgcolor\": \"white\", \"plot_bgcolor\": \"#E5ECF6\", \"polar\": {\"angularaxis\": {\"gridcolor\": \"white\", \"linecolor\": \"white\", \"ticks\": \"\"}, \"bgcolor\": \"#E5ECF6\", \"radialaxis\": {\"gridcolor\": \"white\", \"linecolor\": \"white\", \"ticks\": \"\"}}, \"scene\": {\"xaxis\": {\"backgroundcolor\": \"#E5ECF6\", \"gridcolor\": \"white\", \"gridwidth\": 2, \"linecolor\": \"white\", \"showbackground\": true, \"ticks\": \"\", \"zerolinecolor\": \"white\"}, \"yaxis\": {\"backgroundcolor\": \"#E5ECF6\", \"gridcolor\": \"white\", \"gridwidth\": 2, \"linecolor\": \"white\", \"showbackground\": true, \"ticks\": \"\", \"zerolinecolor\": \"white\"}, \"zaxis\": {\"backgroundcolor\": \"#E5ECF6\", \"gridcolor\": \"white\", \"gridwidth\": 2, \"linecolor\": \"white\", \"showbackground\": true, \"ticks\": \"\", \"zerolinecolor\": \"white\"}}, \"shapedefaults\": {\"line\": {\"color\": \"#2a3f5f\"}}, \"ternary\": {\"aaxis\": {\"gridcolor\": \"white\", \"linecolor\": \"white\", \"ticks\": \"\"}, \"baxis\": {\"gridcolor\": \"white\", \"linecolor\": \"white\", \"ticks\": \"\"}, \"bgcolor\": \"#E5ECF6\", \"caxis\": {\"gridcolor\": \"white\", \"linecolor\": \"white\", \"ticks\": \"\"}}, \"title\": {\"x\": 0.05}, \"xaxis\": {\"automargin\": true, \"gridcolor\": \"white\", \"linecolor\": \"white\", \"ticks\": \"\", \"title\": {\"standoff\": 15}, \"zerolinecolor\": \"white\", \"zerolinewidth\": 2}, \"yaxis\": {\"automargin\": true, \"gridcolor\": \"white\", \"linecolor\": \"white\", \"ticks\": \"\", \"title\": {\"standoff\": 15}, \"zerolinecolor\": \"white\", \"zerolinewidth\": 2}}}, \"xaxis\": {\"anchor\": \"y\", \"domain\": [0.0, 1.0], \"title\": {\"text\": \"cost\"}}, \"yaxis\": {\"anchor\": \"x\", \"domain\": [0.0, 1.0], \"title\": {\"text\": \"utility\"}}},                        {\"responsive\": true}                    ).then(function(){\n",
              "                            \n",
              "var gd = document.getElementById('d382655f-b392-4c6f-920d-9cdc4f1ac025');\n",
              "var x = new MutationObserver(function (mutations, observer) {{\n",
              "        var display = window.getComputedStyle(gd).display;\n",
              "        if (!display || display === 'none') {{\n",
              "            console.log([gd, 'removed!']);\n",
              "            Plotly.purge(gd);\n",
              "            observer.disconnect();\n",
              "        }}\n",
              "}});\n",
              "\n",
              "// Listen for the removal of the full notebook cells\n",
              "var notebookContainer = gd.closest('#notebook-container');\n",
              "if (notebookContainer) {{\n",
              "    x.observe(notebookContainer, {childList: true});\n",
              "}}\n",
              "\n",
              "// Listen for the clearing of the current output cell\n",
              "var outputEl = gd.closest('.output');\n",
              "if (outputEl) {{\n",
              "    x.observe(outputEl, {childList: true});\n",
              "}}\n",
              "\n",
              "                        })                };                            </script>        </div>\n",
              "</body>\n",
              "</html>"
            ]
          },
          "metadata": {
            "tags": []
          }
        }
      ]
    },
    {
      "cell_type": "code",
      "metadata": {
        "colab": {
          "base_uri": "https://localhost:8080/",
          "height": 542
        },
        "id": "gEYRvQX_mWc4",
        "outputId": "88317873-6982-43f1-c129-1ebabc0578fd"
      },
      "source": [
        "data_res['value'] = data_res['utility'] - data_res['cost']\n",
        "temp = data_res.sort_values(by='value',ascending = False).reset_index()[:10]\n",
        "temp['SUB'] = temp['SUB'].astype(str)\n",
        "fig = go.Figure()\n",
        "fig.add_trace(\n",
        "    go.Bar(y = temp['value'], x = temp['SUB'])\n",
        ")\n",
        "fig.update_layout(\n",
        "    xaxis = dict(type='category'),\n",
        "    xaxis_title = 'SUB code',\n",
        "    yaxis_title='Utility - Cost',\n",
        "    title = 'Top 10 suburb for the household'\n",
        ")\n",
        "fig.show()"
      ],
      "execution_count": 34,
      "outputs": [
        {
          "output_type": "display_data",
          "data": {
            "text/html": [
              "<html>\n",
              "<head><meta charset=\"utf-8\" /></head>\n",
              "<body>\n",
              "    <div>            <script src=\"https://cdnjs.cloudflare.com/ajax/libs/mathjax/2.7.5/MathJax.js?config=TeX-AMS-MML_SVG\"></script><script type=\"text/javascript\">if (window.MathJax) {MathJax.Hub.Config({SVG: {font: \"STIX-Web\"}});}</script>                <script type=\"text/javascript\">window.PlotlyConfig = {MathJaxConfig: 'local'};</script>\n",
              "        <script src=\"https://cdn.plot.ly/plotly-latest.min.js\"></script>                <div id=\"d3910892-0970-4e1d-b791-d1678db89ec3\" class=\"plotly-graph-div\" style=\"height:525px; width:100%;\"></div>            <script type=\"text/javascript\">                                    window.PLOTLYENV=window.PLOTLYENV || {};                                    if (document.getElementById(\"d3910892-0970-4e1d-b791-d1678db89ec3\")) {                    Plotly.newPlot(                        \"d3910892-0970-4e1d-b791-d1678db89ec3\",                        [{\"type\": \"bar\", \"x\": [\"284\", \"197\", \"199\", \"198\", \"283\", \"205\", \"204\", \"196\", \"281\", \"268\"], \"y\": [6.501995303427038, 5.510023237655326, 5.423131517739757, 5.410391168651293, 5.301696982910616, 4.951002886224457, 4.769797415510725, 4.717416482482603, 4.586375250649077, 4.536276473621598]}],                        {\"template\": {\"data\": {\"bar\": [{\"error_x\": {\"color\": \"#2a3f5f\"}, \"error_y\": {\"color\": \"#2a3f5f\"}, \"marker\": {\"line\": {\"color\": \"#E5ECF6\", \"width\": 0.5}}, \"type\": \"bar\"}], \"barpolar\": [{\"marker\": {\"line\": {\"color\": \"#E5ECF6\", \"width\": 0.5}}, \"type\": \"barpolar\"}], \"carpet\": [{\"aaxis\": {\"endlinecolor\": \"#2a3f5f\", \"gridcolor\": \"white\", \"linecolor\": \"white\", \"minorgridcolor\": \"white\", \"startlinecolor\": \"#2a3f5f\"}, \"baxis\": {\"endlinecolor\": \"#2a3f5f\", \"gridcolor\": \"white\", \"linecolor\": \"white\", \"minorgridcolor\": \"white\", \"startlinecolor\": \"#2a3f5f\"}, \"type\": \"carpet\"}], \"choropleth\": [{\"colorbar\": {\"outlinewidth\": 0, \"ticks\": \"\"}, \"type\": \"choropleth\"}], \"contour\": [{\"colorbar\": {\"outlinewidth\": 0, \"ticks\": \"\"}, \"colorscale\": [[0.0, \"#0d0887\"], [0.1111111111111111, \"#46039f\"], [0.2222222222222222, \"#7201a8\"], [0.3333333333333333, \"#9c179e\"], [0.4444444444444444, \"#bd3786\"], [0.5555555555555556, \"#d8576b\"], [0.6666666666666666, \"#ed7953\"], [0.7777777777777778, \"#fb9f3a\"], [0.8888888888888888, \"#fdca26\"], [1.0, \"#f0f921\"]], \"type\": \"contour\"}], \"contourcarpet\": [{\"colorbar\": {\"outlinewidth\": 0, \"ticks\": \"\"}, \"type\": \"contourcarpet\"}], \"heatmap\": [{\"colorbar\": {\"outlinewidth\": 0, \"ticks\": \"\"}, \"colorscale\": [[0.0, \"#0d0887\"], [0.1111111111111111, \"#46039f\"], [0.2222222222222222, \"#7201a8\"], [0.3333333333333333, \"#9c179e\"], [0.4444444444444444, \"#bd3786\"], [0.5555555555555556, \"#d8576b\"], [0.6666666666666666, \"#ed7953\"], [0.7777777777777778, \"#fb9f3a\"], [0.8888888888888888, \"#fdca26\"], [1.0, \"#f0f921\"]], \"type\": \"heatmap\"}], \"heatmapgl\": [{\"colorbar\": {\"outlinewidth\": 0, \"ticks\": \"\"}, \"colorscale\": [[0.0, \"#0d0887\"], [0.1111111111111111, \"#46039f\"], [0.2222222222222222, \"#7201a8\"], [0.3333333333333333, \"#9c179e\"], [0.4444444444444444, \"#bd3786\"], [0.5555555555555556, \"#d8576b\"], [0.6666666666666666, \"#ed7953\"], [0.7777777777777778, \"#fb9f3a\"], [0.8888888888888888, \"#fdca26\"], [1.0, \"#f0f921\"]], \"type\": \"heatmapgl\"}], \"histogram\": [{\"marker\": {\"colorbar\": {\"outlinewidth\": 0, \"ticks\": \"\"}}, \"type\": \"histogram\"}], \"histogram2d\": [{\"colorbar\": {\"outlinewidth\": 0, \"ticks\": \"\"}, \"colorscale\": [[0.0, \"#0d0887\"], [0.1111111111111111, \"#46039f\"], [0.2222222222222222, \"#7201a8\"], [0.3333333333333333, \"#9c179e\"], [0.4444444444444444, \"#bd3786\"], [0.5555555555555556, \"#d8576b\"], [0.6666666666666666, \"#ed7953\"], [0.7777777777777778, \"#fb9f3a\"], [0.8888888888888888, \"#fdca26\"], [1.0, \"#f0f921\"]], \"type\": \"histogram2d\"}], \"histogram2dcontour\": [{\"colorbar\": {\"outlinewidth\": 0, \"ticks\": \"\"}, \"colorscale\": [[0.0, \"#0d0887\"], [0.1111111111111111, \"#46039f\"], [0.2222222222222222, \"#7201a8\"], [0.3333333333333333, \"#9c179e\"], [0.4444444444444444, \"#bd3786\"], [0.5555555555555556, \"#d8576b\"], [0.6666666666666666, \"#ed7953\"], [0.7777777777777778, \"#fb9f3a\"], [0.8888888888888888, \"#fdca26\"], [1.0, \"#f0f921\"]], \"type\": \"histogram2dcontour\"}], \"mesh3d\": [{\"colorbar\": {\"outlinewidth\": 0, \"ticks\": \"\"}, \"type\": \"mesh3d\"}], \"parcoords\": [{\"line\": {\"colorbar\": {\"outlinewidth\": 0, \"ticks\": \"\"}}, \"type\": \"parcoords\"}], \"pie\": [{\"automargin\": true, \"type\": \"pie\"}], \"scatter\": [{\"marker\": {\"colorbar\": {\"outlinewidth\": 0, \"ticks\": \"\"}}, \"type\": \"scatter\"}], \"scatter3d\": [{\"line\": {\"colorbar\": {\"outlinewidth\": 0, \"ticks\": \"\"}}, \"marker\": {\"colorbar\": {\"outlinewidth\": 0, \"ticks\": \"\"}}, \"type\": \"scatter3d\"}], \"scattercarpet\": [{\"marker\": {\"colorbar\": {\"outlinewidth\": 0, \"ticks\": \"\"}}, \"type\": \"scattercarpet\"}], \"scattergeo\": [{\"marker\": {\"colorbar\": {\"outlinewidth\": 0, \"ticks\": \"\"}}, \"type\": \"scattergeo\"}], \"scattergl\": [{\"marker\": {\"colorbar\": {\"outlinewidth\": 0, \"ticks\": \"\"}}, \"type\": \"scattergl\"}], \"scattermapbox\": [{\"marker\": {\"colorbar\": {\"outlinewidth\": 0, \"ticks\": \"\"}}, \"type\": \"scattermapbox\"}], \"scatterpolar\": [{\"marker\": {\"colorbar\": {\"outlinewidth\": 0, \"ticks\": \"\"}}, \"type\": \"scatterpolar\"}], \"scatterpolargl\": [{\"marker\": {\"colorbar\": {\"outlinewidth\": 0, \"ticks\": \"\"}}, \"type\": \"scatterpolargl\"}], \"scatterternary\": [{\"marker\": {\"colorbar\": {\"outlinewidth\": 0, \"ticks\": \"\"}}, \"type\": \"scatterternary\"}], \"surface\": [{\"colorbar\": {\"outlinewidth\": 0, \"ticks\": \"\"}, \"colorscale\": [[0.0, \"#0d0887\"], [0.1111111111111111, \"#46039f\"], [0.2222222222222222, \"#7201a8\"], [0.3333333333333333, \"#9c179e\"], [0.4444444444444444, \"#bd3786\"], [0.5555555555555556, \"#d8576b\"], [0.6666666666666666, \"#ed7953\"], [0.7777777777777778, \"#fb9f3a\"], [0.8888888888888888, \"#fdca26\"], [1.0, \"#f0f921\"]], \"type\": \"surface\"}], \"table\": [{\"cells\": {\"fill\": {\"color\": \"#EBF0F8\"}, \"line\": {\"color\": \"white\"}}, \"header\": {\"fill\": {\"color\": \"#C8D4E3\"}, \"line\": {\"color\": \"white\"}}, \"type\": \"table\"}]}, \"layout\": {\"annotationdefaults\": {\"arrowcolor\": \"#2a3f5f\", \"arrowhead\": 0, \"arrowwidth\": 1}, \"coloraxis\": {\"colorbar\": {\"outlinewidth\": 0, \"ticks\": \"\"}}, \"colorscale\": {\"diverging\": [[0, \"#8e0152\"], [0.1, \"#c51b7d\"], [0.2, \"#de77ae\"], [0.3, \"#f1b6da\"], [0.4, \"#fde0ef\"], [0.5, \"#f7f7f7\"], [0.6, \"#e6f5d0\"], [0.7, \"#b8e186\"], [0.8, \"#7fbc41\"], [0.9, \"#4d9221\"], [1, \"#276419\"]], \"sequential\": [[0.0, \"#0d0887\"], [0.1111111111111111, \"#46039f\"], [0.2222222222222222, \"#7201a8\"], [0.3333333333333333, \"#9c179e\"], [0.4444444444444444, \"#bd3786\"], [0.5555555555555556, \"#d8576b\"], [0.6666666666666666, \"#ed7953\"], [0.7777777777777778, \"#fb9f3a\"], [0.8888888888888888, \"#fdca26\"], [1.0, \"#f0f921\"]], \"sequentialminus\": [[0.0, \"#0d0887\"], [0.1111111111111111, \"#46039f\"], [0.2222222222222222, \"#7201a8\"], [0.3333333333333333, \"#9c179e\"], [0.4444444444444444, \"#bd3786\"], [0.5555555555555556, \"#d8576b\"], [0.6666666666666666, \"#ed7953\"], [0.7777777777777778, \"#fb9f3a\"], [0.8888888888888888, \"#fdca26\"], [1.0, \"#f0f921\"]]}, \"colorway\": [\"#636efa\", \"#EF553B\", \"#00cc96\", \"#ab63fa\", \"#FFA15A\", \"#19d3f3\", \"#FF6692\", \"#B6E880\", \"#FF97FF\", \"#FECB52\"], \"font\": {\"color\": \"#2a3f5f\"}, \"geo\": {\"bgcolor\": \"white\", \"lakecolor\": \"white\", \"landcolor\": \"#E5ECF6\", \"showlakes\": true, \"showland\": true, \"subunitcolor\": \"white\"}, \"hoverlabel\": {\"align\": \"left\"}, \"hovermode\": \"closest\", \"mapbox\": {\"style\": \"light\"}, \"paper_bgcolor\": \"white\", \"plot_bgcolor\": \"#E5ECF6\", \"polar\": {\"angularaxis\": {\"gridcolor\": \"white\", \"linecolor\": \"white\", \"ticks\": \"\"}, \"bgcolor\": \"#E5ECF6\", \"radialaxis\": {\"gridcolor\": \"white\", \"linecolor\": \"white\", \"ticks\": \"\"}}, \"scene\": {\"xaxis\": {\"backgroundcolor\": \"#E5ECF6\", \"gridcolor\": \"white\", \"gridwidth\": 2, \"linecolor\": \"white\", \"showbackground\": true, \"ticks\": \"\", \"zerolinecolor\": \"white\"}, \"yaxis\": {\"backgroundcolor\": \"#E5ECF6\", \"gridcolor\": \"white\", \"gridwidth\": 2, \"linecolor\": \"white\", \"showbackground\": true, \"ticks\": \"\", \"zerolinecolor\": \"white\"}, \"zaxis\": {\"backgroundcolor\": \"#E5ECF6\", \"gridcolor\": \"white\", \"gridwidth\": 2, \"linecolor\": \"white\", \"showbackground\": true, \"ticks\": \"\", \"zerolinecolor\": \"white\"}}, \"shapedefaults\": {\"line\": {\"color\": \"#2a3f5f\"}}, \"ternary\": {\"aaxis\": {\"gridcolor\": \"white\", \"linecolor\": \"white\", \"ticks\": \"\"}, \"baxis\": {\"gridcolor\": \"white\", \"linecolor\": \"white\", \"ticks\": \"\"}, \"bgcolor\": \"#E5ECF6\", \"caxis\": {\"gridcolor\": \"white\", \"linecolor\": \"white\", \"ticks\": \"\"}}, \"title\": {\"x\": 0.05}, \"xaxis\": {\"automargin\": true, \"gridcolor\": \"white\", \"linecolor\": \"white\", \"ticks\": \"\", \"title\": {\"standoff\": 15}, \"zerolinecolor\": \"white\", \"zerolinewidth\": 2}, \"yaxis\": {\"automargin\": true, \"gridcolor\": \"white\", \"linecolor\": \"white\", \"ticks\": \"\", \"title\": {\"standoff\": 15}, \"zerolinecolor\": \"white\", \"zerolinewidth\": 2}}}, \"title\": {\"text\": \"Top 10 suburb for the household\"}, \"xaxis\": {\"title\": {\"text\": \"SUB code\"}, \"type\": \"category\"}, \"yaxis\": {\"title\": {\"text\": \"Utility - Cost\"}}},                        {\"responsive\": true}                    ).then(function(){\n",
              "                            \n",
              "var gd = document.getElementById('d3910892-0970-4e1d-b791-d1678db89ec3');\n",
              "var x = new MutationObserver(function (mutations, observer) {{\n",
              "        var display = window.getComputedStyle(gd).display;\n",
              "        if (!display || display === 'none') {{\n",
              "            console.log([gd, 'removed!']);\n",
              "            Plotly.purge(gd);\n",
              "            observer.disconnect();\n",
              "        }}\n",
              "}});\n",
              "\n",
              "// Listen for the removal of the full notebook cells\n",
              "var notebookContainer = gd.closest('#notebook-container');\n",
              "if (notebookContainer) {{\n",
              "    x.observe(notebookContainer, {childList: true});\n",
              "}}\n",
              "\n",
              "// Listen for the clearing of the current output cell\n",
              "var outputEl = gd.closest('.output');\n",
              "if (outputEl) {{\n",
              "    x.observe(outputEl, {childList: true});\n",
              "}}\n",
              "\n",
              "                        })                };                            </script>        </div>\n",
              "</body>\n",
              "</html>"
            ]
          },
          "metadata": {
            "tags": []
          }
        }
      ]
    },
    {
      "cell_type": "code",
      "metadata": {
        "colab": {
          "base_uri": "https://localhost:8080/"
        },
        "id": "XHGBZA9Bxh5o",
        "outputId": "3d458910-1f66-41d2-ffcf-09edb7bdfbf2"
      },
      "source": [
        "data['value'] = data_res['value']\n",
        "data['MEDV'].describe()"
      ],
      "execution_count": 35,
      "outputs": [
        {
          "output_type": "execute_result",
          "data": {
            "text/plain": [
              "count    511.000000\n",
              "mean      22.682192\n",
              "std        9.484262\n",
              "min        5.000000\n",
              "25%       17.050000\n",
              "50%       21.200000\n",
              "75%       25.000000\n",
              "max       67.000000\n",
              "Name: MEDV, dtype: float64"
            ]
          },
          "metadata": {
            "tags": []
          },
          "execution_count": 35
        }
      ]
    },
    {
      "cell_type": "code",
      "metadata": {
        "id": "BHMJKPpJxvxK"
      },
      "source": [
        "data['medv_class'] = pd.qcut(data.MEDV, 4, labels = ['lowest quartile', '2nd quartile', '3rd quartile', 'highest quartile'])\n"
      ],
      "execution_count": 36,
      "outputs": []
    },
    {
      "cell_type": "code",
      "metadata": {
        "colab": {
          "base_uri": "https://localhost:8080/",
          "height": 246
        },
        "id": "KpkyDXK0ZH4k",
        "outputId": "df22ad64-a923-4c7c-d2ba-655ec71fa04f"
      },
      "source": [
        "data.groupby('medv_class').mean()"
      ],
      "execution_count": 37,
      "outputs": [
        {
          "output_type": "execute_result",
          "data": {
            "text/html": [
              "<div>\n",
              "<style scoped>\n",
              "    .dataframe tbody tr th:only-of-type {\n",
              "        vertical-align: middle;\n",
              "    }\n",
              "\n",
              "    .dataframe tbody tr th {\n",
              "        vertical-align: top;\n",
              "    }\n",
              "\n",
              "    .dataframe thead th {\n",
              "        text-align: right;\n",
              "    }\n",
              "</style>\n",
              "<table border=\"1\" class=\"dataframe\">\n",
              "  <thead>\n",
              "    <tr style=\"text-align: right;\">\n",
              "      <th></th>\n",
              "      <th>CRIM</th>\n",
              "      <th>ZN</th>\n",
              "      <th>INDUS</th>\n",
              "      <th>CHAS</th>\n",
              "      <th>NOX</th>\n",
              "      <th>RM</th>\n",
              "      <th>AGE</th>\n",
              "      <th>DIS</th>\n",
              "      <th>RAD</th>\n",
              "      <th>TAX</th>\n",
              "      <th>PTRATIO</th>\n",
              "      <th>MEDV</th>\n",
              "      <th>value</th>\n",
              "    </tr>\n",
              "    <tr>\n",
              "      <th>medv_class</th>\n",
              "      <th></th>\n",
              "      <th></th>\n",
              "      <th></th>\n",
              "      <th></th>\n",
              "      <th></th>\n",
              "      <th></th>\n",
              "      <th></th>\n",
              "      <th></th>\n",
              "      <th></th>\n",
              "      <th></th>\n",
              "      <th></th>\n",
              "      <th></th>\n",
              "      <th></th>\n",
              "    </tr>\n",
              "  </thead>\n",
              "  <tbody>\n",
              "    <tr>\n",
              "      <th>lowest quartile</th>\n",
              "      <td>10.907725</td>\n",
              "      <td>0.390625</td>\n",
              "      <td>16.982891</td>\n",
              "      <td>0.039062</td>\n",
              "      <td>0.667320</td>\n",
              "      <td>5.891687</td>\n",
              "      <td>92.838281</td>\n",
              "      <td>2.276314</td>\n",
              "      <td>17.031250</td>\n",
              "      <td>565.898438</td>\n",
              "      <td>19.678125</td>\n",
              "      <td>12.721094</td>\n",
              "      <td>-2.840649</td>\n",
              "    </tr>\n",
              "    <tr>\n",
              "      <th>2nd quartile</th>\n",
              "      <td>1.646208</td>\n",
              "      <td>7.062016</td>\n",
              "      <td>11.685659</td>\n",
              "      <td>0.031008</td>\n",
              "      <td>0.545153</td>\n",
              "      <td>5.976367</td>\n",
              "      <td>70.849612</td>\n",
              "      <td>4.043562</td>\n",
              "      <td>8.201550</td>\n",
              "      <td>400.023256</td>\n",
              "      <td>19.229457</td>\n",
              "      <td>19.347287</td>\n",
              "      <td>-0.235877</td>\n",
              "    </tr>\n",
              "    <tr>\n",
              "      <th>3rd quartile</th>\n",
              "      <td>0.963573</td>\n",
              "      <td>12.720472</td>\n",
              "      <td>9.624646</td>\n",
              "      <td>0.078740</td>\n",
              "      <td>0.512071</td>\n",
              "      <td>6.254728</td>\n",
              "      <td>54.896850</td>\n",
              "      <td>4.499719</td>\n",
              "      <td>6.763780</td>\n",
              "      <td>351.007874</td>\n",
              "      <td>18.100000</td>\n",
              "      <td>23.159843</td>\n",
              "      <td>1.035261</td>\n",
              "    </tr>\n",
              "    <tr>\n",
              "      <th>highest quartile</th>\n",
              "      <td>0.791900</td>\n",
              "      <td>24.988189</td>\n",
              "      <td>6.256850</td>\n",
              "      <td>0.125984</td>\n",
              "      <td>0.493747</td>\n",
              "      <td>7.030898</td>\n",
              "      <td>55.654331</td>\n",
              "      <td>4.323690</td>\n",
              "      <td>5.905512</td>\n",
              "      <td>311.700787</td>\n",
              "      <td>16.971654</td>\n",
              "      <td>35.631496</td>\n",
              "      <td>2.342937</td>\n",
              "    </tr>\n",
              "  </tbody>\n",
              "</table>\n",
              "</div>"
            ],
            "text/plain": [
              "                       CRIM         ZN  ...       MEDV     value\n",
              "medv_class                              ...                     \n",
              "lowest quartile   10.907725   0.390625  ...  12.721094 -2.840649\n",
              "2nd quartile       1.646208   7.062016  ...  19.347287 -0.235877\n",
              "3rd quartile       0.963573  12.720472  ...  23.159843  1.035261\n",
              "highest quartile   0.791900  24.988189  ...  35.631496  2.342937\n",
              "\n",
              "[4 rows x 13 columns]"
            ]
          },
          "metadata": {
            "tags": []
          },
          "execution_count": 37
        }
      ]
    },
    {
      "cell_type": "code",
      "metadata": {
        "colab": {
          "base_uri": "https://localhost:8080/",
          "height": 195
        },
        "id": "gHiAPONOzy1q",
        "outputId": "2518d8d5-066e-439b-860d-63a363917906"
      },
      "source": [
        "def topn(df,n):\n",
        "    df = df.sort_values(by = 'value', ascending = False)\n",
        "    return df.head(n)\n",
        "data_tree = data.reset_index().groupby('medv_class').apply(topn, 5).reset_index(drop = True)\n",
        "data_tree.head()"
      ],
      "execution_count": 38,
      "outputs": [
        {
          "output_type": "execute_result",
          "data": {
            "text/html": [
              "<div>\n",
              "<style scoped>\n",
              "    .dataframe tbody tr th:only-of-type {\n",
              "        vertical-align: middle;\n",
              "    }\n",
              "\n",
              "    .dataframe tbody tr th {\n",
              "        vertical-align: top;\n",
              "    }\n",
              "\n",
              "    .dataframe thead th {\n",
              "        text-align: right;\n",
              "    }\n",
              "</style>\n",
              "<table border=\"1\" class=\"dataframe\">\n",
              "  <thead>\n",
              "    <tr style=\"text-align: right;\">\n",
              "      <th></th>\n",
              "      <th>SUB</th>\n",
              "      <th>CRIM</th>\n",
              "      <th>ZN</th>\n",
              "      <th>INDUS</th>\n",
              "      <th>CHAS</th>\n",
              "      <th>NOX</th>\n",
              "      <th>RM</th>\n",
              "      <th>AGE</th>\n",
              "      <th>DIS</th>\n",
              "      <th>RAD</th>\n",
              "      <th>TAX</th>\n",
              "      <th>PTRATIO</th>\n",
              "      <th>MEDV</th>\n",
              "      <th>value</th>\n",
              "      <th>medv_class</th>\n",
              "    </tr>\n",
              "  </thead>\n",
              "  <tbody>\n",
              "    <tr>\n",
              "      <th>0</th>\n",
              "      <td>343</td>\n",
              "      <td>0.02498</td>\n",
              "      <td>0.0</td>\n",
              "      <td>1.89</td>\n",
              "      <td>0.0</td>\n",
              "      <td>0.518</td>\n",
              "      <td>6.540</td>\n",
              "      <td>59.7</td>\n",
              "      <td>6.2669</td>\n",
              "      <td>1.0</td>\n",
              "      <td>422.0</td>\n",
              "      <td>15.9</td>\n",
              "      <td>16.5</td>\n",
              "      <td>2.562990</td>\n",
              "      <td>lowest quartile</td>\n",
              "    </tr>\n",
              "    <tr>\n",
              "      <th>1</th>\n",
              "      <td>11</td>\n",
              "      <td>0.22489</td>\n",
              "      <td>12.5</td>\n",
              "      <td>7.87</td>\n",
              "      <td>0.0</td>\n",
              "      <td>0.524</td>\n",
              "      <td>5.948</td>\n",
              "      <td>94.3</td>\n",
              "      <td>6.3467</td>\n",
              "      <td>5.0</td>\n",
              "      <td>311.0</td>\n",
              "      <td>15.2</td>\n",
              "      <td>15.0</td>\n",
              "      <td>2.370180</td>\n",
              "      <td>lowest quartile</td>\n",
              "    </tr>\n",
              "    <tr>\n",
              "      <th>2</th>\n",
              "      <td>48</td>\n",
              "      <td>0.22927</td>\n",
              "      <td>0.0</td>\n",
              "      <td>6.91</td>\n",
              "      <td>0.0</td>\n",
              "      <td>0.448</td>\n",
              "      <td>6.030</td>\n",
              "      <td>85.5</td>\n",
              "      <td>5.6894</td>\n",
              "      <td>3.0</td>\n",
              "      <td>233.0</td>\n",
              "      <td>17.9</td>\n",
              "      <td>16.6</td>\n",
              "      <td>2.066356</td>\n",
              "      <td>lowest quartile</td>\n",
              "    </tr>\n",
              "    <tr>\n",
              "      <th>3</th>\n",
              "      <td>9</td>\n",
              "      <td>0.21124</td>\n",
              "      <td>12.5</td>\n",
              "      <td>7.87</td>\n",
              "      <td>0.0</td>\n",
              "      <td>0.524</td>\n",
              "      <td>5.631</td>\n",
              "      <td>100.0</td>\n",
              "      <td>6.0821</td>\n",
              "      <td>5.0</td>\n",
              "      <td>311.0</td>\n",
              "      <td>15.2</td>\n",
              "      <td>16.5</td>\n",
              "      <td>1.839700</td>\n",
              "      <td>lowest quartile</td>\n",
              "    </tr>\n",
              "    <tr>\n",
              "      <th>4</th>\n",
              "      <td>49</td>\n",
              "      <td>0.25387</td>\n",
              "      <td>0.0</td>\n",
              "      <td>6.91</td>\n",
              "      <td>0.0</td>\n",
              "      <td>0.448</td>\n",
              "      <td>5.399</td>\n",
              "      <td>95.3</td>\n",
              "      <td>5.8700</td>\n",
              "      <td>3.0</td>\n",
              "      <td>233.0</td>\n",
              "      <td>17.9</td>\n",
              "      <td>14.4</td>\n",
              "      <td>1.278023</td>\n",
              "      <td>lowest quartile</td>\n",
              "    </tr>\n",
              "  </tbody>\n",
              "</table>\n",
              "</div>"
            ],
            "text/plain": [
              "   SUB     CRIM    ZN  INDUS  ...  PTRATIO  MEDV     value       medv_class\n",
              "0  343  0.02498   0.0   1.89  ...     15.9  16.5  2.562990  lowest quartile\n",
              "1   11  0.22489  12.5   7.87  ...     15.2  15.0  2.370180  lowest quartile\n",
              "2   48  0.22927   0.0   6.91  ...     17.9  16.6  2.066356  lowest quartile\n",
              "3    9  0.21124  12.5   7.87  ...     15.2  16.5  1.839700  lowest quartile\n",
              "4   49  0.25387   0.0   6.91  ...     17.9  14.4  1.278023  lowest quartile\n",
              "\n",
              "[5 rows x 15 columns]"
            ]
          },
          "metadata": {
            "tags": []
          },
          "execution_count": 38
        }
      ]
    },
    {
      "cell_type": "code",
      "metadata": {
        "id": "U4OjxUC2erXA",
        "colab": {
          "base_uri": "https://localhost:8080/",
          "height": 542
        },
        "outputId": "8422ccec-545d-40c5-f97b-f8bf31853883"
      },
      "source": [
        "fig = px.treemap(data_frame = data_tree, path = ['medv_class', 'SUB'], values = 'value',\n",
        "                 color='value', title = 'Recommendation for different price',\n",
        "                  color_continuous_scale='RdBu')\n",
        "fig.show()"
      ],
      "execution_count": 39,
      "outputs": [
        {
          "output_type": "display_data",
          "data": {
            "text/html": [
              "<html>\n",
              "<head><meta charset=\"utf-8\" /></head>\n",
              "<body>\n",
              "    <div>            <script src=\"https://cdnjs.cloudflare.com/ajax/libs/mathjax/2.7.5/MathJax.js?config=TeX-AMS-MML_SVG\"></script><script type=\"text/javascript\">if (window.MathJax) {MathJax.Hub.Config({SVG: {font: \"STIX-Web\"}});}</script>                <script type=\"text/javascript\">window.PlotlyConfig = {MathJaxConfig: 'local'};</script>\n",
              "        <script src=\"https://cdn.plot.ly/plotly-latest.min.js\"></script>                <div id=\"e657e8b5-5d32-4e65-8e88-2e291e52759d\" class=\"plotly-graph-div\" style=\"height:525px; width:100%;\"></div>            <script type=\"text/javascript\">                                    window.PLOTLYENV=window.PLOTLYENV || {};                                    if (document.getElementById(\"e657e8b5-5d32-4e65-8e88-2e291e52759d\")) {                    Plotly.newPlot(                        \"e657e8b5-5d32-4e65-8e88-2e291e52759d\",                        [{\"branchvalues\": \"total\", \"customdata\": [[1.839699826841707], [null], [null], [null], [2.3701797936931297], [null], [null], [null], [2.0663556636213407], [null], [null], [null], [1.278023129997237], [null], [null], [null], [null], [2.552452752040093], [null], [null], [null], [2.5359736600189615], [null], [null], [null], [null], [null], [5.510023237655326], [null], [null], [null], [5.410391168651293], [null], [null], [null], [5.423131517739757], [null], [null], [3.2813559659495497], [null], [null], [null], [3.5989872162007703], [null], [null], [2.554217337614903], [null], [null], [null], [2.5661363786856333], [null], [null], [null], [null], [null], [5.301696982910616], [null], [null], [null], [6.501995303427038], [null], [null], [3.9065192307164627], [null], [null], [2.5784787003172056], [null], [null], [null], [null], [3.678634194440944], [null], [null], [null], [4.311188664291047], [null], [2.562989889325763], [null], [null], [null], [2.1225468709809077], [2.5575310880656525], [3.7865893082189745], [5.664036264190183]], \"domain\": {\"x\": [0.0, 1.0], \"y\": [0.0, 1.0]}, \"hovertemplate\": \"labels=%{label}<br>value_sum=%{value}<br>parent=%{parent}<br>id=%{id}<br>value=%{color}<extra></extra>\", \"ids\": [\"lowest quartile/9\", \"2nd quartile/9\", \"3rd quartile/9\", \"highest quartile/9\", \"lowest quartile/11\", \"2nd quartile/11\", \"3rd quartile/11\", \"highest quartile/11\", \"lowest quartile/48\", \"2nd quartile/48\", \"3rd quartile/48\", \"highest quartile/48\", \"lowest quartile/49\", \"2nd quartile/49\", \"3rd quartile/49\", \"highest quartile/49\", \"lowest quartile/52\", \"2nd quartile/52\", \"3rd quartile/52\", \"highest quartile/52\", \"lowest quartile/67\", \"2nd quartile/67\", \"3rd quartile/67\", \"highest quartile/67\", \"lowest quartile/197\", \"2nd quartile/197\", \"3rd quartile/197\", \"highest quartile/197\", \"lowest quartile/198\", \"2nd quartile/198\", \"3rd quartile/198\", \"highest quartile/198\", \"lowest quartile/199\", \"2nd quartile/199\", \"3rd quartile/199\", \"highest quartile/199\", \"lowest quartile/202\", \"2nd quartile/202\", \"3rd quartile/202\", \"highest quartile/202\", \"lowest quartile/241\", \"2nd quartile/241\", \"3rd quartile/241\", \"highest quartile/241\", \"lowest quartile/242\", \"2nd quartile/242\", \"3rd quartile/242\", \"highest quartile/242\", \"lowest quartile/256\", \"2nd quartile/256\", \"3rd quartile/256\", \"highest quartile/256\", \"lowest quartile/283\", \"2nd quartile/283\", \"3rd quartile/283\", \"highest quartile/283\", \"lowest quartile/284\", \"2nd quartile/284\", \"3rd quartile/284\", \"highest quartile/284\", \"lowest quartile/286\", \"2nd quartile/286\", \"3rd quartile/286\", \"highest quartile/286\", \"lowest quartile/287\", \"2nd quartile/287\", \"3rd quartile/287\", \"highest quartile/287\", \"lowest quartile/299\", \"2nd quartile/299\", \"3rd quartile/299\", \"highest quartile/299\", \"lowest quartile/301\", \"2nd quartile/301\", \"3rd quartile/301\", \"highest quartile/301\", \"lowest quartile/343\", \"2nd quartile/343\", \"3rd quartile/343\", \"highest quartile/343\", \"lowest quartile\", \"2nd quartile\", \"3rd quartile\", \"highest quartile\"], \"labels\": [\"9\", \"9\", \"9\", \"9\", \"11\", \"11\", \"11\", \"11\", \"48\", \"48\", \"48\", \"48\", \"49\", \"49\", \"49\", \"49\", \"52\", \"52\", \"52\", \"52\", \"67\", \"67\", \"67\", \"67\", \"197\", \"197\", \"197\", \"197\", \"198\", \"198\", \"198\", \"198\", \"199\", \"199\", \"199\", \"199\", \"202\", \"202\", \"202\", \"202\", \"241\", \"241\", \"241\", \"241\", \"242\", \"242\", \"242\", \"242\", \"256\", \"256\", \"256\", \"256\", \"283\", \"283\", \"283\", \"283\", \"284\", \"284\", \"284\", \"284\", \"286\", \"286\", \"286\", \"286\", \"287\", \"287\", \"287\", \"287\", \"299\", \"299\", \"299\", \"299\", \"301\", \"301\", \"301\", \"301\", \"343\", \"343\", \"343\", \"343\", \"lowest quartile\", \"2nd quartile\", \"3rd quartile\", \"highest quartile\"], \"marker\": {\"coloraxis\": \"coloraxis\", \"colors\": [1.839699826841707, null, null, null, 2.3701797936931297, null, null, null, 2.0663556636213407, null, null, null, 1.278023129997237, null, null, null, null, 2.552452752040093, null, null, null, 2.5359736600189615, null, null, null, null, null, 5.510023237655326, null, null, null, 5.410391168651293, null, null, null, 5.423131517739757, null, null, 3.2813559659495497, null, null, null, 3.5989872162007703, null, null, 2.554217337614903, null, null, null, 2.5661363786856333, null, null, null, null, null, 5.301696982910616, null, null, null, 6.501995303427038, null, null, 3.9065192307164627, null, null, 2.5784787003172056, null, null, null, null, 3.678634194440944, null, null, null, 4.311188664291047, null, 2.562989889325763, null, null, null, 2.1225468709809077, 2.5575310880656525, 3.7865893082189745, 5.664036264190183]}, \"name\": \"\", \"parents\": [\"lowest quartile\", \"2nd quartile\", \"3rd quartile\", \"highest quartile\", \"lowest quartile\", \"2nd quartile\", \"3rd quartile\", \"highest quartile\", \"lowest quartile\", \"2nd quartile\", \"3rd quartile\", \"highest quartile\", \"lowest quartile\", \"2nd quartile\", \"3rd quartile\", \"highest quartile\", \"lowest quartile\", \"2nd quartile\", \"3rd quartile\", \"highest quartile\", \"lowest quartile\", \"2nd quartile\", \"3rd quartile\", \"highest quartile\", \"lowest quartile\", \"2nd quartile\", \"3rd quartile\", \"highest quartile\", \"lowest quartile\", \"2nd quartile\", \"3rd quartile\", \"highest quartile\", \"lowest quartile\", \"2nd quartile\", \"3rd quartile\", \"highest quartile\", \"lowest quartile\", \"2nd quartile\", \"3rd quartile\", \"highest quartile\", \"lowest quartile\", \"2nd quartile\", \"3rd quartile\", \"highest quartile\", \"lowest quartile\", \"2nd quartile\", \"3rd quartile\", \"highest quartile\", \"lowest quartile\", \"2nd quartile\", \"3rd quartile\", \"highest quartile\", \"lowest quartile\", \"2nd quartile\", \"3rd quartile\", \"highest quartile\", \"lowest quartile\", \"2nd quartile\", \"3rd quartile\", \"highest quartile\", \"lowest quartile\", \"2nd quartile\", \"3rd quartile\", \"highest quartile\", \"lowest quartile\", \"2nd quartile\", \"3rd quartile\", \"highest quartile\", \"lowest quartile\", \"2nd quartile\", \"3rd quartile\", \"highest quartile\", \"lowest quartile\", \"2nd quartile\", \"3rd quartile\", \"highest quartile\", \"lowest quartile\", \"2nd quartile\", \"3rd quartile\", \"highest quartile\", \"\", \"\", \"\", \"\"], \"type\": \"treemap\", \"values\": [1.839699826841707, null, null, null, 2.3701797936931297, null, null, null, 2.0663556636213407, null, null, null, 1.278023129997237, null, null, null, null, 2.552452752040093, null, null, null, 2.5359736600189615, null, null, null, null, null, 5.510023237655326, null, null, null, 5.410391168651293, null, null, null, 5.423131517739757, null, null, 3.2813559659495497, null, null, null, 3.5989872162007703, null, null, 2.554217337614903, null, null, null, 2.5661363786856333, null, null, null, null, null, 5.301696982910616, null, null, null, 6.501995303427038, null, null, 3.9065192307164627, null, null, 2.5784787003172056, null, null, null, null, 3.678634194440944, null, null, null, 4.311188664291047, null, 2.562989889325763, null, null, null, 10.117248303479178, 12.787258828676798, 18.776685271598772, 28.147238210384028]}],                        {\"coloraxis\": {\"colorbar\": {\"title\": {\"text\": \"value\"}}, \"colorscale\": [[0.0, \"rgb(103,0,31)\"], [0.1, \"rgb(178,24,43)\"], [0.2, \"rgb(214,96,77)\"], [0.3, \"rgb(244,165,130)\"], [0.4, \"rgb(253,219,199)\"], [0.5, \"rgb(247,247,247)\"], [0.6, \"rgb(209,229,240)\"], [0.7, \"rgb(146,197,222)\"], [0.8, \"rgb(67,147,195)\"], [0.9, \"rgb(33,102,172)\"], [1.0, \"rgb(5,48,97)\"]]}, \"legend\": {\"tracegroupgap\": 0}, \"template\": {\"data\": {\"bar\": [{\"error_x\": {\"color\": \"#2a3f5f\"}, \"error_y\": {\"color\": \"#2a3f5f\"}, \"marker\": {\"line\": {\"color\": \"#E5ECF6\", \"width\": 0.5}}, \"type\": \"bar\"}], \"barpolar\": [{\"marker\": {\"line\": {\"color\": \"#E5ECF6\", \"width\": 0.5}}, \"type\": \"barpolar\"}], \"carpet\": [{\"aaxis\": {\"endlinecolor\": \"#2a3f5f\", \"gridcolor\": \"white\", \"linecolor\": \"white\", \"minorgridcolor\": \"white\", \"startlinecolor\": \"#2a3f5f\"}, \"baxis\": {\"endlinecolor\": \"#2a3f5f\", \"gridcolor\": \"white\", \"linecolor\": \"white\", \"minorgridcolor\": \"white\", \"startlinecolor\": \"#2a3f5f\"}, \"type\": \"carpet\"}], \"choropleth\": [{\"colorbar\": {\"outlinewidth\": 0, \"ticks\": \"\"}, \"type\": \"choropleth\"}], \"contour\": [{\"colorbar\": {\"outlinewidth\": 0, \"ticks\": \"\"}, \"colorscale\": [[0.0, \"#0d0887\"], [0.1111111111111111, \"#46039f\"], [0.2222222222222222, \"#7201a8\"], [0.3333333333333333, \"#9c179e\"], [0.4444444444444444, \"#bd3786\"], [0.5555555555555556, \"#d8576b\"], [0.6666666666666666, \"#ed7953\"], [0.7777777777777778, \"#fb9f3a\"], [0.8888888888888888, \"#fdca26\"], [1.0, \"#f0f921\"]], \"type\": \"contour\"}], \"contourcarpet\": [{\"colorbar\": {\"outlinewidth\": 0, \"ticks\": \"\"}, \"type\": \"contourcarpet\"}], \"heatmap\": [{\"colorbar\": {\"outlinewidth\": 0, \"ticks\": \"\"}, \"colorscale\": [[0.0, \"#0d0887\"], [0.1111111111111111, \"#46039f\"], [0.2222222222222222, \"#7201a8\"], [0.3333333333333333, \"#9c179e\"], [0.4444444444444444, \"#bd3786\"], [0.5555555555555556, \"#d8576b\"], [0.6666666666666666, \"#ed7953\"], [0.7777777777777778, \"#fb9f3a\"], [0.8888888888888888, \"#fdca26\"], [1.0, \"#f0f921\"]], \"type\": \"heatmap\"}], \"heatmapgl\": [{\"colorbar\": {\"outlinewidth\": 0, \"ticks\": \"\"}, \"colorscale\": [[0.0, \"#0d0887\"], [0.1111111111111111, \"#46039f\"], [0.2222222222222222, \"#7201a8\"], [0.3333333333333333, \"#9c179e\"], [0.4444444444444444, \"#bd3786\"], [0.5555555555555556, \"#d8576b\"], [0.6666666666666666, \"#ed7953\"], [0.7777777777777778, \"#fb9f3a\"], [0.8888888888888888, \"#fdca26\"], [1.0, \"#f0f921\"]], \"type\": \"heatmapgl\"}], \"histogram\": [{\"marker\": {\"colorbar\": {\"outlinewidth\": 0, \"ticks\": \"\"}}, \"type\": \"histogram\"}], \"histogram2d\": [{\"colorbar\": {\"outlinewidth\": 0, \"ticks\": \"\"}, \"colorscale\": [[0.0, \"#0d0887\"], [0.1111111111111111, \"#46039f\"], [0.2222222222222222, \"#7201a8\"], [0.3333333333333333, \"#9c179e\"], [0.4444444444444444, \"#bd3786\"], [0.5555555555555556, \"#d8576b\"], [0.6666666666666666, \"#ed7953\"], [0.7777777777777778, \"#fb9f3a\"], [0.8888888888888888, \"#fdca26\"], [1.0, \"#f0f921\"]], \"type\": \"histogram2d\"}], \"histogram2dcontour\": [{\"colorbar\": {\"outlinewidth\": 0, \"ticks\": \"\"}, \"colorscale\": [[0.0, \"#0d0887\"], [0.1111111111111111, \"#46039f\"], [0.2222222222222222, \"#7201a8\"], [0.3333333333333333, \"#9c179e\"], [0.4444444444444444, \"#bd3786\"], [0.5555555555555556, \"#d8576b\"], [0.6666666666666666, \"#ed7953\"], [0.7777777777777778, \"#fb9f3a\"], [0.8888888888888888, \"#fdca26\"], [1.0, \"#f0f921\"]], \"type\": \"histogram2dcontour\"}], \"mesh3d\": [{\"colorbar\": {\"outlinewidth\": 0, \"ticks\": \"\"}, \"type\": \"mesh3d\"}], \"parcoords\": [{\"line\": {\"colorbar\": {\"outlinewidth\": 0, \"ticks\": \"\"}}, \"type\": \"parcoords\"}], \"pie\": [{\"automargin\": true, \"type\": \"pie\"}], \"scatter\": [{\"marker\": {\"colorbar\": {\"outlinewidth\": 0, \"ticks\": \"\"}}, \"type\": \"scatter\"}], \"scatter3d\": [{\"line\": {\"colorbar\": {\"outlinewidth\": 0, \"ticks\": \"\"}}, \"marker\": {\"colorbar\": {\"outlinewidth\": 0, \"ticks\": \"\"}}, \"type\": \"scatter3d\"}], \"scattercarpet\": [{\"marker\": {\"colorbar\": {\"outlinewidth\": 0, \"ticks\": \"\"}}, \"type\": \"scattercarpet\"}], \"scattergeo\": [{\"marker\": {\"colorbar\": {\"outlinewidth\": 0, \"ticks\": \"\"}}, \"type\": \"scattergeo\"}], \"scattergl\": [{\"marker\": {\"colorbar\": {\"outlinewidth\": 0, \"ticks\": \"\"}}, \"type\": \"scattergl\"}], \"scattermapbox\": [{\"marker\": {\"colorbar\": {\"outlinewidth\": 0, \"ticks\": \"\"}}, \"type\": \"scattermapbox\"}], \"scatterpolar\": [{\"marker\": {\"colorbar\": {\"outlinewidth\": 0, \"ticks\": \"\"}}, \"type\": \"scatterpolar\"}], \"scatterpolargl\": [{\"marker\": {\"colorbar\": {\"outlinewidth\": 0, \"ticks\": \"\"}}, \"type\": \"scatterpolargl\"}], \"scatterternary\": [{\"marker\": {\"colorbar\": {\"outlinewidth\": 0, \"ticks\": \"\"}}, \"type\": \"scatterternary\"}], \"surface\": [{\"colorbar\": {\"outlinewidth\": 0, \"ticks\": \"\"}, \"colorscale\": [[0.0, \"#0d0887\"], [0.1111111111111111, \"#46039f\"], [0.2222222222222222, \"#7201a8\"], [0.3333333333333333, \"#9c179e\"], [0.4444444444444444, \"#bd3786\"], [0.5555555555555556, \"#d8576b\"], [0.6666666666666666, \"#ed7953\"], [0.7777777777777778, \"#fb9f3a\"], [0.8888888888888888, \"#fdca26\"], [1.0, \"#f0f921\"]], \"type\": \"surface\"}], \"table\": [{\"cells\": {\"fill\": {\"color\": \"#EBF0F8\"}, \"line\": {\"color\": \"white\"}}, \"header\": {\"fill\": {\"color\": \"#C8D4E3\"}, \"line\": {\"color\": \"white\"}}, \"type\": \"table\"}]}, \"layout\": {\"annotationdefaults\": {\"arrowcolor\": \"#2a3f5f\", \"arrowhead\": 0, \"arrowwidth\": 1}, \"coloraxis\": {\"colorbar\": {\"outlinewidth\": 0, \"ticks\": \"\"}}, \"colorscale\": {\"diverging\": [[0, \"#8e0152\"], [0.1, \"#c51b7d\"], [0.2, \"#de77ae\"], [0.3, \"#f1b6da\"], [0.4, \"#fde0ef\"], [0.5, \"#f7f7f7\"], [0.6, \"#e6f5d0\"], [0.7, \"#b8e186\"], [0.8, \"#7fbc41\"], [0.9, \"#4d9221\"], [1, \"#276419\"]], \"sequential\": [[0.0, \"#0d0887\"], [0.1111111111111111, \"#46039f\"], [0.2222222222222222, \"#7201a8\"], [0.3333333333333333, \"#9c179e\"], [0.4444444444444444, \"#bd3786\"], [0.5555555555555556, \"#d8576b\"], [0.6666666666666666, \"#ed7953\"], [0.7777777777777778, \"#fb9f3a\"], [0.8888888888888888, \"#fdca26\"], [1.0, \"#f0f921\"]], \"sequentialminus\": [[0.0, \"#0d0887\"], [0.1111111111111111, \"#46039f\"], [0.2222222222222222, \"#7201a8\"], [0.3333333333333333, \"#9c179e\"], [0.4444444444444444, \"#bd3786\"], [0.5555555555555556, \"#d8576b\"], [0.6666666666666666, \"#ed7953\"], [0.7777777777777778, \"#fb9f3a\"], [0.8888888888888888, \"#fdca26\"], [1.0, \"#f0f921\"]]}, \"colorway\": [\"#636efa\", \"#EF553B\", \"#00cc96\", \"#ab63fa\", \"#FFA15A\", \"#19d3f3\", \"#FF6692\", \"#B6E880\", \"#FF97FF\", \"#FECB52\"], \"font\": {\"color\": \"#2a3f5f\"}, \"geo\": {\"bgcolor\": \"white\", \"lakecolor\": \"white\", \"landcolor\": \"#E5ECF6\", \"showlakes\": true, \"showland\": true, \"subunitcolor\": \"white\"}, \"hoverlabel\": {\"align\": \"left\"}, \"hovermode\": \"closest\", \"mapbox\": {\"style\": \"light\"}, \"paper_bgcolor\": \"white\", \"plot_bgcolor\": \"#E5ECF6\", \"polar\": {\"angularaxis\": {\"gridcolor\": \"white\", \"linecolor\": \"white\", \"ticks\": \"\"}, \"bgcolor\": \"#E5ECF6\", \"radialaxis\": {\"gridcolor\": \"white\", \"linecolor\": \"white\", \"ticks\": \"\"}}, \"scene\": {\"xaxis\": {\"backgroundcolor\": \"#E5ECF6\", \"gridcolor\": \"white\", \"gridwidth\": 2, \"linecolor\": \"white\", \"showbackground\": true, \"ticks\": \"\", \"zerolinecolor\": \"white\"}, \"yaxis\": {\"backgroundcolor\": \"#E5ECF6\", \"gridcolor\": \"white\", \"gridwidth\": 2, \"linecolor\": \"white\", \"showbackground\": true, \"ticks\": \"\", \"zerolinecolor\": \"white\"}, \"zaxis\": {\"backgroundcolor\": \"#E5ECF6\", \"gridcolor\": \"white\", \"gridwidth\": 2, \"linecolor\": \"white\", \"showbackground\": true, \"ticks\": \"\", \"zerolinecolor\": \"white\"}}, \"shapedefaults\": {\"line\": {\"color\": \"#2a3f5f\"}}, \"ternary\": {\"aaxis\": {\"gridcolor\": \"white\", \"linecolor\": \"white\", \"ticks\": \"\"}, \"baxis\": {\"gridcolor\": \"white\", \"linecolor\": \"white\", \"ticks\": \"\"}, \"bgcolor\": \"#E5ECF6\", \"caxis\": {\"gridcolor\": \"white\", \"linecolor\": \"white\", \"ticks\": \"\"}}, \"title\": {\"x\": 0.05}, \"xaxis\": {\"automargin\": true, \"gridcolor\": \"white\", \"linecolor\": \"white\", \"ticks\": \"\", \"title\": {\"standoff\": 15}, \"zerolinecolor\": \"white\", \"zerolinewidth\": 2}, \"yaxis\": {\"automargin\": true, \"gridcolor\": \"white\", \"linecolor\": \"white\", \"ticks\": \"\", \"title\": {\"standoff\": 15}, \"zerolinecolor\": \"white\", \"zerolinewidth\": 2}}}, \"title\": {\"text\": \"Recommendation for different price\"}},                        {\"responsive\": true}                    ).then(function(){\n",
              "                            \n",
              "var gd = document.getElementById('e657e8b5-5d32-4e65-8e88-2e291e52759d');\n",
              "var x = new MutationObserver(function (mutations, observer) {{\n",
              "        var display = window.getComputedStyle(gd).display;\n",
              "        if (!display || display === 'none') {{\n",
              "            console.log([gd, 'removed!']);\n",
              "            Plotly.purge(gd);\n",
              "            observer.disconnect();\n",
              "        }}\n",
              "}});\n",
              "\n",
              "// Listen for the removal of the full notebook cells\n",
              "var notebookContainer = gd.closest('#notebook-container');\n",
              "if (notebookContainer) {{\n",
              "    x.observe(notebookContainer, {childList: true});\n",
              "}}\n",
              "\n",
              "// Listen for the clearing of the current output cell\n",
              "var outputEl = gd.closest('.output');\n",
              "if (outputEl) {{\n",
              "    x.observe(outputEl, {childList: true});\n",
              "}}\n",
              "\n",
              "                        })                };                            </script>        </div>\n",
              "</body>\n",
              "</html>"
            ]
          },
          "metadata": {
            "tags": []
          }
        }
      ]
    },
    {
      "cell_type": "code",
      "metadata": {
        "id": "ZhLMBUZGaThi"
      },
      "source": [
        ""
      ],
      "execution_count": 40,
      "outputs": []
    },
    {
      "cell_type": "code",
      "metadata": {
        "id": "TXL2CmuvaUNE"
      },
      "source": [
        ""
      ],
      "execution_count": 40,
      "outputs": []
    }
  ]
}