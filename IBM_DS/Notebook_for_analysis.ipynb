{
 "cells": [
  {
   "cell_type": "markdown",
   "metadata": {},
   "source": [
    "# Capstone Project: NYC Airbnb data clustering analysis and recommendation"
   ]
  },
  {
   "cell_type": "markdown",
   "metadata": {},
   "source": [
    "### Applied Data Science Capstone by IBM/Coursera"
   ]
  },
  {
   "cell_type": "markdown",
   "metadata": {},
   "source": [
    "## Table of contents\n",
    "* [Introduction](#introduction)\n",
    "* [Data Description](#data)\n",
    "* [Modeling and analysis](#modeling)\n",
    "* [Conclusion](#conclusion)\n"
   ]
  },
  {
   "cell_type": "markdown",
   "metadata": {},
   "source": [
    "# 1. Introduction <a name=\"introduction\"></a>"
   ]
  },
  {
   "cell_type": "markdown",
   "metadata": {},
   "source": [
    "### 1.1 Background"
   ]
  },
  {
   "cell_type": "markdown",
   "metadata": {},
   "source": [
    "I have been living in the New York City for 3 years and it has been a dream tour place for a lot of people. The prices of the hotels in the NYC is notoriusly high and as a result, while some people are rich enough, most people prefer to find alternative residences. Some of them decided to live far a way from the city and take a bus or train there for tour, while others chose to live in an Airbnb."
   ]
  },
  {
   "cell_type": "markdown",
   "metadata": {},
   "source": [
    "### 1.2 Problem"
   ]
  },
  {
   "cell_type": "markdown",
   "metadata": {},
   "source": [
    "It is always hard to find a good Airbnb for travelers new to the New York City. There are a lot of factors to considers, such as food, neighbourhood, locations, house reviews, availabilities, and etc. Customers usually have to do intensive research on the locations to mine the information about the factors they care, and this could be time consuming. Often people relies on some online reviews or recommendations but his is also inefficient. In this case, a clustering of the house choices could be both commercially and economically valuable."
   ]
  },
  {
   "cell_type": "markdown",
   "metadata": {},
   "source": [
    "### 1.3 Methods"
   ]
  },
  {
   "cell_type": "markdown",
   "metadata": {},
   "source": [
    "To create the model the recommendation system, I used the KMeans unsupervised learning to cluster the houses first, and then grouped their centroids, and choose centroids with the criterion from the customers, and generate recommendatin from the centroids for the customers"
   ]
  },
  {
   "cell_type": "markdown",
   "metadata": {},
   "source": [
    "#  2. Data Descriptions <a name=\"data\"></a>"
   ]
  },
  {
   "cell_type": "markdown",
   "metadata": {},
   "source": [
    "### 2.1 Data Acquisition"
   ]
  },
  {
   "cell_type": "markdown",
   "metadata": {},
   "source": [
    "The data comes from Kaggle.com, which is a platform for data science projects data as well as competitions. This datasets is originally from Airbnb website and is therefore an official data. It describes the 2019 Airbnb house providers' listing informations. (Link: https://www.kaggle.com/dgomonov/new-york-city-airbnb-open-data)\n",
    "The data are the following:\n",
    "\n",
    "    1. location data\n",
    "    2. review data\n",
    "    3. price data\n",
    "    4. neighborhood data\n",
    "    5. availability\n",
    "\n"
   ]
  },
  {
   "cell_type": "markdown",
   "metadata": {},
   "source": [
    "### 2.2 Data Cleaning    "
   ]
  },
  {
   "cell_type": "markdown",
   "metadata": {},
   "source": [
    "The Dataset from the the Kaggle about Airbnb data was separated into two tables, numerical data and categorical data. The two tables were normalized and encoded and then combined back into one tables for modeling. The main package of the whole cleaning process is Scikit-Learn"
   ]
  },
  {
   "cell_type": "code",
   "execution_count": 49,
   "metadata": {},
   "outputs": [],
   "source": [
    "import pandas as pd\n",
    "import numpy as np\n",
    "import matplotlib.pyplot as plt\n",
    "import matplotlib\n",
    "import seaborn as sb\n",
    "\n",
    "%matplotlib inline"
   ]
  },
  {
   "cell_type": "code",
   "execution_count": 50,
   "metadata": {},
   "outputs": [],
   "source": [
    "\n",
    "raw_data = pd.read_csv('AB_NYC_2019.csv')"
   ]
  },
  {
   "cell_type": "code",
   "execution_count": null,
   "metadata": {},
   "outputs": [],
   "source": []
  },
  {
   "cell_type": "markdown",
   "metadata": {},
   "source": [
    "### 2.3 Exploratory Data Analysis"
   ]
  },
  {
   "cell_type": "code",
   "execution_count": 51,
   "metadata": {
    "scrolled": true
   },
   "outputs": [
    {
     "data": {
      "text/html": [
       "<div>\n",
       "<style scoped>\n",
       "    .dataframe tbody tr th:only-of-type {\n",
       "        vertical-align: middle;\n",
       "    }\n",
       "\n",
       "    .dataframe tbody tr th {\n",
       "        vertical-align: top;\n",
       "    }\n",
       "\n",
       "    .dataframe thead th {\n",
       "        text-align: right;\n",
       "    }\n",
       "</style>\n",
       "<table border=\"1\" class=\"dataframe\">\n",
       "  <thead>\n",
       "    <tr style=\"text-align: right;\">\n",
       "      <th></th>\n",
       "      <th>id</th>\n",
       "      <th>host_id</th>\n",
       "      <th>latitude</th>\n",
       "      <th>longitude</th>\n",
       "      <th>price</th>\n",
       "      <th>minimum_nights</th>\n",
       "      <th>number_of_reviews</th>\n",
       "      <th>reviews_per_month</th>\n",
       "      <th>calculated_host_listings_count</th>\n",
       "      <th>availability_365</th>\n",
       "    </tr>\n",
       "  </thead>\n",
       "  <tbody>\n",
       "    <tr>\n",
       "      <th>count</th>\n",
       "      <td>4.889500e+04</td>\n",
       "      <td>4.889500e+04</td>\n",
       "      <td>48895.000000</td>\n",
       "      <td>48895.000000</td>\n",
       "      <td>48895.000000</td>\n",
       "      <td>48895.000000</td>\n",
       "      <td>48895.000000</td>\n",
       "      <td>38843.000000</td>\n",
       "      <td>48895.000000</td>\n",
       "      <td>48895.000000</td>\n",
       "    </tr>\n",
       "    <tr>\n",
       "      <th>mean</th>\n",
       "      <td>1.901714e+07</td>\n",
       "      <td>6.762001e+07</td>\n",
       "      <td>40.728949</td>\n",
       "      <td>-73.952170</td>\n",
       "      <td>152.720687</td>\n",
       "      <td>7.029962</td>\n",
       "      <td>23.274466</td>\n",
       "      <td>1.373221</td>\n",
       "      <td>7.143982</td>\n",
       "      <td>112.781327</td>\n",
       "    </tr>\n",
       "    <tr>\n",
       "      <th>std</th>\n",
       "      <td>1.098311e+07</td>\n",
       "      <td>7.861097e+07</td>\n",
       "      <td>0.054530</td>\n",
       "      <td>0.046157</td>\n",
       "      <td>240.154170</td>\n",
       "      <td>20.510550</td>\n",
       "      <td>44.550582</td>\n",
       "      <td>1.680442</td>\n",
       "      <td>32.952519</td>\n",
       "      <td>131.622289</td>\n",
       "    </tr>\n",
       "    <tr>\n",
       "      <th>min</th>\n",
       "      <td>2.539000e+03</td>\n",
       "      <td>2.438000e+03</td>\n",
       "      <td>40.499790</td>\n",
       "      <td>-74.244420</td>\n",
       "      <td>0.000000</td>\n",
       "      <td>1.000000</td>\n",
       "      <td>0.000000</td>\n",
       "      <td>0.010000</td>\n",
       "      <td>1.000000</td>\n",
       "      <td>0.000000</td>\n",
       "    </tr>\n",
       "    <tr>\n",
       "      <th>25%</th>\n",
       "      <td>9.471945e+06</td>\n",
       "      <td>7.822033e+06</td>\n",
       "      <td>40.690100</td>\n",
       "      <td>-73.983070</td>\n",
       "      <td>69.000000</td>\n",
       "      <td>1.000000</td>\n",
       "      <td>1.000000</td>\n",
       "      <td>0.190000</td>\n",
       "      <td>1.000000</td>\n",
       "      <td>0.000000</td>\n",
       "    </tr>\n",
       "    <tr>\n",
       "      <th>50%</th>\n",
       "      <td>1.967728e+07</td>\n",
       "      <td>3.079382e+07</td>\n",
       "      <td>40.723070</td>\n",
       "      <td>-73.955680</td>\n",
       "      <td>106.000000</td>\n",
       "      <td>3.000000</td>\n",
       "      <td>5.000000</td>\n",
       "      <td>0.720000</td>\n",
       "      <td>1.000000</td>\n",
       "      <td>45.000000</td>\n",
       "    </tr>\n",
       "    <tr>\n",
       "      <th>75%</th>\n",
       "      <td>2.915218e+07</td>\n",
       "      <td>1.074344e+08</td>\n",
       "      <td>40.763115</td>\n",
       "      <td>-73.936275</td>\n",
       "      <td>175.000000</td>\n",
       "      <td>5.000000</td>\n",
       "      <td>24.000000</td>\n",
       "      <td>2.020000</td>\n",
       "      <td>2.000000</td>\n",
       "      <td>227.000000</td>\n",
       "    </tr>\n",
       "    <tr>\n",
       "      <th>max</th>\n",
       "      <td>3.648724e+07</td>\n",
       "      <td>2.743213e+08</td>\n",
       "      <td>40.913060</td>\n",
       "      <td>-73.712990</td>\n",
       "      <td>10000.000000</td>\n",
       "      <td>1250.000000</td>\n",
       "      <td>629.000000</td>\n",
       "      <td>58.500000</td>\n",
       "      <td>327.000000</td>\n",
       "      <td>365.000000</td>\n",
       "    </tr>\n",
       "  </tbody>\n",
       "</table>\n",
       "</div>"
      ],
      "text/plain": [
       "                 id       host_id      latitude     longitude         price  \\\n",
       "count  4.889500e+04  4.889500e+04  48895.000000  48895.000000  48895.000000   \n",
       "mean   1.901714e+07  6.762001e+07     40.728949    -73.952170    152.720687   \n",
       "std    1.098311e+07  7.861097e+07      0.054530      0.046157    240.154170   \n",
       "min    2.539000e+03  2.438000e+03     40.499790    -74.244420      0.000000   \n",
       "25%    9.471945e+06  7.822033e+06     40.690100    -73.983070     69.000000   \n",
       "50%    1.967728e+07  3.079382e+07     40.723070    -73.955680    106.000000   \n",
       "75%    2.915218e+07  1.074344e+08     40.763115    -73.936275    175.000000   \n",
       "max    3.648724e+07  2.743213e+08     40.913060    -73.712990  10000.000000   \n",
       "\n",
       "       minimum_nights  number_of_reviews  reviews_per_month  \\\n",
       "count    48895.000000       48895.000000       38843.000000   \n",
       "mean         7.029962          23.274466           1.373221   \n",
       "std         20.510550          44.550582           1.680442   \n",
       "min          1.000000           0.000000           0.010000   \n",
       "25%          1.000000           1.000000           0.190000   \n",
       "50%          3.000000           5.000000           0.720000   \n",
       "75%          5.000000          24.000000           2.020000   \n",
       "max       1250.000000         629.000000          58.500000   \n",
       "\n",
       "       calculated_host_listings_count  availability_365  \n",
       "count                    48895.000000      48895.000000  \n",
       "mean                         7.143982        112.781327  \n",
       "std                         32.952519        131.622289  \n",
       "min                          1.000000          0.000000  \n",
       "25%                          1.000000          0.000000  \n",
       "50%                          1.000000         45.000000  \n",
       "75%                          2.000000        227.000000  \n",
       "max                        327.000000        365.000000  "
      ]
     },
     "execution_count": 51,
     "metadata": {},
     "output_type": "execute_result"
    }
   ],
   "source": [
    "raw_data.describe()"
   ]
  },
  {
   "cell_type": "markdown",
   "metadata": {},
   "source": [
    "    "
   ]
  },
  {
   "cell_type": "code",
   "execution_count": 52,
   "metadata": {},
   "outputs": [
    {
     "name": "stderr",
     "output_type": "stream",
     "text": [
      "C:\\Users\\Public\\Anaconda3\\lib\\site-packages\\sklearn\\preprocessing\\data.py:334: DataConversionWarning: Data with input dtype int64, float64 were all converted to float64 by MinMaxScaler.\n",
      "  return self.partial_fit(X, y)\n"
     ]
    },
    {
     "data": {
      "text/plain": [
       "(38821, 10)"
      ]
     },
     "execution_count": 52,
     "metadata": {},
     "output_type": "execute_result"
    }
   ],
   "source": [
    "from sklearn.preprocessing import MinMaxScaler\n",
    "# scaling the numerical data\n",
    "mms = MinMaxScaler()\n",
    "eda_data_raw = raw_data.dropna().select_dtypes(exclude = ['object'])\n",
    "eda_data = pd.DataFrame(mms.fit_transform(eda_data_raw))\n",
    "eda_data.columns = eda_data_raw.columns.values.tolist()\n",
    "eda_data.shape"
   ]
  },
  {
   "cell_type": "code",
   "execution_count": 53,
   "metadata": {},
   "outputs": [
    {
     "data": {
      "text/plain": [
       "<matplotlib.axes._subplots.AxesSubplot at 0x1182a8a0a58>"
      ]
     },
     "execution_count": 53,
     "metadata": {},
     "output_type": "execute_result"
    },
    {
     "data": {
      "image/png": "[encoded data removed]",
      "text/plain": [
       "<Figure size 864x1152 with 9 Axes>"
      ]
     },
     "metadata": {
      "needs_background": "light"
     },
     "output_type": "display_data"
    }
   ],
   "source": [
    "\n",
    "fig, axes = plt.subplots(3,3, figsize=(12, 16), sharex=False)\n",
    "sb.distplot(eda_data.iloc[:,1], ax = axes[0, 0])\n",
    "sb.distplot(eda_data.iloc[:,2], ax = axes[0, 1])\n",
    "sb.distplot(eda_data.iloc[:,3], ax = axes[0, 2])\n",
    "sb.distplot(eda_data.iloc[:,4], ax = axes[1, 0])\n",
    "sb.distplot(eda_data.iloc[:,5], ax = axes[1, 1])\n",
    "sb.distplot(eda_data.iloc[:,6], ax = axes[1, 2])\n",
    "sb.distplot(eda_data.iloc[:,7], ax = axes[2, 0])\n",
    "sb.distplot(eda_data.iloc[:,8], ax = axes[2, 1])\n",
    "sb.distplot(eda_data.iloc[:,9], ax = axes[2, 2])"
   ]
  },
  {
   "cell_type": "markdown",
   "metadata": {},
   "source": [
    "Let's see the price"
   ]
  },
  {
   "cell_type": "code",
   "execution_count": 54,
   "metadata": {},
   "outputs": [
    {
     "data": {
      "text/plain": [
       "<matplotlib.axes._subplots.AxesSubplot at 0x1182a7b66d8>"
      ]
     },
     "execution_count": 54,
     "metadata": {},
     "output_type": "execute_result"
    },
    {
     "data": {
      "image/png": "[encoded data removed]",
      "text/plain": [
       "<Figure size 432x288 with 1 Axes>"
      ]
     },
     "metadata": {
      "needs_background": "light"
     },
     "output_type": "display_data"
    }
   ],
   "source": [
    "# average price by neighborhood top 5 \n",
    "price_rank = raw_data[['neighbourhood', 'price']].groupby(['neighbourhood']).mean().sort_values(by = 'price', ascending = False)[: 5]\n",
    "price_rank.plot.bar()\n"
   ]
  },
  {
   "cell_type": "code",
   "execution_count": 55,
   "metadata": {},
   "outputs": [
    {
     "data": {
      "text/plain": [
       "<matplotlib.axes._subplots.AxesSubplot at 0x1182ba31be0>"
      ]
     },
     "execution_count": 55,
     "metadata": {},
     "output_type": "execute_result"
    },
    {
     "data": {
      "image/png": "[encoded data removed]",
      "text/plain": [
       "<Figure size 432x288 with 1 Axes>"
      ]
     },
     "metadata": {
      "needs_background": "light"
     },
     "output_type": "display_data"
    }
   ],
   "source": [
    "# average availability by neighborhood top 5\n",
    "raw_data[['neighbourhood', 'availability_365']].groupby(['neighbourhood']).mean().sort_values(by = 'availability_365', ascending = False)[: 5].plot.bar()"
   ]
  },
  {
   "cell_type": "code",
   "execution_count": 56,
   "metadata": {},
   "outputs": [
    {
     "data": {
      "text/plain": [
       "<matplotlib.axes._subplots.AxesSubplot at 0x1182ba79668>"
      ]
     },
     "execution_count": 56,
     "metadata": {},
     "output_type": "execute_result"
    },
    {
     "data": {
      "image/png": "[encoded data removed]",
      "text/plain": [
       "<Figure size 432x288 with 1 Axes>"
      ]
     },
     "metadata": {
      "needs_background": "light"
     },
     "output_type": "display_data"
    }
   ],
   "source": [
    "# average review per month by neighborhood top 5 to see popularity\n",
    "raw_data[['neighbourhood', 'reviews_per_month']].groupby(['neighbourhood']).mean().sort_values(by = 'reviews_per_month', ascending = False)[: 5].plot.bar()"
   ]
  },
  {
   "cell_type": "markdown",
   "metadata": {},
   "source": [
    "# 3. Modeling and Analysis <a name=\"Modeling and analysis\"></a>"
   ]
  },
  {
   "cell_type": "markdown",
   "metadata": {},
   "source": [
    "### 3.1 Clustering"
   ]
  },
  {
   "cell_type": "markdown",
   "metadata": {},
   "source": [
    "##### 3.11 Data Cleaning"
   ]
  },
  {
   "cell_type": "code",
   "execution_count": 57,
   "metadata": {},
   "outputs": [],
   "source": [
    "\n",
    "import datetime\n",
    "# re-creating the training dataframe\n",
    "df = raw_data.iloc[:, 6:]\n",
    "df.head()\n",
    "df.dropna(inplace = True)\n"
   ]
  },
  {
   "cell_type": "code",
   "execution_count": 58,
   "metadata": {},
   "outputs": [],
   "source": [
    "\n",
    "# constructing days before last review to today\n",
    "df['last_review'] = df['last_review'].apply(lambda x: datetime.datetime.strptime(x, '%Y-%m-%d'))\n",
    "df['last_review_days'] = df['last_review'].apply(lambda x: (x - datetime.datetime.now())).dt.days\n",
    "df['last_review_days'] = df['last_review_days']*(-1)"
   ]
  },
  {
   "cell_type": "code",
   "execution_count": 59,
   "metadata": {},
   "outputs": [
    {
     "data": {
      "text/html": [
       "<div>\n",
       "<style scoped>\n",
       "    .dataframe tbody tr th:only-of-type {\n",
       "        vertical-align: middle;\n",
       "    }\n",
       "\n",
       "    .dataframe tbody tr th {\n",
       "        vertical-align: top;\n",
       "    }\n",
       "\n",
       "    .dataframe thead th {\n",
       "        text-align: right;\n",
       "    }\n",
       "</style>\n",
       "<table border=\"1\" class=\"dataframe\">\n",
       "  <thead>\n",
       "    <tr style=\"text-align: right;\">\n",
       "      <th></th>\n",
       "      <th>latitude</th>\n",
       "      <th>longitude</th>\n",
       "      <th>room_type</th>\n",
       "      <th>price</th>\n",
       "      <th>minimum_nights</th>\n",
       "      <th>number_of_reviews</th>\n",
       "      <th>last_review</th>\n",
       "      <th>reviews_per_month</th>\n",
       "      <th>calculated_host_listings_count</th>\n",
       "      <th>availability_365</th>\n",
       "      <th>last_review_days</th>\n",
       "    </tr>\n",
       "  </thead>\n",
       "  <tbody>\n",
       "    <tr>\n",
       "      <th>0</th>\n",
       "      <td>40.64749</td>\n",
       "      <td>-73.97237</td>\n",
       "      <td>Private room</td>\n",
       "      <td>149</td>\n",
       "      <td>1</td>\n",
       "      <td>9</td>\n",
       "      <td>2018-10-19</td>\n",
       "      <td>0.21</td>\n",
       "      <td>6</td>\n",
       "      <td>365</td>\n",
       "      <td>368</td>\n",
       "    </tr>\n",
       "    <tr>\n",
       "      <th>1</th>\n",
       "      <td>40.75362</td>\n",
       "      <td>-73.98377</td>\n",
       "      <td>Entire home/apt</td>\n",
       "      <td>225</td>\n",
       "      <td>1</td>\n",
       "      <td>45</td>\n",
       "      <td>2019-05-21</td>\n",
       "      <td>0.38</td>\n",
       "      <td>2</td>\n",
       "      <td>355</td>\n",
       "      <td>154</td>\n",
       "    </tr>\n",
       "    <tr>\n",
       "      <th>3</th>\n",
       "      <td>40.68514</td>\n",
       "      <td>-73.95976</td>\n",
       "      <td>Entire home/apt</td>\n",
       "      <td>89</td>\n",
       "      <td>1</td>\n",
       "      <td>270</td>\n",
       "      <td>2019-07-05</td>\n",
       "      <td>4.64</td>\n",
       "      <td>1</td>\n",
       "      <td>194</td>\n",
       "      <td>109</td>\n",
       "    </tr>\n",
       "    <tr>\n",
       "      <th>4</th>\n",
       "      <td>40.79851</td>\n",
       "      <td>-73.94399</td>\n",
       "      <td>Entire home/apt</td>\n",
       "      <td>80</td>\n",
       "      <td>10</td>\n",
       "      <td>9</td>\n",
       "      <td>2018-11-19</td>\n",
       "      <td>0.10</td>\n",
       "      <td>1</td>\n",
       "      <td>0</td>\n",
       "      <td>337</td>\n",
       "    </tr>\n",
       "    <tr>\n",
       "      <th>5</th>\n",
       "      <td>40.74767</td>\n",
       "      <td>-73.97500</td>\n",
       "      <td>Entire home/apt</td>\n",
       "      <td>200</td>\n",
       "      <td>3</td>\n",
       "      <td>74</td>\n",
       "      <td>2019-06-22</td>\n",
       "      <td>0.59</td>\n",
       "      <td>1</td>\n",
       "      <td>129</td>\n",
       "      <td>122</td>\n",
       "    </tr>\n",
       "  </tbody>\n",
       "</table>\n",
       "</div>"
      ],
      "text/plain": [
       "   latitude  longitude        room_type  price  minimum_nights  \\\n",
       "0  40.64749  -73.97237     Private room    149               1   \n",
       "1  40.75362  -73.98377  Entire home/apt    225               1   \n",
       "3  40.68514  -73.95976  Entire home/apt     89               1   \n",
       "4  40.79851  -73.94399  Entire home/apt     80              10   \n",
       "5  40.74767  -73.97500  Entire home/apt    200               3   \n",
       "\n",
       "   number_of_reviews last_review  reviews_per_month  \\\n",
       "0                  9  2018-10-19               0.21   \n",
       "1                 45  2019-05-21               0.38   \n",
       "3                270  2019-07-05               4.64   \n",
       "4                  9  2018-11-19               0.10   \n",
       "5                 74  2019-06-22               0.59   \n",
       "\n",
       "   calculated_host_listings_count  availability_365  last_review_days  \n",
       "0                               6               365               368  \n",
       "1                               2               355               154  \n",
       "3                               1               194               109  \n",
       "4                               1                 0               337  \n",
       "5                               1               129               122  "
      ]
     },
     "execution_count": 59,
     "metadata": {},
     "output_type": "execute_result"
    }
   ],
   "source": [
    "df.head()"
   ]
  },
  {
   "cell_type": "code",
   "execution_count": 60,
   "metadata": {
    "scrolled": true
   },
   "outputs": [
    {
     "data": {
      "text/html": [
       "<div>\n",
       "<style scoped>\n",
       "    .dataframe tbody tr th:only-of-type {\n",
       "        vertical-align: middle;\n",
       "    }\n",
       "\n",
       "    .dataframe tbody tr th {\n",
       "        vertical-align: top;\n",
       "    }\n",
       "\n",
       "    .dataframe thead th {\n",
       "        text-align: right;\n",
       "    }\n",
       "</style>\n",
       "<table border=\"1\" class=\"dataframe\">\n",
       "  <thead>\n",
       "    <tr style=\"text-align: right;\">\n",
       "      <th></th>\n",
       "      <th>latitude</th>\n",
       "      <th>longitude</th>\n",
       "      <th>price</th>\n",
       "      <th>minimum_nights</th>\n",
       "      <th>number_of_reviews</th>\n",
       "      <th>reviews_per_month</th>\n",
       "      <th>calculated_host_listings_count</th>\n",
       "      <th>availability_365</th>\n",
       "      <th>last_review_days</th>\n",
       "    </tr>\n",
       "  </thead>\n",
       "  <tbody>\n",
       "    <tr>\n",
       "      <th>0</th>\n",
       "      <td>40.64749</td>\n",
       "      <td>-73.97237</td>\n",
       "      <td>149</td>\n",
       "      <td>1</td>\n",
       "      <td>9</td>\n",
       "      <td>0.21</td>\n",
       "      <td>6</td>\n",
       "      <td>365</td>\n",
       "      <td>368</td>\n",
       "    </tr>\n",
       "    <tr>\n",
       "      <th>1</th>\n",
       "      <td>40.75362</td>\n",
       "      <td>-73.98377</td>\n",
       "      <td>225</td>\n",
       "      <td>1</td>\n",
       "      <td>45</td>\n",
       "      <td>0.38</td>\n",
       "      <td>2</td>\n",
       "      <td>355</td>\n",
       "      <td>154</td>\n",
       "    </tr>\n",
       "    <tr>\n",
       "      <th>3</th>\n",
       "      <td>40.68514</td>\n",
       "      <td>-73.95976</td>\n",
       "      <td>89</td>\n",
       "      <td>1</td>\n",
       "      <td>270</td>\n",
       "      <td>4.64</td>\n",
       "      <td>1</td>\n",
       "      <td>194</td>\n",
       "      <td>109</td>\n",
       "    </tr>\n",
       "    <tr>\n",
       "      <th>4</th>\n",
       "      <td>40.79851</td>\n",
       "      <td>-73.94399</td>\n",
       "      <td>80</td>\n",
       "      <td>10</td>\n",
       "      <td>9</td>\n",
       "      <td>0.10</td>\n",
       "      <td>1</td>\n",
       "      <td>0</td>\n",
       "      <td>337</td>\n",
       "    </tr>\n",
       "    <tr>\n",
       "      <th>5</th>\n",
       "      <td>40.74767</td>\n",
       "      <td>-73.97500</td>\n",
       "      <td>200</td>\n",
       "      <td>3</td>\n",
       "      <td>74</td>\n",
       "      <td>0.59</td>\n",
       "      <td>1</td>\n",
       "      <td>129</td>\n",
       "      <td>122</td>\n",
       "    </tr>\n",
       "  </tbody>\n",
       "</table>\n",
       "</div>"
      ],
      "text/plain": [
       "   latitude  longitude  price  minimum_nights  number_of_reviews  \\\n",
       "0  40.64749  -73.97237    149               1                  9   \n",
       "1  40.75362  -73.98377    225               1                 45   \n",
       "3  40.68514  -73.95976     89               1                270   \n",
       "4  40.79851  -73.94399     80              10                  9   \n",
       "5  40.74767  -73.97500    200               3                 74   \n",
       "\n",
       "   reviews_per_month  calculated_host_listings_count  availability_365  \\\n",
       "0               0.21                               6               365   \n",
       "1               0.38                               2               355   \n",
       "3               4.64                               1               194   \n",
       "4               0.10                               1                 0   \n",
       "5               0.59                               1               129   \n",
       "\n",
       "   last_review_days  \n",
       "0               368  \n",
       "1               154  \n",
       "3               109  \n",
       "4               337  \n",
       "5               122  "
      ]
     },
     "execution_count": 60,
     "metadata": {},
     "output_type": "execute_result"
    }
   ],
   "source": [
    "\n",
    "df_labeled = df\n",
    "df_labeled.drop(columns = ['room_type', 'last_review'], inplace =True)\n",
    "df_labeled.fillna(df_labeled.mean(), inplace = True)\n",
    "df_labeled.head()\n"
   ]
  },
  {
   "cell_type": "code",
   "execution_count": 61,
   "metadata": {},
   "outputs": [
    {
     "name": "stderr",
     "output_type": "stream",
     "text": [
      "C:\\Users\\Public\\Anaconda3\\lib\\site-packages\\sklearn\\preprocessing\\data.py:334: DataConversionWarning: Data with input dtype int64, float64 were all converted to float64 by MinMaxScaler.\n",
      "  return self.partial_fit(X, y)\n"
     ]
    }
   ],
   "source": [
    "# scale the data\n",
    "df_scaled = mms.fit_transform(df_labeled)\n"
   ]
  },
  {
   "cell_type": "markdown",
   "metadata": {},
   "source": [
    "##### 3.12 finding best k value"
   ]
  },
  {
   "cell_type": "code",
   "execution_count": 62,
   "metadata": {},
   "outputs": [],
   "source": [
    "from sklearn.cluster import KMeans \n"
   ]
  },
  {
   "cell_type": "code",
   "execution_count": 80,
   "metadata": {},
   "outputs": [],
   "source": [
    "\n",
    "# finding the best k\n",
    "distance = []\n",
    "k = []\n",
    "for x in range(1,20):\n",
    "    km = KMeans(x)\n",
    "    km.fit(df_scaled)\n",
    "    k.append(x)\n",
    "    distance.append(km.inertia_)"
   ]
  },
  {
   "cell_type": "code",
   "execution_count": 81,
   "metadata": {},
   "outputs": [
    {
     "data": {
      "text/plain": [
       "<matplotlib.axes._subplots.AxesSubplot at 0x1182ba93e10>"
      ]
     },
     "execution_count": 81,
     "metadata": {},
     "output_type": "execute_result"
    },
    {
     "data": {
      "image/png": "[encoded data removed]",
      "text/plain": [
       "<Figure size 432x288 with 1 Axes>"
      ]
     },
     "metadata": {
      "needs_background": "light"
     },
     "output_type": "display_data"
    }
   ],
   "source": [
    "sb.lineplot(k, distance)"
   ]
  },
  {
   "cell_type": "markdown",
   "metadata": {},
   "source": [
    "According to elbow method, the proper k value should be around 6"
   ]
  },
  {
   "cell_type": "markdown",
   "metadata": {},
   "source": [
    "##### 3.13 KMeans model"
   ]
  },
  {
   "cell_type": "code",
   "execution_count": 82,
   "metadata": {},
   "outputs": [],
   "source": [
    "# let's try k = 6\n",
    "km = KMeans(6, random_state = 42)\n",
    "km.fit(df_scaled)\n",
    "df_final = df.copy()\n",
    "df_final['cluster'] = km.labels_\n"
   ]
  },
  {
   "cell_type": "code",
   "execution_count": 83,
   "metadata": {},
   "outputs": [
    {
     "data": {
      "text/plain": [
       "Index(['latitude', 'longitude', 'price', 'minimum_nights', 'number_of_reviews',\n",
       "       'reviews_per_month', 'calculated_host_listings_count',\n",
       "       'availability_365', 'last_review_days'],\n",
       "      dtype='object')"
      ]
     },
     "execution_count": 83,
     "metadata": {},
     "output_type": "execute_result"
    }
   ],
   "source": [
    "df.columns"
   ]
  },
  {
   "cell_type": "markdown",
   "metadata": {},
   "source": [
    "Converting back the data"
   ]
  },
  {
   "cell_type": "code",
   "execution_count": 84,
   "metadata": {},
   "outputs": [
    {
     "data": {
      "text/html": [
       "<div>\n",
       "<style scoped>\n",
       "    .dataframe tbody tr th:only-of-type {\n",
       "        vertical-align: middle;\n",
       "    }\n",
       "\n",
       "    .dataframe tbody tr th {\n",
       "        vertical-align: top;\n",
       "    }\n",
       "\n",
       "    .dataframe thead th {\n",
       "        text-align: right;\n",
       "    }\n",
       "</style>\n",
       "<table border=\"1\" class=\"dataframe\">\n",
       "  <thead>\n",
       "    <tr style=\"text-align: right;\">\n",
       "      <th></th>\n",
       "      <th>latitude</th>\n",
       "      <th>longitude</th>\n",
       "      <th>price</th>\n",
       "      <th>minimum_nights</th>\n",
       "      <th>number_of_reviews</th>\n",
       "      <th>reviews_per_month</th>\n",
       "      <th>calculated_host_listings_count</th>\n",
       "      <th>availability_365</th>\n",
       "      <th>last_review_days</th>\n",
       "    </tr>\n",
       "  </thead>\n",
       "  <tbody>\n",
       "    <tr>\n",
       "      <th>0</th>\n",
       "      <td>40.730866</td>\n",
       "      <td>-73.949710</td>\n",
       "      <td>160.668998</td>\n",
       "      <td>6.808394</td>\n",
       "      <td>51.025593</td>\n",
       "      <td>1.991803</td>\n",
       "      <td>4.285446</td>\n",
       "      <td>204.502474</td>\n",
       "      <td>212.354718</td>\n",
       "    </tr>\n",
       "    <tr>\n",
       "      <th>1</th>\n",
       "      <td>40.730941</td>\n",
       "      <td>-73.956138</td>\n",
       "      <td>129.276627</td>\n",
       "      <td>4.631448</td>\n",
       "      <td>21.114731</td>\n",
       "      <td>1.173508</td>\n",
       "      <td>1.667675</td>\n",
       "      <td>8.837871</td>\n",
       "      <td>274.279342</td>\n",
       "    </tr>\n",
       "    <tr>\n",
       "      <th>2</th>\n",
       "      <td>40.725348</td>\n",
       "      <td>-73.942672</td>\n",
       "      <td>160.375179</td>\n",
       "      <td>8.961323</td>\n",
       "      <td>35.966141</td>\n",
       "      <td>1.522728</td>\n",
       "      <td>7.484959</td>\n",
       "      <td>327.855320</td>\n",
       "      <td>252.837479</td>\n",
       "    </tr>\n",
       "    <tr>\n",
       "      <th>3</th>\n",
       "      <td>40.717777</td>\n",
       "      <td>-74.003558</td>\n",
       "      <td>271.705128</td>\n",
       "      <td>7.653846</td>\n",
       "      <td>5.594017</td>\n",
       "      <td>1.723974</td>\n",
       "      <td>316.038462</td>\n",
       "      <td>287.564103</td>\n",
       "      <td>149.085470</td>\n",
       "    </tr>\n",
       "    <tr>\n",
       "      <th>4</th>\n",
       "      <td>40.722150</td>\n",
       "      <td>-73.940601</td>\n",
       "      <td>132.210321</td>\n",
       "      <td>4.852841</td>\n",
       "      <td>41.305714</td>\n",
       "      <td>2.221166</td>\n",
       "      <td>2.475989</td>\n",
       "      <td>89.300667</td>\n",
       "      <td>165.715286</td>\n",
       "    </tr>\n",
       "    <tr>\n",
       "      <th>5</th>\n",
       "      <td>40.729520</td>\n",
       "      <td>-73.961374</td>\n",
       "      <td>134.648219</td>\n",
       "      <td>4.624524</td>\n",
       "      <td>5.885667</td>\n",
       "      <td>0.132118</td>\n",
       "      <td>1.217564</td>\n",
       "      <td>2.719635</td>\n",
       "      <td>1176.340017</td>\n",
       "    </tr>\n",
       "  </tbody>\n",
       "</table>\n",
       "</div>"
      ],
      "text/plain": [
       "    latitude  longitude       price  minimum_nights  number_of_reviews  \\\n",
       "0  40.730866 -73.949710  160.668998        6.808394          51.025593   \n",
       "1  40.730941 -73.956138  129.276627        4.631448          21.114731   \n",
       "2  40.725348 -73.942672  160.375179        8.961323          35.966141   \n",
       "3  40.717777 -74.003558  271.705128        7.653846           5.594017   \n",
       "4  40.722150 -73.940601  132.210321        4.852841          41.305714   \n",
       "5  40.729520 -73.961374  134.648219        4.624524           5.885667   \n",
       "\n",
       "   reviews_per_month  calculated_host_listings_count  availability_365  \\\n",
       "0           1.991803                        4.285446        204.502474   \n",
       "1           1.173508                        1.667675          8.837871   \n",
       "2           1.522728                        7.484959        327.855320   \n",
       "3           1.723974                      316.038462        287.564103   \n",
       "4           2.221166                        2.475989         89.300667   \n",
       "5           0.132118                        1.217564          2.719635   \n",
       "\n",
       "   last_review_days  \n",
       "0        212.354718  \n",
       "1        274.279342  \n",
       "2        252.837479  \n",
       "3        149.085470  \n",
       "4        165.715286  \n",
       "5       1176.340017  "
      ]
     },
     "execution_count": 84,
     "metadata": {},
     "output_type": "execute_result"
    }
   ],
   "source": [
    "cluster_center = pd.DataFrame(mms.inverse_transform(km.cluster_centers_))\n",
    "cluster_center.columns = df.columns\n",
    "cluster_center"
   ]
  },
  {
   "cell_type": "code",
   "execution_count": 85,
   "metadata": {},
   "outputs": [
    {
     "data": {
      "text/html": [
       "<div>\n",
       "<style scoped>\n",
       "    .dataframe tbody tr th:only-of-type {\n",
       "        vertical-align: middle;\n",
       "    }\n",
       "\n",
       "    .dataframe tbody tr th {\n",
       "        vertical-align: top;\n",
       "    }\n",
       "\n",
       "    .dataframe thead th {\n",
       "        text-align: right;\n",
       "    }\n",
       "</style>\n",
       "<table border=\"1\" class=\"dataframe\">\n",
       "  <thead>\n",
       "    <tr style=\"text-align: right;\">\n",
       "      <th></th>\n",
       "      <th>latitude</th>\n",
       "      <th>longitude</th>\n",
       "      <th>price</th>\n",
       "      <th>minimum_nights</th>\n",
       "      <th>number_of_reviews</th>\n",
       "      <th>reviews_per_month</th>\n",
       "      <th>calculated_host_listings_count</th>\n",
       "      <th>availability_365</th>\n",
       "      <th>last_review_days</th>\n",
       "      <th>cluster</th>\n",
       "      <th>name</th>\n",
       "    </tr>\n",
       "  </thead>\n",
       "  <tbody>\n",
       "    <tr>\n",
       "      <th>0</th>\n",
       "      <td>40.64749</td>\n",
       "      <td>-73.97237</td>\n",
       "      <td>149</td>\n",
       "      <td>1</td>\n",
       "      <td>9</td>\n",
       "      <td>0.21</td>\n",
       "      <td>6</td>\n",
       "      <td>365</td>\n",
       "      <td>368</td>\n",
       "      <td>2</td>\n",
       "      <td>Clean &amp; quiet apt home by the park</td>\n",
       "    </tr>\n",
       "    <tr>\n",
       "      <th>1</th>\n",
       "      <td>40.75362</td>\n",
       "      <td>-73.98377</td>\n",
       "      <td>225</td>\n",
       "      <td>1</td>\n",
       "      <td>45</td>\n",
       "      <td>0.38</td>\n",
       "      <td>2</td>\n",
       "      <td>355</td>\n",
       "      <td>154</td>\n",
       "      <td>2</td>\n",
       "      <td>Skylit Midtown Castle</td>\n",
       "    </tr>\n",
       "    <tr>\n",
       "      <th>3</th>\n",
       "      <td>40.68514</td>\n",
       "      <td>-73.95976</td>\n",
       "      <td>89</td>\n",
       "      <td>1</td>\n",
       "      <td>270</td>\n",
       "      <td>4.64</td>\n",
       "      <td>1</td>\n",
       "      <td>194</td>\n",
       "      <td>109</td>\n",
       "      <td>0</td>\n",
       "      <td>Cozy Entire Floor of Brownstone</td>\n",
       "    </tr>\n",
       "    <tr>\n",
       "      <th>4</th>\n",
       "      <td>40.79851</td>\n",
       "      <td>-73.94399</td>\n",
       "      <td>80</td>\n",
       "      <td>10</td>\n",
       "      <td>9</td>\n",
       "      <td>0.10</td>\n",
       "      <td>1</td>\n",
       "      <td>0</td>\n",
       "      <td>337</td>\n",
       "      <td>1</td>\n",
       "      <td>Entire Apt: Spacious Studio/Loft by central park</td>\n",
       "    </tr>\n",
       "    <tr>\n",
       "      <th>5</th>\n",
       "      <td>40.74767</td>\n",
       "      <td>-73.97500</td>\n",
       "      <td>200</td>\n",
       "      <td>3</td>\n",
       "      <td>74</td>\n",
       "      <td>0.59</td>\n",
       "      <td>1</td>\n",
       "      <td>129</td>\n",
       "      <td>122</td>\n",
       "      <td>4</td>\n",
       "      <td>Large Cozy 1 BR Apartment In Midtown East</td>\n",
       "    </tr>\n",
       "  </tbody>\n",
       "</table>\n",
       "</div>"
      ],
      "text/plain": [
       "   latitude  longitude  price  minimum_nights  number_of_reviews  \\\n",
       "0  40.64749  -73.97237    149               1                  9   \n",
       "1  40.75362  -73.98377    225               1                 45   \n",
       "3  40.68514  -73.95976     89               1                270   \n",
       "4  40.79851  -73.94399     80              10                  9   \n",
       "5  40.74767  -73.97500    200               3                 74   \n",
       "\n",
       "   reviews_per_month  calculated_host_listings_count  availability_365  \\\n",
       "0               0.21                               6               365   \n",
       "1               0.38                               2               355   \n",
       "3               4.64                               1               194   \n",
       "4               0.10                               1                 0   \n",
       "5               0.59                               1               129   \n",
       "\n",
       "   last_review_days  cluster                                              name  \n",
       "0               368        2                Clean & quiet apt home by the park  \n",
       "1               154        2                             Skylit Midtown Castle  \n",
       "3               109        0                   Cozy Entire Floor of Brownstone  \n",
       "4               337        1  Entire Apt: Spacious Studio/Loft by central park  \n",
       "5               122        4         Large Cozy 1 BR Apartment In Midtown East  "
      ]
     },
     "execution_count": 85,
     "metadata": {},
     "output_type": "execute_result"
    }
   ],
   "source": [
    "df_final['name'] = raw_data['name']\n",
    "df_final.head()"
   ]
  },
  {
   "cell_type": "markdown",
   "metadata": {},
   "source": [
    "##### 3.14 Visualize clustering"
   ]
  },
  {
   "cell_type": "code",
   "execution_count": 86,
   "metadata": {},
   "outputs": [
    {
     "name": "stdout",
     "output_type": "stream",
     "text": [
      "Requirement already satisfied: folium in c:\\users\\public\\anaconda3\\lib\\site-packages (0.10.0)\n",
      "Requirement already satisfied: branca>=0.3.0 in c:\\users\\public\\anaconda3\\lib\\site-packages (from folium) (0.3.1)\n",
      "Requirement already satisfied: requests in c:\\users\\public\\anaconda3\\lib\\site-packages (from folium) (2.21.0)\n",
      "Requirement already satisfied: numpy in c:\\users\\public\\anaconda3\\lib\\site-packages (from folium) (1.16.2)\n",
      "Requirement already satisfied: jinja2>=2.9 in c:\\users\\public\\anaconda3\\lib\\site-packages (from folium) (2.10)\n",
      "Requirement already satisfied: six in c:\\users\\public\\anaconda3\\lib\\site-packages (from branca>=0.3.0->folium) (1.12.0)\n",
      "Requirement already satisfied: chardet<3.1.0,>=3.0.2 in c:\\users\\public\\anaconda3\\lib\\site-packages (from requests->folium) (3.0.4)\n",
      "Requirement already satisfied: idna<2.9,>=2.5 in c:\\users\\public\\anaconda3\\lib\\site-packages (from requests->folium) (2.8)\n",
      "Requirement already satisfied: urllib3<1.25,>=1.21.1 in c:\\users\\public\\anaconda3\\lib\\site-packages (from requests->folium) (1.24.1)\n",
      "Requirement already satisfied: certifi>=2017.4.17 in c:\\users\\public\\anaconda3\\lib\\site-packages (from requests->folium) (2019.3.9)\n",
      "Requirement already satisfied: MarkupSafe>=0.23 in c:\\users\\public\\anaconda3\\lib\\site-packages (from jinja2>=2.9->folium) (1.1.1)\n"
     ]
    }
   ],
   "source": [
    "!pip install folium\n",
    "import folium"
   ]
  },
  {
   "cell_type": "code",
   "execution_count": 87,
   "metadata": {},
   "outputs": [
    {
     "data": {
      "text/html": [
       "<div>\n",
       "<style scoped>\n",
       "    .dataframe tbody tr th:only-of-type {\n",
       "        vertical-align: middle;\n",
       "    }\n",
       "\n",
       "    .dataframe tbody tr th {\n",
       "        vertical-align: top;\n",
       "    }\n",
       "\n",
       "    .dataframe thead th {\n",
       "        text-align: right;\n",
       "    }\n",
       "</style>\n",
       "<table border=\"1\" class=\"dataframe\">\n",
       "  <thead>\n",
       "    <tr style=\"text-align: right;\">\n",
       "      <th></th>\n",
       "      <th>latitude</th>\n",
       "      <th>longitude</th>\n",
       "      <th>price</th>\n",
       "      <th>minimum_nights</th>\n",
       "      <th>number_of_reviews</th>\n",
       "      <th>reviews_per_month</th>\n",
       "      <th>calculated_host_listings_count</th>\n",
       "      <th>availability_365</th>\n",
       "      <th>last_review_days</th>\n",
       "      <th>name</th>\n",
       "    </tr>\n",
       "  </thead>\n",
       "  <tbody>\n",
       "    <tr>\n",
       "      <th>0</th>\n",
       "      <td>40.730866</td>\n",
       "      <td>-73.949710</td>\n",
       "      <td>160.668998</td>\n",
       "      <td>6.808394</td>\n",
       "      <td>51.025593</td>\n",
       "      <td>1.991803</td>\n",
       "      <td>4.285446</td>\n",
       "      <td>204.502474</td>\n",
       "      <td>212.354718</td>\n",
       "      <td>Cluster Group 0</td>\n",
       "    </tr>\n",
       "    <tr>\n",
       "      <th>1</th>\n",
       "      <td>40.730941</td>\n",
       "      <td>-73.956138</td>\n",
       "      <td>129.276627</td>\n",
       "      <td>4.631448</td>\n",
       "      <td>21.114731</td>\n",
       "      <td>1.173508</td>\n",
       "      <td>1.667675</td>\n",
       "      <td>8.837871</td>\n",
       "      <td>274.279342</td>\n",
       "      <td>Cluster Group 1</td>\n",
       "    </tr>\n",
       "    <tr>\n",
       "      <th>2</th>\n",
       "      <td>40.725348</td>\n",
       "      <td>-73.942672</td>\n",
       "      <td>160.375179</td>\n",
       "      <td>8.961323</td>\n",
       "      <td>35.966141</td>\n",
       "      <td>1.522728</td>\n",
       "      <td>7.484959</td>\n",
       "      <td>327.855320</td>\n",
       "      <td>252.837479</td>\n",
       "      <td>Cluster Group 2</td>\n",
       "    </tr>\n",
       "    <tr>\n",
       "      <th>3</th>\n",
       "      <td>40.717777</td>\n",
       "      <td>-74.003558</td>\n",
       "      <td>271.705128</td>\n",
       "      <td>7.653846</td>\n",
       "      <td>5.594017</td>\n",
       "      <td>1.723974</td>\n",
       "      <td>316.038462</td>\n",
       "      <td>287.564103</td>\n",
       "      <td>149.085470</td>\n",
       "      <td>Cluster Group 3</td>\n",
       "    </tr>\n",
       "    <tr>\n",
       "      <th>4</th>\n",
       "      <td>40.722150</td>\n",
       "      <td>-73.940601</td>\n",
       "      <td>132.210321</td>\n",
       "      <td>4.852841</td>\n",
       "      <td>41.305714</td>\n",
       "      <td>2.221166</td>\n",
       "      <td>2.475989</td>\n",
       "      <td>89.300667</td>\n",
       "      <td>165.715286</td>\n",
       "      <td>Cluster Group 4</td>\n",
       "    </tr>\n",
       "    <tr>\n",
       "      <th>5</th>\n",
       "      <td>40.729520</td>\n",
       "      <td>-73.961374</td>\n",
       "      <td>134.648219</td>\n",
       "      <td>4.624524</td>\n",
       "      <td>5.885667</td>\n",
       "      <td>0.132118</td>\n",
       "      <td>1.217564</td>\n",
       "      <td>2.719635</td>\n",
       "      <td>1176.340017</td>\n",
       "      <td>Cluster Group 5</td>\n",
       "    </tr>\n",
       "  </tbody>\n",
       "</table>\n",
       "</div>"
      ],
      "text/plain": [
       "    latitude  longitude       price  minimum_nights  number_of_reviews  \\\n",
       "0  40.730866 -73.949710  160.668998        6.808394          51.025593   \n",
       "1  40.730941 -73.956138  129.276627        4.631448          21.114731   \n",
       "2  40.725348 -73.942672  160.375179        8.961323          35.966141   \n",
       "3  40.717777 -74.003558  271.705128        7.653846           5.594017   \n",
       "4  40.722150 -73.940601  132.210321        4.852841          41.305714   \n",
       "5  40.729520 -73.961374  134.648219        4.624524           5.885667   \n",
       "\n",
       "   reviews_per_month  calculated_host_listings_count  availability_365  \\\n",
       "0           1.991803                        4.285446        204.502474   \n",
       "1           1.173508                        1.667675          8.837871   \n",
       "2           1.522728                        7.484959        327.855320   \n",
       "3           1.723974                      316.038462        287.564103   \n",
       "4           2.221166                        2.475989         89.300667   \n",
       "5           0.132118                        1.217564          2.719635   \n",
       "\n",
       "   last_review_days             name  \n",
       "0        212.354718  Cluster Group 0  \n",
       "1        274.279342  Cluster Group 1  \n",
       "2        252.837479  Cluster Group 2  \n",
       "3        149.085470  Cluster Group 3  \n",
       "4        165.715286  Cluster Group 4  \n",
       "5       1176.340017  Cluster Group 5  "
      ]
     },
     "execution_count": 87,
     "metadata": {},
     "output_type": "execute_result"
    }
   ],
   "source": [
    "\n",
    "cluster1 = df_final[df_final['cluster'] == 0].sort_values(by = ['reviews_per_month'], ascending = False).iloc[:10,:]\n",
    "cluster2 = df_final[df_final['cluster'] == 1].sort_values(by = ['reviews_per_month'], ascending = False).iloc[:10,:]\n",
    "cluster3 = df_final[df_final['cluster'] == 2].sort_values(by = ['reviews_per_month'], ascending = False).iloc[:10,:]\n",
    "cluster4 = df_final[df_final['cluster'] == 3].sort_values(by = ['reviews_per_month'], ascending = False).iloc[:10,:]\n",
    "cluster5 = df_final[df_final['cluster'] == 4].sort_values(by = ['reviews_per_month'], ascending = False).iloc[:10,:]\n",
    "cluster6 = df_final[df_final['cluster'] == 5].sort_values(by = ['reviews_per_month'], ascending = False).iloc[:10,:]\n",
    "cluster_center['name'] = pd.Series(cluster_center.index.values).apply(lambda x: 'Cluster Group ' + str(x))\n",
    "cluster_center"
   ]
  },
  {
   "cell_type": "code",
   "execution_count": 88,
   "metadata": {
    "scrolled": false
   },
   "outputs": [],
   "source": [
    "map = folium.Map(location=[df['latitude'].mean(), df['longitude'].mean()], zoom_start = 12)\n",
    "\n",
    "#add stickers based on clusters\n",
    "\n",
    "for x,y,n in cluster_center[['latitude', 'longitude', 'name']].values.tolist():\n",
    "    folium.Marker([x,y], tooltip=n, icon=folium.Icon(icon='cloud')).add_to(map)\n",
    "\n",
    "for x,y,n in cluster1[['latitude', 'longitude', 'name']].values.tolist():\n",
    "    folium.Marker([x,y], tooltip=n, icon=folium.Icon(color = 'red')).add_to(map)\n",
    "for x,y,n in cluster2[['latitude', 'longitude', 'name']].values.tolist():\n",
    "    folium.Marker([x,y], tooltip=n, icon=folium.Icon(color = 'blue')).add_to(map)\n",
    "for x,y,n in cluster3[['latitude', 'longitude', 'name']].values.tolist():\n",
    "    folium.Marker([x,y], tooltip=n, icon=folium.Icon(color = 'orange')).add_to(map)\n",
    "for x,y,n in cluster4[['latitude', 'longitude', 'name']].values.tolist():\n",
    "    folium.Marker([x,y], tooltip=n, icon=folium.Icon(color = 'pink')).add_to(map)\n",
    "for x,y,n in cluster5[['latitude', 'longitude', 'name']].values.tolist():\n",
    "    folium.Marker([x,y], tooltip=n, icon=folium.Icon(color = 'black')).add_to(map)\n",
    "for x,y,n in cluster6[['latitude', 'longitude', 'name']].values.tolist():\n",
    "    folium.Marker([x,y], tooltip=n, icon=folium.Icon()).add_to(map)\n"
   ]
  },
  {
   "cell_type": "code",
   "execution_count": 89,
   "metadata": {},
   "outputs": [
    {
     "data": {
      "text/html": [
       "<div style=\"width:100%;\"><div style=\"position:relative;width:100%;height:0;padding-bottom:60%;\"><iframe src=\"data:text/html;charset=utf-8;base64,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\" style=\"position:absolute;width:100%;height:100%;left:0;top:0;border:none !important;\" allowfullscreen webkitallowfullscreen mozallowfullscreen></iframe></div></div>"
      ],
      "text/plain": [
       "<folium.folium.Map at 0x1182c425518>"
      ]
     },
     "execution_count": 89,
     "metadata": {},
     "output_type": "execute_result"
    }
   ],
   "source": [
    "map # due to large number of clusters I only showed 5 clusters, but showed the centroids of all 16 groups with the icon 'cloud'"
   ]
  },
  {
   "cell_type": "markdown",
   "metadata": {},
   "source": [
    "### 3.2 Clustering-based Recommendation System"
   ]
  },
  {
   "cell_type": "markdown",
   "metadata": {},
   "source": [
    "Now let's work on how to select a group"
   ]
  },
  {
   "cell_type": "markdown",
   "metadata": {},
   "source": [
    "Note this is not a collaborative filtering or content based filtering! This is a simple ranking method which only allow us to choose the one most important factor!"
   ]
  },
  {
   "cell_type": "code",
   "execution_count": 90,
   "metadata": {},
   "outputs": [],
   "source": [
    "cluster_sc = cluster_center.copy()\n",
    "cluster_sc['price'] = cluster_center['price'] * -1\n",
    "cluster_sc['minimum_nights'] = cluster_center['minimum_nights'] * -1\n",
    "cluster_sc['last_review_days'] = cluster_center['last_review_days'] * -1\n"
   ]
  },
  {
   "cell_type": "code",
   "execution_count": null,
   "metadata": {},
   "outputs": [],
   "source": []
  },
  {
   "cell_type": "code",
   "execution_count": 91,
   "metadata": {},
   "outputs": [
    {
     "data": {
      "text/plain": [
       "['price',\n",
       " 'minimum_nights',\n",
       " 'number_of_reviews',\n",
       " 'reviews_per_month',\n",
       " 'calculated_host_listings_count',\n",
       " 'availability_365',\n",
       " 'last_review_days']"
      ]
     },
     "execution_count": 91,
     "metadata": {},
     "output_type": "execute_result"
    }
   ],
   "source": [
    "criterion = cluster_sc.columns.values.tolist()[2:-1]\n",
    "criterion"
   ]
  },
  {
   "cell_type": "code",
   "execution_count": 92,
   "metadata": {},
   "outputs": [
    {
     "data": {
      "text/html": [
       "<div>\n",
       "<style scoped>\n",
       "    .dataframe tbody tr th:only-of-type {\n",
       "        vertical-align: middle;\n",
       "    }\n",
       "\n",
       "    .dataframe tbody tr th {\n",
       "        vertical-align: top;\n",
       "    }\n",
       "\n",
       "    .dataframe thead th {\n",
       "        text-align: right;\n",
       "    }\n",
       "</style>\n",
       "<table border=\"1\" class=\"dataframe\">\n",
       "  <thead>\n",
       "    <tr style=\"text-align: right;\">\n",
       "      <th></th>\n",
       "      <th>name</th>\n",
       "      <th>price rank</th>\n",
       "      <th>minimum_nights rank</th>\n",
       "      <th>number_of_reviews rank</th>\n",
       "      <th>reviews_per_month rank</th>\n",
       "      <th>calculated_host_listings_count rank</th>\n",
       "      <th>availability_365 rank</th>\n",
       "      <th>last_review_days rank</th>\n",
       "    </tr>\n",
       "  </thead>\n",
       "  <tbody>\n",
       "    <tr>\n",
       "      <th>0</th>\n",
       "      <td>Cluster Group 0</td>\n",
       "      <td>3</td>\n",
       "      <td>2</td>\n",
       "      <td>3</td>\n",
       "      <td>5</td>\n",
       "      <td>5</td>\n",
       "      <td>5</td>\n",
       "      <td>5</td>\n",
       "    </tr>\n",
       "    <tr>\n",
       "      <th>1</th>\n",
       "      <td>Cluster Group 1</td>\n",
       "      <td>0</td>\n",
       "      <td>3</td>\n",
       "      <td>5</td>\n",
       "      <td>1</td>\n",
       "      <td>1</td>\n",
       "      <td>1</td>\n",
       "      <td>1</td>\n",
       "    </tr>\n",
       "    <tr>\n",
       "      <th>2</th>\n",
       "      <td>Cluster Group 2</td>\n",
       "      <td>2</td>\n",
       "      <td>0</td>\n",
       "      <td>1</td>\n",
       "      <td>2</td>\n",
       "      <td>4</td>\n",
       "      <td>4</td>\n",
       "      <td>2</td>\n",
       "    </tr>\n",
       "    <tr>\n",
       "      <th>3</th>\n",
       "      <td>Cluster Group 3</td>\n",
       "      <td>5</td>\n",
       "      <td>4</td>\n",
       "      <td>2</td>\n",
       "      <td>3</td>\n",
       "      <td>0</td>\n",
       "      <td>0</td>\n",
       "      <td>0</td>\n",
       "    </tr>\n",
       "    <tr>\n",
       "      <th>4</th>\n",
       "      <td>Cluster Group 4</td>\n",
       "      <td>4</td>\n",
       "      <td>1</td>\n",
       "      <td>4</td>\n",
       "      <td>0</td>\n",
       "      <td>2</td>\n",
       "      <td>3</td>\n",
       "      <td>4</td>\n",
       "    </tr>\n",
       "    <tr>\n",
       "      <th>5</th>\n",
       "      <td>Cluster Group 5</td>\n",
       "      <td>1</td>\n",
       "      <td>5</td>\n",
       "      <td>0</td>\n",
       "      <td>4</td>\n",
       "      <td>3</td>\n",
       "      <td>2</td>\n",
       "      <td>3</td>\n",
       "    </tr>\n",
       "  </tbody>\n",
       "</table>\n",
       "</div>"
      ],
      "text/plain": [
       "              name  price rank  minimum_nights rank  number_of_reviews rank  \\\n",
       "0  Cluster Group 0           3                    2                       3   \n",
       "1  Cluster Group 1           0                    3                       5   \n",
       "2  Cluster Group 2           2                    0                       1   \n",
       "3  Cluster Group 3           5                    4                       2   \n",
       "4  Cluster Group 4           4                    1                       4   \n",
       "5  Cluster Group 5           1                    5                       0   \n",
       "\n",
       "   reviews_per_month rank  calculated_host_listings_count rank  \\\n",
       "0                       5                                    5   \n",
       "1                       1                                    1   \n",
       "2                       2                                    4   \n",
       "3                       3                                    0   \n",
       "4                       0                                    2   \n",
       "5                       4                                    3   \n",
       "\n",
       "   availability_365 rank  last_review_days rank  \n",
       "0                      5                      5  \n",
       "1                      1                      1  \n",
       "2                      4                      2  \n",
       "3                      0                      0  \n",
       "4                      3                      4  \n",
       "5                      2                      3  "
      ]
     },
     "execution_count": 92,
     "metadata": {},
     "output_type": "execute_result"
    }
   ],
   "source": [
    "for x in criterion:\n",
    "    y = str(x) + ' rank'\n",
    "    cluster_sc[y] = cluster_sc.reset_index().sort_values(by = x).reset_index()['level_0']\n",
    "cluster_rank = cluster_sc.iloc[:, 9:]\n",
    "cluster_rank"
   ]
  },
  {
   "cell_type": "code",
   "execution_count": 93,
   "metadata": {},
   "outputs": [],
   "source": [
    "def recommend(factors:list, weight:list, quant):\n",
    "    factors_adj = []\n",
    "    for a in factors:\n",
    "        factors_adj.append(str(a) + ' rank')\n",
    "    \n",
    "    recomm_cluster = pd.DataFrame((cluster_rank[factors_adj]*weight).sum(axis = 1).sort_values(ascending = False))\n",
    "    recomm_cluster_lst = recomm_cluster[recomm_cluster[0] == float(recomm_cluster.max().values)].index.tolist()\n",
    "    recommended = []\n",
    "    c_quant = round(quant/len(recomm_cluster_lst))\n",
    "    for x in recomm_cluster_lst:\n",
    "        recommended.append(df_final[df_final['cluster'] == x][:c_quant])\n",
    "    return recommended"
   ]
  },
  {
   "cell_type": "markdown",
   "metadata": {},
   "source": [
    "### 3.3 An Example Using the Recommendation System"
   ]
  },
  {
   "cell_type": "markdown",
   "metadata": {},
   "source": [
    "##### 3.31 Modeling the Result"
   ]
  },
  {
   "cell_type": "markdown",
   "metadata": {},
   "source": [
    "Suppose that we have a customer who are sensitive to price and the reviews_per_month equally, what should he or she choose?"
   ]
  },
  {
   "cell_type": "code",
   "execution_count": 94,
   "metadata": {},
   "outputs": [
    {
     "data": {
      "text/html": [
       "<div>\n",
       "<style scoped>\n",
       "    .dataframe tbody tr th:only-of-type {\n",
       "        vertical-align: middle;\n",
       "    }\n",
       "\n",
       "    .dataframe tbody tr th {\n",
       "        vertical-align: top;\n",
       "    }\n",
       "\n",
       "    .dataframe thead th {\n",
       "        text-align: right;\n",
       "    }\n",
       "</style>\n",
       "<table border=\"1\" class=\"dataframe\">\n",
       "  <thead>\n",
       "    <tr style=\"text-align: right;\">\n",
       "      <th></th>\n",
       "      <th>latitude</th>\n",
       "      <th>longitude</th>\n",
       "      <th>price</th>\n",
       "      <th>minimum_nights</th>\n",
       "      <th>number_of_reviews</th>\n",
       "      <th>reviews_per_month</th>\n",
       "      <th>calculated_host_listings_count</th>\n",
       "      <th>availability_365</th>\n",
       "      <th>last_review_days</th>\n",
       "      <th>cluster</th>\n",
       "      <th>name</th>\n",
       "    </tr>\n",
       "  </thead>\n",
       "  <tbody>\n",
       "    <tr>\n",
       "      <th>29128</th>\n",
       "      <td>40.70637</td>\n",
       "      <td>-74.00941</td>\n",
       "      <td>271</td>\n",
       "      <td>30</td>\n",
       "      <td>1</td>\n",
       "      <td>0.09</td>\n",
       "      <td>232</td>\n",
       "      <td>310</td>\n",
       "      <td>431</td>\n",
       "      <td>3</td>\n",
       "      <td>Calming FiDi 1BR w/ lux Gym, Speakeasy + Doorm...</td>\n",
       "    </tr>\n",
       "    <tr>\n",
       "      <th>30428</th>\n",
       "      <td>40.74891</td>\n",
       "      <td>-73.97887</td>\n",
       "      <td>305</td>\n",
       "      <td>30</td>\n",
       "      <td>1</td>\n",
       "      <td>0.17</td>\n",
       "      <td>232</td>\n",
       "      <td>326</td>\n",
       "      <td>280</td>\n",
       "      <td>3</td>\n",
       "      <td>Posh Park Avenue 1BR w/ Gym, Doorman in Midtow...</td>\n",
       "    </tr>\n",
       "    <tr>\n",
       "      <th>32788</th>\n",
       "      <td>40.77669</td>\n",
       "      <td>-73.95673</td>\n",
       "      <td>211</td>\n",
       "      <td>30</td>\n",
       "      <td>1</td>\n",
       "      <td>0.23</td>\n",
       "      <td>232</td>\n",
       "      <td>201</td>\n",
       "      <td>236</td>\n",
       "      <td>3</td>\n",
       "      <td>Adorable UES Studio w/ Balcony, Gym + Doorman ...</td>\n",
       "    </tr>\n",
       "    <tr>\n",
       "      <th>34048</th>\n",
       "      <td>40.76196</td>\n",
       "      <td>-73.98536</td>\n",
       "      <td>280</td>\n",
       "      <td>30</td>\n",
       "      <td>2</td>\n",
       "      <td>0.36</td>\n",
       "      <td>232</td>\n",
       "      <td>218</td>\n",
       "      <td>159</td>\n",
       "      <td>3</td>\n",
       "      <td>Enchanting 1BR near Times Sq w/ Indoor pool + ...</td>\n",
       "    </tr>\n",
       "    <tr>\n",
       "      <th>35411</th>\n",
       "      <td>40.70427</td>\n",
       "      <td>-74.00964</td>\n",
       "      <td>285</td>\n",
       "      <td>30</td>\n",
       "      <td>1</td>\n",
       "      <td>0.12</td>\n",
       "      <td>232</td>\n",
       "      <td>324</td>\n",
       "      <td>353</td>\n",
       "      <td>3</td>\n",
       "      <td>Roomy FiDi 1BR w/ Gym, Roof deck + Doorman by ...</td>\n",
       "    </tr>\n",
       "  </tbody>\n",
       "</table>\n",
       "</div>"
      ],
      "text/plain": [
       "       latitude  longitude  price  minimum_nights  number_of_reviews  \\\n",
       "29128  40.70637  -74.00941    271              30                  1   \n",
       "30428  40.74891  -73.97887    305              30                  1   \n",
       "32788  40.77669  -73.95673    211              30                  1   \n",
       "34048  40.76196  -73.98536    280              30                  2   \n",
       "35411  40.70427  -74.00964    285              30                  1   \n",
       "\n",
       "       reviews_per_month  calculated_host_listings_count  availability_365  \\\n",
       "29128               0.09                             232               310   \n",
       "30428               0.17                             232               326   \n",
       "32788               0.23                             232               201   \n",
       "34048               0.36                             232               218   \n",
       "35411               0.12                             232               324   \n",
       "\n",
       "       last_review_days  cluster  \\\n",
       "29128               431        3   \n",
       "30428               280        3   \n",
       "32788               236        3   \n",
       "34048               159        3   \n",
       "35411               353        3   \n",
       "\n",
       "                                                    name  \n",
       "29128  Calming FiDi 1BR w/ lux Gym, Speakeasy + Doorm...  \n",
       "30428  Posh Park Avenue 1BR w/ Gym, Doorman in Midtow...  \n",
       "32788  Adorable UES Studio w/ Balcony, Gym + Doorman ...  \n",
       "34048  Enchanting 1BR near Times Sq w/ Indoor pool + ...  \n",
       "35411  Roomy FiDi 1BR w/ Gym, Roof deck + Doorman by ...  "
      ]
     },
     "execution_count": 94,
     "metadata": {},
     "output_type": "execute_result"
    }
   ],
   "source": [
    "factors = ['price','reviews_per_month']\n",
    "weight = [0.5,0.5]\n",
    "\n",
    "recommended = recommend(factors, weight , 100)\n",
    "pd.concat(recommended, axis = 0).head()"
   ]
  },
  {
   "cell_type": "code",
   "execution_count": 95,
   "metadata": {},
   "outputs": [
    {
     "name": "stdout",
     "output_type": "stream",
     "text": [
      "number of clusters recommended:  2\n",
      "the clusters recommended:  [3 0]\n"
     ]
    }
   ],
   "source": [
    "cluster_recommended = pd.concat(recommended, axis = 0)['cluster'].unique()\n",
    "\n",
    "print('number of clusters recommended: ', pd.concat(recommended, axis = 0)['cluster'].nunique())\n",
    "print('the clusters recommended: ', cluster_recommended)"
   ]
  },
  {
   "cell_type": "markdown",
   "metadata": {},
   "source": [
    "Let's visualize it!"
   ]
  },
  {
   "cell_type": "code",
   "execution_count": 96,
   "metadata": {},
   "outputs": [
    {
     "data": {
      "text/html": [
       "<div style=\"width:100%;\"><div style=\"position:relative;width:100%;height:0;padding-bottom:60%;\"><iframe src=\"data:text/html;charset=utf-8;base64,PCFET0NUWVBFIGh0bWw+CjxoZWFkPiAgICAKICAgIDxtZXRhIGh0dHAtZXF1aXY9ImNvbnRlbnQtdHlwZSIgY29udGVudD0idGV4dC9odG1sOyBjaGFyc2V0PVVURi04IiAvPgogICAgCiAgICAgICAgPHNjcmlwdD4KICAgICAgICAgICAgTF9OT19UT1VDSCA9IGZhbHNlOwogICAgICAgICAgICBMX0RJU0FCTEVfM0QgPSBmYWxzZTsKICAgICAgICA8L3NjcmlwdD4KICAgIAogICAgPHNjcmlwdCBzcmM9Imh0dHBzOi8vY2RuLmpzZGVsaXZyLm5ldC9ucG0vbGVhZmxldEAxLjUuMS9kaXN0L2xlYWZsZXQuanMiPjwvc2NyaXB0PgogICAgPHNjcmlwdCBzcmM9Imh0dHBzOi8vY29kZS5qcXVlcnkuY29tL2pxdWVyeS0xLjEyLjQubWluLmpzIj48L3NjcmlwdD4KICAgIDxzY3JpcHQgc3JjPSJodHRwczovL21heGNkbi5ib290c3RyYXBjZG4uY29tL2Jvb3RzdHJhcC8zLjIuMC9qcy9ib290c3RyYXAubWluLmpzIj48L3NjcmlwdD4KICAgIDxzY3JpcHQgc3JjPSJodHRwczovL2NkbmpzLmNsb3VkZmxhcmUuY29tL2FqYXgvbGlicy9MZWFmbGV0LmF3ZXNvbWUtbWFya2Vycy8yLjAuMi9sZWFmbGV0LmF3ZXNvbWUtbWFya2Vycy5qcyI+PC9zY3JpcHQ+CiAgICA8bGluayByZWw9InN0eWxlc2hlZXQiIGhyZWY9Imh0dHBzOi8vY2RuLmpzZGVsaXZyLm5ldC9ucG0vbGVhZmxldEAxLjUuMS9kaXN0L2xlYWZsZXQuY3NzIi8+CiAgICA8bGluayByZWw9InN0eWxlc2hlZXQiIGhyZWY9Imh0dHBzOi8vbWF4Y2RuLmJvb3RzdHJhcGNkbi5jb20vYm9vdHN0cmFwLzMuMi4wL2Nzcy9ib290c3RyYXAubWluLmNzcyIvPgogICAgPGxpbmsgcmVsPSJzdHlsZXNoZWV0IiBocmVmPSJodHRwczovL21heGNkbi5ib290c3RyYXBjZG4uY29tL2Jvb3RzdHJhcC8zLjIuMC9jc3MvYm9vdHN0cmFwLXRoZW1lLm1pbi5jc3MiLz4KICAgIDxsaW5rIHJlbD0ic3R5bGVzaGVldCIgaHJlZj0iaHR0cHM6Ly9tYXhjZG4uYm9vdHN0cmFwY2RuLmNvbS9mb250LWF3ZXNvbWUvNC42LjMvY3NzL2ZvbnQtYXdlc29tZS5taW4uY3NzIi8+CiAgICA8bGluayByZWw9InN0eWxlc2hlZXQiIGhyZWY9Imh0dHBzOi8vY2RuanMuY2xvdWRmbGFyZS5jb20vYWpheC9saWJzL0xlYWZsZXQuYXdlc29tZS1tYXJrZXJzLzIuMC4yL2xlYWZsZXQuYXdlc29tZS1tYXJrZXJzLmNzcyIvPgogICAgPGxpbmsgcmVsPSJzdHlsZXNoZWV0IiBocmVmPSJodHRwczovL3Jhd2Nkbi5naXRoYWNrLmNvbS9weXRob24tdmlzdWFsaXphdGlvbi9mb2xpdW0vbWFzdGVyL2ZvbGl1bS90ZW1wbGF0ZXMvbGVhZmxldC5hd2Vzb21lLnJvdGF0ZS5jc3MiLz4KICAgIDxzdHlsZT5odG1sLCBib2R5IHt3aWR0aDogMTAwJTtoZWlnaHQ6IDEwMCU7bWFyZ2luOiAwO3BhZGRpbmc6IDA7fTwvc3R5bGU+CiAgICA8c3R5bGU+I21hcCB7cG9zaXRpb246YWJzb2x1dGU7dG9wOjA7Ym90dG9tOjA7cmlnaHQ6MDtsZWZ0OjA7fTwvc3R5bGU+CiAgICAKICAgICAgICAgICAgPG1ldGEgbmFtZT0idmlld3BvcnQiIGNvbnRlbnQ9IndpZHRoPWRldmljZS13aWR0aCwKICAgICAgICAgICAgICAgIGluaXRpYWwtc2NhbGU9MS4wLCBtYXhpbXVtLXNjYWxlPTEuMCwgdXNlci1zY2FsYWJsZT1ubyIgLz4KICAgICAgICAgICAgPHN0eWxlPgogICAgICAgICAgICAgICAgI21hcF9hMTAxNGI2MWUxY2I0YWMyOTI3YTJhMWNhZTgzMWJkNiB7CiAgICAgICAgICAgICAgICAgICAgcG9zaXRpb246IHJlbGF0aXZlOwogICAgICAgICAgICAgICAgICAgIHdpZHRoOiAxMDAuMCU7CiAgICAgICAgICAgICAgICAgICAgaGVpZ2h0OiAxMDAuMCU7CiAgICAgICAgICAgICAgICAgICAgbGVmdDogMC4wJTsKICAgICAgICAgICAgICAgICAgICB0b3A6IDAuMCU7CiAgICAgICAgICAgICAgICB9CiAgICAgICAgICAgIDwvc3R5bGU+CiAgICAgICAgCjwvaGVhZD4KPGJvZHk+ICAgIAogICAgCiAgICAgICAgICAgIDxkaXYgY2xhc3M9ImZvbGl1bS1tYXAiIGlkPSJtYXBfYTEwMTRiNjFlMWNiNGFjMjkyN2EyYTFjYWU4MzFiZDYiID48L2Rpdj4KICAgICAgICAKPC9ib2R5Pgo8c2NyaXB0PiAgICAKICAgIAogICAgICAgICAgICB2YXIgbWFwX2ExMDE0YjYxZTFjYjRhYzI5MjdhMmExY2FlODMxYmQ2ID0gTC5tYXAoCiAgICAgICAgICAgICAgICAibWFwX2ExMDE0YjYxZTFjYjRhYzI5MjdhMmExY2FlODMxYmQ2IiwKICAgICAgICAgICAgICAgIHsKICAgICAgICAgICAgICAgICAgICBjZW50ZXI6IFs0MC43MjgxMzM3MDQ2NTcxNywgLTczLjk1MTE0ODA5Nzk4NDE3XSwKICAgICAgICAgICAgICAgICAgICBjcnM6IEwuQ1JTLkVQU0czODU3LAogICAgICAgICAgICAgICAgICAgIHpvb206IDEyLAogICAgICAgICAgICAgICAgICAgIHpvb21Db250cm9sOiB0cnVlLAogICAgICAgICAgICAgICAgICAgIHByZWZlckNhbnZhczogZmFsc2UsCiAgICAgICAgICAgICAgICB9CiAgICAgICAgICAgICk7CgogICAgICAgICAgICAKCiAgICAgICAgCiAgICAKICAgICAgICAgICAgdmFyIHRpbGVfbGF5ZXJfOWNjOTVkMGU5NzA4NDg5Zjk2MjIzNWE2M2NhYjY4YTAgPSBMLnRpbGVMYXllcigKICAgICAgICAgICAgICAgICJodHRwczovL3tzfS50aWxlLm9wZW5zdHJlZXRtYXAub3JnL3t6fS97eH0ve3l9LnBuZyIsCiAgICAgICAgICAgICAgICB7ImF0dHJpYnV0aW9uIjogIkRhdGEgYnkgXHUwMDI2Y29weTsgXHUwMDNjYSBocmVmPVwiaHR0cDovL29wZW5zdHJlZXRtYXAub3JnXCJcdTAwM2VPcGVuU3RyZWV0TWFwXHUwMDNjL2FcdTAwM2UsIHVuZGVyIFx1MDAzY2EgaHJlZj1cImh0dHA6Ly93d3cub3BlbnN0cmVldG1hcC5vcmcvY29weXJpZ2h0XCJcdTAwM2VPRGJMXHUwMDNjL2FcdTAwM2UuIiwgImRldGVjdFJldGluYSI6IGZhbHNlLCAibWF4TmF0aXZlWm9vbSI6IDE4LCAibWF4Wm9vbSI6IDE4LCAibWluWm9vbSI6IDAsICJub1dyYXAiOiBmYWxzZSwgIm9wYWNpdHkiOiAxLCAic3ViZG9tYWlucyI6ICJhYmMiLCAidG1zIjogZmFsc2V9CiAgICAgICAgICAgICkuYWRkVG8obWFwX2ExMDE0YjYxZTFjYjRhYzI5MjdhMmExY2FlODMxYmQ2KTsKICAgICAgICAKICAgIAogICAgICAgICAgICB2YXIgbWFya2VyX2NlZGNlYzBmMDdjMzRkMDg5OWU1NWNiZTVhNGIzMTk3ID0gTC5tYXJrZXIoCiAgICAgICAgICAgICAgICBbNDAuNzA2MzcsIC03NC4wMDk0MV0sCiAgICAgICAgICAgICAgICB7fQogICAgICAgICAgICApLmFkZFRvKG1hcF9hMTAxNGI2MWUxY2I0YWMyOTI3YTJhMWNhZTgzMWJkNik7CiAgICAgICAgCiAgICAKICAgICAgICAgICAgdmFyIGljb25fYmJkMDQ0MjkxOTNlNGI3NGI0OTY1YjE5NTYwMzJlYTEgPSBMLkF3ZXNvbWVNYXJrZXJzLmljb24oCiAgICAgICAgICAgICAgICB7ImV4dHJhQ2xhc3NlcyI6ICJmYS1yb3RhdGUtMCIsICJpY29uIjogImluZm8tc2lnbiIsICJpY29uQ29sb3IiOiAid2hpdGUiLCAibWFya2VyQ29sb3IiOiAiZGFya2JsdWUiLCAicHJlZml4IjogImdseXBoaWNvbiJ9CiAgICAgICAgICAgICk7CiAgICAgICAgICAgIG1hcmtlcl9jZWRjZWMwZjA3YzM0ZDA4OTllNTVjYmU1YTRiMzE5Ny5zZXRJY29uKGljb25fYmJkMDQ0MjkxOTNlNGI3NGI0OTY1YjE5NTYwMzJlYTEpOwogICAgICAgIAogICAgCiAgICAgICAgICAgIG1hcmtlcl9jZWRjZWMwZjA3YzM0ZDA4OTllNTVjYmU1YTRiMzE5Ny5iaW5kVG9vbHRpcCgKICAgICAgICAgICAgICAgIGA8ZGl2PgogICAgICAgICAgICAgICAgICAgICBDYWxtaW5nIEZpRGkgMUJSIHcvIGx1eCBHeW0sIFNwZWFrZWFzeSArIERvb3JtYW4gYnkgQmx1ZWdyb3VuZAogICAgICAgICAgICAgICAgIDwvZGl2PmAsCiAgICAgICAgICAgICAgICB7InN0aWNreSI6IHRydWV9CiAgICAgICAgICAgICk7CiAgICAgICAgCiAgICAKICAgICAgICAgICAgdmFyIG1hcmtlcl9mMWM2M2E4NWNhOGE0Y2QwODZhZGU1NTE4ZGFmMDhiMCA9IEwubWFya2VyKAogICAgICAgICAgICAgICAgWzQwLjc0ODkwOTk5OTk5OTk5NSwgLTczLjk3ODg3XSwKICAgICAgICAgICAgICAgIHt9CiAgICAgICAgICAgICkuYWRkVG8obWFwX2ExMDE0YjYxZTFjYjRhYzI5MjdhMmExY2FlODMxYmQ2KTsKICAgICAgICAKICAgIAogICAgICAgICAgICB2YXIgaWNvbl9jZjQzM2NhMzYxMDg0NzcyODJkY2Y2MmVmMWYxMmNkZSA9IEwuQXdlc29tZU1hcmtlcnMuaWNvbigKICAgICAgICAgICAgICAgIHsiZXh0cmFDbGFzc2VzIjogImZhLXJvdGF0ZS0wIiwgImljb24iOiAiaW5mby1zaWduIiwgImljb25Db2xvciI6ICJ3aGl0ZSIsICJtYXJrZXJDb2xvciI6ICJkYXJrYmx1ZSIsICJwcmVmaXgiOiAiZ2x5cGhpY29uIn0KICAgICAgICAgICAgKTsKICAgICAgICAgICAgbWFya2VyX2YxYzYzYTg1Y2E4YTRjZDA4NmFkZTU1MThkYWYwOGIwLnNldEljb24oaWNvbl9jZjQzM2NhMzYxMDg0NzcyODJkY2Y2MmVmMWYxMmNkZSk7CiAgICAgICAgCiAgICAKICAgICAgICAgICAgbWFya2VyX2YxYzYzYTg1Y2E4YTRjZDA4NmFkZTU1MThkYWYwOGIwLmJpbmRUb29sdGlwKAogICAgICAgICAgICAgICAgYDxkaXY+CiAgICAgICAgICAgICAgICAgICAgIFBvc2ggUGFyayBBdmVudWUgMUJSIHcvIEd5bSwgRG9vcm1hbiBpbiBNaWR0b3duIGJ5IEJsdWVncm91bmQKICAgICAgICAgICAgICAgICA8L2Rpdj5gLAogICAgICAgICAgICAgICAgeyJzdGlja3kiOiB0cnVlfQogICAgICAgICAgICApOwogICAgICAgIAogICAgCiAgICAgICAgICAgIHZhciBtYXJrZXJfY2ZlOGVjZWI5NTdlNDM5NGIxNDI3YTVkOTg0ZWZjNjcgPSBMLm1hcmtlcigKICAgICAgICAgICAgICAgIFs0MC43NzY2OSwgLTczLjk1NjczMDAwMDAwMDAxXSwKICAgICAgICAgICAgICAgIHt9CiAgICAgICAgICAgICkuYWRkVG8obWFwX2ExMDE0YjYxZTFjYjRhYzI5MjdhMmExY2FlODMxYmQ2KTsKICAgICAgICAKICAgIAogICAgICAgICAgICB2YXIgaWNvbl83NGQ1MjdmOTYxZDI0N2JiYmM0NmI5MDAxZjViODVmNyA9IEwuQXdlc29tZU1hcmtlcnMuaWNvbigKICAgICAgICAgICAgICAgIHsiZXh0cmFDbGFzc2VzIjogImZhLXJvdGF0ZS0wIiwgImljb24iOiAiaW5mby1zaWduIiwgImljb25Db2xvciI6ICJ3aGl0ZSIsICJtYXJrZXJDb2xvciI6ICJkYXJrYmx1ZSIsICJwcmVmaXgiOiAiZ2x5cGhpY29uIn0KICAgICAgICAgICAgKTsKICAgICAgICAgICAgbWFya2VyX2NmZThlY2ViOTU3ZTQzOTRiMTQyN2E1ZDk4NGVmYzY3LnNldEljb24oaWNvbl83NGQ1MjdmOTYxZDI0N2JiYmM0NmI5MDAxZjViODVmNyk7CiAgICAgICAgCiAgICAKICAgICAgICAgICAgbWFya2VyX2NmZThlY2ViOTU3ZTQzOTRiMTQyN2E1ZDk4NGVmYzY3LmJpbmRUb29sdGlwKAogICAgICAgICAgICAgICAgYDxkaXY+CiAgICAgICAgICAgICAgICAgICAgIEFkb3JhYmxlIFVFUyBTdHVkaW8gdy8gQmFsY29ueSwgR3ltICsgRG9vcm1hbiBieSBCbHVlZ3JvdW5kCiAgICAgICAgICAgICAgICAgPC9kaXY+YCwKICAgICAgICAgICAgICAgIHsic3RpY2t5IjogdHJ1ZX0KICAgICAgICAgICAgKTsKICAgICAgICAKICAgIAogICAgICAgICAgICB2YXIgbWFya2VyX2Y1M2Y5YTNmNDIxOTQ5Mzk4OGQxN2Y1YjFkMmNhYjliID0gTC5tYXJrZXIoCiAgICAgICAgICAgICAgICBbNDAuNzYxOTU5OTk5OTk5OTk1LCAtNzMuOTg1MzZdLAogICAgICAgICAgICAgICAge30KICAgICAgICAgICAgKS5hZGRUbyhtYXBfYTEwMTRiNjFlMWNiNGFjMjkyN2EyYTFjYWU4MzFiZDYpOwogICAgICAgIAogICAgCiAgICAgICAgICAgIHZhciBpY29uXzYzOTQxYzExODhiNTQ4ZTdhMThmNzkxMDFiZWNjYmJkID0gTC5Bd2Vzb21lTWFya2Vycy5pY29uKAogICAgICAgICAgICAgICAgeyJleHRyYUNsYXNzZXMiOiAiZmEtcm90YXRlLTAiLCAiaWNvbiI6ICJpbmZvLXNpZ24iLCAiaWNvbkNvbG9yIjogIndoaXRlIiwgIm1hcmtlckNvbG9yIjogImRhcmtibHVlIiwgInByZWZpeCI6ICJnbHlwaGljb24ifQogICAgICAgICAgICApOwogICAgICAgICAgICBtYXJrZXJfZjUzZjlhM2Y0MjE5NDkzOTg4ZDE3ZjViMWQyY2FiOWIuc2V0SWNvbihpY29uXzYzOTQxYzExODhiNTQ4ZTdhMThmNzkxMDFiZWNjYmJkKTsKICAgICAgICAKICAgIAogICAgICAgICAgICBtYXJrZXJfZjUzZjlhM2Y0MjE5NDkzOTg4ZDE3ZjViMWQyY2FiOWIuYmluZFRvb2x0aXAoCiAgICAgICAgICAgICAgICBgPGRpdj4KICAgICAgICAgICAgICAgICAgICAgRW5jaGFudGluZyAxQlIgbmVhciBUaW1lcyBTcSB3LyBJbmRvb3IgcG9vbCArIEd5bSBieSBCbHVlZ3JvdW5kCiAgICAgICAgICAgICAgICAgPC9kaXY+YCwKICAgICAgICAgICAgICAgIHsic3RpY2t5IjogdHJ1ZX0KICAgICAgICAgICAgKTsKICAgICAgICAKICAgIAogICAgICAgICAgICB2YXIgbWFya2VyXzFkNzA4MDIyNjk2MzRlMWI5MmE0NTIzYWVjYjhkNWQ2ID0gTC5tYXJrZXIoCiAgICAgICAgICAgICAgICBbNDAuNzA0MjcsIC03NC4wMDk2NF0sCiAgICAgICAgICAgICAgICB7fQogICAgICAgICAgICApLmFkZFRvKG1hcF9hMTAxNGI2MWUxY2I0YWMyOTI3YTJhMWNhZTgzMWJkNik7CiAgICAgICAgCiAgICAKICAgICAgICAgICAgdmFyIGljb25fM2FkMTYxODNkNDA0NDdmYWJiMGUyMjIyYjIwMTQyMTYgPSBMLkF3ZXNvbWVNYXJrZXJzLmljb24oCiAgICAgICAgICAgICAgICB7ImV4dHJhQ2xhc3NlcyI6ICJmYS1yb3RhdGUtMCIsICJpY29uIjogImluZm8tc2lnbiIsICJpY29uQ29sb3IiOiAid2hpdGUiLCAibWFya2VyQ29sb3IiOiAiZGFya2JsdWUiLCAicHJlZml4IjogImdseXBoaWNvbiJ9CiAgICAgICAgICAgICk7CiAgICAgICAgICAgIG1hcmtlcl8xZDcwODAyMjY5NjM0ZTFiOTJhNDUyM2FlY2I4ZDVkNi5zZXRJY29uKGljb25fM2FkMTYxODNkNDA0NDdmYWJiMGUyMjIyYjIwMTQyMTYpOwogICAgICAgIAogICAgCiAgICAgICAgICAgIG1hcmtlcl8xZDcwODAyMjY5NjM0ZTFiOTJhNDUyM2FlY2I4ZDVkNi5iaW5kVG9vbHRpcCgKICAgICAgICAgICAgICAgIGA8ZGl2PgogICAgICAgICAgICAgICAgICAgICBSb29teSBGaURpIDFCUiB3LyBHeW0sIFJvb2YgZGVjayArIERvb3JtYW4gYnkgQmx1ZWdyb3VuZAogICAgICAgICAgICAgICAgIDwvZGl2PmAsCiAgICAgICAgICAgICAgICB7InN0aWNreSI6IHRydWV9CiAgICAgICAgICAgICk7CiAgICAgICAgCiAgICAKICAgICAgICAgICAgdmFyIG1hcmtlcl9lYWFkY2NhZWRjYjU0YzZjYWRmNmFiMmZlMWYyM2U3MiA9IEwubWFya2VyKAogICAgICAgICAgICAgICAgWzQwLjcwNDM4LCAtNzQuMDE3MDhdLAogICAgICAgICAgICAgICAge30KICAgICAgICAgICAgKS5hZGRUbyhtYXBfYTEwMTRiNjFlMWNiNGFjMjkyN2EyYTFjYWU4MzFiZDYpOwogICAgICAgIAogICAgCiAgICAgICAgICAgIHZhciBpY29uXzRhZDM3YmRiM2E0MTQ4MGZiN2NhN2MzMmJjY2YxMWY1ID0gTC5Bd2Vzb21lTWFya2Vycy5pY29uKAogICAgICAgICAgICAgICAgeyJleHRyYUNsYXNzZXMiOiAiZmEtcm90YXRlLTAiLCAiaWNvbiI6ICJpbmZvLXNpZ24iLCAiaWNvbkNvbG9yIjogIndoaXRlIiwgIm1hcmtlckNvbG9yIjogImRhcmtibHVlIiwgInByZWZpeCI6ICJnbHlwaGljb24ifQogICAgICAgICAgICApOwogICAgICAgICAgICBtYXJrZXJfZWFhZGNjYWVkY2I1NGM2Y2FkZjZhYjJmZTFmMjNlNzIuc2V0SWNvbihpY29uXzRhZDM3YmRiM2E0MTQ4MGZiN2NhN2MzMmJjY2YxMWY1KTsKICAgICAgICAKICAgIAogICAgICAgICAgICBtYXJrZXJfZWFhZGNjYWVkY2I1NGM2Y2FkZjZhYjJmZTFmMjNlNzIuYmluZFRvb2x0aXAoCiAgICAgICAgICAgICAgICBgPGRpdj4KICAgICAgICAgICAgICAgICAgICAgQXR0cmFjdGl2ZSBGaURpIDFCUiB3LyBPZmZpY2Ugbm9vayArIEd5bSwgRG9vcm1hbiBieSBCbHVlZ3JvdW5kCiAgICAgICAgICAgICAgICAgPC9kaXY+YCwKICAgICAgICAgICAgICAgIHsic3RpY2t5IjogdHJ1ZX0KICAgICAgICAgICAgKTsKICAgICAgICAKICAgIAogICAgICAgICAgICB2YXIgbWFya2VyXzRjYTA2Y2RmNWI3MzQ3ODVhYTFlYzk1YjE4M2QyY2Y0ID0gTC5tYXJrZXIoCiAgICAgICAgICAgICAgICBbNDAuNzYxMjUsIC03My45OTU0Nl0sCiAgICAgICAgICAgICAgICB7fQogICAgICAgICAgICApLmFkZFRvKG1hcF9hMTAxNGI2MWUxY2I0YWMyOTI3YTJhMWNhZTgzMWJkNik7CiAgICAgICAgCiAgICAKICAgICAgICAgICAgdmFyIGljb25fMDEzNDE0ZTczODk2NGJkYjhmOWY4MGEzYmRkYjZmMmUgPSBMLkF3ZXNvbWVNYXJrZXJzLmljb24oCiAgICAgICAgICAgICAgICB7ImV4dHJhQ2xhc3NlcyI6ICJmYS1yb3RhdGUtMCIsICJpY29uIjogImluZm8tc2lnbiIsICJpY29uQ29sb3IiOiAid2hpdGUiLCAibWFya2VyQ29sb3IiOiAiZGFya2JsdWUiLCAicHJlZml4IjogImdseXBoaWNvbiJ9CiAgICAgICAgICAgICk7CiAgICAgICAgICAgIG1hcmtlcl80Y2EwNmNkZjViNzM0Nzg1YWExZWM5NWIxODNkMmNmNC5zZXRJY29uKGljb25fMDEzNDE0ZTczODk2NGJkYjhmOWY4MGEzYmRkYjZmMmUpOwogICAgICAgIAogICAgCiAgICAgICAgICAgIG1hcmtlcl80Y2EwNmNkZjViNzM0Nzg1YWExZWM5NWIxODNkMmNmNC5iaW5kVG9vbHRpcCgKICAgICAgICAgICAgICAgIGA8ZGl2PgogICAgICAgICAgICAgICAgICAgICBDbGV2ZXIgTWlkdG93biBXZXN0IDFCUiB3LyBHeW0gKyBEb29ybWFuIGJ5IEJsdWVncm91bmQKICAgICAgICAgICAgICAgICA8L2Rpdj5gLAogICAgICAgICAgICAgICAgeyJzdGlja3kiOiB0cnVlfQogICAgICAgICAgICApOwogICAgICAgIAogICAgCiAgICAgICAgICAgIHZhciBtYXJrZXJfMzM5NTUwZTM5ZDg2NDQyMDkyZDYzZTQ4MjgzOGIyMmQgPSBMLm1hcmtlcigKICAgICAgICAgICAgICAgIFs0MC43ODg5MjAwMDAwMDAwMDUsIC03My45NzQwMl0sCiAgICAgICAgICAgICAgICB7fQogICAgICAgICAgICApLmFkZFRvKG1hcF9hMTAxNGI2MWUxY2I0YWMyOTI3YTJhMWNhZTgzMWJkNik7CiAgICAgICAgCiAgICAKICAgICAgICAgICAgdmFyIGljb25fOWM3NDZhMmI3MjExNDRhMmFjN2MyMjMwNzllZjVlYWEgPSBMLkF3ZXNvbWVNYXJrZXJzLmljb24oCiAgICAgICAgICAgICAgICB7ImV4dHJhQ2xhc3NlcyI6ICJmYS1yb3RhdGUtMCIsICJpY29uIjogImluZm8tc2lnbiIsICJpY29uQ29sb3IiOiAid2hpdGUiLCAibWFya2VyQ29sb3IiOiAiZGFya2JsdWUiLCAicHJlZml4IjogImdseXBoaWNvbiJ9CiAgICAgICAgICAgICk7CiAgICAgICAgICAgIG1hcmtlcl8zMzk1NTBlMzlkODY0NDIwOTJkNjNlNDgyODM4YjIyZC5zZXRJY29uKGljb25fOWM3NDZhMmI3MjExNDRhMmFjN2MyMjMwNzllZjVlYWEpOwogICAgICAgIAogICAgCiAgICAgICAgICAgIG1hcmtlcl8zMzk1NTBlMzlkODY0NDIwOTJkNjNlNDgyODM4YjIyZC5iaW5kVG9vbHRpcCgKICAgICAgICAgICAgICAgIGA8ZGl2PgogICAgICAgICAgICAgICAgICAgICBMYXJnZSBVV1MgMUJSIHcvIFN0dW5uaW5nIEd5bSwgRG9vcm1hbiArIFJvb2Z0b3AgYnkgQmx1ZWdyb3VuZAogICAgICAgICAgICAgICAgIDwvZGl2PmAsCiAgICAgICAgICAgICAgICB7InN0aWNreSI6IHRydWV9CiAgICAgICAgICAgICk7CiAgICAgICAgCiAgICAKICAgICAgICAgICAgdmFyIG1hcmtlcl9iYWIwMDBkMjMxOGE0NWY3OGVkZTVkODVmYjcwYWUxNSA9IEwubWFya2VyKAogICAgICAgICAgICAgICAgWzQwLjcwNDk3LCAtNzQuMDA3NDZdLAogICAgICAgICAgICAgICAge30KICAgICAgICAgICAgKS5hZGRUbyhtYXBfYTEwMTRiNjFlMWNiNGFjMjkyN2EyYTFjYWU4MzFiZDYpOwogICAgICAgIAogICAgCiAgICAgICAgICAgIHZhciBpY29uX2Y4NjA3NGNjODdhMTQ1ZGZiMzc3OTcxZjg4MmZkOWRhID0gTC5Bd2Vzb21lTWFya2Vycy5pY29uKAogICAgICAgICAgICAgICAgeyJleHRyYUNsYXNzZXMiOiAiZmEtcm90YXRlLTAiLCAiaWNvbiI6ICJpbmZvLXNpZ24iLCAiaWNvbkNvbG9yIjogIndoaXRlIiwgIm1hcmtlckNvbG9yIjogImRhcmtibHVlIiwgInByZWZpeCI6ICJnbHlwaGljb24ifQogICAgICAgICAgICApOwogICAgICAgICAgICBtYXJrZXJfYmFiMDAwZDIzMThhNDVmNzhlZGU1ZDg1ZmI3MGFlMTUuc2V0SWNvbihpY29uX2Y4NjA3NGNjODdhMTQ1ZGZiMzc3OTcxZjg4MmZkOWRhKTsKICAgICAgICAKICAgIAogICAgICAgICAgICBtYXJrZXJfYmFiMDAwZDIzMThhNDVmNzhlZGU1ZDg1ZmI3MGFlMTUuYmluZFRvb2x0aXAoCiAgICAgICAgICAgICAgICBgPGRpdj4KICAgICAgICAgICAgICAgICAgICAgU2hhcnAgV2FsbCBTdHJlZXQgMUJSIHcvIEd5bSwgRG9vcm1hbiwgUm9vZiBkZWNrIGJ5IEJsdWVncm91bmQKICAgICAgICAgICAgICAgICA8L2Rpdj5gLAogICAgICAgICAgICAgICAgeyJzdGlja3kiOiB0cnVlfQogICAgICAgICAgICApOwogICAgICAgIAogICAgCiAgICAgICAgICAgIHZhciBtYXJrZXJfNWQyMzE1YTE0MzA2NDFmMzhmYmNhNGJkZjMyNDk2ZGEgPSBMLm1hcmtlcigKICAgICAgICAgICAgICAgIFs0MC43Mjk0MywgLTc0LjAwMjQzXSwKICAgICAgICAgICAgICAgIHt9CiAgICAgICAgICAgICkuYWRkVG8obWFwX2ExMDE0YjYxZTFjYjRhYzI5MjdhMmExY2FlODMxYmQ2KTsKICAgICAgICAKICAgIAogICAgICAgICAgICB2YXIgaWNvbl81MTUyNjFlYTRjZDI0YTVlYWE3MTEzYWUwNjEwY2E0OSA9IEwuQXdlc29tZU1hcmtlcnMuaWNvbigKICAgICAgICAgICAgICAgIHsiZXh0cmFDbGFzc2VzIjogImZhLXJvdGF0ZS0wIiwgImljb24iOiAiaW5mby1zaWduIiwgImljb25Db2xvciI6ICJ3aGl0ZSIsICJtYXJrZXJDb2xvciI6ICJkYXJrYmx1ZSIsICJwcmVmaXgiOiAiZ2x5cGhpY29uIn0KICAgICAgICAgICAgKTsKICAgICAgICAgICAgbWFya2VyXzVkMjMxNWExNDMwNjQxZjM4ZmJjYTRiZGYzMjQ5NmRhLnNldEljb24oaWNvbl81MTUyNjFlYTRjZDI0YTVlYWE3MTEzYWUwNjEwY2E0OSk7CiAgICAgICAgCiAgICAKICAgICAgICAgICAgbWFya2VyXzVkMjMxNWExNDMwNjQxZjM4ZmJjYTRiZGYzMjQ5NmRhLmJpbmRUb29sdGlwKAogICAgICAgICAgICAgICAgYDxkaXY+CiAgICAgICAgICAgICAgICAgICAgIENoYXJtaW5nIFdlc3QgVmlsbGFnZSBTdHVkaW8gdy8gR3ltICsgRG9vcm1hbiBieSBCbHVlZ3JvdW5kCiAgICAgICAgICAgICAgICAgPC9kaXY+YCwKICAgICAgICAgICAgICAgIHsic3RpY2t5IjogdHJ1ZX0KICAgICAgICAgICAgKTsKICAgICAgICAKICAgIAogICAgICAgICAgICB2YXIgbWFya2VyXzM4NzI2MjdmMjAyMzQwMmNhYjA1Y2M2ZmNkMGU0OTcyID0gTC5tYXJrZXIoCiAgICAgICAgICAgICAgICBbNDAuNzA3NzEsIC03NC4wMDY0MV0sCiAgICAgICAgICAgICAgICB7fQogICAgICAgICAgICApLmFkZFRvKG1hcF9hMTAxNGI2MWUxY2I0YWMyOTI3YTJhMWNhZTgzMWJkNik7CiAgICAgICAgCiAgICAKICAgICAgICAgICAgdmFyIGljb25fNzU0ZGNiMDcxNjU4NGQyYjhiOTVkZThlZWNmMjlmZjEgPSBMLkF3ZXNvbWVNYXJrZXJzLmljb24oCiAgICAgICAgICAgICAgICB7ImV4dHJhQ2xhc3NlcyI6ICJmYS1yb3RhdGUtMCIsICJpY29uIjogImluZm8tc2lnbiIsICJpY29uQ29sb3IiOiAid2hpdGUiLCAibWFya2VyQ29sb3IiOiAiZGFya2JsdWUiLCAicHJlZml4IjogImdseXBoaWNvbiJ9CiAgICAgICAgICAgICk7CiAgICAgICAgICAgIG1hcmtlcl8zODcyNjI3ZjIwMjM0MDJjYWIwNWNjNmZjZDBlNDk3Mi5zZXRJY29uKGljb25fNzU0ZGNiMDcxNjU4NGQyYjhiOTVkZThlZWNmMjlmZjEpOwogICAgICAgIAogICAgCiAgICAgICAgICAgIG1hcmtlcl8zODcyNjI3ZjIwMjM0MDJjYWIwNWNjNmZjZDBlNDk3Mi5iaW5kVG9vbHRpcCgKICAgICAgICAgICAgICAgIGA8ZGl2PgogICAgICAgICAgICAgICAgICAgICBTb25kZXIgfCAxODAgV2F0ZXIgfCBQcmVtaWVyIDFCUiArIFJvb2Z0b3AKICAgICAgICAgICAgICAgICA8L2Rpdj5gLAogICAgICAgICAgICAgICAgeyJzdGlja3kiOiB0cnVlfQogICAgICAgICAgICApOwogICAgICAgIAogICAgCiAgICAgICAgICAgIHZhciBtYXJrZXJfMjkxYmU0ZGZjNjQxNDAyYzkyY2NiNDZlZTRlNmEzNTIgPSBMLm1hcmtlcigKICAgICAgICAgICAgICAgIFs0MC43MTUzMiwgLTc0LjAwNjQ1XSwKICAgICAgICAgICAgICAgIHt9CiAgICAgICAgICAgICkuYWRkVG8obWFwX2ExMDE0YjYxZTFjYjRhYzI5MjdhMmExY2FlODMxYmQ2KTsKICAgICAgICAKICAgIAogICAgICAgICAgICB2YXIgaWNvbl81ZWE1OGVhNTM2NTA0YTg5Yjk0NDg2NmVjNGZjNjFjNCA9IEwuQXdlc29tZU1hcmtlcnMuaWNvbigKICAgICAgICAgICAgICAgIHsiZXh0cmFDbGFzc2VzIjogImZhLXJvdGF0ZS0wIiwgImljb24iOiAiaW5mby1zaWduIiwgImljb25Db2xvciI6ICJ3aGl0ZSIsICJtYXJrZXJDb2xvciI6ICJkYXJrYmx1ZSIsICJwcmVmaXgiOiAiZ2x5cGhpY29uIn0KICAgICAgICAgICAgKTsKICAgICAgICAgICAgbWFya2VyXzI5MWJlNGRmYzY0MTQwMmM5MmNjYjQ2ZWU0ZTZhMzUyLnNldEljb24oaWNvbl81ZWE1OGVhNTM2NTA0YTg5Yjk0NDg2NmVjNGZjNjFjNCk7CiAgICAgICAgCiAgICAKICAgICAgICAgICAgbWFya2VyXzI5MWJlNGRmYzY0MTQwMmM5MmNjYjQ2ZWU0ZTZhMzUyLmJpbmRUb29sdGlwKAogICAgICAgICAgICAgICAgYDxkaXY+CiAgICAgICAgICAgICAgICAgICAgIFNtYXJ0IFN0dWRpbyBpbiBUcmVuZHkgVHJpYmVjYSwgSW5kb29yIHBvb2wgKyBHeW0gYnkgQmx1ZWdyb3VuZAogICAgICAgICAgICAgICAgIDwvZGl2PmAsCiAgICAgICAgICAgICAgICB7InN0aWNreSI6IHRydWV9CiAgICAgICAgICAgICk7CiAgICAgICAgCiAgICAKICAgICAgICAgICAgdmFyIG1hcmtlcl8yODk4NjI1MTYzNGI0MzAzOTZkNjYwYWU2YTkzMDEwNyA9IEwubWFya2VyKAogICAgICAgICAgICAgICAgWzQwLjcwNzQzLCAtNzQuMDA0NDNdLAogICAgICAgICAgICAgICAge30KICAgICAgICAgICAgKS5hZGRUbyhtYXBfYTEwMTRiNjFlMWNiNGFjMjkyN2EyYTFjYWU4MzFiZDYpOwogICAgICAgIAogICAgCiAgICAgICAgICAgIHZhciBpY29uX2I4MDI1YWNmNTQ0YjRjNDU5MmIxN2MxOWVkYTJhZmM3ID0gTC5Bd2Vzb21lTWFya2Vycy5pY29uKAogICAgICAgICAgICAgICAgeyJleHRyYUNsYXNzZXMiOiAiZmEtcm90YXRlLTAiLCAiaWNvbiI6ICJpbmZvLXNpZ24iLCAiaWNvbkNvbG9yIjogIndoaXRlIiwgIm1hcmtlckNvbG9yIjogImRhcmtibHVlIiwgInByZWZpeCI6ICJnbHlwaGljb24ifQogICAgICAgICAgICApOwogICAgICAgICAgICBtYXJrZXJfMjg5ODYyNTE2MzRiNDMwMzk2ZDY2MGFlNmE5MzAxMDcuc2V0SWNvbihpY29uX2I4MDI1YWNmNTQ0YjRjNDU5MmIxN2MxOWVkYTJhZmM3KTsKICAgICAgICAKICAgIAogICAgICAgICAgICBtYXJrZXJfMjg5ODYyNTE2MzRiNDMwMzk2ZDY2MGFlNmE5MzAxMDcuYmluZFRvb2x0aXAoCiAgICAgICAgICAgICAgICBgPGRpdj4KICAgICAgICAgICAgICAgICAgICAgU29uZGVyIHwgMTgwIFdhdGVyIHwgQ2hhcm1pbmcgMUJSICsgUm9vZnRvcAogICAgICAgICAgICAgICAgIDwvZGl2PmAsCiAgICAgICAgICAgICAgICB7InN0aWNreSI6IHRydWV9CiAgICAgICAgICAgICk7CiAgICAgICAgCiAgICAKICAgICAgICAgICAgdmFyIG1hcmtlcl8zYzU1NWIwMjY2MjE0ZDk4YTg2OTUzZGVjYjM4YTFmOCA9IEwubWFya2VyKAogICAgICAgICAgICAgICAgWzQwLjc3ODMzLCAtNzMuOTg0NjldLAogICAgICAgICAgICAgICAge30KICAgICAgICAgICAgKS5hZGRUbyhtYXBfYTEwMTRiNjFlMWNiNGFjMjkyN2EyYTFjYWU4MzFiZDYpOwogICAgICAgIAogICAgCiAgICAgICAgICAgIHZhciBpY29uXzYwNzM3NGE1ZDIzYTRlMTNhNzBkNTgxZDdjNTJlZGIwID0gTC5Bd2Vzb21lTWFya2Vycy5pY29uKAogICAgICAgICAgICAgICAgeyJleHRyYUNsYXNzZXMiOiAiZmEtcm90YXRlLTAiLCAiaWNvbiI6ICJpbmZvLXNpZ24iLCAiaWNvbkNvbG9yIjogIndoaXRlIiwgIm1hcmtlckNvbG9yIjogImRhcmtibHVlIiwgInByZWZpeCI6ICJnbHlwaGljb24ifQogICAgICAgICAgICApOwogICAgICAgICAgICBtYXJrZXJfM2M1NTViMDI2NjIxNGQ5OGE4Njk1M2RlY2IzOGExZjguc2V0SWNvbihpY29uXzYwNzM3NGE1ZDIzYTRlMTNhNzBkNTgxZDdjNTJlZGIwKTsKICAgICAgICAKICAgIAogICAgICAgICAgICBtYXJrZXJfM2M1NTViMDI2NjIxNGQ5OGE4Njk1M2RlY2IzOGExZjguYmluZFRvb2x0aXAoCiAgICAgICAgICAgICAgICBgPGRpdj4KICAgICAgICAgICAgICAgICAgICAgRXhxdWlzaXRlIFVXUyAyQlIgdy8gR3ltICsgRG9vcm1hbiBieSBCbHVlZ3JvdW5kCiAgICAgICAgICAgICAgICAgPC9kaXY+YCwKICAgICAgICAgICAgICAgIHsic3RpY2t5IjogdHJ1ZX0KICAgICAgICAgICAgKTsKICAgICAgICAKICAgIAogICAgICAgICAgICB2YXIgbWFya2VyXzExMWE2NjZjYmEyNzQ4ZjFiNDFlOTI3ZGFiNDFkMjY4ID0gTC5tYXJrZXIoCiAgICAgICAgICAgICAgICBbNDAuNzQxNDMsIC03My45OTQ2OV0sCiAgICAgICAgICAgICAgICB7fQogICAgICAgICAgICApLmFkZFRvKG1hcF9hMTAxNGI2MWUxY2I0YWMyOTI3YTJhMWNhZTgzMWJkNik7CiAgICAgICAgCiAgICAKICAgICAgICAgICAgdmFyIGljb25fNDhhNmE5ZjZlMjFmNGFlOWJiZTUzZjg5ODY5NTU2ZWUgPSBMLkF3ZXNvbWVNYXJrZXJzLmljb24oCiAgICAgICAgICAgICAgICB7ImV4dHJhQ2xhc3NlcyI6ICJmYS1yb3RhdGUtMCIsICJpY29uIjogImluZm8tc2lnbiIsICJpY29uQ29sb3IiOiAid2hpdGUiLCAibWFya2VyQ29sb3IiOiAiZGFya2JsdWUiLCAicHJlZml4IjogImdseXBoaWNvbiJ9CiAgICAgICAgICAgICk7CiAgICAgICAgICAgIG1hcmtlcl8xMTFhNjY2Y2JhMjc0OGYxYjQxZTkyN2RhYjQxZDI2OC5zZXRJY29uKGljb25fNDhhNmE5ZjZlMjFmNGFlOWJiZTUzZjg5ODY5NTU2ZWUpOwogICAgICAgIAogICAgCiAgICAgICAgICAgIG1hcmtlcl8xMTFhNjY2Y2JhMjc0OGYxYjQxZTkyN2RhYjQxZDI2OC5iaW5kVG9vbHRpcCgKICAgICAgICAgICAgICAgIGA8ZGl2PgogICAgICAgICAgICAgICAgICAgICBXZWxjb21pbmcgQ2hlbHNlYSAxQlIgdy8gUm9vZiBkZWNrLCBHeW0gKyBEb29ybWFuIGJ5IEJsdWVncm91bmQKICAgICAgICAgICAgICAgICA8L2Rpdj5gLAogICAgICAgICAgICAgICAgeyJzdGlja3kiOiB0cnVlfQogICAgICAgICAgICApOwogICAgICAgIAogICAgCiAgICAgICAgICAgIHZhciBtYXJrZXJfNzI5YmI3Nzg3ZTcwNDA4OTkwNzcwMDZkZDBjYzU5MmEgPSBMLm1hcmtlcigKICAgICAgICAgICAgICAgIFs0MC43Mzg0NTk5OTk5OTk5OTYsIC03My45OTc2OV0sCiAgICAgICAgICAgICAgICB7fQogICAgICAgICAgICApLmFkZFRvKG1hcF9hMTAxNGI2MWUxY2I0YWMyOTI3YTJhMWNhZTgzMWJkNik7CiAgICAgICAgCiAgICAKICAgICAgICAgICAgdmFyIGljb25fMjJkOTQ3Zjg5MDE2NGFiNzllZDk3MmNiNTUyMWYxMmQgPSBMLkF3ZXNvbWVNYXJrZXJzLmljb24oCiAgICAgICAgICAgICAgICB7ImV4dHJhQ2xhc3NlcyI6ICJmYS1yb3RhdGUtMCIsICJpY29uIjogImluZm8tc2lnbiIsICJpY29uQ29sb3IiOiAid2hpdGUiLCAibWFya2VyQ29sb3IiOiAiZGFya2JsdWUiLCAicHJlZml4IjogImdseXBoaWNvbiJ9CiAgICAgICAgICAgICk7CiAgICAgICAgICAgIG1hcmtlcl83MjliYjc3ODdlNzA0MDg5OTA3NzAwNmRkMGNjNTkyYS5zZXRJY29uKGljb25fMjJkOTQ3Zjg5MDE2NGFiNzllZDk3MmNiNTUyMWYxMmQpOwogICAgICAgIAogICAgCiAgICAgICAgICAgIG1hcmtlcl83MjliYjc3ODdlNzA0MDg5OTA3NzAwNmRkMGNjNTkyYS5iaW5kVG9vbHRpcCgKICAgICAgICAgICAgICAgIGA8ZGl2PgogICAgICAgICAgICAgICAgICAgICBTd2Fua3kgMUJSIGluIENlbnRyYWwgQ2hlbHNlYSB3LyBHYXJkZW4gYnkgQmx1ZWdyb3VuZAogICAgICAgICAgICAgICAgIDwvZGl2PmAsCiAgICAgICAgICAgICAgICB7InN0aWNreSI6IHRydWV9CiAgICAgICAgICAgICk7CiAgICAgICAgCiAgICAKICAgICAgICAgICAgdmFyIG1hcmtlcl8xNWVjM2U4NGMyOTE0ZDBiOGJiZTZjM2Q1NDJmNzFmOCA9IEwubWFya2VyKAogICAgICAgICAgICAgICAgWzQwLjc1MjMwOTk5OTk5OTk5NCwgLTczLjk4OTI0XSwKICAgICAgICAgICAgICAgIHt9CiAgICAgICAgICAgICkuYWRkVG8obWFwX2ExMDE0YjYxZTFjYjRhYzI5MjdhMmExY2FlODMxYmQ2KTsKICAgICAgICAKICAgIAogICAgICAgICAgICB2YXIgaWNvbl85NjMwZGQ5NDIzMTI0ZjNlOTQ0YWIyYTEyZjlmZTU1NSA9IEwuQXdlc29tZU1hcmtlcnMuaWNvbigKICAgICAgICAgICAgICAgIHsiZXh0cmFDbGFzc2VzIjogImZhLXJvdGF0ZS0wIiwgImljb24iOiAiaW5mby1zaWduIiwgImljb25Db2xvciI6ICJ3aGl0ZSIsICJtYXJrZXJDb2xvciI6ICJkYXJrYmx1ZSIsICJwcmVmaXgiOiAiZ2x5cGhpY29uIn0KICAgICAgICAgICAgKTsKICAgICAgICAgICAgbWFya2VyXzE1ZWMzZTg0YzI5MTRkMGI4YmJlNmMzZDU0MmY3MWY4LnNldEljb24oaWNvbl85NjMwZGQ5NDIzMTI0ZjNlOTQ0YWIyYTEyZjlmZTU1NSk7CiAgICAgICAgCiAgICAKICAgICAgICAgICAgbWFya2VyXzE1ZWMzZTg0YzI5MTRkMGI4YmJlNmMzZDU0MmY3MWY4LmJpbmRUb29sdGlwKAogICAgICAgICAgICAgICAgYDxkaXY+CiAgICAgICAgICAgICAgICAgICAgIENvenkgTWlkdG93biBTdHVkaW8gdy8gR3ltLCBuZWFyIFBlbm4gU3RhdGlvbiBieSBCbHVlZ3JvdW5kCiAgICAgICAgICAgICAgICAgPC9kaXY+YCwKICAgICAgICAgICAgICAgIHsic3RpY2t5IjogdHJ1ZX0KICAgICAgICAgICAgKTsKICAgICAgICAKICAgIAogICAgICAgICAgICB2YXIgbWFya2VyXzcxMzk3YWI5NTVhNTQ4MDVhODQzNDY5NGMwMWM5YTQ1ID0gTC5tYXJrZXIoCiAgICAgICAgICAgICAgICBbNDAuNzM5MTgsIC03My45OTYxNl0sCiAgICAgICAgICAgICAgICB7fQogICAgICAgICAgICApLmFkZFRvKG1hcF9hMTAxNGI2MWUxY2I0YWMyOTI3YTJhMWNhZTgzMWJkNik7CiAgICAgICAgCiAgICAKICAgICAgICAgICAgdmFyIGljb25fNjliYWVmYmExNjhjNGQ0ZDliYjI0ZWRjYjAxZTIwOTYgPSBMLkF3ZXNvbWVNYXJrZXJzLmljb24oCiAgICAgICAgICAgICAgICB7ImV4dHJhQ2xhc3NlcyI6ICJmYS1yb3RhdGUtMCIsICJpY29uIjogImluZm8tc2lnbiIsICJpY29uQ29sb3IiOiAid2hpdGUiLCAibWFya2VyQ29sb3IiOiAiZGFya2JsdWUiLCAicHJlZml4IjogImdseXBoaWNvbiJ9CiAgICAgICAgICAgICk7CiAgICAgICAgICAgIG1hcmtlcl83MTM5N2FiOTU1YTU0ODA1YTg0MzQ2OTRjMDFjOWE0NS5zZXRJY29uKGljb25fNjliYWVmYmExNjhjNGQ0ZDliYjI0ZWRjYjAxZTIwOTYpOwogICAgICAgIAogICAgCiAgICAgICAgICAgIG1hcmtlcl83MTM5N2FiOTU1YTU0ODA1YTg0MzQ2OTRjMDFjOWE0NS5iaW5kVG9vbHRpcCgKICAgICAgICAgICAgICAgIGA8ZGl2PgogICAgICAgICAgICAgICAgICAgICBDb3p5IENlbnRyYWwgQ2hlbHNlYSBTdHVkaW8gdy8gQmFsY29ueSArIERvb3JtYW4gYnkgQmx1ZWdyb3VuZAogICAgICAgICAgICAgICAgIDwvZGl2PmAsCiAgICAgICAgICAgICAgICB7InN0aWNreSI6IHRydWV9CiAgICAgICAgICAgICk7CiAgICAgICAgCiAgICAKICAgICAgICAgICAgdmFyIG1hcmtlcl9kMTJmMjAwN2ZlYzc0Nzk5ODgzYjc0ZTFhMDg1MTNmMSA9IEwubWFya2VyKAogICAgICAgICAgICAgICAgWzQwLjcyMywgLTczLjk4NDE1XSwKICAgICAgICAgICAgICAgIHt9CiAgICAgICAgICAgICkuYWRkVG8obWFwX2ExMDE0YjYxZTFjYjRhYzI5MjdhMmExY2FlODMxYmQ2KTsKICAgICAgICAKICAgIAogICAgICAgICAgICB2YXIgaWNvbl81NzMyM2YxYTM2MDg0NzhlOTc4YTRiZTY4NTU3MDc2ZSA9IEwuQXdlc29tZU1hcmtlcnMuaWNvbigKICAgICAgICAgICAgICAgIHsiZXh0cmFDbGFzc2VzIjogImZhLXJvdGF0ZS0wIiwgImljb24iOiAiaW5mby1zaWduIiwgImljb25Db2xvciI6ICJ3aGl0ZSIsICJtYXJrZXJDb2xvciI6ICJkYXJrYmx1ZSIsICJwcmVmaXgiOiAiZ2x5cGhpY29uIn0KICAgICAgICAgICAgKTsKICAgICAgICAgICAgbWFya2VyX2QxMmYyMDA3ZmVjNzQ3OTk4ODNiNzRlMWEwODUxM2YxLnNldEljb24oaWNvbl81NzMyM2YxYTM2MDg0NzhlOTc4YTRiZTY4NTU3MDc2ZSk7CiAgICAgICAgCiAgICAKICAgICAgICAgICAgbWFya2VyX2QxMmYyMDA3ZmVjNzQ3OTk4ODNiNzRlMWEwODUxM2YxLmJpbmRUb29sdGlwKAogICAgICAgICAgICAgICAgYDxkaXY+CiAgICAgICAgICAgICAgICAgICAgIERyZWFteSAxQlIgaW4gSGlwIEVhc3QgVmlsbGFnZSB3LyBEb29ybWFuICsgR3ltIGJ5IEJsdWVncm91bmQKICAgICAgICAgICAgICAgICA8L2Rpdj5gLAogICAgICAgICAgICAgICAgeyJzdGlja3kiOiB0cnVlfQogICAgICAgICAgICApOwogICAgICAgIAogICAgCiAgICAgICAgICAgIHZhciBtYXJrZXJfNTAzYmU5OGM4NTAzNDNiOGJkZDkxYmYxYmQ1Nzg2NGQgPSBMLm1hcmtlcigKICAgICAgICAgICAgICAgIFs0MC43Mzc2NywgLTczLjk5NzM5XSwKICAgICAgICAgICAgICAgIHt9CiAgICAgICAgICAgICkuYWRkVG8obWFwX2ExMDE0YjYxZTFjYjRhYzI5MjdhMmExY2FlODMxYmQ2KTsKICAgICAgICAKICAgIAogICAgICAgICAgICB2YXIgaWNvbl9hNGFiODAxYzEyY2M0MDMwOGI5YTkxZGVjNGRhNzlhMSA9IEwuQXdlc29tZU1hcmtlcnMuaWNvbigKICAgICAgICAgICAgICAgIHsiZXh0cmFDbGFzc2VzIjogImZhLXJvdGF0ZS0wIiwgImljb24iOiAiaW5mby1zaWduIiwgImljb25Db2xvciI6ICJ3aGl0ZSIsICJtYXJrZXJDb2xvciI6ICJkYXJrYmx1ZSIsICJwcmVmaXgiOiAiZ2x5cGhpY29uIn0KICAgICAgICAgICAgKTsKICAgICAgICAgICAgbWFya2VyXzUwM2JlOThjODUwMzQzYjhiZGQ5MWJmMWJkNTc4NjRkLnNldEljb24oaWNvbl9hNGFiODAxYzEyY2M0MDMwOGI5YTkxZGVjNGRhNzlhMSk7CiAgICAgICAgCiAgICAKICAgICAgICAgICAgbWFya2VyXzUwM2JlOThjODUwMzQzYjhiZGQ5MWJmMWJkNTc4NjRkLmJpbmRUb29sdGlwKAogICAgICAgICAgICAgICAgYDxkaXY+CiAgICAgICAgICAgICAgICAgICAgIExpZ2h0LWZpbGxlZCBTdHVkaW8gaW4gU3dhbmt5IENoZWxzZWEgdy8gR3ltICsgRG9vcm1hbiBieSBCbHVlZ3JvdW5kCiAgICAgICAgICAgICAgICAgPC9kaXY+YCwKICAgICAgICAgICAgICAgIHsic3RpY2t5IjogdHJ1ZX0KICAgICAgICAgICAgKTsKICAgICAgICAKICAgIAogICAgICAgICAgICB2YXIgbWFya2VyXzNiMWY1NGI5NjRjMjQ1YTI4YjZmNDMzYTkwN2MyYTZhID0gTC5tYXJrZXIoCiAgICAgICAgICAgICAgICBbNDAuNzc1MTgsIC03My45NDkxXSwKICAgICAgICAgICAgICAgIHt9CiAgICAgICAgICAgICkuYWRkVG8obWFwX2ExMDE0YjYxZTFjYjRhYzI5MjdhMmExY2FlODMxYmQ2KTsKICAgICAgICAKICAgIAogICAgICAgICAgICB2YXIgaWNvbl84OWQwNDQ2MTUxNWM0NzIwOTg1MjljM2ZiMTNmODQ2NSA9IEwuQXdlc29tZU1hcmtlcnMuaWNvbigKICAgICAgICAgICAgICAgIHsiZXh0cmFDbGFzc2VzIjogImZhLXJvdGF0ZS0wIiwgImljb24iOiAiaW5mby1zaWduIiwgImljb25Db2xvciI6ICJ3aGl0ZSIsICJtYXJrZXJDb2xvciI6ICJkYXJrYmx1ZSIsICJwcmVmaXgiOiAiZ2x5cGhpY29uIn0KICAgICAgICAgICAgKTsKICAgICAgICAgICAgbWFya2VyXzNiMWY1NGI5NjRjMjQ1YTI4YjZmNDMzYTkwN2MyYTZhLnNldEljb24oaWNvbl84OWQwNDQ2MTUxNWM0NzIwOTg1MjljM2ZiMTNmODQ2NSk7CiAgICAgICAgCiAgICAKICAgICAgICAgICAgbWFya2VyXzNiMWY1NGI5NjRjMjQ1YTI4YjZmNDMzYTkwN2MyYTZhLmJpbmRUb29sdGlwKAogICAgICAgICAgICAgICAgYDxkaXY+CiAgICAgICAgICAgICAgICAgICAgIExvZnR5IFVFUyAxQlIgdy8gSW5kb29yIHBvb2wsIERvb3JtYW4sIENpdHkgdmlld3MgYnkgQmx1ZWdyb3VuZAogICAgICAgICAgICAgICAgIDwvZGl2PmAsCiAgICAgICAgICAgICAgICB7InN0aWNreSI6IHRydWV9CiAgICAgICAgICAgICk7CiAgICAgICAgCiAgICAKICAgICAgICAgICAgdmFyIG1hcmtlcl9mYjZmZGNjMmU3YzY0M2I3OThjNGQ0YzJjMjg3MmIwNyA9IEwubWFya2VyKAogICAgICAgICAgICAgICAgWzQwLjc0MDk0LCAtNzMuOTk0NjRdLAogICAgICAgICAgICAgICAge30KICAgICAgICAgICAgKS5hZGRUbyhtYXBfYTEwMTRiNjFlMWNiNGFjMjkyN2EyYTFjYWU4MzFiZDYpOwogICAgICAgIAogICAgCiAgICAgICAgICAgIHZhciBpY29uX2FkZWQyZWU2YzBmNTRmNDc5YmVkN2JlMGI3NzRhY2RjID0gTC5Bd2Vzb21lTWFya2Vycy5pY29uKAogICAgICAgICAgICAgICAgeyJleHRyYUNsYXNzZXMiOiAiZmEtcm90YXRlLTAiLCAiaWNvbiI6ICJpbmZvLXNpZ24iLCAiaWNvbkNvbG9yIjogIndoaXRlIiwgIm1hcmtlckNvbG9yIjogImRhcmtibHVlIiwgInByZWZpeCI6ICJnbHlwaGljb24ifQogICAgICAgICAgICApOwogICAgICAgICAgICBtYXJrZXJfZmI2ZmRjYzJlN2M2NDNiNzk4YzRkNGMyYzI4NzJiMDcuc2V0SWNvbihpY29uX2FkZWQyZWU2YzBmNTRmNDc5YmVkN2JlMGI3NzRhY2RjKTsKICAgICAgICAKICAgIAogICAgICAgICAgICBtYXJrZXJfZmI2ZmRjYzJlN2M2NDNiNzk4YzRkNGMyYzI4NzJiMDcuYmluZFRvb2x0aXAoCiAgICAgICAgICAgICAgICBgPGRpdj4KICAgICAgICAgICAgICAgICAgICAgUGljdHVyZS1wZXJmZWN0IEZsYXRpcm9uIFN0dWRpbyB3LyBSb29mdG9wICsgR3ltLCBieSBCbHVlZ3JvdW5kCiAgICAgICAgICAgICAgICAgPC9kaXY+YCwKICAgICAgICAgICAgICAgIHsic3RpY2t5IjogdHJ1ZX0KICAgICAgICAgICAgKTsKICAgICAgICAKICAgIAogICAgICAgICAgICB2YXIgbWFya2VyX2IwYmIyZGFkMDQ1YjRmMmQ5ZTljODhjZmE5NGMyY2I5ID0gTC5tYXJrZXIoCiAgICAgICAgICAgICAgICBbNDAuNzQ5NDMsIC03My45ODA1NV0sCiAgICAgICAgICAgICAgICB7fQogICAgICAgICAgICApLmFkZFRvKG1hcF9hMTAxNGI2MWUxY2I0YWMyOTI3YTJhMWNhZTgzMWJkNik7CiAgICAgICAgCiAgICAKICAgICAgICAgICAgdmFyIGljb25fYzUxNGE5MmJjMjRhNDYwMjhkNmU0ZTY4MjY3ZDk1ODcgPSBMLkF3ZXNvbWVNYXJrZXJzLmljb24oCiAgICAgICAgICAgICAgICB7ImV4dHJhQ2xhc3NlcyI6ICJmYS1yb3RhdGUtMCIsICJpY29uIjogImluZm8tc2lnbiIsICJpY29uQ29sb3IiOiAid2hpdGUiLCAibWFya2VyQ29sb3IiOiAiZGFya2JsdWUiLCAicHJlZml4IjogImdseXBoaWNvbiJ9CiAgICAgICAgICAgICk7CiAgICAgICAgICAgIG1hcmtlcl9iMGJiMmRhZDA0NWI0ZjJkOWU5Yzg4Y2ZhOTRjMmNiOS5zZXRJY29uKGljb25fYzUxNGE5MmJjMjRhNDYwMjhkNmU0ZTY4MjY3ZDk1ODcpOwogICAgICAgIAogICAgCiAgICAgICAgICAgIG1hcmtlcl9iMGJiMmRhZDA0NWI0ZjJkOWU5Yzg4Y2ZhOTRjMmNiOS5iaW5kVG9vbHRpcCgKICAgICAgICAgICAgICAgIGA8ZGl2PgogICAgICAgICAgICAgICAgICAgICBEYXBwZXIgUGFyayBBdmUgU3R1ZGlvIHcvIEd5bSwgbmVhciBHcmFuZCBDZW50cmFsIGJ5IEJsdWVncm91bmQKICAgICAgICAgICAgICAgICA8L2Rpdj5gLAogICAgICAgICAgICAgICAgeyJzdGlja3kiOiB0cnVlfQogICAgICAgICAgICApOwogICAgICAgIAogICAgCiAgICAgICAgICAgIHZhciBtYXJrZXJfYWEwMjdiNGUxZDE1NDYyYWJjNDczMjU5ZTc4MjkwZTEgPSBMLm1hcmtlcigKICAgICAgICAgICAgICAgIFs0MC43MTYwNywgLTc0LjAwNTY0XSwKICAgICAgICAgICAgICAgIHt9CiAgICAgICAgICAgICkuYWRkVG8obWFwX2ExMDE0YjYxZTFjYjRhYzI5MjdhMmExY2FlODMxYmQ2KTsKICAgICAgICAKICAgIAogICAgICAgICAgICB2YXIgaWNvbl9iNjhiMDFkY2IzZDA0MDY4ODQyNDgwNTIxYjAxMzA1OCA9IEwuQXdlc29tZU1hcmtlcnMuaWNvbigKICAgICAgICAgICAgICAgIHsiZXh0cmFDbGFzc2VzIjogImZhLXJvdGF0ZS0wIiwgImljb24iOiAiaW5mby1zaWduIiwgImljb25Db2xvciI6ICJ3aGl0ZSIsICJtYXJrZXJDb2xvciI6ICJkYXJrYmx1ZSIsICJwcmVmaXgiOiAiZ2x5cGhpY29uIn0KICAgICAgICAgICAgKTsKICAgICAgICAgICAgbWFya2VyX2FhMDI3YjRlMWQxNTQ2MmFiYzQ3MzI1OWU3ODI5MGUxLnNldEljb24oaWNvbl9iNjhiMDFkY2IzZDA0MDY4ODQyNDgwNTIxYjAxMzA1OCk7CiAgICAgICAgCiAgICAKICAgICAgICAgICAgbWFya2VyX2FhMDI3YjRlMWQxNTQ2MmFiYzQ3MzI1OWU3ODI5MGUxLmJpbmRUb29sdGlwKAogICAgICAgICAgICAgICAgYDxkaXY+CiAgICAgICAgICAgICAgICAgICAgIEhhbmRzb21lIFRyaWJlY2EgU3R1ZGlvIHcvIEluZG9vciBwb29sICsgR3ltIGJ5IEJsdWVncm91bmQKICAgICAgICAgICAgICAgICA8L2Rpdj5gLAogICAgICAgICAgICAgICAgeyJzdGlja3kiOiB0cnVlfQogICAgICAgICAgICApOwogICAgICAgIAogICAgCiAgICAgICAgICAgIHZhciBtYXJrZXJfOTJlODZiZmEwYWFlNDk1M2I1YzU0Y2JlM2I3NDVmMmQgPSBMLm1hcmtlcigKICAgICAgICAgICAgICAgIFs0MC43Mzg3LCAtNzMuOTk2OTldLAogICAgICAgICAgICAgICAge30KICAgICAgICAgICAgKS5hZGRUbyhtYXBfYTEwMTRiNjFlMWNiNGFjMjkyN2EyYTFjYWU4MzFiZDYpOwogICAgICAgIAogICAgCiAgICAgICAgICAgIHZhciBpY29uX2QxZWQ4YzVmZGEzYTQ0MGQ4ZTZlNGUxYmYxZjhmYjVlID0gTC5Bd2Vzb21lTWFya2Vycy5pY29uKAogICAgICAgICAgICAgICAgeyJleHRyYUNsYXNzZXMiOiAiZmEtcm90YXRlLTAiLCAiaWNvbiI6ICJpbmZvLXNpZ24iLCAiaWNvbkNvbG9yIjogIndoaXRlIiwgIm1hcmtlckNvbG9yIjogImRhcmtibHVlIiwgInByZWZpeCI6ICJnbHlwaGljb24ifQogICAgICAgICAgICApOwogICAgICAgICAgICBtYXJrZXJfOTJlODZiZmEwYWFlNDk1M2I1YzU0Y2JlM2I3NDVmMmQuc2V0SWNvbihpY29uX2QxZWQ4YzVmZGEzYTQ0MGQ4ZTZlNGUxYmYxZjhmYjVlKTsKICAgICAgICAKICAgIAogICAgICAgICAgICBtYXJrZXJfOTJlODZiZmEwYWFlNDk1M2I1YzU0Y2JlM2I3NDVmMmQuYmluZFRvb2x0aXAoCiAgICAgICAgICAgICAgICBgPGRpdj4KICAgICAgICAgICAgICAgICAgICAgRGFybGluZyBDaGVsc2VhIDFCUiB3LyBCYWxjb255LCBEb29ybWFuICsgR3ltIGJ5IEJsdWVncm91bmQKICAgICAgICAgICAgICAgICA8L2Rpdj5gLAogICAgICAgICAgICAgICAgeyJzdGlja3kiOiB0cnVlfQogICAgICAgICAgICApOwogICAgICAgIAogICAgCiAgICAgICAgICAgIHZhciBtYXJrZXJfNjNmMmYzNDcyYzNlNGRhNGIwZDJhZDA2NzRlMGEyODUgPSBMLm1hcmtlcigKICAgICAgICAgICAgICAgIFs0MC43MzkzNDAwMDAwMDAwMDYsIC03My45OTczNjk5OTk5OTk5OV0sCiAgICAgICAgICAgICAgICB7fQogICAgICAgICAgICApLmFkZFRvKG1hcF9hMTAxNGI2MWUxY2I0YWMyOTI3YTJhMWNhZTgzMWJkNik7CiAgICAgICAgCiAgICAKICAgICAgICAgICAgdmFyIGljb25fZTgzYzZjMGJkM2Y3NDUzYTg2MmRmZjExODVlM2MyMzkgPSBMLkF3ZXNvbWVNYXJrZXJzLmljb24oCiAgICAgICAgICAgICAgICB7ImV4dHJhQ2xhc3NlcyI6ICJmYS1yb3RhdGUtMCIsICJpY29uIjogImluZm8tc2lnbiIsICJpY29uQ29sb3IiOiAid2hpdGUiLCAibWFya2VyQ29sb3IiOiAiZGFya2JsdWUiLCAicHJlZml4IjogImdseXBoaWNvbiJ9CiAgICAgICAgICAgICk7CiAgICAgICAgICAgIG1hcmtlcl82M2YyZjM0NzJjM2U0ZGE0YjBkMmFkMDY3NGUwYTI4NS5zZXRJY29uKGljb25fZTgzYzZjMGJkM2Y3NDUzYTg2MmRmZjExODVlM2MyMzkpOwogICAgICAgIAogICAgCiAgICAgICAgICAgIG1hcmtlcl82M2YyZjM0NzJjM2U0ZGE0YjBkMmFkMDY3NGUwYTI4NS5iaW5kVG9vbHRpcCgKICAgICAgICAgICAgICAgIGA8ZGl2PgogICAgICAgICAgICAgICAgICAgICBDaGljIENoZWxzZWEgU3R1ZGlvIHcvIEJhbGNvbnksIEd5bSArIERvb3JtYW4gYnkgQmx1ZWdyb3VuZAogICAgICAgICAgICAgICAgIDwvZGl2PmAsCiAgICAgICAgICAgICAgICB7InN0aWNreSI6IHRydWV9CiAgICAgICAgICAgICk7CiAgICAgICAgCiAgICAKICAgICAgICAgICAgdmFyIG1hcmtlcl83OWQ0MDBhOTQ0OTY0YjQzYTUxZjYwM2I5ZjM2YmIxYiA9IEwubWFya2VyKAogICAgICAgICAgICAgICAgWzQwLjc0NSwgLTczLjk3OTQxOTk5OTk5OTk5XSwKICAgICAgICAgICAgICAgIHt9CiAgICAgICAgICAgICkuYWRkVG8obWFwX2ExMDE0YjYxZTFjYjRhYzI5MjdhMmExY2FlODMxYmQ2KTsKICAgICAgICAKICAgIAogICAgICAgICAgICB2YXIgaWNvbl8xNTdkNmNkMTUwYWU0NjBhYjY2MzViYTUyYjljMTE3MSA9IEwuQXdlc29tZU1hcmtlcnMuaWNvbigKICAgICAgICAgICAgICAgIHsiZXh0cmFDbGFzc2VzIjogImZhLXJvdGF0ZS0wIiwgImljb24iOiAiaW5mby1zaWduIiwgImljb25Db2xvciI6ICJ3aGl0ZSIsICJtYXJrZXJDb2xvciI6ICJkYXJrYmx1ZSIsICJwcmVmaXgiOiAiZ2x5cGhpY29uIn0KICAgICAgICAgICAgKTsKICAgICAgICAgICAgbWFya2VyXzc5ZDQwMGE5NDQ5NjRiNDNhNTFmNjAzYjlmMzZiYjFiLnNldEljb24oaWNvbl8xNTdkNmNkMTUwYWU0NjBhYjY2MzViYTUyYjljMTE3MSk7CiAgICAgICAgCiAgICAKICAgICAgICAgICAgbWFya2VyXzc5ZDQwMGE5NDQ5NjRiNDNhNTFmNjAzYjlmMzZiYjFiLmJpbmRUb29sdGlwKAogICAgICAgICAgICAgICAgYDxkaXY+CiAgICAgICAgICAgICAgICAgICAgIEZyaWVuZGx5IE1pZHRvd24gRWFzdCBTdHVkaW8gdy8gR3JlYXQgbGlnaHQgKyBHeW0gYnkgQmx1ZWdyb3VuZAogICAgICAgICAgICAgICAgIDwvZGl2PmAsCiAgICAgICAgICAgICAgICB7InN0aWNreSI6IHRydWV9CiAgICAgICAgICAgICk7CiAgICAgICAgCiAgICAKICAgICAgICAgICAgdmFyIG1hcmtlcl83ZmM3YWJhYzM1NTI0NDkzYWFhY2UxNDVlYjI1MjFiOCA9IEwubWFya2VyKAogICAgICAgICAgICAgICAgWzQwLjcwNTcwOTk5OTk5OTk5NiwgLTc0LjAxNTA5XSwKICAgICAgICAgICAgICAgIHt9CiAgICAgICAgICAgICkuYWRkVG8obWFwX2ExMDE0YjYxZTFjYjRhYzI5MjdhMmExY2FlODMxYmQ2KTsKICAgICAgICAKICAgIAogICAgICAgICAgICB2YXIgaWNvbl9jODFkMzk5OTI3MTQ0MWU4YWJhOThhMjM3MTIyMDEyYyA9IEwuQXdlc29tZU1hcmtlcnMuaWNvbigKICAgICAgICAgICAgICAgIHsiZXh0cmFDbGFzc2VzIjogImZhLXJvdGF0ZS0wIiwgImljb24iOiAiaW5mby1zaWduIiwgImljb25Db2xvciI6ICJ3aGl0ZSIsICJtYXJrZXJDb2xvciI6ICJkYXJrYmx1ZSIsICJwcmVmaXgiOiAiZ2x5cGhpY29uIn0KICAgICAgICAgICAgKTsKICAgICAgICAgICAgbWFya2VyXzdmYzdhYmFjMzU1MjQ0OTNhYWFjZTE0NWViMjUyMWI4LnNldEljb24oaWNvbl9jODFkMzk5OTI3MTQ0MWU4YWJhOThhMjM3MTIyMDEyYyk7CiAgICAgICAgCiAgICAKICAgICAgICAgICAgbWFya2VyXzdmYzdhYmFjMzU1MjQ0OTNhYWFjZTE0NWViMjUyMWI4LmJpbmRUb29sdGlwKAogICAgICAgICAgICAgICAgYDxkaXY+CiAgICAgICAgICAgICAgICAgICAgIE9wdWxlbnQgRmlEaSBTdHVkaW8gdy8gR3JlYXQgUm9vZnRvcCArIEd5bSBieSBCbHVlZ3JvdW5kCiAgICAgICAgICAgICAgICAgPC9kaXY+YCwKICAgICAgICAgICAgICAgIHsic3RpY2t5IjogdHJ1ZX0KICAgICAgICAgICAgKTsKICAgICAgICAKICAgIAogICAgICAgICAgICB2YXIgbWFya2VyXzEzMWYyM2MzZmFiYTQwYzE5ZDE1MjhhZTE2ODc0YTQ4ID0gTC5tYXJrZXIoCiAgICAgICAgICAgICAgICBbNDAuNzcxMzUsIC03My45NTAzNV0sCiAgICAgICAgICAgICAgICB7fQogICAgICAgICAgICApLmFkZFRvKG1hcF9hMTAxNGI2MWUxY2I0YWMyOTI3YTJhMWNhZTgzMWJkNik7CiAgICAgICAgCiAgICAKICAgICAgICAgICAgdmFyIGljb25fNWZmOTQ2NmVkMmZiNGZhZGFkMjk2ODBlOGNmOWNkOTEgPSBMLkF3ZXNvbWVNYXJrZXJzLmljb24oCiAgICAgICAgICAgICAgICB7ImV4dHJhQ2xhc3NlcyI6ICJmYS1yb3RhdGUtMCIsICJpY29uIjogImluZm8tc2lnbiIsICJpY29uQ29sb3IiOiAid2hpdGUiLCAibWFya2VyQ29sb3IiOiAiZGFya2JsdWUiLCAicHJlZml4IjogImdseXBoaWNvbiJ9CiAgICAgICAgICAgICk7CiAgICAgICAgICAgIG1hcmtlcl8xMzFmMjNjM2ZhYmE0MGMxOWQxNTI4YWUxNjg3NGE0OC5zZXRJY29uKGljb25fNWZmOTQ2NmVkMmZiNGZhZGFkMjk2ODBlOGNmOWNkOTEpOwogICAgICAgIAogICAgCiAgICAgICAgICAgIG1hcmtlcl8xMzFmMjNjM2ZhYmE0MGMxOWQxNTI4YWUxNjg3NGE0OC5iaW5kVG9vbHRpcCgKICAgICAgICAgICAgICAgIGA8ZGl2PgogICAgICAgICAgICAgICAgICAgICBJZGVhbCBVRVMgMUJSIHcvIERvb3JtYW4sIG5lYXIgQ2VudHJhbCBQYXJrIGJ5IEJsdWVncm91bmQKICAgICAgICAgICAgICAgICA8L2Rpdj5gLAogICAgICAgICAgICAgICAgeyJzdGlja3kiOiB0cnVlfQogICAgICAgICAgICApOwogICAgICAgIAogICAgCiAgICAgICAgICAgIHZhciBtYXJrZXJfM2E5YTVmN2QzYTJmNDZmN2I5MmE2M2MzNjhjNTEyZmEgPSBMLm1hcmtlcigKICAgICAgICAgICAgICAgIFs0MC43NDc5MiwgLTczLjk3NjE0XSwKICAgICAgICAgICAgICAgIHt9CiAgICAgICAgICAgICkuYWRkVG8obWFwX2ExMDE0YjYxZTFjYjRhYzI5MjdhMmExY2FlODMxYmQ2KTsKICAgICAgICAKICAgIAogICAgICAgICAgICB2YXIgaWNvbl8wNTBjMzk2ZTg0ZTA0MDBiOGNkM2E5NzkwNDk1YmVjOSA9IEwuQXdlc29tZU1hcmtlcnMuaWNvbigKICAgICAgICAgICAgICAgIHsiZXh0cmFDbGFzc2VzIjogImZhLXJvdGF0ZS0wIiwgImljb24iOiAiaW5mby1zaWduIiwgImljb25Db2xvciI6ICJ3aGl0ZSIsICJtYXJrZXJDb2xvciI6ICJkYXJrYmx1ZSIsICJwcmVmaXgiOiAiZ2x5cGhpY29uIn0KICAgICAgICAgICAgKTsKICAgICAgICAgICAgbWFya2VyXzNhOWE1ZjdkM2EyZjQ2ZjdiOTJhNjNjMzY4YzUxMmZhLnNldEljb24oaWNvbl8wNTBjMzk2ZTg0ZTA0MDBiOGNkM2E5NzkwNDk1YmVjOSk7CiAgICAgICAgCiAgICAKICAgICAgICAgICAgbWFya2VyXzNhOWE1ZjdkM2EyZjQ2ZjdiOTJhNjNjMzY4YzUxMmZhLmJpbmRUb29sdGlwKAogICAgICAgICAgICAgICAgYDxkaXY+CiAgICAgICAgICAgICAgICAgICAgIFNvbmRlciB8IFRoZSBOYXNoIHwgQXJ0c3kgMUJSICsgUm9vZnRvcAogICAgICAgICAgICAgICAgIDwvZGl2PmAsCiAgICAgICAgICAgICAgICB7InN0aWNreSI6IHRydWV9CiAgICAgICAgICAgICk7CiAgICAgICAgCiAgICAKICAgICAgICAgICAgdmFyIG1hcmtlcl9hMDIyYTUwYWVmNGY0YWQ5YTgyNjZmZDNlOWRhZGViZiA9IEwubWFya2VyKAogICAgICAgICAgICAgICAgWzQwLjc0NzcxLCAtNzMuOTc1MjhdLAogICAgICAgICAgICAgICAge30KICAgICAgICAgICAgKS5hZGRUbyhtYXBfYTEwMTRiNjFlMWNiNGFjMjkyN2EyYTFjYWU4MzFiZDYpOwogICAgICAgIAogICAgCiAgICAgICAgICAgIHZhciBpY29uX2EyZjJmNTE3NDM1ZDQxOGJhY2IwOGM0NTc1YzY3NTZlID0gTC5Bd2Vzb21lTWFya2Vycy5pY29uKAogICAgICAgICAgICAgICAgeyJleHRyYUNsYXNzZXMiOiAiZmEtcm90YXRlLTAiLCAiaWNvbiI6ICJpbmZvLXNpZ24iLCAiaWNvbkNvbG9yIjogIndoaXRlIiwgIm1hcmtlckNvbG9yIjogImRhcmtibHVlIiwgInByZWZpeCI6ICJnbHlwaGljb24ifQogICAgICAgICAgICApOwogICAgICAgICAgICBtYXJrZXJfYTAyMmE1MGFlZjRmNGFkOWE4MjY2ZmQzZTlkYWRlYmYuc2V0SWNvbihpY29uX2EyZjJmNTE3NDM1ZDQxOGJhY2IwOGM0NTc1YzY3NTZlKTsKICAgICAgICAKICAgIAogICAgICAgICAgICBtYXJrZXJfYTAyMmE1MGFlZjRmNGFkOWE4MjY2ZmQzZTlkYWRlYmYuYmluZFRvb2x0aXAoCiAgICAgICAgICAgICAgICBgPGRpdj4KICAgICAgICAgICAgICAgICAgICAgU29uZGVyIHwgVGhlIE5hc2ggfCBMb3ZlbHkgU3R1ZGlvICsgUm9vZnRvcAogICAgICAgICAgICAgICAgIDwvZGl2PmAsCiAgICAgICAgICAgICAgICB7InN0aWNreSI6IHRydWV9CiAgICAgICAgICAgICk7CiAgICAgICAgCiAgICAKICAgICAgICAgICAgdmFyIG1hcmtlcl83YjY0ZDdhMGQ1MjA0NzJkYTdkZDY1YzdmNjYzNDNlZCA9IEwubWFya2VyKAogICAgICAgICAgICAgICAgWzQwLjc0ODQ1LCAtNzMuOTc0NDZdLAogICAgICAgICAgICAgICAge30KICAgICAgICAgICAgKS5hZGRUbyhtYXBfYTEwMTRiNjFlMWNiNGFjMjkyN2EyYTFjYWU4MzFiZDYpOwogICAgICAgIAogICAgCiAgICAgICAgICAgIHZhciBpY29uXzlkNjU1ZTNiNGE3NDQyZmM5ZGIzMDc4NzI2YjJmYzZmID0gTC5Bd2Vzb21lTWFya2Vycy5pY29uKAogICAgICAgICAgICAgICAgeyJleHRyYUNsYXNzZXMiOiAiZmEtcm90YXRlLTAiLCAiaWNvbiI6ICJpbmZvLXNpZ24iLCAiaWNvbkNvbG9yIjogIndoaXRlIiwgIm1hcmtlckNvbG9yIjogImRhcmtibHVlIiwgInByZWZpeCI6ICJnbHlwaGljb24ifQogICAgICAgICAgICApOwogICAgICAgICAgICBtYXJrZXJfN2I2NGQ3YTBkNTIwNDcyZGE3ZGQ2NWM3ZjY2MzQzZWQuc2V0SWNvbihpY29uXzlkNjU1ZTNiNGE3NDQyZmM5ZGIzMDc4NzI2YjJmYzZmKTsKICAgICAgICAKICAgIAogICAgICAgICAgICBtYXJrZXJfN2I2NGQ3YTBkNTIwNDcyZGE3ZGQ2NWM3ZjY2MzQzZWQuYmluZFRvb2x0aXAoCiAgICAgICAgICAgICAgICBgPGRpdj4KICAgICAgICAgICAgICAgICAgICAgU29uZGVyIHwgVGhlIE5hc2ggfCBCcmlsbGlhbnQgU3R1ZGlvICsgUm9vZnRvcAogICAgICAgICAgICAgICAgIDwvZGl2PmAsCiAgICAgICAgICAgICAgICB7InN0aWNreSI6IHRydWV9CiAgICAgICAgICAgICk7CiAgICAgICAgCiAgICAKICAgICAgICAgICAgdmFyIG1hcmtlcl8yNjIyMmEzNTI3ZGU0N2Y3OTM1ZGRhYjM2MjA5OTAzZCA9IEwubWFya2VyKAogICAgICAgICAgICAgICAgWzQwLjc2MTg4LCAtNzMuOTk2MTZdLAogICAgICAgICAgICAgICAge30KICAgICAgICAgICAgKS5hZGRUbyhtYXBfYTEwMTRiNjFlMWNiNGFjMjkyN2EyYTFjYWU4MzFiZDYpOwogICAgICAgIAogICAgCiAgICAgICAgICAgIHZhciBpY29uX2ExMWYyNTNjZDMyZDQxZTQ4MWRhZWNhZDE3OGUzYTAxID0gTC5Bd2Vzb21lTWFya2Vycy5pY29uKAogICAgICAgICAgICAgICAgeyJleHRyYUNsYXNzZXMiOiAiZmEtcm90YXRlLTAiLCAiaWNvbiI6ICJpbmZvLXNpZ24iLCAiaWNvbkNvbG9yIjogIndoaXRlIiwgIm1hcmtlckNvbG9yIjogImRhcmtibHVlIiwgInByZWZpeCI6ICJnbHlwaGljb24ifQogICAgICAgICAgICApOwogICAgICAgICAgICBtYXJrZXJfMjYyMjJhMzUyN2RlNDdmNzkzNWRkYWIzNjIwOTkwM2Quc2V0SWNvbihpY29uX2ExMWYyNTNjZDMyZDQxZTQ4MWRhZWNhZDE3OGUzYTAxKTsKICAgICAgICAKICAgIAogICAgICAgICAgICBtYXJrZXJfMjYyMjJhMzUyN2RlNDdmNzkzNWRkYWIzNjIwOTkwM2QuYmluZFRvb2x0aXAoCiAgICAgICAgICAgICAgICBgPGRpdj4KICAgICAgICAgICAgICAgICAgICAgU29uZGVyIHwgMTF0aCBBdmUgfCBCcmlnaHQgMUJSICsgR3ltCiAgICAgICAgICAgICAgICAgPC9kaXY+YCwKICAgICAgICAgICAgICAgIHsic3RpY2t5IjogdHJ1ZX0KICAgICAgICAgICAgKTsKICAgICAgICAKICAgIAogICAgICAgICAgICB2YXIgbWFya2VyX2VhYzQyNGQ4MGVlNjQ3ZWQ5NWQzYjY0MzA4NjM3M2NlID0gTC5tYXJrZXIoCiAgICAgICAgICAgICAgICBbNDAuNzYwMzcsIC03My45OTc0NF0sCiAgICAgICAgICAgICAgICB7fQogICAgICAgICAgICApLmFkZFRvKG1hcF9hMTAxNGI2MWUxY2I0YWMyOTI3YTJhMWNhZTgzMWJkNik7CiAgICAgICAgCiAgICAKICAgICAgICAgICAgdmFyIGljb25fNzBhOTYyZTFjNzU5NGEwNTk4NzgwMmNiMGFmNTk5MGIgPSBMLkF3ZXNvbWVNYXJrZXJzLmljb24oCiAgICAgICAgICAgICAgICB7ImV4dHJhQ2xhc3NlcyI6ICJmYS1yb3RhdGUtMCIsICJpY29uIjogImluZm8tc2lnbiIsICJpY29uQ29sb3IiOiAid2hpdGUiLCAibWFya2VyQ29sb3IiOiAiZGFya2JsdWUiLCAicHJlZml4IjogImdseXBoaWNvbiJ9CiAgICAgICAgICAgICk7CiAgICAgICAgICAgIG1hcmtlcl9lYWM0MjRkODBlZTY0N2VkOTVkM2I2NDMwODYzNzNjZS5zZXRJY29uKGljb25fNzBhOTYyZTFjNzU5NGEwNTk4NzgwMmNiMGFmNTk5MGIpOwogICAgICAgIAogICAgCiAgICAgICAgICAgIG1hcmtlcl9lYWM0MjRkODBlZTY0N2VkOTVkM2I2NDMwODYzNzNjZS5iaW5kVG9vbHRpcCgKICAgICAgICAgICAgICAgIGA8ZGl2PgogICAgICAgICAgICAgICAgICAgICBTb25kZXIgfCAxMXRoIEF2ZSB8IENvbnRlbXBvcmFyeSAxQlIgKyBHeW0KICAgICAgICAgICAgICAgICA8L2Rpdj5gLAogICAgICAgICAgICAgICAgeyJzdGlja3kiOiB0cnVlfQogICAgICAgICAgICApOwogICAgICAgIAogICAgCiAgICAgICAgICAgIHZhciBtYXJrZXJfZGIwNWUwN2MyOWU4NDJhZTkxYmI1MmJjZTZmYWFjMDggPSBMLm1hcmtlcigKICAgICAgICAgICAgICAgIFs0MC43NDg4NCwgLTczLjk3NTg5XSwKICAgICAgICAgICAgICAgIHt9CiAgICAgICAgICAgICkuYWRkVG8obWFwX2ExMDE0YjYxZTFjYjRhYzI5MjdhMmExY2FlODMxYmQ2KTsKICAgICAgICAKICAgIAogICAgICAgICAgICB2YXIgaWNvbl8yNjM1NDQ5ZWJhM2U0ZjMwODU2ODgxNmQ2YjU4ZmU5ZCA9IEwuQXdlc29tZU1hcmtlcnMuaWNvbigKICAgICAgICAgICAgICAgIHsiZXh0cmFDbGFzc2VzIjogImZhLXJvdGF0ZS0wIiwgImljb24iOiAiaW5mby1zaWduIiwgImljb25Db2xvciI6ICJ3aGl0ZSIsICJtYXJrZXJDb2xvciI6ICJkYXJrYmx1ZSIsICJwcmVmaXgiOiAiZ2x5cGhpY29uIn0KICAgICAgICAgICAgKTsKICAgICAgICAgICAgbWFya2VyX2RiMDVlMDdjMjllODQyYWU5MWJiNTJiY2U2ZmFhYzA4LnNldEljb24oaWNvbl8yNjM1NDQ5ZWJhM2U0ZjMwODU2ODgxNmQ2YjU4ZmU5ZCk7CiAgICAgICAgCiAgICAKICAgICAgICAgICAgbWFya2VyX2RiMDVlMDdjMjllODQyYWU5MWJiNTJiY2U2ZmFhYzA4LmJpbmRUb29sdGlwKAogICAgICAgICAgICAgICAgYDxkaXY+CiAgICAgICAgICAgICAgICAgICAgIFNvbmRlciB8IFRoZSBOYXNoIHwgUHJpc3RpbmUgU3R1ZGlvICsgR3ltCiAgICAgICAgICAgICAgICAgPC9kaXY+YCwKICAgICAgICAgICAgICAgIHsic3RpY2t5IjogdHJ1ZX0KICAgICAgICAgICAgKTsKICAgICAgICAKICAgIAogICAgICAgICAgICB2YXIgbWFya2VyX2ZlN2ZlN2FhZjRiYzRiYmVhZjZjNjExMDA4MDQ1NjI2ID0gTC5tYXJrZXIoCiAgICAgICAgICAgICAgICBbNDAuNzYwNzksIC03My45OTgwN10sCiAgICAgICAgICAgICAgICB7fQogICAgICAgICAgICApLmFkZFRvKG1hcF9hMTAxNGI2MWUxY2I0YWMyOTI3YTJhMWNhZTgzMWJkNik7CiAgICAgICAgCiAgICAKICAgICAgICAgICAgdmFyIGljb25fNjJmMmEwYWI1NzJkNDQzYWIxZjQ5YzBiOWFhNTI0Y2EgPSBMLkF3ZXNvbWVNYXJrZXJzLmljb24oCiAgICAgICAgICAgICAgICB7ImV4dHJhQ2xhc3NlcyI6ICJmYS1yb3RhdGUtMCIsICJpY29uIjogImluZm8tc2lnbiIsICJpY29uQ29sb3IiOiAid2hpdGUiLCAibWFya2VyQ29sb3IiOiAiZGFya2JsdWUiLCAicHJlZml4IjogImdseXBoaWNvbiJ9CiAgICAgICAgICAgICk7CiAgICAgICAgICAgIG1hcmtlcl9mZTdmZTdhYWY0YmM0YmJlYWY2YzYxMTAwODA0NTYyNi5zZXRJY29uKGljb25fNjJmMmEwYWI1NzJkNDQzYWIxZjQ5YzBiOWFhNTI0Y2EpOwogICAgICAgIAogICAgCiAgICAgICAgICAgIG1hcmtlcl9mZTdmZTdhYWY0YmM0YmJlYWY2YzYxMTAwODA0NTYyNi5iaW5kVG9vbHRpcCgKICAgICAgICAgICAgICAgIGA8ZGl2PgogICAgICAgICAgICAgICAgICAgICBTdW5ueSAxQlIgaW4gSGVsbCdzIEtpdGNoZW4gYnkgU29uZGVyCiAgICAgICAgICAgICAgICAgPC9kaXY+YCwKICAgICAgICAgICAgICAgIHsic3RpY2t5IjogdHJ1ZX0KICAgICAgICAgICAgKTsKICAgICAgICAKICAgIAogICAgICAgICAgICB2YXIgbWFya2VyXzVmM2NmOGM0ZTI4MDQ1N2VhNzczNTRkNjFjYjZmMjJhID0gTC5tYXJrZXIoCiAgICAgICAgICAgICAgICBbNDAuNzQ4OTYsIC03My45NzQ3MTk5OTk5OTk5OV0sCiAgICAgICAgICAgICAgICB7fQogICAgICAgICAgICApLmFkZFRvKG1hcF9hMTAxNGI2MWUxY2I0YWMyOTI3YTJhMWNhZTgzMWJkNik7CiAgICAgICAgCiAgICAKICAgICAgICAgICAgdmFyIGljb25fYzFhM2Y4NzI0NGJkNGE0OGI5MWUwZmFjOTQ1MWQ4YWQgPSBMLkF3ZXNvbWVNYXJrZXJzLmljb24oCiAgICAgICAgICAgICAgICB7ImV4dHJhQ2xhc3NlcyI6ICJmYS1yb3RhdGUtMCIsICJpY29uIjogImluZm8tc2lnbiIsICJpY29uQ29sb3IiOiAid2hpdGUiLCAibWFya2VyQ29sb3IiOiAiZGFya2JsdWUiLCAicHJlZml4IjogImdseXBoaWNvbiJ9CiAgICAgICAgICAgICk7CiAgICAgICAgICAgIG1hcmtlcl81ZjNjZjhjNGUyODA0NTdlYTc3MzU0ZDYxY2I2ZjIyYS5zZXRJY29uKGljb25fYzFhM2Y4NzI0NGJkNGE0OGI5MWUwZmFjOTQ1MWQ4YWQpOwogICAgICAgIAogICAgCiAgICAgICAgICAgIG1hcmtlcl81ZjNjZjhjNGUyODA0NTdlYTc3MzU0ZDYxY2I2ZjIyYS5iaW5kVG9vbHRpcCgKICAgICAgICAgICAgICAgIGA8ZGl2PgogICAgICAgICAgICAgICAgICAgICBTb25kZXIgfCBUaGUgTmFzaCB8IEFpcnkgU3R1ZGlvICsgRml0bmVzcyBDZW50ZXIKICAgICAgICAgICAgICAgICA8L2Rpdj5gLAogICAgICAgICAgICAgICAgeyJzdGlja3kiOiB0cnVlfQogICAgICAgICAgICApOwogICAgICAgIAogICAgCiAgICAgICAgICAgIHZhciBtYXJrZXJfYjIyMmQxMTUwZWM3NDQyNzk4NzkwYzRmMTk3MTFkZWEgPSBMLm1hcmtlcigKICAgICAgICAgICAgICAgIFs0MC43NDczNzAwMDAwMDAwMDQsIC03My45NzQyXSwKICAgICAgICAgICAgICAgIHt9CiAgICAgICAgICAgICkuYWRkVG8obWFwX2ExMDE0YjYxZTFjYjRhYzI5MjdhMmExY2FlODMxYmQ2KTsKICAgICAgICAKICAgIAogICAgICAgICAgICB2YXIgaWNvbl9iY2E4ODQ5NzllZDM0N2FkYWU3ZGQwNmI1MzExMGU1MCA9IEwuQXdlc29tZU1hcmtlcnMuaWNvbigKICAgICAgICAgICAgICAgIHsiZXh0cmFDbGFzc2VzIjogImZhLXJvdGF0ZS0wIiwgImljb24iOiAiaW5mby1zaWduIiwgImljb25Db2xvciI6ICJ3aGl0ZSIsICJtYXJrZXJDb2xvciI6ICJkYXJrYmx1ZSIsICJwcmVmaXgiOiAiZ2x5cGhpY29uIn0KICAgICAgICAgICAgKTsKICAgICAgICAgICAgbWFya2VyX2IyMjJkMTE1MGVjNzQ0Mjc5ODc5MGM0ZjE5NzExZGVhLnNldEljb24oaWNvbl9iY2E4ODQ5NzllZDM0N2FkYWU3ZGQwNmI1MzExMGU1MCk7CiAgICAgICAgCiAgICAKICAgICAgICAgICAgbWFya2VyX2IyMjJkMTE1MGVjNzQ0Mjc5ODc5MGM0ZjE5NzExZGVhLmJpbmRUb29sdGlwKAogICAgICAgICAgICAgICAgYDxkaXY+CiAgICAgICAgICAgICAgICAgICAgIFNvbmRlciB8IFRoZSBOYXNoIHwgQm9oZW1pYW4gU3R1ZGlvICsgUm9vZnRvcAogICAgICAgICAgICAgICAgIDwvZGl2PmAsCiAgICAgICAgICAgICAgICB7InN0aWNreSI6IHRydWV9CiAgICAgICAgICAgICk7CiAgICAgICAgCiAgICAKICAgICAgICAgICAgdmFyIG1hcmtlcl81NjY0ZTMwMDMxNzg0MmU5OTg3YmYwNmVmNjc5Yzg0MSA9IEwubWFya2VyKAogICAgICAgICAgICAgICAgWzQwLjc0ODQ1OTk5OTk5OTk5NCwgLTczLjk3NDQ4XSwKICAgICAgICAgICAgICAgIHt9CiAgICAgICAgICAgICkuYWRkVG8obWFwX2ExMDE0YjYxZTFjYjRhYzI5MjdhMmExY2FlODMxYmQ2KTsKICAgICAgICAKICAgIAogICAgICAgICAgICB2YXIgaWNvbl9kMWQ1NTM2N2Q4Mzk0Y2I4OGZjMmIzYWYxMzY1MTdlYyA9IEwuQXdlc29tZU1hcmtlcnMuaWNvbigKICAgICAgICAgICAgICAgIHsiZXh0cmFDbGFzc2VzIjogImZhLXJvdGF0ZS0wIiwgImljb24iOiAiaW5mby1zaWduIiwgImljb25Db2xvciI6ICJ3aGl0ZSIsICJtYXJrZXJDb2xvciI6ICJkYXJrYmx1ZSIsICJwcmVmaXgiOiAiZ2x5cGhpY29uIn0KICAgICAgICAgICAgKTsKICAgICAgICAgICAgbWFya2VyXzU2NjRlMzAwMzE3ODQyZTk5ODdiZjA2ZWY2NzljODQxLnNldEljb24oaWNvbl9kMWQ1NTM2N2Q4Mzk0Y2I4OGZjMmIzYWYxMzY1MTdlYyk7CiAgICAgICAgCiAgICAKICAgICAgICAgICAgbWFya2VyXzU2NjRlMzAwMzE3ODQyZTk5ODdiZjA2ZWY2NzljODQxLmJpbmRUb29sdGlwKAogICAgICAgICAgICAgICAgYDxkaXY+CiAgICAgICAgICAgICAgICAgICAgIFNvbmRlciB8IFRoZSBOYXNoIHwgU2ltcGxlIFN0dWRpbyArIEd5bQogICAgICAgICAgICAgICAgIDwvZGl2PmAsCiAgICAgICAgICAgICAgICB7InN0aWNreSI6IHRydWV9CiAgICAgICAgICAgICk7CiAgICAgICAgCiAgICAKICAgICAgICAgICAgdmFyIG1hcmtlcl9iNmQ2MjUxNzU2Y2I0YTI1YmRiYWZjNDJkZTgyNDg1NCA9IEwubWFya2VyKAogICAgICAgICAgICAgICAgWzQwLjc0ODcwOTk5OTk5OTk5NiwgLTczLjk3NDQ2XSwKICAgICAgICAgICAgICAgIHt9CiAgICAgICAgICAgICkuYWRkVG8obWFwX2ExMDE0YjYxZTFjYjRhYzI5MjdhMmExY2FlODMxYmQ2KTsKICAgICAgICAKICAgIAogICAgICAgICAgICB2YXIgaWNvbl8xM2M4MWU1MWQzNWI0MzNjODMyYTc5YzRmNTY3NzdhYiA9IEwuQXdlc29tZU1hcmtlcnMuaWNvbigKICAgICAgICAgICAgICAgIHsiZXh0cmFDbGFzc2VzIjogImZhLXJvdGF0ZS0wIiwgImljb24iOiAiaW5mby1zaWduIiwgImljb25Db2xvciI6ICJ3aGl0ZSIsICJtYXJrZXJDb2xvciI6ICJkYXJrYmx1ZSIsICJwcmVmaXgiOiAiZ2x5cGhpY29uIn0KICAgICAgICAgICAgKTsKICAgICAgICAgICAgbWFya2VyX2I2ZDYyNTE3NTZjYjRhMjViZGJhZmM0MmRlODI0ODU0LnNldEljb24oaWNvbl8xM2M4MWU1MWQzNWI0MzNjODMyYTc5YzRmNTY3NzdhYik7CiAgICAgICAgCiAgICAKICAgICAgICAgICAgbWFya2VyX2I2ZDYyNTE3NTZjYjRhMjViZGJhZmM0MmRlODI0ODU0LmJpbmRUb29sdGlwKAogICAgICAgICAgICAgICAgYDxkaXY+CiAgICAgICAgICAgICAgICAgICAgIFNvbmRlciB8IFRoZSBOYXNoIHwgQ3JlYXRpdmUgMUJSICsgR3ltCiAgICAgICAgICAgICAgICAgPC9kaXY+YCwKICAgICAgICAgICAgICAgIHsic3RpY2t5IjogdHJ1ZX0KICAgICAgICAgICAgKTsKICAgICAgICAKICAgIAogICAgICAgICAgICB2YXIgbWFya2VyX2EzZjU0ZGI3MjVhMTQ2MWVhZTZhYjMyOTY4NWRkN2QxID0gTC5tYXJrZXIoCiAgICAgICAgICAgICAgICBbNDAuNzQ4NDU5OTk5OTk5OTk0LCAtNzMuOTc2MTA5OTk5OTk5OTldLAogICAgICAgICAgICAgICAge30KICAgICAgICAgICAgKS5hZGRUbyhtYXBfYTEwMTRiNjFlMWNiNGFjMjkyN2EyYTFjYWU4MzFiZDYpOwogICAgICAgIAogICAgCiAgICAgICAgICAgIHZhciBpY29uXzg2M2RhOGRmYzZmZDRlMzdiZDI0YTZlNTRiYmU5MDVkID0gTC5Bd2Vzb21lTWFya2Vycy5pY29uKAogICAgICAgICAgICAgICAgeyJleHRyYUNsYXNzZXMiOiAiZmEtcm90YXRlLTAiLCAiaWNvbiI6ICJpbmZvLXNpZ24iLCAiaWNvbkNvbG9yIjogIndoaXRlIiwgIm1hcmtlckNvbG9yIjogImRhcmtibHVlIiwgInByZWZpeCI6ICJnbHlwaGljb24ifQogICAgICAgICAgICApOwogICAgICAgICAgICBtYXJrZXJfYTNmNTRkYjcyNWExNDYxZWFlNmFiMzI5Njg1ZGQ3ZDEuc2V0SWNvbihpY29uXzg2M2RhOGRmYzZmZDRlMzdiZDI0YTZlNTRiYmU5MDVkKTsKICAgICAgICAKICAgIAogICAgICAgICAgICBtYXJrZXJfYTNmNTRkYjcyNWExNDYxZWFlNmFiMzI5Njg1ZGQ3ZDEuYmluZFRvb2x0aXAoCiAgICAgICAgICAgICAgICBgPGRpdj4KICAgICAgICAgICAgICAgICAgICAgU29uZGVyIHwgVGhlIE5hc2ggfCBCb2hlbWlhbiAxQlIgKyBSb29mdG9wCiAgICAgICAgICAgICAgICAgPC9kaXY+YCwKICAgICAgICAgICAgICAgIHsic3RpY2t5IjogdHJ1ZX0KICAgICAgICAgICAgKTsKICAgICAgICAKICAgIAogICAgICAgICAgICB2YXIgbWFya2VyXzkzOWNhZTE1NjNhYjQzZmI5NDM1Y2EzMjMyY2M5ODk0ID0gTC5tYXJrZXIoCiAgICAgICAgICAgICAgICBbNDAuNzQ5MDksIC03My45NzU4NV0sCiAgICAgICAgICAgICAgICB7fQogICAgICAgICAgICApLmFkZFRvKG1hcF9hMTAxNGI2MWUxY2I0YWMyOTI3YTJhMWNhZTgzMWJkNik7CiAgICAgICAgCiAgICAKICAgICAgICAgICAgdmFyIGljb25fNzlhZGFhZTkzNTY4NGIxZWExOWQzZDNlMjYzNDM0YTMgPSBMLkF3ZXNvbWVNYXJrZXJzLmljb24oCiAgICAgICAgICAgICAgICB7ImV4dHJhQ2xhc3NlcyI6ICJmYS1yb3RhdGUtMCIsICJpY29uIjogImluZm8tc2lnbiIsICJpY29uQ29sb3IiOiAid2hpdGUiLCAibWFya2VyQ29sb3IiOiAiZGFya2JsdWUiLCAicHJlZml4IjogImdseXBoaWNvbiJ9CiAgICAgICAgICAgICk7CiAgICAgICAgICAgIG1hcmtlcl85MzljYWUxNTYzYWI0M2ZiOTQzNWNhMzIzMmNjOTg5NC5zZXRJY29uKGljb25fNzlhZGFhZTkzNTY4NGIxZWExOWQzZDNlMjYzNDM0YTMpOwogICAgICAgIAogICAgCiAgICAgICAgICAgIG1hcmtlcl85MzljYWUxNTYzYWI0M2ZiOTQzNWNhMzIzMmNjOTg5NC5iaW5kVG9vbHRpcCgKICAgICAgICAgICAgICAgIGA8ZGl2PgogICAgICAgICAgICAgICAgICAgICBTb25kZXIgfCBUaGUgTmFzaCB8IENoYXJtaW5nIFN0dWRpbyArIEd5bQogICAgICAgICAgICAgICAgIDwvZGl2PmAsCiAgICAgICAgICAgICAgICB7InN0aWNreSI6IHRydWV9CiAgICAgICAgICAgICk7CiAgICAgICAgCiAgICAKICAgICAgICAgICAgdmFyIG1hcmtlcl8yN2Q3NTRjMzA5MDQ0ZDBiOTQ4MTEwNjZmMzhmNmNmMiA9IEwubWFya2VyKAogICAgICAgICAgICAgICAgWzQwLjc0ODQ1LCAtNzMuOTc0NThdLAogICAgICAgICAgICAgICAge30KICAgICAgICAgICAgKS5hZGRUbyhtYXBfYTEwMTRiNjFlMWNiNGFjMjkyN2EyYTFjYWU4MzFiZDYpOwogICAgICAgIAogICAgCiAgICAgICAgICAgIHZhciBpY29uX2E5MWI3ODZhMmFhMjQxYTVhODg5MzA4ZDY2NTA4ODY1ID0gTC5Bd2Vzb21lTWFya2Vycy5pY29uKAogICAgICAgICAgICAgICAgeyJleHRyYUNsYXNzZXMiOiAiZmEtcm90YXRlLTAiLCAiaWNvbiI6ICJpbmZvLXNpZ24iLCAiaWNvbkNvbG9yIjogIndoaXRlIiwgIm1hcmtlckNvbG9yIjogImRhcmtibHVlIiwgInByZWZpeCI6ICJnbHlwaGljb24ifQogICAgICAgICAgICApOwogICAgICAgICAgICBtYXJrZXJfMjdkNzU0YzMwOTA0NGQwYjk0ODExMDY2ZjM4ZjZjZjIuc2V0SWNvbihpY29uX2E5MWI3ODZhMmFhMjQxYTVhODg5MzA4ZDY2NTA4ODY1KTsKICAgICAgICAKICAgIAogICAgICAgICAgICBtYXJrZXJfMjdkNzU0YzMwOTA0NGQwYjk0ODExMDY2ZjM4ZjZjZjIuYmluZFRvb2x0aXAoCiAgICAgICAgICAgICAgICBgPGRpdj4KICAgICAgICAgICAgICAgICAgICAgU29uZGVyIHwgVGhlIE5hc2ggfCBQb2xpc2hlZCBTdHVkaW8gKyBSb29mdG9wCiAgICAgICAgICAgICAgICAgPC9kaXY+YCwKICAgICAgICAgICAgICAgIHsic3RpY2t5IjogdHJ1ZX0KICAgICAgICAgICAgKTsKICAgICAgICAKICAgIAogICAgICAgICAgICB2YXIgbWFya2VyX2RiZmMxMGU1YTAyZTQwYzdhZmQzYzhhNGEzZTA4OWI5ID0gTC5tYXJrZXIoCiAgICAgICAgICAgICAgICBbNDAuNzA3Njc5OTk5OTk5OTk2LCAtNzQuMDA2MDMwMDAwMDAwMDFdLAogICAgICAgICAgICAgICAge30KICAgICAgICAgICAgKS5hZGRUbyhtYXBfYTEwMTRiNjFlMWNiNGFjMjkyN2EyYTFjYWU4MzFiZDYpOwogICAgICAgIAogICAgCiAgICAgICAgICAgIHZhciBpY29uXzA5MGQ4MjNmMTczZDRlZTg4NTU2OWFlNDY4ODNiZThkID0gTC5Bd2Vzb21lTWFya2Vycy5pY29uKAogICAgICAgICAgICAgICAgeyJleHRyYUNsYXNzZXMiOiAiZmEtcm90YXRlLTAiLCAiaWNvbiI6ICJpbmZvLXNpZ24iLCAiaWNvbkNvbG9yIjogIndoaXRlIiwgIm1hcmtlckNvbG9yIjogImRhcmtibHVlIiwgInByZWZpeCI6ICJnbHlwaGljb24ifQogICAgICAgICAgICApOwogICAgICAgICAgICBtYXJrZXJfZGJmYzEwZTVhMDJlNDBjN2FmZDNjOGE0YTNlMDg5Yjkuc2V0SWNvbihpY29uXzA5MGQ4MjNmMTczZDRlZTg4NTU2OWFlNDY4ODNiZThkKTsKICAgICAgICAKICAgIAogICAgICAgICAgICBtYXJrZXJfZGJmYzEwZTVhMDJlNDBjN2FmZDNjOGE0YTNlMDg5YjkuYmluZFRvb2x0aXAoCiAgICAgICAgICAgICAgICBgPGRpdj4KICAgICAgICAgICAgICAgICAgICAgU29uZGVyIHwgMTgwIFdhdGVyIHwgQ2hpYyBTdHVkaW8gKyBSb29mdG9wCiAgICAgICAgICAgICAgICAgPC9kaXY+YCwKICAgICAgICAgICAgICAgIHsic3RpY2t5IjogdHJ1ZX0KICAgICAgICAgICAgKTsKICAgICAgICAKICAgIAogICAgICAgICAgICB2YXIgbWFya2VyXzFlYTJkOTlmNDY1ZTQzMjJiYmNhYWFhNTUyZjNjMmViID0gTC5tYXJrZXIoCiAgICAgICAgICAgICAgICBbNDAuNzA1ODQsIC03NC4wMTA2XSwKICAgICAgICAgICAgICAgIHt9CiAgICAgICAgICAgICkuYWRkVG8obWFwX2ExMDE0YjYxZTFjYjRhYzI5MjdhMmExY2FlODMxYmQ2KTsKICAgICAgICAKICAgIAogICAgICAgICAgICB2YXIgaWNvbl9lZWUyODcyMWJiYmY0MmRlYmNhZjQwNTEyZWI5MDc0NyA9IEwuQXdlc29tZU1hcmtlcnMuaWNvbigKICAgICAgICAgICAgICAgIHsiZXh0cmFDbGFzc2VzIjogImZhLXJvdGF0ZS0wIiwgImljb24iOiAiaW5mby1zaWduIiwgImljb25Db2xvciI6ICJ3aGl0ZSIsICJtYXJrZXJDb2xvciI6ICJkYXJrYmx1ZSIsICJwcmVmaXgiOiAiZ2x5cGhpY29uIn0KICAgICAgICAgICAgKTsKICAgICAgICAgICAgbWFya2VyXzFlYTJkOTlmNDY1ZTQzMjJiYmNhYWFhNTUyZjNjMmViLnNldEljb24oaWNvbl9lZWUyODcyMWJiYmY0MmRlYmNhZjQwNTEyZWI5MDc0Nyk7CiAgICAgICAgCiAgICAKICAgICAgICAgICAgbWFya2VyXzFlYTJkOTlmNDY1ZTQzMjJiYmNhYWFhNTUyZjNjMmViLmJpbmRUb29sdGlwKAogICAgICAgICAgICAgICAgYDxkaXY+CiAgICAgICAgICAgICAgICAgICAgIFNvbmRlciB8IFN0b2NrIEV4Y2hhbmdlIHwgV2VsY29taW5nIDFCUiArIFNvZmEgQmVkCiAgICAgICAgICAgICAgICAgPC9kaXY+YCwKICAgICAgICAgICAgICAgIHsic3RpY2t5IjogdHJ1ZX0KICAgICAgICAgICAgKTsKICAgICAgICAKICAgIAogICAgICAgICAgICB2YXIgbWFya2VyXzQ4OGY5YzA1NjllMDQyNjk5NGIzNmI3OWY0ZGEzMThjID0gTC5tYXJrZXIoCiAgICAgICAgICAgICAgICBbNDAuNzA2MDgsIC03NC4wMTJdLAogICAgICAgICAgICAgICAge30KICAgICAgICAgICAgKS5hZGRUbyhtYXBfYTEwMTRiNjFlMWNiNGFjMjkyN2EyYTFjYWU4MzFiZDYpOwogICAgICAgIAogICAgCiAgICAgICAgICAgIHZhciBpY29uXzA4MTViNjdiOGQ0YjQ3MWE4ZjU0MGI4MGJiNWYxM2JjID0gTC5Bd2Vzb21lTWFya2Vycy5pY29uKAogICAgICAgICAgICAgICAgeyJleHRyYUNsYXNzZXMiOiAiZmEtcm90YXRlLTAiLCAiaWNvbiI6ICJpbmZvLXNpZ24iLCAiaWNvbkNvbG9yIjogIndoaXRlIiwgIm1hcmtlckNvbG9yIjogImRhcmtibHVlIiwgInByZWZpeCI6ICJnbHlwaGljb24ifQogICAgICAgICAgICApOwogICAgICAgICAgICBtYXJrZXJfNDg4ZjljMDU2OWUwNDI2OTk0YjM2Yjc5ZjRkYTMxOGMuc2V0SWNvbihpY29uXzA4MTViNjdiOGQ0YjQ3MWE4ZjU0MGI4MGJiNWYxM2JjKTsKICAgICAgICAKICAgIAogICAgICAgICAgICBtYXJrZXJfNDg4ZjljMDU2OWUwNDI2OTk0YjM2Yjc5ZjRkYTMxOGMuYmluZFRvb2x0aXAoCiAgICAgICAgICAgICAgICBgPGRpdj4KICAgICAgICAgICAgICAgICAgICAgU29uZGVyIHwgU3RvY2sgRXhjaGFuZ2UgfCBBbWF6aW5nIDFCUiArIEtpdGNoZW4KICAgICAgICAgICAgICAgICA8L2Rpdj5gLAogICAgICAgICAgICAgICAgeyJzdGlja3kiOiB0cnVlfQogICAgICAgICAgICApOwogICAgICAgIAogICAgCiAgICAgICAgICAgIHZhciBtYXJrZXJfN2I0NDEyN2IwY2M3NDYxNGE5ZDNhYTQwMDc0ODMyOTQgPSBMLm1hcmtlcigKICAgICAgICAgICAgICAgIFs0MC43MDY1Nzk5OTk5OTk5OTUsIC03NC4wMTAzNTk5OTk5OTk5OV0sCiAgICAgICAgICAgICAgICB7fQogICAgICAgICAgICApLmFkZFRvKG1hcF9hMTAxNGI2MWUxY2I0YWMyOTI3YTJhMWNhZTgzMWJkNik7CiAgICAgICAgCiAgICAKICAgICAgICAgICAgdmFyIGljb25fMmVjM2JkNDZkNmM0NDQ1NThjN2E0MDMyZjZjYWRjZWQgPSBMLkF3ZXNvbWVNYXJrZXJzLmljb24oCiAgICAgICAgICAgICAgICB7ImV4dHJhQ2xhc3NlcyI6ICJmYS1yb3RhdGUtMCIsICJpY29uIjogImluZm8tc2lnbiIsICJpY29uQ29sb3IiOiAid2hpdGUiLCAibWFya2VyQ29sb3IiOiAiZGFya2JsdWUiLCAicHJlZml4IjogImdseXBoaWNvbiJ9CiAgICAgICAgICAgICk7CiAgICAgICAgICAgIG1hcmtlcl83YjQ0MTI3YjBjYzc0NjE0YTlkM2FhNDAwNzQ4MzI5NC5zZXRJY29uKGljb25fMmVjM2JkNDZkNmM0NDQ1NThjN2E0MDMyZjZjYWRjZWQpOwogICAgICAgIAogICAgCiAgICAgICAgICAgIG1hcmtlcl83YjQ0MTI3YjBjYzc0NjE0YTlkM2FhNDAwNzQ4MzI5NC5iaW5kVG9vbHRpcCgKICAgICAgICAgICAgICAgIGA8ZGl2PgogICAgICAgICAgICAgICAgICAgICBTb25kZXIgfCBXYWxsIFN0cmVldCB8IFF1YWludCBTdHVkaW8gKyBLaXRjaGVuCiAgICAgICAgICAgICAgICAgPC9kaXY+YCwKICAgICAgICAgICAgICAgIHsic3RpY2t5IjogdHJ1ZX0KICAgICAgICAgICAgKTsKICAgICAgICAKICAgIAogICAgICAgICAgICB2YXIgbWFya2VyX2FiM2M3MzUwYWRlOTQ1Nzk5ZDQ3M2I4OGE1NzBmMmM3ID0gTC5tYXJrZXIoCiAgICAgICAgICAgICAgICBbNDAuNzA2MjMsIC03NC4wMTE5ODAwMDAwMDAwMV0sCiAgICAgICAgICAgICAgICB7fQogICAgICAgICAgICApLmFkZFRvKG1hcF9hMTAxNGI2MWUxY2I0YWMyOTI3YTJhMWNhZTgzMWJkNik7CiAgICAgICAgCiAgICAKICAgICAgICAgICAgdmFyIGljb25fMTk3NDY4NzQwNjc5NDgyNjg3ZGVmNjQzMWNlMGVjNWMgPSBMLkF3ZXNvbWVNYXJrZXJzLmljb24oCiAgICAgICAgICAgICAgICB7ImV4dHJhQ2xhc3NlcyI6ICJmYS1yb3RhdGUtMCIsICJpY29uIjogImluZm8tc2lnbiIsICJpY29uQ29sb3IiOiAid2hpdGUiLCAibWFya2VyQ29sb3IiOiAiZGFya2JsdWUiLCAicHJlZml4IjogImdseXBoaWNvbiJ9CiAgICAgICAgICAgICk7CiAgICAgICAgICAgIG1hcmtlcl9hYjNjNzM1MGFkZTk0NTc5OWQ0NzNiODhhNTcwZjJjNy5zZXRJY29uKGljb25fMTk3NDY4NzQwNjc5NDgyNjg3ZGVmNjQzMWNlMGVjNWMpOwogICAgICAgIAogICAgCiAgICAgICAgICAgIG1hcmtlcl9hYjNjNzM1MGFkZTk0NTc5OWQ0NzNiODhhNTcwZjJjNy5iaW5kVG9vbHRpcCgKICAgICAgICAgICAgICAgIGA8ZGl2PgogICAgICAgICAgICAgICAgICAgICBTb25kZXIgfCBTdG9jayBFeGNoYW5nZSB8IFBlYWNlZnVsIDFCUiArIFNvZmEgQmVkCiAgICAgICAgICAgICAgICAgPC9kaXY+YCwKICAgICAgICAgICAgICAgIHsic3RpY2t5IjogdHJ1ZX0KICAgICAgICAgICAgKTsKICAgICAgICAKICAgIAogICAgICAgICAgICB2YXIgbWFya2VyXzA5ODQzNmMzN2EyYjRkZjJhNTA2YmMwZDIzNTExMmU3ID0gTC5tYXJrZXIoCiAgICAgICAgICAgICAgICBbNDAuNzA1NjQsIC03NC4wMTE2Ml0sCiAgICAgICAgICAgICAgICB7fQogICAgICAgICAgICApLmFkZFRvKG1hcF9hMTAxNGI2MWUxY2I0YWMyOTI3YTJhMWNhZTgzMWJkNik7CiAgICAgICAgCiAgICAKICAgICAgICAgICAgdmFyIGljb25fY2ZkMzI3N2FhM2E4NDhkOTkxMDEzYzA4MWNmNDM0ZjggPSBMLkF3ZXNvbWVNYXJrZXJzLmljb24oCiAgICAgICAgICAgICAgICB7ImV4dHJhQ2xhc3NlcyI6ICJmYS1yb3RhdGUtMCIsICJpY29uIjogImluZm8tc2lnbiIsICJpY29uQ29sb3IiOiAid2hpdGUiLCAibWFya2VyQ29sb3IiOiAiZGFya2JsdWUiLCAicHJlZml4IjogImdseXBoaWNvbiJ9CiAgICAgICAgICAgICk7CiAgICAgICAgICAgIG1hcmtlcl8wOTg0MzZjMzdhMmI0ZGYyYTUwNmJjMGQyMzUxMTJlNy5zZXRJY29uKGljb25fY2ZkMzI3N2FhM2E4NDhkOTkxMDEzYzA4MWNmNDM0ZjgpOwogICAgICAgIAogICAgCiAgICAgICAgICAgIG1hcmtlcl8wOTg0MzZjMzdhMmI0ZGYyYTUwNmJjMGQyMzUxMTJlNy5iaW5kVG9vbHRpcCgKICAgICAgICAgICAgICAgIGA8ZGl2PgogICAgICAgICAgICAgICAgICAgICBTb25kZXIgfCBXYWxsIFN0cmVldCB8IFF1YWludCBTdHVkaW8gKyBMYXVuZHJ5CiAgICAgICAgICAgICAgICAgPC9kaXY+YCwKICAgICAgICAgICAgICAgIHsic3RpY2t5IjogdHJ1ZX0KICAgICAgICAgICAgKTsKICAgICAgICAKICAgIAogICAgICAgICAgICB2YXIgbWFya2VyXzcwZTk5ZTM4MDM0ZTQ3NjA5YzVmNWQ2ZDNhYmQ3OTIyID0gTC5tYXJrZXIoCiAgICAgICAgICAgICAgICBbNDAuNzA1OCwgLTc0LjAxMjFdLAogICAgICAgICAgICAgICAge30KICAgICAgICAgICAgKS5hZGRUbyhtYXBfYTEwMTRiNjFlMWNiNGFjMjkyN2EyYTFjYWU4MzFiZDYpOwogICAgICAgIAogICAgCiAgICAgICAgICAgIHZhciBpY29uXzM5NmMxM2ZkYWNkYTQ3Y2FiNTE0ODJhYzU1YThkOWUyID0gTC5Bd2Vzb21lTWFya2Vycy5pY29uKAogICAgICAgICAgICAgICAgeyJleHRyYUNsYXNzZXMiOiAiZmEtcm90YXRlLTAiLCAiaWNvbiI6ICJpbmZvLXNpZ24iLCAiaWNvbkNvbG9yIjogIndoaXRlIiwgIm1hcmtlckNvbG9yIjogImRhcmtibHVlIiwgInByZWZpeCI6ICJnbHlwaGljb24ifQogICAgICAgICAgICApOwogICAgICAgICAgICBtYXJrZXJfNzBlOTllMzgwMzRlNDc2MDljNWY1ZDZkM2FiZDc5MjIuc2V0SWNvbihpY29uXzM5NmMxM2ZkYWNkYTQ3Y2FiNTE0ODJhYzU1YThkOWUyKTsKICAgICAgICAKICAgIAogICAgICAgICAgICBtYXJrZXJfNzBlOTllMzgwMzRlNDc2MDljNWY1ZDZkM2FiZDc5MjIuYmluZFRvb2x0aXAoCiAgICAgICAgICAgICAgICBgPGRpdj4KICAgICAgICAgICAgICAgICAgICAgU29uZGVyIHwgU3RvY2sgRXhjaGFuZ2UgfCBQcmVtaWVyIDJCUiArIExhdW5kcnkKICAgICAgICAgICAgICAgICA8L2Rpdj5gLAogICAgICAgICAgICAgICAgeyJzdGlja3kiOiB0cnVlfQogICAgICAgICAgICApOwogICAgICAgIAogICAgCiAgICAgICAgICAgIHZhciBtYXJrZXJfYjliOGUwOTQ3Mjg3NDQwOWJmYzg3ZjRlN2ZjZGE4MWQgPSBMLm1hcmtlcigKICAgICAgICAgICAgICAgIFs0MC42ODUxNDAwMDAwMDAwMDQsIC03My45NTk3Nl0sCiAgICAgICAgICAgICAgICB7fQogICAgICAgICAgICApLmFkZFRvKG1hcF9hMTAxNGI2MWUxY2I0YWMyOTI3YTJhMWNhZTgzMWJkNik7CiAgICAgICAgCiAgICAKICAgICAgICAgICAgdmFyIGljb25fMDIwYTFkYjAxYzY1NGVjMDhiZDgxZjI0OGRlNDIxN2EgPSBMLkF3ZXNvbWVNYXJrZXJzLmljb24oCiAgICAgICAgICAgICAgICB7ImV4dHJhQ2xhc3NlcyI6ICJmYS1yb3RhdGUtMCIsICJpY29uIjogImluZm8tc2lnbiIsICJpY29uQ29sb3IiOiAid2hpdGUiLCAibWFya2VyQ29sb3IiOiAiZGFya3B1cnBsZSIsICJwcmVmaXgiOiAiZ2x5cGhpY29uIn0KICAgICAgICAgICAgKTsKICAgICAgICAgICAgbWFya2VyX2I5YjhlMDk0NzI4NzQ0MDliZmM4N2Y0ZTdmY2RhODFkLnNldEljb24oaWNvbl8wMjBhMWRiMDFjNjU0ZWMwOGJkODFmMjQ4ZGU0MjE3YSk7CiAgICAgICAgCiAgICAKICAgICAgICAgICAgbWFya2VyX2I5YjhlMDk0NzI4NzQ0MDliZmM4N2Y0ZTdmY2RhODFkLmJpbmRUb29sdGlwKAogICAgICAgICAgICAgICAgYDxkaXY+CiAgICAgICAgICAgICAgICAgICAgIENvenkgRW50aXJlIEZsb29yIG9mIEJyb3duc3RvbmUKICAgICAgICAgICAgICAgICA8L2Rpdj5gLAogICAgICAgICAgICAgICAgeyJzdGlja3kiOiB0cnVlfQogICAgICAgICAgICApOwogICAgICAgIAogICAgCiAgICAgICAgICAgIHZhciBtYXJrZXJfZGJjYzk0MTlmNzZmNGNkZTg2MDczNDNiZmMxZDRkZGYgPSBMLm1hcmtlcigKICAgICAgICAgICAgICAgIFs0MC43NjQ4OSwgLTczLjk4NDkzXSwKICAgICAgICAgICAgICAgIHt9CiAgICAgICAgICAgICkuYWRkVG8obWFwX2ExMDE0YjYxZTFjYjRhYzI5MjdhMmExY2FlODMxYmQ2KTsKICAgICAgICAKICAgIAogICAgICAgICAgICB2YXIgaWNvbl9iYTA4MTgyZGE2MTc0MjZjYmFmMWJkYzA3MjU5Y2JmNiA9IEwuQXdlc29tZU1hcmtlcnMuaWNvbigKICAgICAgICAgICAgICAgIHsiZXh0cmFDbGFzc2VzIjogImZhLXJvdGF0ZS0wIiwgImljb24iOiAiaW5mby1zaWduIiwgImljb25Db2xvciI6ICJ3aGl0ZSIsICJtYXJrZXJDb2xvciI6ICJkYXJrcHVycGxlIiwgInByZWZpeCI6ICJnbHlwaGljb24ifQogICAgICAgICAgICApOwogICAgICAgICAgICBtYXJrZXJfZGJjYzk0MTlmNzZmNGNkZTg2MDczNDNiZmMxZDRkZGYuc2V0SWNvbihpY29uX2JhMDgxODJkYTYxNzQyNmNiYWYxYmRjMDcyNTljYmY2KTsKICAgICAgICAKICAgIAogICAgICAgICAgICBtYXJrZXJfZGJjYzk0MTlmNzZmNGNkZTg2MDczNDNiZmMxZDRkZGYuYmluZFRvb2x0aXAoCiAgICAgICAgICAgICAgICBgPGRpdj4KICAgICAgICAgICAgICAgICAgICAgTGFyZ2UgRnVybmlzaGVkIFJvb20gTmVhciBCJ3dheSAKICAgICAgICAgICAgICAgICA8L2Rpdj5gLAogICAgICAgICAgICAgICAgeyJzdGlja3kiOiB0cnVlfQogICAgICAgICAgICApOwogICAgICAgIAogICAgCiAgICAgICAgICAgIHZhciBtYXJrZXJfMTM1NDI0ZDEwOGQ0NDg4YjlmNjg4ODFmYzBiODE5ZTIgPSBMLm1hcmtlcigKICAgICAgICAgICAgICAgIFs0MC43MTM0NDAwMDAwMDAwMDYsIC03My45OTAzN10sCiAgICAgICAgICAgICAgICB7fQogICAgICAgICAgICApLmFkZFRvKG1hcF9hMTAxNGI2MWUxY2I0YWMyOTI3YTJhMWNhZTgzMWJkNik7CiAgICAgICAgCiAgICAKICAgICAgICAgICAgdmFyIGljb25fYTAyZmQ5ZTlkNzgwNDdkNjgyMDJhZTk5MDJmYWVhYjUgPSBMLkF3ZXNvbWVNYXJrZXJzLmljb24oCiAgICAgICAgICAgICAgICB7ImV4dHJhQ2xhc3NlcyI6ICJmYS1yb3RhdGUtMCIsICJpY29uIjogImluZm8tc2lnbiIsICJpY29uQ29sb3IiOiAid2hpdGUiLCAibWFya2VyQ29sb3IiOiAiZGFya3B1cnBsZSIsICJwcmVmaXgiOiAiZ2x5cGhpY29uIn0KICAgICAgICAgICAgKTsKICAgICAgICAgICAgbWFya2VyXzEzNTQyNGQxMDhkNDQ4OGI5ZjY4ODgxZmMwYjgxOWUyLnNldEljb24oaWNvbl9hMDJmZDllOWQ3ODA0N2Q2ODIwMmFlOTkwMmZhZWFiNSk7CiAgICAgICAgCiAgICAKICAgICAgICAgICAgbWFya2VyXzEzNTQyNGQxMDhkNDQ4OGI5ZjY4ODgxZmMwYjgxOWUyLmJpbmRUb29sdGlwKAogICAgICAgICAgICAgICAgYDxkaXY+CiAgICAgICAgICAgICAgICAgICAgIEN1dGUgJiBDb3p5IExvd2VyIEVhc3QgU2lkZSAxIGJkcm0KICAgICAgICAgICAgICAgICA8L2Rpdj5gLAogICAgICAgICAgICAgICAgeyJzdGlja3kiOiB0cnVlfQogICAgICAgICAgICApOwogICAgICAgIAogICAgCiAgICAgICAgICAgIHZhciBtYXJrZXJfZTA4NjNjNGQyNzk4NDE2Nzg3ZTg5MjliMTk2YTdkYjAgPSBMLm1hcmtlcigKICAgICAgICAgICAgICAgIFs0MC42ODM3MSwgLTczLjk0MDI4XSwKICAgICAgICAgICAgICAgIHt9CiAgICAgICAgICAgICkuYWRkVG8obWFwX2ExMDE0YjYxZTFjYjRhYzI5MjdhMmExY2FlODMxYmQ2KTsKICAgICAgICAKICAgIAogICAgICAgICAgICB2YXIgaWNvbl83M2RlZDM2YmQ2ZWQ0ZDAyOWMzMDM0NDVkZWU0MzBjNiA9IEwuQXdlc29tZU1hcmtlcnMuaWNvbigKICAgICAgICAgICAgICAgIHsiZXh0cmFDbGFzc2VzIjogImZhLXJvdGF0ZS0wIiwgImljb24iOiAiaW5mby1zaWduIiwgImljb25Db2xvciI6ICJ3aGl0ZSIsICJtYXJrZXJDb2xvciI6ICJkYXJrcHVycGxlIiwgInByZWZpeCI6ICJnbHlwaGljb24ifQogICAgICAgICAgICApOwogICAgICAgICAgICBtYXJrZXJfZTA4NjNjNGQyNzk4NDE2Nzg3ZTg5MjliMTk2YTdkYjAuc2V0SWNvbihpY29uXzczZGVkMzZiZDZlZDRkMDI5YzMwMzQ0NWRlZTQzMGM2KTsKICAgICAgICAKICAgIAogICAgICAgICAgICBtYXJrZXJfZTA4NjNjNGQyNzk4NDE2Nzg3ZTg5MjliMTk2YTdkYjAuYmluZFRvb2x0aXAoCiAgICAgICAgICAgICAgICBgPGRpdj4KICAgICAgICAgICAgICAgICAgICAgTUFJU09OIERFUyBTSVJFTkVTMSxib2hlbWlhbiBhcGFydG1lbnQKICAgICAgICAgICAgICAgICA8L2Rpdj5gLAogICAgICAgICAgICAgICAgeyJzdGlja3kiOiB0cnVlfQogICAgICAgICAgICApOwogICAgICAgIAogICAgCiAgICAgICAgICAgIHZhciBtYXJrZXJfZTE0OTI4ZDRiN2M3NGZlNDhjZWJmMzhhNTU2YWZjZmIgPSBMLm1hcmtlcigKICAgICAgICAgICAgICAgIFs0MC44MTMwNSwgLTczLjk1NDY2XSwKICAgICAgICAgICAgICAgIHt9CiAgICAgICAgICAgICkuYWRkVG8obWFwX2ExMDE0YjYxZTFjYjRhYzI5MjdhMmExY2FlODMxYmQ2KTsKICAgICAgICAKICAgIAogICAgICAgICAgICB2YXIgaWNvbl9lY2U0ZGIwOWIzMzA0OTdiYTVjYmNlZGRkNmMwNTc0YSA9IEwuQXdlc29tZU1hcmtlcnMuaWNvbigKICAgICAgICAgICAgICAgIHsiZXh0cmFDbGFzc2VzIjogImZhLXJvdGF0ZS0wIiwgImljb24iOiAiaW5mby1zaWduIiwgImljb25Db2xvciI6ICJ3aGl0ZSIsICJtYXJrZXJDb2xvciI6ICJkYXJrcHVycGxlIiwgInByZWZpeCI6ICJnbHlwaGljb24ifQogICAgICAgICAgICApOwogICAgICAgICAgICBtYXJrZXJfZTE0OTI4ZDRiN2M3NGZlNDhjZWJmMzhhNTU2YWZjZmIuc2V0SWNvbihpY29uX2VjZTRkYjA5YjMzMDQ5N2JhNWNiY2VkZGQ2YzA1NzRhKTsKICAgICAgICAKICAgIAogICAgICAgICAgICBtYXJrZXJfZTE0OTI4ZDRiN2M3NGZlNDhjZWJmMzhhNTU2YWZjZmIuYmluZFRvb2x0aXAoCiAgICAgICAgICAgICAgICBgPGRpdj4KICAgICAgICAgICAgICAgICAgICAgU3BhY2lvdXMgMSBiZWRyb29tIGluIGx1eGUgYnVpbGRpbmcKICAgICAgICAgICAgICAgICA8L2Rpdj5gLAogICAgICAgICAgICAgICAgeyJzdGlja3kiOiB0cnVlfQogICAgICAgICAgICApOwogICAgICAgIAogICAgCiAgICAgICAgICAgIHZhciBtYXJrZXJfODVmODY2MjFmZTcxNDU3MGIwYjY5YzM2MTg4NzlkNDAgPSBMLm1hcmtlcigKICAgICAgICAgICAgICAgIFs0MC43MTQwMDk5OTk5OTk5OTUsIC03My45ODkxN10sCiAgICAgICAgICAgICAgICB7fQogICAgICAgICAgICApLmFkZFRvKG1hcF9hMTAxNGI2MWUxY2I0YWMyOTI3YTJhMWNhZTgzMWJkNik7CiAgICAgICAgCiAgICAKICAgICAgICAgICAgdmFyIGljb25fNTM4ODg0Y2VmNzljNGUyYmE3OTYyNGE1OTc4ZGNiMzIgPSBMLkF3ZXNvbWVNYXJrZXJzLmljb24oCiAgICAgICAgICAgICAgICB7ImV4dHJhQ2xhc3NlcyI6ICJmYS1yb3RhdGUtMCIsICJpY29uIjogImluZm8tc2lnbiIsICJpY29uQ29sb3IiOiAid2hpdGUiLCAibWFya2VyQ29sb3IiOiAiZGFya3B1cnBsZSIsICJwcmVmaXgiOiAiZ2x5cGhpY29uIn0KICAgICAgICAgICAgKTsKICAgICAgICAgICAgbWFya2VyXzg1Zjg2NjIxZmU3MTQ1NzBiMGI2OWMzNjE4ODc5ZDQwLnNldEljb24oaWNvbl81Mzg4ODRjZWY3OWM0ZTJiYTc5NjI0YTU5NzhkY2IzMik7CiAgICAgICAgCiAgICAKICAgICAgICAgICAgbWFya2VyXzg1Zjg2NjIxZmU3MTQ1NzBiMGI2OWMzNjE4ODc5ZDQwLmJpbmRUb29sdGlwKAogICAgICAgICAgICAgICAgYDxkaXY+CiAgICAgICAgICAgICAgICAgICAgIExvd2VyRWFzdFNpZGUgYXB0IHNoYXJlIHNob3J0dGVybSAxCiAgICAgICAgICAgICAgICAgPC9kaXY+YCwKICAgICAgICAgICAgICAgIHsic3RpY2t5IjogdHJ1ZX0KICAgICAgICAgICAgKTsKICAgICAgICAKICAgIAogICAgICAgICAgICB2YXIgbWFya2VyX2UyMDFmYzdmMmM1ZjRkZjE5MDcyMmQzYmQzMTc2MjU0ID0gTC5tYXJrZXIoCiAgICAgICAgICAgICAgICBbNDAuNzQ3NzEsIC03My45NDc0XSwKICAgICAgICAgICAgICAgIHt9CiAgICAgICAgICAgICkuYWRkVG8obWFwX2ExMDE0YjYxZTFjYjRhYzI5MjdhMmExY2FlODMxYmQ2KTsKICAgICAgICAKICAgIAogICAgICAgICAgICB2YXIgaWNvbl9jYWRjMTFkNjc4MDM0OTMzOGJhMGNiMzUxOTk4NDc0ZCA9IEwuQXdlc29tZU1hcmtlcnMuaWNvbigKICAgICAgICAgICAgICAgIHsiZXh0cmFDbGFzc2VzIjogImZhLXJvdGF0ZS0wIiwgImljb24iOiAiaW5mby1zaWduIiwgImljb25Db2xvciI6ICJ3aGl0ZSIsICJtYXJrZXJDb2xvciI6ICJkYXJrcHVycGxlIiwgInByZWZpeCI6ICJnbHlwaGljb24ifQogICAgICAgICAgICApOwogICAgICAgICAgICBtYXJrZXJfZTIwMWZjN2YyYzVmNGRmMTkwNzIyZDNiZDMxNzYyNTQuc2V0SWNvbihpY29uX2NhZGMxMWQ2NzgwMzQ5MzM4YmEwY2IzNTE5OTg0NzRkKTsKICAgICAgICAKICAgIAogICAgICAgICAgICBtYXJrZXJfZTIwMWZjN2YyYzVmNGRmMTkwNzIyZDNiZDMxNzYyNTQuYmluZFRvb2x0aXAoCiAgICAgICAgICAgICAgICBgPGRpdj4KICAgICAgICAgICAgICAgICAgICAgMSBTdG9wIGZyLiBNYW5oYXR0YW4hIFByaXZhdGUgU3VpdGUsTGFuZG1hcmsgQmxvY2sKICAgICAgICAgICAgICAgICA8L2Rpdj5gLAogICAgICAgICAgICAgICAgeyJzdGlja3kiOiB0cnVlfQogICAgICAgICAgICApOwogICAgICAgIAogICAgCiAgICAgICAgICAgIHZhciBtYXJrZXJfODE3YmQyMTU0ZDJmNGM1N2FkM2NhYWFiZmIzMzRlNWMgPSBMLm1hcmtlcigKICAgICAgICAgICAgICAgIFs0MC42ODExMSwgLTczLjk1NTkxXSwKICAgICAgICAgICAgICAgIHt9CiAgICAgICAgICAgICkuYWRkVG8obWFwX2ExMDE0YjYxZTFjYjRhYzI5MjdhMmExY2FlODMxYmQ2KTsKICAgICAgICAKICAgIAogICAgICAgICAgICB2YXIgaWNvbl81ZTUwOTM0MGJhNjk0ODk5OTNmZDJkZTZhNTUwMGQ0MyA9IEwuQXdlc29tZU1hcmtlcnMuaWNvbigKICAgICAgICAgICAgICAgIHsiZXh0cmFDbGFzc2VzIjogImZhLXJvdGF0ZS0wIiwgImljb24iOiAiaW5mby1zaWduIiwgImljb25Db2xvciI6ICJ3aGl0ZSIsICJtYXJrZXJDb2xvciI6ICJkYXJrcHVycGxlIiwgInByZWZpeCI6ICJnbHlwaGljb24ifQogICAgICAgICAgICApOwogICAgICAgICAgICBtYXJrZXJfODE3YmQyMTU0ZDJmNGM1N2FkM2NhYWFiZmIzMzRlNWMuc2V0SWNvbihpY29uXzVlNTA5MzQwYmE2OTQ4OTk5M2ZkMmRlNmE1NTAwZDQzKTsKICAgICAgICAKICAgIAogICAgICAgICAgICBtYXJrZXJfODE3YmQyMTU0ZDJmNGM1N2FkM2NhYWFiZmIzMzRlNWMuYmluZFRvb2x0aXAoCiAgICAgICAgICAgICAgICBgPGRpdj4KICAgICAgICAgICAgICAgICAgICAgQ2hhcm1pbmcgQnJvd25zdG9uZSAzIC0gTmVhciBQUkFUVAogICAgICAgICAgICAgICAgIDwvZGl2PmAsCiAgICAgICAgICAgICAgICB7InN0aWNreSI6IHRydWV9CiAgICAgICAgICAgICk7CiAgICAgICAgCiAgICAKICAgICAgICAgICAgdmFyIG1hcmtlcl8yYTcxNDJhOTZmNmM0YmZjYTVkYWE2YmI0M2ZjNWYxYSA9IEwubWFya2VyKAogICAgICAgICAgICAgICAgWzQwLjY5MTQyLCAtNzMuOTczNzZdLAogICAgICAgICAgICAgICAge30KICAgICAgICAgICAgKS5hZGRUbyhtYXBfYTEwMTRiNjFlMWNiNGFjMjkyN2EyYTFjYWU4MzFiZDYpOwogICAgICAgIAogICAgCiAgICAgICAgICAgIHZhciBpY29uX2VhYmYzNDI3Nzg1NzQzMDk4ZDY3YjkyZjg5MDg2ZGMxID0gTC5Bd2Vzb21lTWFya2Vycy5pY29uKAogICAgICAgICAgICAgICAgeyJleHRyYUNsYXNzZXMiOiAiZmEtcm90YXRlLTAiLCAiaWNvbiI6ICJpbmZvLXNpZ24iLCAiaWNvbkNvbG9yIjogIndoaXRlIiwgIm1hcmtlckNvbG9yIjogImRhcmtwdXJwbGUiLCAicHJlZml4IjogImdseXBoaWNvbiJ9CiAgICAgICAgICAgICk7CiAgICAgICAgICAgIG1hcmtlcl8yYTcxNDJhOTZmNmM0YmZjYTVkYWE2YmI0M2ZjNWYxYS5zZXRJY29uKGljb25fZWFiZjM0Mjc3ODU3NDMwOThkNjdiOTJmODkwODZkYzEpOwogICAgICAgIAogICAgCiAgICAgICAgICAgIG1hcmtlcl8yYTcxNDJhOTZmNmM0YmZjYTVkYWE2YmI0M2ZjNWYxYS5iaW5kVG9vbHRpcCgKICAgICAgICAgICAgICAgIGA8ZGl2PgogICAgICAgICAgICAgICAgICAgICBGb3J0IEdyZWVuZSBicm93bnN0b25lIAogICAgICAgICAgICAgICAgIDwvZGl2PmAsCiAgICAgICAgICAgICAgICB7InN0aWNreSI6IHRydWV9CiAgICAgICAgICAgICk7CiAgICAgICAgCiAgICAKICAgICAgICAgICAgdmFyIG1hcmtlcl9jYjU4ZTEyMTRkOWI0NDkzOTg3NmMyNjM3YmZkODIwYiA9IEwubWFya2VyKAogICAgICAgICAgICAgICAgWzQwLjY4MDQzLCAtNzMuOTM5MzRdLAogICAgICAgICAgICAgICAge30KICAgICAgICAgICAgKS5hZGRUbyhtYXBfYTEwMTRiNjFlMWNiNGFjMjkyN2EyYTFjYWU4MzFiZDYpOwogICAgICAgIAogICAgCiAgICAgICAgICAgIHZhciBpY29uXzhjNjAyMzIyNjlhMDRiZjA5NTQwMmZhOGVlZTExZDZlID0gTC5Bd2Vzb21lTWFya2Vycy5pY29uKAogICAgICAgICAgICAgICAgeyJleHRyYUNsYXNzZXMiOiAiZmEtcm90YXRlLTAiLCAiaWNvbiI6ICJpbmZvLXNpZ24iLCAiaWNvbkNvbG9yIjogIndoaXRlIiwgIm1hcmtlckNvbG9yIjogImRhcmtwdXJwbGUiLCAicHJlZml4IjogImdseXBoaWNvbiJ9CiAgICAgICAgICAgICk7CiAgICAgICAgICAgIG1hcmtlcl9jYjU4ZTEyMTRkOWI0NDkzOTg3NmMyNjM3YmZkODIwYi5zZXRJY29uKGljb25fOGM2MDIzMjI2OWEwNGJmMDk1NDAyZmE4ZWVlMTFkNmUpOwogICAgICAgIAogICAgCiAgICAgICAgICAgIG1hcmtlcl9jYjU4ZTEyMTRkOWI0NDkzOTg3NmMyNjM3YmZkODIwYi5iaW5kVG9vbHRpcCgKICAgICAgICAgICAgICAgIGA8ZGl2PgogICAgICAgICAgICAgICAgICAgICBCbHVlIFJvb20gZm9yIDIgaW4gQnJvd25zdG9uZSBmb3IgJDEzNTAgbW9udGhseQogICAgICAgICAgICAgICAgIDwvZGl2PmAsCiAgICAgICAgICAgICAgICB7InN0aWNreSI6IHRydWV9CiAgICAgICAgICAgICk7CiAgICAgICAgCiAgICAKICAgICAgICAgICAgdmFyIG1hcmtlcl80NmUyOGZhZjNjNmY0MDZiYWVjZGUwNDg3N2YzZDBjNCA9IEwubWFya2VyKAogICAgICAgICAgICAgICAgWzQwLjczNTA2LCAtNzMuOTUzOTJdLAogICAgICAgICAgICAgICAge30KICAgICAgICAgICAgKS5hZGRUbyhtYXBfYTEwMTRiNjFlMWNiNGFjMjkyN2EyYTFjYWU4MzFiZDYpOwogICAgICAgIAogICAgCiAgICAgICAgICAgIHZhciBpY29uX2RkOWY2YWUzNDI0ZTQxMDM4YmIxYzk1NjVlMTBmMjNjID0gTC5Bd2Vzb21lTWFya2Vycy5pY29uKAogICAgICAgICAgICAgICAgeyJleHRyYUNsYXNzZXMiOiAiZmEtcm90YXRlLTAiLCAiaWNvbiI6ICJpbmZvLXNpZ24iLCAiaWNvbkNvbG9yIjogIndoaXRlIiwgIm1hcmtlckNvbG9yIjogImRhcmtwdXJwbGUiLCAicHJlZml4IjogImdseXBoaWNvbiJ9CiAgICAgICAgICAgICk7CiAgICAgICAgICAgIG1hcmtlcl80NmUyOGZhZjNjNmY0MDZiYWVjZGUwNDg3N2YzZDBjNC5zZXRJY29uKGljb25fZGQ5ZjZhZTM0MjRlNDEwMzhiYjFjOTU2NWUxMGYyM2MpOwogICAgICAgIAogICAgCiAgICAgICAgICAgIG1hcmtlcl80NmUyOGZhZjNjNmY0MDZiYWVjZGUwNDg3N2YzZDBjNC5iaW5kVG9vbHRpcCgKICAgICAgICAgICAgICAgIGA8ZGl2PgogICAgICAgICAgICAgICAgICAgICBHcmVlbnBvaW50IFBsYWNlLi4uSGFzIEl0IEFsbCEgCiAgICAgICAgICAgICAgICAgPC9kaXY+YCwKICAgICAgICAgICAgICAgIHsic3RpY2t5IjogdHJ1ZX0KICAgICAgICAgICAgKTsKICAgICAgICAKICAgIAogICAgICAgICAgICB2YXIgbWFya2VyX2MzNTIxZmNkOGUyYzQyOTlhOGZiNDAwOTAxMjZiMGM2ID0gTC5tYXJrZXIoCiAgICAgICAgICAgICAgICBbNDAuNzM5NjEsIC03My45ODA3NF0sCiAgICAgICAgICAgICAgICB7fQogICAgICAgICAgICApLmFkZFRvKG1hcF9hMTAxNGI2MWUxY2I0YWMyOTI3YTJhMWNhZTgzMWJkNik7CiAgICAgICAgCiAgICAKICAgICAgICAgICAgdmFyIGljb25fZjNhYzk3ZTZiMzE1NDJkOWJiZGI4YTExMThiYmEyZTIgPSBMLkF3ZXNvbWVNYXJrZXJzLmljb24oCiAgICAgICAgICAgICAgICB7ImV4dHJhQ2xhc3NlcyI6ICJmYS1yb3RhdGUtMCIsICJpY29uIjogImluZm8tc2lnbiIsICJpY29uQ29sb3IiOiAid2hpdGUiLCAibWFya2VyQ29sb3IiOiAiZGFya3B1cnBsZSIsICJwcmVmaXgiOiAiZ2x5cGhpY29uIn0KICAgICAgICAgICAgKTsKICAgICAgICAgICAgbWFya2VyX2MzNTIxZmNkOGUyYzQyOTlhOGZiNDAwOTAxMjZiMGM2LnNldEljb24oaWNvbl9mM2FjOTdlNmIzMTU0MmQ5YmJkYjhhMTExOGJiYTJlMik7CiAgICAgICAgCiAgICAKICAgICAgICAgICAgbWFya2VyX2MzNTIxZmNkOGUyYzQyOTlhOGZiNDAwOTAxMjZiMGM2LmJpbmRUb29sdGlwKAogICAgICAgICAgICAgICAgYDxkaXY+CiAgICAgICAgICAgICAgICAgICAgIEJlYXV0aWZ1bCBBcGFydG1lbnQgaW4gTWFuaGF0dGFuISEhCiAgICAgICAgICAgICAgICAgPC9kaXY+YCwKICAgICAgICAgICAgICAgIHsic3RpY2t5IjogdHJ1ZX0KICAgICAgICAgICAgKTsKICAgICAgICAKICAgIAogICAgICAgICAgICB2YXIgbWFya2VyX2YwNDY5MzRiZmYwZjQ1MjQ5OTIyZDU1OTY0M2U2Y2E0ID0gTC5tYXJrZXIoCiAgICAgICAgICAgICAgICBbNDAuNzIyMSwgLTczLjk5Nzc1XSwKICAgICAgICAgICAgICAgIHt9CiAgICAgICAgICAgICkuYWRkVG8obWFwX2ExMDE0YjYxZTFjYjRhYzI5MjdhMmExY2FlODMxYmQ2KTsKICAgICAgICAKICAgIAogICAgICAgICAgICB2YXIgaWNvbl9kMWMxYmRhYTJjODU0YzgyOGYxYTQ3NDVhYzcxZWI2OCA9IEwuQXdlc29tZU1hcmtlcnMuaWNvbigKICAgICAgICAgICAgICAgIHsiZXh0cmFDbGFzc2VzIjogImZhLXJvdGF0ZS0wIiwgImljb24iOiAiaW5mby1zaWduIiwgImljb25Db2xvciI6ICJ3aGl0ZSIsICJtYXJrZXJDb2xvciI6ICJkYXJrcHVycGxlIiwgInByZWZpeCI6ICJnbHlwaGljb24ifQogICAgICAgICAgICApOwogICAgICAgICAgICBtYXJrZXJfZjA0NjkzNGJmZjBmNDUyNDk5MjJkNTU5NjQzZTZjYTQuc2V0SWNvbihpY29uX2QxYzFiZGFhMmM4NTRjODI4ZjFhNDc0NWFjNzFlYjY4KTsKICAgICAgICAKICAgIAogICAgICAgICAgICBtYXJrZXJfZjA0NjkzNGJmZjBmNDUyNDk5MjJkNTU5NjQzZTZjYTQuYmluZFRvb2x0aXAoCiAgICAgICAgICAgICAgICBgPGRpdj4KICAgICAgICAgICAgICAgICAgICAgKipCcmlnaHQgTm9saXRhIEFwdCB3IERvb3JtYW4vRWxldmF0b3JzL0d5bSoqCiAgICAgICAgICAgICAgICAgPC9kaXY+YCwKICAgICAgICAgICAgICAgIHsic3RpY2t5IjogdHJ1ZX0KICAgICAgICAgICAgKTsKICAgICAgICAKICAgIAogICAgICAgICAgICB2YXIgbWFya2VyXzhiMGRmZjc1OTM0ZDQyMDQ5MjkxOGMyZTY5YWEyZTZlID0gTC5tYXJrZXIoCiAgICAgICAgICAgICAgICBbNDAuNzExODUsIC03My45NjIwNF0sCiAgICAgICAgICAgICAgICB7fQogICAgICAgICAgICApLmFkZFRvKG1hcF9hMTAxNGI2MWUxY2I0YWMyOTI3YTJhMWNhZTgzMWJkNik7CiAgICAgICAgCiAgICAKICAgICAgICAgICAgdmFyIGljb25fNDMyODQyYmU2ZWViNDNkNTgzMjIwOGVlYmI2NDc1ZTAgPSBMLkF3ZXNvbWVNYXJrZXJzLmljb24oCiAgICAgICAgICAgICAgICB7ImV4dHJhQ2xhc3NlcyI6ICJmYS1yb3RhdGUtMCIsICJpY29uIjogImluZm8tc2lnbiIsICJpY29uQ29sb3IiOiAid2hpdGUiLCAibWFya2VyQ29sb3IiOiAiZGFya3B1cnBsZSIsICJwcmVmaXgiOiAiZ2x5cGhpY29uIn0KICAgICAgICAgICAgKTsKICAgICAgICAgICAgbWFya2VyXzhiMGRmZjc1OTM0ZDQyMDQ5MjkxOGMyZTY5YWEyZTZlLnNldEljb24oaWNvbl80MzI4NDJiZTZlZWI0M2Q1ODMyMjA4ZWViYjY0NzVlMCk7CiAgICAgICAgCiAgICAKICAgICAgICAgICAgbWFya2VyXzhiMGRmZjc1OTM0ZDQyMDQ5MjkxOGMyZTY5YWEyZTZlLmJpbmRUb29sdGlwKAogICAgICAgICAgICAgICAgYDxkaXY+CiAgICAgICAgICAgICAgICAgICAgIFZlcnksIHZlcnkgY296eSBwbGFjZQogICAgICAgICAgICAgICAgIDwvZGl2PmAsCiAgICAgICAgICAgICAgICB7InN0aWNreSI6IHRydWV9CiAgICAgICAgICAgICk7CiAgICAgICAgCiAgICAKICAgICAgICAgICAgdmFyIG1hcmtlcl81ZjFlZjUyMzQ0ZmQ0YTk1OGQxYmU1YzkxMjI5ZTNkMSA9IEwubWFya2VyKAogICAgICAgICAgICAgICAgWzQwLjc0NjIzLCAtNzMuOTk1M10sCiAgICAgICAgICAgICAgICB7fQogICAgICAgICAgICApLmFkZFRvKG1hcF9hMTAxNGI2MWUxY2I0YWMyOTI3YTJhMWNhZTgzMWJkNik7CiAgICAgICAgCiAgICAKICAgICAgICAgICAgdmFyIGljb25fZGQ0M2IzODBkOTZlNGU2NzljZTY3NjBjYmQ3ZTc2OGUgPSBMLkF3ZXNvbWVNYXJrZXJzLmljb24oCiAgICAgICAgICAgICAgICB7ImV4dHJhQ2xhc3NlcyI6ICJmYS1yb3RhdGUtMCIsICJpY29uIjogImluZm8tc2lnbiIsICJpY29uQ29sb3IiOiAid2hpdGUiLCAibWFya2VyQ29sb3IiOiAiZGFya3B1cnBsZSIsICJwcmVmaXgiOiAiZ2x5cGhpY29uIn0KICAgICAgICAgICAgKTsKICAgICAgICAgICAgbWFya2VyXzVmMWVmNTIzNDRmZDRhOTU4ZDFiZTVjOTEyMjllM2QxLnNldEljb24oaWNvbl9kZDQzYjM4MGQ5NmU0ZTY3OWNlNjc2MGNiZDdlNzY4ZSk7CiAgICAgICAgCiAgICAKICAgICAgICAgICAgbWFya2VyXzVmMWVmNTIzNDRmZDRhOTU4ZDFiZTVjOTEyMjllM2QxLmJpbmRUb29sdGlwKAogICAgICAgICAgICAgICAgYDxkaXY+CiAgICAgICAgICAgICAgICAgICAgIFN1bm55ICYgU3BhY2lvdXMgQ2hlbHNlYSBBcGFydG1lbnQKICAgICAgICAgICAgICAgICA8L2Rpdj5gLAogICAgICAgICAgICAgICAgeyJzdGlja3kiOiB0cnVlfQogICAgICAgICAgICApOwogICAgICAgIAogICAgCiAgICAgICAgICAgIHZhciBtYXJrZXJfMmFhZWNiYzljNzBlNDkwOWJhZWFlNjUyMTcwMzY2MDMgPSBMLm1hcmtlcigKICAgICAgICAgICAgICAgIFs0MC43NzA2NSwgLTczLjk1MjY5XSwKICAgICAgICAgICAgICAgIHt9CiAgICAgICAgICAgICkuYWRkVG8obWFwX2ExMDE0YjYxZTFjYjRhYzI5MjdhMmExY2FlODMxYmQ2KTsKICAgICAgICAKICAgIAogICAgICAgICAgICB2YXIgaWNvbl9lNjAwNGFjYTk2NGE0NWU1ODdjYWZiMGI2MTMyMzgyZSA9IEwuQXdlc29tZU1hcmtlcnMuaWNvbigKICAgICAgICAgICAgICAgIHsiZXh0cmFDbGFzc2VzIjogImZhLXJvdGF0ZS0wIiwgImljb24iOiAiaW5mby1zaWduIiwgImljb25Db2xvciI6ICJ3aGl0ZSIsICJtYXJrZXJDb2xvciI6ICJkYXJrcHVycGxlIiwgInByZWZpeCI6ICJnbHlwaGljb24ifQogICAgICAgICAgICApOwogICAgICAgICAgICBtYXJrZXJfMmFhZWNiYzljNzBlNDkwOWJhZWFlNjUyMTcwMzY2MDMuc2V0SWNvbihpY29uX2U2MDA0YWNhOTY0YTQ1ZTU4N2NhZmIwYjYxMzIzODJlKTsKICAgICAgICAKICAgIAogICAgICAgICAgICBtYXJrZXJfMmFhZWNiYzljNzBlNDkwOWJhZWFlNjUyMTcwMzY2MDMuYmluZFRvb2x0aXAoCiAgICAgICAgICAgICAgICBgPGRpdj4KICAgICAgICAgICAgICAgICAgICAgMiBiZWRyb29tIC0gVXBwZXIgRWFzdCBTaWRlLWdyZWF0IGZvciBraWRzCiAgICAgICAgICAgICAgICAgPC9kaXY+YCwKICAgICAgICAgICAgICAgIHsic3RpY2t5IjogdHJ1ZX0KICAgICAgICAgICAgKTsKICAgICAgICAKICAgIAogICAgICAgICAgICB2YXIgbWFya2VyXzdlNWQ4MTYxZTUzZTRjMDI5ZjhjNDdlZjFhY2NmNjc0ID0gTC5tYXJrZXIoCiAgICAgICAgICAgICAgICBbNDAuNzU5NzksIC03My45OTExOV0sCiAgICAgICAgICAgICAgICB7fQogICAgICAgICAgICApLmFkZFRvKG1hcF9hMTAxNGI2MWUxY2I0YWMyOTI3YTJhMWNhZTgzMWJkNik7CiAgICAgICAgCiAgICAKICAgICAgICAgICAgdmFyIGljb25fZmEwYTNmNTBkOTQ5NGU1MmJmMDBiYzBjZDFhODEyZDggPSBMLkF3ZXNvbWVNYXJrZXJzLmljb24oCiAgICAgICAgICAgICAgICB7ImV4dHJhQ2xhc3NlcyI6ICJmYS1yb3RhdGUtMCIsICJpY29uIjogImluZm8tc2lnbiIsICJpY29uQ29sb3IiOiAid2hpdGUiLCAibWFya2VyQ29sb3IiOiAiZGFya3B1cnBsZSIsICJwcmVmaXgiOiAiZ2x5cGhpY29uIn0KICAgICAgICAgICAgKTsKICAgICAgICAgICAgbWFya2VyXzdlNWQ4MTYxZTUzZTRjMDI5ZjhjNDdlZjFhY2NmNjc0LnNldEljb24oaWNvbl9mYTBhM2Y1MGQ5NDk0ZTUyYmYwMGJjMGNkMWE4MTJkOCk7CiAgICAgICAgCiAgICAKICAgICAgICAgICAgbWFya2VyXzdlNWQ4MTYxZTUzZTRjMDI5ZjhjNDdlZjFhY2NmNjc0LmJpbmRUb29sdGlwKAogICAgICAgICAgICAgICAgYDxkaXY+CiAgICAgICAgICAgICAgICAgICAgIFlvdXIgSGVhdmVuIGluIEhlbGxzIEtpdGNoZW4KICAgICAgICAgICAgICAgICA8L2Rpdj5gLAogICAgICAgICAgICAgICAgeyJzdGlja3kiOiB0cnVlfQogICAgICAgICAgICApOwogICAgICAgIAogICAgCiAgICAgICAgICAgIHZhciBtYXJrZXJfN2Q5MTIwYjRhNTkyNDYwZDg2N2FhZTdkNzRiYTEzOTQgPSBMLm1hcmtlcigKICAgICAgICAgICAgICAgIFs0MC44MDE2NCwgLTczLjkzOTIxOTk5OTk5OTk5XSwKICAgICAgICAgICAgICAgIHt9CiAgICAgICAgICAgICkuYWRkVG8obWFwX2ExMDE0YjYxZTFjYjRhYzI5MjdhMmExY2FlODMxYmQ2KTsKICAgICAgICAKICAgIAogICAgICAgICAgICB2YXIgaWNvbl83N2E2MjgxMDM0NjE0MjkwYWE1M2E1NGJjYjU2YmEzNCA9IEwuQXdlc29tZU1hcmtlcnMuaWNvbigKICAgICAgICAgICAgICAgIHsiZXh0cmFDbGFzc2VzIjogImZhLXJvdGF0ZS0wIiwgImljb24iOiAiaW5mby1zaWduIiwgImljb25Db2xvciI6ICJ3aGl0ZSIsICJtYXJrZXJDb2xvciI6ICJkYXJrcHVycGxlIiwgInByZWZpeCI6ICJnbHlwaGljb24ifQogICAgICAgICAgICApOwogICAgICAgICAgICBtYXJrZXJfN2Q5MTIwYjRhNTkyNDYwZDg2N2FhZTdkNzRiYTEzOTQuc2V0SWNvbihpY29uXzc3YTYyODEwMzQ2MTQyOTBhYTUzYTU0YmNiNTZiYTM0KTsKICAgICAgICAKICAgIAogICAgICAgICAgICBtYXJrZXJfN2Q5MTIwYjRhNTkyNDYwZDg2N2FhZTdkNzRiYTEzOTQuYmluZFRvb2x0aXAoCiAgICAgICAgICAgICAgICBgPGRpdj4KICAgICAgICAgICAgICAgICAgICAgU3BhSGEgTG9mdDogRW5vcm1vdXMgYW5kIEJyaWdodAogICAgICAgICAgICAgICAgIDwvZGl2PmAsCiAgICAgICAgICAgICAgICB7InN0aWNreSI6IHRydWV9CiAgICAgICAgICAgICk7CiAgICAgICAgCiAgICAKICAgICAgICAgICAgdmFyIG1hcmtlcl8xODE2NWRiZTJiOWY0YmZjYjhiZjgxMWEwYzEzYTFlZSA9IEwubWFya2VyKAogICAgICAgICAgICAgICAgWzQwLjcyODI4LCAtNzMuOTg4MDFdLAogICAgICAgICAgICAgICAge30KICAgICAgICAgICAgKS5hZGRUbyhtYXBfYTEwMTRiNjFlMWNiNGFjMjkyN2EyYTFjYWU4MzFiZDYpOwogICAgICAgIAogICAgCiAgICAgICAgICAgIHZhciBpY29uXzRjNjAyYmZhMzRlZTQ1NzA5NWJhZjU3ZDI1NjAwY2RjID0gTC5Bd2Vzb21lTWFya2Vycy5pY29uKAogICAgICAgICAgICAgICAgeyJleHRyYUNsYXNzZXMiOiAiZmEtcm90YXRlLTAiLCAiaWNvbiI6ICJpbmZvLXNpZ24iLCAiaWNvbkNvbG9yIjogIndoaXRlIiwgIm1hcmtlckNvbG9yIjogImRhcmtwdXJwbGUiLCAicHJlZml4IjogImdseXBoaWNvbiJ9CiAgICAgICAgICAgICk7CiAgICAgICAgICAgIG1hcmtlcl8xODE2NWRiZTJiOWY0YmZjYjhiZjgxMWEwYzEzYTFlZS5zZXRJY29uKGljb25fNGM2MDJiZmEzNGVlNDU3MDk1YmFmNTdkMjU2MDBjZGMpOwogICAgICAgIAogICAgCiAgICAgICAgICAgIG1hcmtlcl8xODE2NWRiZTJiOWY0YmZjYjhiZjgxMWEwYzEzYTFlZS5iaW5kVG9vbHRpcCgKICAgICAgICAgICAgICAgIGA8ZGl2PgogICAgICAgICAgICAgICAgICAgICBDaGFybWluZyBFYXN0IFZpbGxhZ2UgT25lIEJlZHJvb20gRmxhdAogICAgICAgICAgICAgICAgIDwvZGl2PmAsCiAgICAgICAgICAgICAgICB7InN0aWNreSI6IHRydWV9CiAgICAgICAgICAgICk7CiAgICAgICAgCiAgICAKICAgICAgICAgICAgdmFyIG1hcmtlcl83YjA5MzIyY2VkMTU0MjkwOWEwYTllNDY2MTcxYjNkNCA9IEwubWFya2VyKAogICAgICAgICAgICAgICAgWzQwLjcxMTU0LCAtNzMuOTYxMTJdLAogICAgICAgICAgICAgICAge30KICAgICAgICAgICAgKS5hZGRUbyhtYXBfYTEwMTRiNjFlMWNiNGFjMjkyN2EyYTFjYWU4MzFiZDYpOwogICAgICAgIAogICAgCiAgICAgICAgICAgIHZhciBpY29uXzgzYTRjZGNlZGQ4MDQ1NTk5N2VhNjQ1ZWNlNmIyMDhjID0gTC5Bd2Vzb21lTWFya2Vycy5pY29uKAogICAgICAgICAgICAgICAgeyJleHRyYUNsYXNzZXMiOiAiZmEtcm90YXRlLTAiLCAiaWNvbiI6ICJpbmZvLXNpZ24iLCAiaWNvbkNvbG9yIjogIndoaXRlIiwgIm1hcmtlckNvbG9yIjogImRhcmtwdXJwbGUiLCAicHJlZml4IjogImdseXBoaWNvbiJ9CiAgICAgICAgICAgICk7CiAgICAgICAgICAgIG1hcmtlcl83YjA5MzIyY2VkMTU0MjkwOWEwYTllNDY2MTcxYjNkNC5zZXRJY29uKGljb25fODNhNGNkY2VkZDgwNDU1OTk3ZWE2NDVlY2U2YjIwOGMpOwogICAgICAgIAogICAgCiAgICAgICAgICAgIG1hcmtlcl83YjA5MzIyY2VkMTU0MjkwOWEwYTllNDY2MTcxYjNkNC5iaW5kVG9vbHRpcCgKICAgICAgICAgICAgICAgIGA8ZGl2PgogICAgICAgICAgICAgICAgICAgICBDb3p5IDIgQlIgaW4gV2lsbGlhbXNidXJnIAogICAgICAgICAgICAgICAgIDwvZGl2PmAsCiAgICAgICAgICAgICAgICB7InN0aWNreSI6IHRydWV9CiAgICAgICAgICAgICk7CiAgICAgICAgCiAgICAKICAgICAgICAgICAgdmFyIG1hcmtlcl8xNjU1YzgxMWUzNWQ0MTVhOTQ2MzA4OGM4OWY2NzBlMCA9IEwubWFya2VyKAogICAgICAgICAgICAgICAgWzQwLjgyOTE1LCAtNzMuOTUxMzZdLAogICAgICAgICAgICAgICAge30KICAgICAgICAgICAgKS5hZGRUbyhtYXBfYTEwMTRiNjFlMWNiNGFjMjkyN2EyYTFjYWU4MzFiZDYpOwogICAgICAgIAogICAgCiAgICAgICAgICAgIHZhciBpY29uXzYyOGJkMTA1YWEyMjQ4NGM5NzJkM2FhOTI3YzJiMjdiID0gTC5Bd2Vzb21lTWFya2Vycy5pY29uKAogICAgICAgICAgICAgICAgeyJleHRyYUNsYXNzZXMiOiAiZmEtcm90YXRlLTAiLCAiaWNvbiI6ICJpbmZvLXNpZ24iLCAiaWNvbkNvbG9yIjogIndoaXRlIiwgIm1hcmtlckNvbG9yIjogImRhcmtwdXJwbGUiLCAicHJlZml4IjogImdseXBoaWNvbiJ9CiAgICAgICAgICAgICk7CiAgICAgICAgICAgIG1hcmtlcl8xNjU1YzgxMWUzNWQ0MTVhOTQ2MzA4OGM4OWY2NzBlMC5zZXRJY29uKGljb25fNjI4YmQxMDVhYTIyNDg0Yzk3MmQzYWE5MjdjMmIyN2IpOwogICAgICAgIAogICAgCiAgICAgICAgICAgIG1hcmtlcl8xNjU1YzgxMWUzNWQ0MTVhOTQ2MzA4OGM4OWY2NzBlMC5iaW5kVG9vbHRpcCgKICAgICAgICAgICAgICAgIGA8ZGl2PgogICAgICAgICAgICAgICAgICAgICBTcGFjaW91cyBsdW1pbm91cyBhcHQgVXBwZXIgV2VzdCBOWUMKICAgICAgICAgICAgICAgICA8L2Rpdj5gLAogICAgICAgICAgICAgICAgeyJzdGlja3kiOiB0cnVlfQogICAgICAgICAgICApOwogICAgICAgIAogICAgCiAgICAgICAgICAgIHZhciBtYXJrZXJfNTQ0YmYwNTZjMjk1NDFlMWFiN2I4MWI3MTlhNjYzNDIgPSBMLm1hcmtlcigKICAgICAgICAgICAgICAgIFs0MC43MTE0LCAtNzMuOTg3OTQwMDAwMDAwMDFdLAogICAgICAgICAgICAgICAge30KICAgICAgICAgICAgKS5hZGRUbyhtYXBfYTEwMTRiNjFlMWNiNGFjMjkyN2EyYTFjYWU4MzFiZDYpOwogICAgICAgIAogICAgCiAgICAgICAgICAgIHZhciBpY29uX2MyODg2Zjk5YjdkMTQ5MDZhYTAyOTZjODQ5ZDFiMGYzID0gTC5Bd2Vzb21lTWFya2Vycy5pY29uKAogICAgICAgICAgICAgICAgeyJleHRyYUNsYXNzZXMiOiAiZmEtcm90YXRlLTAiLCAiaWNvbiI6ICJpbmZvLXNpZ24iLCAiaWNvbkNvbG9yIjogIndoaXRlIiwgIm1hcmtlckNvbG9yIjogImRhcmtwdXJwbGUiLCAicHJlZml4IjogImdseXBoaWNvbiJ9CiAgICAgICAgICAgICk7CiAgICAgICAgICAgIG1hcmtlcl81NDRiZjA1NmMyOTU0MWUxYWI3YjgxYjcxOWE2NjM0Mi5zZXRJY29uKGljb25fYzI4ODZmOTliN2QxNDkwNmFhMDI5NmM4NDlkMWIwZjMpOwogICAgICAgIAogICAgCiAgICAgICAgICAgIG1hcmtlcl81NDRiZjA1NmMyOTU0MWUxYWI3YjgxYjcxOWE2NjM0Mi5iaW5kVG9vbHRpcCgKICAgICAgICAgICAgICAgIGA8ZGl2PgogICAgICAgICAgICAgICAgICAgICBQcml2YXRlIHJvb20gR3JlYXQgRGVhbCBhdCBMb3dlciBFYXN0IFNpZGUKICAgICAgICAgICAgICAgICA8L2Rpdj5gLAogICAgICAgICAgICAgICAgeyJzdGlja3kiOiB0cnVlfQogICAgICAgICAgICApOwogICAgICAgIAogICAgCiAgICAgICAgICAgIHZhciBtYXJrZXJfYjNlYzA0ZjM5ZGJhNGViYzhhYjQxYTEyZTAzNjRhMmQgPSBMLm1hcmtlcigKICAgICAgICAgICAgICAgIFs0MC42ODIzMywgLTczLjk3MjYxXSwKICAgICAgICAgICAgICAgIHt9CiAgICAgICAgICAgICkuYWRkVG8obWFwX2ExMDE0YjYxZTFjYjRhYzI5MjdhMmExY2FlODMxYmQ2KTsKICAgICAgICAKICAgIAogICAgICAgICAgICB2YXIgaWNvbl85ZjY2OGU3ODE2NzA0NTAwYTViMjY0MzcxM2NmMjI5NiA9IEwuQXdlc29tZU1hcmtlcnMuaWNvbigKICAgICAgICAgICAgICAgIHsiZXh0cmFDbGFzc2VzIjogImZhLXJvdGF0ZS0wIiwgImljb24iOiAiaW5mby1zaWduIiwgImljb25Db2xvciI6ICJ3aGl0ZSIsICJtYXJrZXJDb2xvciI6ICJkYXJrcHVycGxlIiwgInByZWZpeCI6ICJnbHlwaGljb24ifQogICAgICAgICAgICApOwogICAgICAgICAgICBtYXJrZXJfYjNlYzA0ZjM5ZGJhNGViYzhhYjQxYTEyZTAzNjRhMmQuc2V0SWNvbihpY29uXzlmNjY4ZTc4MTY3MDQ1MDBhNWIyNjQzNzEzY2YyMjk2KTsKICAgICAgICAKICAgIAogICAgICAgICAgICBtYXJrZXJfYjNlYzA0ZjM5ZGJhNGViYzhhYjQxYTEyZTAzNjRhMmQuYmluZFRvb2x0aXAoCiAgICAgICAgICAgICAgICBgPGRpdj4KICAgICAgICAgICAgICAgICAgICAgU3BhY2lvdXMgUHJvc3BlY3QgSGVpZ2h0cyBBcGFydG1lbnQKICAgICAgICAgICAgICAgICA8L2Rpdj5gLAogICAgICAgICAgICAgICAgeyJzdGlja3kiOiB0cnVlfQogICAgICAgICAgICApOwogICAgICAgIAogICAgCiAgICAgICAgICAgIHZhciBtYXJrZXJfMjY0NDIxNDc4MWQwNGI4NTkxNjY3ZmYyMGExMTQ5NzcgPSBMLm1hcmtlcigKICAgICAgICAgICAgICAgIFs0MC42ODYzNCwgLTczLjk2NjAwMDAwMDAwMDAxXSwKICAgICAgICAgICAgICAgIHt9CiAgICAgICAgICAgICkuYWRkVG8obWFwX2ExMDE0YjYxZTFjYjRhYzI5MjdhMmExY2FlODMxYmQ2KTsKICAgICAgICAKICAgIAogICAgICAgICAgICB2YXIgaWNvbl85ODdhZGVlNmE3MTE0MjU1Yjk1M2RlMjk5MThiNDZiYyA9IEwuQXdlc29tZU1hcmtlcnMuaWNvbigKICAgICAgICAgICAgICAgIHsiZXh0cmFDbGFzc2VzIjogImZhLXJvdGF0ZS0wIiwgImljb24iOiAiaW5mby1zaWduIiwgImljb25Db2xvciI6ICJ3aGl0ZSIsICJtYXJrZXJDb2xvciI6ICJkYXJrcHVycGxlIiwgInByZWZpeCI6ICJnbHlwaGljb24ifQogICAgICAgICAgICApOwogICAgICAgICAgICBtYXJrZXJfMjY0NDIxNDc4MWQwNGI4NTkxNjY3ZmYyMGExMTQ5Nzcuc2V0SWNvbihpY29uXzk4N2FkZWU2YTcxMTQyNTViOTUzZGUyOTkxOGI0NmJjKTsKICAgICAgICAKICAgIAogICAgICAgICAgICBtYXJrZXJfMjY0NDIxNDc4MWQwNGI4NTkxNjY3ZmYyMGExMTQ5NzcuYmluZFRvb2x0aXAoCiAgICAgICAgICAgICAgICBgPGRpdj4KICAgICAgICAgICAgICAgICAgICAgTGFyZ2UgUGFybG9yIFJvb20sIExhbmRtYXJrIEhvbWUgMSBibG9jayB0byBQUkFUVAogICAgICAgICAgICAgICAgIDwvZGl2PmAsCiAgICAgICAgICAgICAgICB7InN0aWNreSI6IHRydWV9CiAgICAgICAgICAgICk7CiAgICAgICAgCiAgICAKICAgICAgICAgICAgdmFyIG1hcmtlcl9kZTBhOTlkMzRlOWE0OThlYjBkMjkzOTVjNjkxMTBlMiA9IEwubWFya2VyKAogICAgICAgICAgICAgICAgWzQwLjY4MDM1LCAtNzMuOTcxNjJdLAogICAgICAgICAgICAgICAge30KICAgICAgICAgICAgKS5hZGRUbyhtYXBfYTEwMTRiNjFlMWNiNGFjMjkyN2EyYTFjYWU4MzFiZDYpOwogICAgICAgIAogICAgCiAgICAgICAgICAgIHZhciBpY29uX2NhZWMzMDhiMjk2OTQyM2E5ZDM1OTJkYjEwNGUxOGE3ID0gTC5Bd2Vzb21lTWFya2Vycy5pY29uKAogICAgICAgICAgICAgICAgeyJleHRyYUNsYXNzZXMiOiAiZmEtcm90YXRlLTAiLCAiaWNvbiI6ICJpbmZvLXNpZ24iLCAiaWNvbkNvbG9yIjogIndoaXRlIiwgIm1hcmtlckNvbG9yIjogImRhcmtwdXJwbGUiLCAicHJlZml4IjogImdseXBoaWNvbiJ9CiAgICAgICAgICAgICk7CiAgICAgICAgICAgIG1hcmtlcl9kZTBhOTlkMzRlOWE0OThlYjBkMjkzOTVjNjkxMTBlMi5zZXRJY29uKGljb25fY2FlYzMwOGIyOTY5NDIzYTlkMzU5MmRiMTA0ZTE4YTcpOwogICAgICAgIAogICAgCiAgICAgICAgICAgIG1hcmtlcl9kZTBhOTlkMzRlOWE0OThlYjBkMjkzOTVjNjkxMTBlMi5iaW5kVG9vbHRpcCgKICAgICAgICAgICAgICAgIGA8ZGl2PgogICAgICAgICAgICAgICAgICAgICAyLWJlZCBicm93bnN0b25lIGR1cGxleCArIGdhcmRlbgogICAgICAgICAgICAgICAgIDwvZGl2PmAsCiAgICAgICAgICAgICAgICB7InN0aWNreSI6IHRydWV9CiAgICAgICAgICAgICk7CiAgICAgICAgCiAgICAKICAgICAgICAgICAgdmFyIG1hcmtlcl9lYmFhODZjOTI1YTE0ZDk5ODM3ZDQzMjgwYzEyZTdjMCA9IEwubWFya2VyKAogICAgICAgICAgICAgICAgWzQwLjc5NzY0LCAtNzMuOTYxNzddLAogICAgICAgICAgICAgICAge30KICAgICAgICAgICAgKS5hZGRUbyhtYXBfYTEwMTRiNjFlMWNiNGFjMjkyN2EyYTFjYWU4MzFiZDYpOwogICAgICAgIAogICAgCiAgICAgICAgICAgIHZhciBpY29uXzE5NDE5OTgyODljYjQ5ZTdhMjhjZGNhMWIxYzFjMzNkID0gTC5Bd2Vzb21lTWFya2Vycy5pY29uKAogICAgICAgICAgICAgICAgeyJleHRyYUNsYXNzZXMiOiAiZmEtcm90YXRlLTAiLCAiaWNvbiI6ICJpbmZvLXNpZ24iLCAiaWNvbkNvbG9yIjogIndoaXRlIiwgIm1hcmtlckNvbG9yIjogImRhcmtwdXJwbGUiLCAicHJlZml4IjogImdseXBoaWNvbiJ9CiAgICAgICAgICAgICk7CiAgICAgICAgICAgIG1hcmtlcl9lYmFhODZjOTI1YTE0ZDk5ODM3ZDQzMjgwYzEyZTdjMC5zZXRJY29uKGljb25fMTk0MTk5ODI4OWNiNDllN2EyOGNkY2ExYjFjMWMzM2QpOwogICAgICAgIAogICAgCiAgICAgICAgICAgIG1hcmtlcl9lYmFhODZjOTI1YTE0ZDk5ODM3ZDQzMjgwYzEyZTdjMC5iaW5kVG9vbHRpcCgKICAgICAgICAgICAgICAgIGA8ZGl2PgogICAgICAgICAgICAgICAgICAgICBMaWdodC1maWxsZWQgY2xhc3NpYyBDZW50cmFsIFBhcmsgCiAgICAgICAgICAgICAgICAgPC9kaXY+YCwKICAgICAgICAgICAgICAgIHsic3RpY2t5IjogdHJ1ZX0KICAgICAgICAgICAgKTsKICAgICAgICAKICAgIAogICAgICAgICAgICB2YXIgbWFya2VyXzZiYjgzM2M3ZGZhZDQ3MzA5OGY2ZWQxYWU1Yzc4YjU4ID0gTC5tYXJrZXIoCiAgICAgICAgICAgICAgICBbNDAuODIyNzkwMDAwMDAwMDA1LCAtNzMuOTUxMzldLAogICAgICAgICAgICAgICAge30KICAgICAgICAgICAgKS5hZGRUbyhtYXBfYTEwMTRiNjFlMWNiNGFjMjkyN2EyYTFjYWU4MzFiZDYpOwogICAgICAgIAogICAgCiAgICAgICAgICAgIHZhciBpY29uX2I2MWE4YmMyMzZhYzQ3ZTY4OWUwY2FhMjA2MGM5MThmID0gTC5Bd2Vzb21lTWFya2Vycy5pY29uKAogICAgICAgICAgICAgICAgeyJleHRyYUNsYXNzZXMiOiAiZmEtcm90YXRlLTAiLCAiaWNvbiI6ICJpbmZvLXNpZ24iLCAiaWNvbkNvbG9yIjogIndoaXRlIiwgIm1hcmtlckNvbG9yIjogImRhcmtwdXJwbGUiLCAicHJlZml4IjogImdseXBoaWNvbiJ9CiAgICAgICAgICAgICk7CiAgICAgICAgICAgIG1hcmtlcl82YmI4MzNjN2RmYWQ0NzMwOThmNmVkMWFlNWM3OGI1OC5zZXRJY29uKGljb25fYjYxYThiYzIzNmFjNDdlNjg5ZTBjYWEyMDYwYzkxOGYpOwogICAgICAgIAogICAgCiAgICAgICAgICAgIG1hcmtlcl82YmI4MzNjN2RmYWQ0NzMwOThmNmVkMWFlNWM3OGI1OC5iaW5kVG9vbHRpcCgKICAgICAgICAgICAgICAgIGA8ZGl2PgogICAgICAgICAgICAgICAgICAgICBsb2Z0IGJlZCAtIG5lYXIgdHJhbnNwb3J0YXRpb24tMTVtaW4gdG8gdGltZXMgc3EKICAgICAgICAgICAgICAgICA8L2Rpdj5gLAogICAgICAgICAgICAgICAgeyJzdGlja3kiOiB0cnVlfQogICAgICAgICAgICApOwogICAgICAgIAogICAgCiAgICAgICAgICAgIHZhciBtYXJrZXJfYTVkYzI3NmYyNWVmNGVkMjhkNzQzZjBjNjYwYTI2NjcgPSBMLm1hcmtlcigKICAgICAgICAgICAgICAgIFs0MC43MzA5NTk5OTk5OTk5OTYsIC03NC4wMDMxOV0sCiAgICAgICAgICAgICAgICB7fQogICAgICAgICAgICApLmFkZFRvKG1hcF9hMTAxNGI2MWUxY2I0YWMyOTI3YTJhMWNhZTgzMWJkNik7CiAgICAgICAgCiAgICAKICAgICAgICAgICAgdmFyIGljb25fZjRmZjM5MDcwZWExNDliOWI4ZDQyY2VmNGFmNDVjNWYgPSBMLkF3ZXNvbWVNYXJrZXJzLmljb24oCiAgICAgICAgICAgICAgICB7ImV4dHJhQ2xhc3NlcyI6ICJmYS1yb3RhdGUtMCIsICJpY29uIjogImluZm8tc2lnbiIsICJpY29uQ29sb3IiOiAid2hpdGUiLCAibWFya2VyQ29sb3IiOiAiZGFya3B1cnBsZSIsICJwcmVmaXgiOiAiZ2x5cGhpY29uIn0KICAgICAgICAgICAgKTsKICAgICAgICAgICAgbWFya2VyX2E1ZGMyNzZmMjVlZjRlZDI4ZDc0M2YwYzY2MGEyNjY3LnNldEljb24oaWNvbl9mNGZmMzkwNzBlYTE0OWI5YjhkNDJjZWY0YWY0NWM1Zik7CiAgICAgICAgCiAgICAKICAgICAgICAgICAgbWFya2VyX2E1ZGMyNzZmMjVlZjRlZDI4ZDc0M2YwYzY2MGEyNjY3LmJpbmRUb29sdGlwKAogICAgICAgICAgICAgICAgYDxkaXY+CiAgICAgICAgICAgICAgICAgICAgIDIwMDAgU0YgM2JyIDJiYXRoIFdlc3QgVmlsbGFnZSBwcml2YXRlICB0b3duaG91c2UKICAgICAgICAgICAgICAgICA8L2Rpdj5gLAogICAgICAgICAgICAgICAgeyJzdGlja3kiOiB0cnVlfQogICAgICAgICAgICApOwogICAgICAgIAogICAgCiAgICAgICAgICAgIHZhciBtYXJrZXJfYmY5Yzk4ZjBjNTQyNDg2Nzg1MDU1ZjY0ZDBjZWY3MjIgPSBMLm1hcmtlcigKICAgICAgICAgICAgICAgIFs0MC43MTMzMiwgLTczLjk0MTc2OTk5OTk5OTk5XSwKICAgICAgICAgICAgICAgIHt9CiAgICAgICAgICAgICkuYWRkVG8obWFwX2ExMDE0YjYxZTFjYjRhYzI5MjdhMmExY2FlODMxYmQ2KTsKICAgICAgICAKICAgIAogICAgICAgICAgICB2YXIgaWNvbl9kY2NlZjI1Mzg5OGI0ZjFjYjVkODM5ZGU4MGM5YzZjNCA9IEwuQXdlc29tZU1hcmtlcnMuaWNvbigKICAgICAgICAgICAgICAgIHsiZXh0cmFDbGFzc2VzIjogImZhLXJvdGF0ZS0wIiwgImljb24iOiAiaW5mby1zaWduIiwgImljb25Db2xvciI6ICJ3aGl0ZSIsICJtYXJrZXJDb2xvciI6ICJkYXJrcHVycGxlIiwgInByZWZpeCI6ICJnbHlwaGljb24ifQogICAgICAgICAgICApOwogICAgICAgICAgICBtYXJrZXJfYmY5Yzk4ZjBjNTQyNDg2Nzg1MDU1ZjY0ZDBjZWY3MjIuc2V0SWNvbihpY29uX2RjY2VmMjUzODk4YjRmMWNiNWQ4MzlkZTgwYzljNmM0KTsKICAgICAgICAKICAgIAogICAgICAgICAgICBtYXJrZXJfYmY5Yzk4ZjBjNTQyNDg2Nzg1MDU1ZjY0ZDBjZWY3MjIuYmluZFRvb2x0aXAoCiAgICAgICAgICAgICAgICBgPGRpdj4KICAgICAgICAgICAgICAgICAgICAgV2lsbGlhbXNidXJn4oCUU3RlcHMgVG8gU3Vid2F5LCBQcml2YXRlIEJhdGgmQmFsY29ueQogICAgICAgICAgICAgICAgIDwvZGl2PmAsCiAgICAgICAgICAgICAgICB7InN0aWNreSI6IHRydWV9CiAgICAgICAgICAgICk7CiAgICAgICAgCiAgICAKICAgICAgICAgICAgdmFyIG1hcmtlcl8zMTkwMWVjYTlkZjI0NzU3OTJiOTIzM2I3NmUyMTIwNSA9IEwubWFya2VyKAogICAgICAgICAgICAgICAgWzQwLjcxNDU5LCAtNzMuOTQ4NDRdLAogICAgICAgICAgICAgICAge30KICAgICAgICAgICAgKS5hZGRUbyhtYXBfYTEwMTRiNjFlMWNiNGFjMjkyN2EyYTFjYWU4MzFiZDYpOwogICAgICAgIAogICAgCiAgICAgICAgICAgIHZhciBpY29uXzA2NjlmZjBlMjg3YzRhYTI5ZTQ2NTEyN2I2OTQ1MmQwID0gTC5Bd2Vzb21lTWFya2Vycy5pY29uKAogICAgICAgICAgICAgICAgeyJleHRyYUNsYXNzZXMiOiAiZmEtcm90YXRlLTAiLCAiaWNvbiI6ICJpbmZvLXNpZ24iLCAiaWNvbkNvbG9yIjogIndoaXRlIiwgIm1hcmtlckNvbG9yIjogImRhcmtwdXJwbGUiLCAicHJlZml4IjogImdseXBoaWNvbiJ9CiAgICAgICAgICAgICk7CiAgICAgICAgICAgIG1hcmtlcl8zMTkwMWVjYTlkZjI0NzU3OTJiOTIzM2I3NmUyMTIwNS5zZXRJY29uKGljb25fMDY2OWZmMGUyODdjNGFhMjllNDY1MTI3YjY5NDUyZDApOwogICAgICAgIAogICAgCiAgICAgICAgICAgIG1hcmtlcl8zMTkwMWVjYTlkZjI0NzU3OTJiOTIzM2I3NmUyMTIwNS5iaW5kVG9vbHRpcCgKICAgICAgICAgICAgICAgIGA8ZGl2PgogICAgICAgICAgICAgICAgICAgICBNb2Rlcm4gQnJvb2tseW4gQXB0LiwgQXVndXN0IHN1YmxldAogICAgICAgICAgICAgICAgIDwvZGl2PmAsCiAgICAgICAgICAgICAgICB7InN0aWNreSI6IHRydWV9CiAgICAgICAgICAgICk7CiAgICAgICAgCiAgICAKICAgICAgICAgICAgdmFyIG1hcmtlcl9mY2NhODg5NWQ0MGI0Nzk3OWU1NTFmMDUyNjI5NDIzZiA9IEwubWFya2VyKAogICAgICAgICAgICAgICAgWzQwLjY4MTU3LCAtNzMuOTg5ODldLAogICAgICAgICAgICAgICAge30KICAgICAgICAgICAgKS5hZGRUbyhtYXBfYTEwMTRiNjFlMWNiNGFjMjkyN2EyYTFjYWU4MzFiZDYpOwogICAgICAgIAogICAgCiAgICAgICAgICAgIHZhciBpY29uXzhjNmQ0ZjBhOWY5MDRmOWU4ZWQzZThiZGM5MjRiMDE0ID0gTC5Bd2Vzb21lTWFya2Vycy5pY29uKAogICAgICAgICAgICAgICAgeyJleHRyYUNsYXNzZXMiOiAiZmEtcm90YXRlLTAiLCAiaWNvbiI6ICJpbmZvLXNpZ24iLCAiaWNvbkNvbG9yIjogIndoaXRlIiwgIm1hcmtlckNvbG9yIjogImRhcmtwdXJwbGUiLCAicHJlZml4IjogImdseXBoaWNvbiJ9CiAgICAgICAgICAgICk7CiAgICAgICAgICAgIG1hcmtlcl9mY2NhODg5NWQ0MGI0Nzk3OWU1NTFmMDUyNjI5NDIzZi5zZXRJY29uKGljb25fOGM2ZDRmMGE5ZjkwNGY5ZThlZDNlOGJkYzkyNGIwMTQpOwogICAgICAgIAogICAgCiAgICAgICAgICAgIG1hcmtlcl9mY2NhODg5NWQ0MGI0Nzk3OWU1NTFmMDUyNjI5NDIzZi5iaW5kVG9vbHRpcCgKICAgICAgICAgICAgICAgIGA8ZGl2PgogICAgICAgICAgICAgICAgICAgICBTdW5ueSAyLXN0b3J5IEJyb29rbHluIHRvd25ob3VzZSB3IGRlY2sgYW5kIGdhcmRlbgogICAgICAgICAgICAgICAgIDwvZGl2PmAsCiAgICAgICAgICAgICAgICB7InN0aWNreSI6IHRydWV9CiAgICAgICAgICAgICk7CiAgICAgICAgCiAgICAKICAgICAgICAgICAgdmFyIG1hcmtlcl81NzFjNjZjYjJlYjQ0MDIyYTYyY2UzNzU1MzEyZTFkMiA9IEwubWFya2VyKAogICAgICAgICAgICAgICAgWzQwLjc1NTI3LCAtNzMuOTkyOTFdLAogICAgICAgICAgICAgICAge30KICAgICAgICAgICAgKS5hZGRUbyhtYXBfYTEwMTRiNjFlMWNiNGFjMjkyN2EyYTFjYWU4MzFiZDYpOwogICAgICAgIAogICAgCiAgICAgICAgICAgIHZhciBpY29uX2FmYTM2MjQ4YzRmYjQ3NTc5OGJjNTdlN2I1ODg4YzliID0gTC5Bd2Vzb21lTWFya2Vycy5pY29uKAogICAgICAgICAgICAgICAgeyJleHRyYUNsYXNzZXMiOiAiZmEtcm90YXRlLTAiLCAiaWNvbiI6ICJpbmZvLXNpZ24iLCAiaWNvbkNvbG9yIjogIndoaXRlIiwgIm1hcmtlckNvbG9yIjogImRhcmtwdXJwbGUiLCAicHJlZml4IjogImdseXBoaWNvbiJ9CiAgICAgICAgICAgICk7CiAgICAgICAgICAgIG1hcmtlcl81NzFjNjZjYjJlYjQ0MDIyYTYyY2UzNzU1MzEyZTFkMi5zZXRJY29uKGljb25fYWZhMzYyNDhjNGZiNDc1Nzk4YmM1N2U3YjU4ODhjOWIpOwogICAgICAgIAogICAgCiAgICAgICAgICAgIG1hcmtlcl81NzFjNjZjYjJlYjQ0MDIyYTYyY2UzNzU1MzEyZTFkMi5iaW5kVG9vbHRpcCgKICAgICAgICAgICAgICAgIGA8ZGl2PgogICAgICAgICAgICAgICAgICAgICBUaW1lcyBTcXVhcmUsIFNhZmUsIENsZWFuIGFuZCBDb3p5IQogICAgICAgICAgICAgICAgIDwvZGl2PmAsCiAgICAgICAgICAgICAgICB7InN0aWNreSI6IHRydWV9CiAgICAgICAgICAgICk7CiAgICAgICAgCiAgICAKICAgICAgICAgICAgdmFyIG1hcmtlcl8yZjBjYTVkYzgwZGM0YmJhYjhjZDdlNzZmM2Q5OTRkOSA9IEwubWFya2VyKAogICAgICAgICAgICAgICAgWzQwLjY4Njk4LCAtNzMuOTY1NzE5OTk5OTk5OTldLAogICAgICAgICAgICAgICAge30KICAgICAgICAgICAgKS5hZGRUbyhtYXBfYTEwMTRiNjFlMWNiNGFjMjkyN2EyYTFjYWU4MzFiZDYpOwogICAgICAgIAogICAgCiAgICAgICAgICAgIHZhciBpY29uXzM0OTVkODRmZjNhYjQzMGFiNDVhNjBhN2EzYzMzZDY0ID0gTC5Bd2Vzb21lTWFya2Vycy5pY29uKAogICAgICAgICAgICAgICAgeyJleHRyYUNsYXNzZXMiOiAiZmEtcm90YXRlLTAiLCAiaWNvbiI6ICJpbmZvLXNpZ24iLCAiaWNvbkNvbG9yIjogIndoaXRlIiwgIm1hcmtlckNvbG9yIjogImRhcmtwdXJwbGUiLCAicHJlZml4IjogImdseXBoaWNvbiJ9CiAgICAgICAgICAgICk7CiAgICAgICAgICAgIG1hcmtlcl8yZjBjYTVkYzgwZGM0YmJhYjhjZDdlNzZmM2Q5OTRkOS5zZXRJY29uKGljb25fMzQ5NWQ4NGZmM2FiNDMwYWI0NWE2MGE3YTNjMzNkNjQpOwogICAgICAgIAogICAgCiAgICAgICAgICAgIG1hcmtlcl8yZjBjYTVkYzgwZGM0YmJhYjhjZDdlNzZmM2Q5OTRkOS5iaW5kVG9vbHRpcCgKICAgICAgICAgICAgICAgIGA8ZGl2PgogICAgICAgICAgICAgICAgICAgICBDb3p5IFJvb20gIzMsIExhbmRtYXJrIEhvbWUgMSBCbG9jayB0byBQUkFUVAogICAgICAgICAgICAgICAgIDwvZGl2PmAsCiAgICAgICAgICAgICAgICB7InN0aWNreSI6IHRydWV9CiAgICAgICAgICAgICk7CiAgICAgICAgCiAgICAKICAgICAgICAgICAgdmFyIG1hcmtlcl8xMjdkMWE1NDA2MWM0MmRmYjI5NjYzMjgxZDBjMDExZiA9IEwubWFya2VyKAogICAgICAgICAgICAgICAgWzQwLjcyODgsIC03My45ODE5Ml0sCiAgICAgICAgICAgICAgICB7fQogICAgICAgICAgICApLmFkZFRvKG1hcF9hMTAxNGI2MWUxY2I0YWMyOTI3YTJhMWNhZTgzMWJkNik7CiAgICAgICAgCiAgICAKICAgICAgICAgICAgdmFyIGljb25fM2I3ZGY4ZGE3MjZkNGQ1YmJiNzllMDM2NmRhYTVmMDggPSBMLkF3ZXNvbWVNYXJrZXJzLmljb24oCiAgICAgICAgICAgICAgICB7ImV4dHJhQ2xhc3NlcyI6ICJmYS1yb3RhdGUtMCIsICJpY29uIjogImluZm8tc2lnbiIsICJpY29uQ29sb3IiOiAid2hpdGUiLCAibWFya2VyQ29sb3IiOiAiZGFya3B1cnBsZSIsICJwcmVmaXgiOiAiZ2x5cGhpY29uIn0KICAgICAgICAgICAgKTsKICAgICAgICAgICAgbWFya2VyXzEyN2QxYTU0MDYxYzQyZGZiMjk2NjMyODFkMGMwMTFmLnNldEljb24oaWNvbl8zYjdkZjhkYTcyNmQ0ZDViYmI3OWUwMzY2ZGFhNWYwOCk7CiAgICAgICAgCiAgICAKICAgICAgICAgICAgbWFya2VyXzEyN2QxYTU0MDYxYzQyZGZiMjk2NjMyODFkMGMwMTFmLmJpbmRUb29sdGlwKAogICAgICAgICAgICAgICAgYDxkaXY+CiAgICAgICAgICAgICAgICAgICAgIEJlYXV0aWZ1bCBBcGFydG1lbnQgRWFzdCBWaWxsYWdlCiAgICAgICAgICAgICAgICAgPC9kaXY+YCwKICAgICAgICAgICAgICAgIHsic3RpY2t5IjogdHJ1ZX0KICAgICAgICAgICAgKTsKICAgICAgICAKICAgIAogICAgICAgICAgICB2YXIgbWFya2VyXzBmYzY0MTNjNmE5YzRhMjc5OTIzMDY2ZTJlMDc4YmE2ID0gTC5tYXJrZXIoCiAgICAgICAgICAgICAgICBbNDAuNjY4NTMsIC03My45ODkxMl0sCiAgICAgICAgICAgICAgICB7fQogICAgICAgICAgICApLmFkZFRvKG1hcF9hMTAxNGI2MWUxY2I0YWMyOTI3YTJhMWNhZTgzMWJkNik7CiAgICAgICAgCiAgICAKICAgICAgICAgICAgdmFyIGljb25fMGE5OTE4ZjgxMTkxNDc4N2I0ZjI4YjNhNjJiYWFkNTkgPSBMLkF3ZXNvbWVNYXJrZXJzLmljb24oCiAgICAgICAgICAgICAgICB7ImV4dHJhQ2xhc3NlcyI6ICJmYS1yb3RhdGUtMCIsICJpY29uIjogImluZm8tc2lnbiIsICJpY29uQ29sb3IiOiAid2hpdGUiLCAibWFya2VyQ29sb3IiOiAiZGFya3B1cnBsZSIsICJwcmVmaXgiOiAiZ2x5cGhpY29uIn0KICAgICAgICAgICAgKTsKICAgICAgICAgICAgbWFya2VyXzBmYzY0MTNjNmE5YzRhMjc5OTIzMDY2ZTJlMDc4YmE2LnNldEljb24oaWNvbl8wYTk5MThmODExOTE0Nzg3YjRmMjhiM2E2MmJhYWQ1OSk7CiAgICAgICAgCiAgICAKICAgICAgICAgICAgbWFya2VyXzBmYzY0MTNjNmE5YzRhMjc5OTIzMDY2ZTJlMDc4YmE2LmJpbmRUb29sdGlwKAogICAgICAgICAgICAgICAgYDxkaXY+CiAgICAgICAgICAgICAgICAgICAgIFBhcmsgU2xvcGUgR3JlZW4gR3Vlc3QgSG91c2UKICAgICAgICAgICAgICAgICA8L2Rpdj5gLAogICAgICAgICAgICAgICAgeyJzdGlja3kiOiB0cnVlfQogICAgICAgICAgICApOwogICAgICAgIAogICAgCiAgICAgICAgICAgIHZhciBtYXJrZXJfYmYyODJjZDUwODkyNDk5YThhYTZmYzA4MmZmOTMwZDEgPSBMLm1hcmtlcigKICAgICAgICAgICAgICAgIFs0MC43NDI5NDAwMDAwMDAwMDQsIC03My45ODAwOV0sCiAgICAgICAgICAgICAgICB7fQogICAgICAgICAgICApLmFkZFRvKG1hcF9hMTAxNGI2MWUxY2I0YWMyOTI3YTJhMWNhZTgzMWJkNik7CiAgICAgICAgCiAgICAKICAgICAgICAgICAgdmFyIGljb25fOWY1NDRhZWU0ODk2NDJlZGI1YmE0NmNkYjNlNDg5YjYgPSBMLkF3ZXNvbWVNYXJrZXJzLmljb24oCiAgICAgICAgICAgICAgICB7ImV4dHJhQ2xhc3NlcyI6ICJmYS1yb3RhdGUtMCIsICJpY29uIjogImluZm8tc2lnbiIsICJpY29uQ29sb3IiOiAid2hpdGUiLCAibWFya2VyQ29sb3IiOiAiZGFya3B1cnBsZSIsICJwcmVmaXgiOiAiZ2x5cGhpY29uIn0KICAgICAgICAgICAgKTsKICAgICAgICAgICAgbWFya2VyX2JmMjgyY2Q1MDg5MjQ5OWE4YWE2ZmMwODJmZjkzMGQxLnNldEljb24oaWNvbl85ZjU0NGFlZTQ4OTY0MmVkYjViYTQ2Y2RiM2U0ODliNik7CiAgICAgICAgCiAgICAKICAgICAgICAgICAgbWFya2VyX2JmMjgyY2Q1MDg5MjQ5OWE4YWE2ZmMwODJmZjkzMGQxLmJpbmRUb29sdGlwKAogICAgICAgICAgICAgICAgYDxkaXY+CiAgICAgICAgICAgICAgICAgICAgIE5ZQyBmYWJ1bG91cyB2aWV3cyBNYW5oYXR0YW4ncyBleWUKICAgICAgICAgICAgICAgICA8L2Rpdj5gLAogICAgICAgICAgICAgICAgeyJzdGlja3kiOiB0cnVlfQogICAgICAgICAgICApOwogICAgICAgIAogICAgCiAgICAgICAgICAgIHZhciBtYXJrZXJfZDczMWU3MDFjOTY1NDViOTlkYWI0MmVjYjg2OWE5OGQgPSBMLm1hcmtlcigKICAgICAgICAgICAgICAgIFs0MC43NzgyMywgLTczLjk3NjM2OTk5OTk5OTk5XSwKICAgICAgICAgICAgICAgIHt9CiAgICAgICAgICAgICkuYWRkVG8obWFwX2ExMDE0YjYxZTFjYjRhYzI5MjdhMmExY2FlODMxYmQ2KTsKICAgICAgICAKICAgIAogICAgICAgICAgICB2YXIgaWNvbl8zYzMzMWZhNTFlOWE0M2ViYTgwNDNhZWRkODE5NmUwMCA9IEwuQXdlc29tZU1hcmtlcnMuaWNvbigKICAgICAgICAgICAgICAgIHsiZXh0cmFDbGFzc2VzIjogImZhLXJvdGF0ZS0wIiwgImljb24iOiAiaW5mby1zaWduIiwgImljb25Db2xvciI6ICJ3aGl0ZSIsICJtYXJrZXJDb2xvciI6ICJkYXJrcHVycGxlIiwgInByZWZpeCI6ICJnbHlwaGljb24ifQogICAgICAgICAgICApOwogICAgICAgICAgICBtYXJrZXJfZDczMWU3MDFjOTY1NDViOTlkYWI0MmVjYjg2OWE5OGQuc2V0SWNvbihpY29uXzNjMzMxZmE1MWU5YTQzZWJhODA0M2FlZGQ4MTk2ZTAwKTsKICAgICAgICAKICAgIAogICAgICAgICAgICBtYXJrZXJfZDczMWU3MDFjOTY1NDViOTlkYWI0MmVjYjg2OWE5OGQuYmluZFRvb2x0aXAoCiAgICAgICAgICAgICAgICBgPGRpdj4KICAgICAgICAgICAgICAgICAgICAgQ29tZm9ydGFibGUgVVdTIDItQkQgRmFtaWx5LUZyaWVuZGx5IEJyb3duc3RvbmUKICAgICAgICAgICAgICAgICA8L2Rpdj5gLAogICAgICAgICAgICAgICAgeyJzdGlja3kiOiB0cnVlfQogICAgICAgICAgICApOwogICAgICAgIAogICAgCiAgICAgICAgICAgIHZhciBtYXJrZXJfZGQ0MzAxOTQ3ZTRhNGM2NGFjZmQyNWY5ZTc4Yjg0ZjYgPSBMLm1hcmtlcigKICAgICAgICAgICAgICAgIFs0MC42NjQ5OSwgLTczLjk3OTI1XSwKICAgICAgICAgICAgICAgIHt9CiAgICAgICAgICAgICkuYWRkVG8obWFwX2ExMDE0YjYxZTFjYjRhYzI5MjdhMmExY2FlODMxYmQ2KTsKICAgICAgICAKICAgIAogICAgICAgICAgICB2YXIgaWNvbl81YTIwNTY0OGUyOWQ0NzE5YWUxMGYyZjA0YzJhYWVkMSA9IEwuQXdlc29tZU1hcmtlcnMuaWNvbigKICAgICAgICAgICAgICAgIHsiZXh0cmFDbGFzc2VzIjogImZhLXJvdGF0ZS0wIiwgImljb24iOiAiaW5mby1zaWduIiwgImljb25Db2xvciI6ICJ3aGl0ZSIsICJtYXJrZXJDb2xvciI6ICJkYXJrcHVycGxlIiwgInByZWZpeCI6ICJnbHlwaGljb24ifQogICAgICAgICAgICApOwogICAgICAgICAgICBtYXJrZXJfZGQ0MzAxOTQ3ZTRhNGM2NGFjZmQyNWY5ZTc4Yjg0ZjYuc2V0SWNvbihpY29uXzVhMjA1NjQ4ZTI5ZDQ3MTlhZTEwZjJmMDRjMmFhZWQxKTsKICAgICAgICAKICAgIAogICAgICAgICAgICBtYXJrZXJfZGQ0MzAxOTQ3ZTRhNGM2NGFjZmQyNWY5ZTc4Yjg0ZjYuYmluZFRvb2x0aXAoCiAgICAgICAgICAgICAgICBgPGRpdj4KICAgICAgICAgICAgICAgICAgICAgMyBTdG9yeSBUb3duIEhvdXNlIGluIFBhcmsgU2xvcGUKICAgICAgICAgICAgICAgICA8L2Rpdj5gLAogICAgICAgICAgICAgICAgeyJzdGlja3kiOiB0cnVlfQogICAgICAgICAgICApOwogICAgICAgIAogICAgCiAgICAgICAgICAgIHZhciBtYXJrZXJfY2FiMTU2YmNmYTZlNDgwMjg1ZTcxNDQ2ZTIyYWU1MTEgPSBMLm1hcmtlcigKICAgICAgICAgICAgICAgIFs0MC43Nzg0MjAwMDAwMDAwMDQsIC03My45NzU1Nl0sCiAgICAgICAgICAgICAgICB7fQogICAgICAgICAgICApLmFkZFRvKG1hcF9hMTAxNGI2MWUxY2I0YWMyOTI3YTJhMWNhZTgzMWJkNik7CiAgICAgICAgCiAgICAKICAgICAgICAgICAgdmFyIGljb25fZWNkY2UwNzA1N2Y4NGU0OWFjNGNkZTBhYjU0MDE4ZWIgPSBMLkF3ZXNvbWVNYXJrZXJzLmljb24oCiAgICAgICAgICAgICAgICB7ImV4dHJhQ2xhc3NlcyI6ICJmYS1yb3RhdGUtMCIsICJpY29uIjogImluZm8tc2lnbiIsICJpY29uQ29sb3IiOiAid2hpdGUiLCAibWFya2VyQ29sb3IiOiAiZGFya3B1cnBsZSIsICJwcmVmaXgiOiAiZ2x5cGhpY29uIn0KICAgICAgICAgICAgKTsKICAgICAgICAgICAgbWFya2VyX2NhYjE1NmJjZmE2ZTQ4MDI4NWU3MTQ0NmUyMmFlNTExLnNldEljb24oaWNvbl9lY2RjZTA3MDU3Zjg0ZTQ5YWM0Y2RlMGFiNTQwMThlYik7CiAgICAgICAgCiAgICAKICAgICAgICAgICAgbWFya2VyX2NhYjE1NmJjZmE2ZTQ4MDI4NWU3MTQ0NmUyMmFlNTExLmJpbmRUb29sdGlwKAogICAgICAgICAgICAgICAgYDxkaXY+CiAgICAgICAgICAgICAgICAgICAgIGFwYXJ0bWVudCBuZXh0IHRvIENlbnRyYWwgcGFyawogICAgICAgICAgICAgICAgIDwvZGl2PmAsCiAgICAgICAgICAgICAgICB7InN0aWNreSI6IHRydWV9CiAgICAgICAgICAgICk7CiAgICAgICAgCiAgICAKICAgICAgICAgICAgdmFyIG1hcmtlcl8zZmU2YmVkMzM5ODQ0ODI2YTQwYWM3ZDkyOTU1ZDZkMCA9IEwubWFya2VyKAogICAgICAgICAgICAgICAgWzQwLjc3OCwgLTczLjk0ODIxOTk5OTk5OTk5XSwKICAgICAgICAgICAgICAgIHt9CiAgICAgICAgICAgICkuYWRkVG8obWFwX2ExMDE0YjYxZTFjYjRhYzI5MjdhMmExY2FlODMxYmQ2KTsKICAgICAgICAKICAgIAogICAgICAgICAgICB2YXIgaWNvbl9mZDI1ODdlNDFiZWI0Nzk4YTU1YWU3NjM3NjhmNDQyOSA9IEwuQXdlc29tZU1hcmtlcnMuaWNvbigKICAgICAgICAgICAgICAgIHsiZXh0cmFDbGFzc2VzIjogImZhLXJvdGF0ZS0wIiwgImljb24iOiAiaW5mby1zaWduIiwgImljb25Db2xvciI6ICJ3aGl0ZSIsICJtYXJrZXJDb2xvciI6ICJkYXJrcHVycGxlIiwgInByZWZpeCI6ICJnbHlwaGljb24ifQogICAgICAgICAgICApOwogICAgICAgICAgICBtYXJrZXJfM2ZlNmJlZDMzOTg0NDgyNmE0MGFjN2Q5Mjk1NWQ2ZDAuc2V0SWNvbihpY29uX2ZkMjU4N2U0MWJlYjQ3OThhNTVhZTc2Mzc2OGY0NDI5KTsKICAgICAgICAKICAgIAogICAgICAgICAgICBtYXJrZXJfM2ZlNmJlZDMzOTg0NDgyNmE0MGFjN2Q5Mjk1NWQ2ZDAuYmluZFRvb2x0aXAoCiAgICAgICAgICAgICAgICBgPGRpdj4KICAgICAgICAgICAgICAgICAgICAgR2FyZGVuIHN0dWRpbyBpbiB0aGUgVXBwZXIgRWFzdCBTaWQKICAgICAgICAgICAgICAgICA8L2Rpdj5gLAogICAgICAgICAgICAgICAgeyJzdGlja3kiOiB0cnVlfQogICAgICAgICAgICApOwogICAgICAgIAogICAgCiAgICAgICAgICAgIHZhciBtYXJrZXJfZmU3NjI3ODcwNjc0NDM0MDhhNTc3MjY4NzYzOWQ0MjcgPSBMLm1hcmtlcigKICAgICAgICAgICAgICAgIFs0MC44MTYxNzk5OTk5OTk5OTYsIC03My45NDg5NDAwMDAwMDAwMV0sCiAgICAgICAgICAgICAgICB7fQogICAgICAgICAgICApLmFkZFRvKG1hcF9hMTAxNGI2MWUxY2I0YWMyOTI3YTJhMWNhZTgzMWJkNik7CiAgICAgICAgCiAgICAKICAgICAgICAgICAgdmFyIGljb25fYmIzYjhhODRlNWFhNGY1N2E2MmQ2ZWMwMzdhNjY1NmEgPSBMLkF3ZXNvbWVNYXJrZXJzLmljb24oCiAgICAgICAgICAgICAgICB7ImV4dHJhQ2xhc3NlcyI6ICJmYS1yb3RhdGUtMCIsICJpY29uIjogImluZm8tc2lnbiIsICJpY29uQ29sb3IiOiAid2hpdGUiLCAibWFya2VyQ29sb3IiOiAiZGFya3B1cnBsZSIsICJwcmVmaXgiOiAiZ2x5cGhpY29uIn0KICAgICAgICAgICAgKTsKICAgICAgICAgICAgbWFya2VyX2ZlNzYyNzg3MDY3NDQzNDA4YTU3NzI2ODc2MzlkNDI3LnNldEljb24oaWNvbl9iYjNiOGE4NGU1YWE0ZjU3YTYyZDZlYzAzN2E2NjU2YSk7CiAgICAgICAgCiAgICAKICAgICAgICAgICAgbWFya2VyX2ZlNzYyNzg3MDY3NDQzNDA4YTU3NzI2ODc2MzlkNDI3LmJpbmRUb29sdGlwKAogICAgICAgICAgICAgICAgYDxkaXY+CiAgICAgICAgICAgICAgICAgICAgIEFDQ09NTU9EQVRJT05TIEdBTE9SRSAjMQogICAgICAgICAgICAgICAgIDwvZGl2PmAsCiAgICAgICAgICAgICAgICB7InN0aWNreSI6IHRydWV9CiAgICAgICAgICAgICk7CiAgICAgICAgCiAgICAKICAgICAgICAgICAgdmFyIG1hcmtlcl81ODE1NTYwZTc3MzQ0ZjdlYWYxYjM4MTc1NGVkOTg5ZCA9IEwubWFya2VyKAogICAgICAgICAgICAgICAgWzQwLjcyMzkyLCAtNzMuOTkxNDMwMDAwMDAwMDFdLAogICAgICAgICAgICAgICAge30KICAgICAgICAgICAgKS5hZGRUbyhtYXBfYTEwMTRiNjFlMWNiNGFjMjkyN2EyYTFjYWU4MzFiZDYpOwogICAgICAgIAogICAgCiAgICAgICAgICAgIHZhciBpY29uXzA4ZTQ2YTk4Y2EyYTQ3ODdiMDY0MmM3M2VkYTY2ZjY4ID0gTC5Bd2Vzb21lTWFya2Vycy5pY29uKAogICAgICAgICAgICAgICAgeyJleHRyYUNsYXNzZXMiOiAiZmEtcm90YXRlLTAiLCAiaWNvbiI6ICJpbmZvLXNpZ24iLCAiaWNvbkNvbG9yIjogIndoaXRlIiwgIm1hcmtlckNvbG9yIjogImRhcmtwdXJwbGUiLCAicHJlZml4IjogImdseXBoaWNvbiJ9CiAgICAgICAgICAgICk7CiAgICAgICAgICAgIG1hcmtlcl81ODE1NTYwZTc3MzQ0ZjdlYWYxYjM4MTc1NGVkOTg5ZC5zZXRJY29uKGljb25fMDhlNDZhOThjYTJhNDc4N2IwNjQyYzczZWRhNjZmNjgpOwogICAgICAgIAogICAgCiAgICAgICAgICAgIG1hcmtlcl81ODE1NTYwZTc3MzQ0ZjdlYWYxYjM4MTc1NGVkOTg5ZC5iaW5kVG9vbHRpcCgKICAgICAgICAgICAgICAgIGA8ZGl2PgogICAgICAgICAgICAgICAgICAgICBTdHlsaXNoICYgU2xlZWsgQXBhcnRtZW50IE5lYXIgU29IbyEKICAgICAgICAgICAgICAgICA8L2Rpdj5gLAogICAgICAgICAgICAgICAgeyJzdGlja3kiOiB0cnVlfQogICAgICAgICAgICApOwogICAgICAgIAogICAgCiAgICAgICAgICAgIHZhciBtYXJrZXJfNDBmZDZhMzEwMGFjNDM5ZWFlMDc2Yjc2YzdjOGMyMjQgPSBMLm1hcmtlcigKICAgICAgICAgICAgICAgIFs0MC43Njc1NDAwMDAwMDAwMDQsIC03My45ODM5OV0sCiAgICAgICAgICAgICAgICB7fQogICAgICAgICAgICApLmFkZFRvKG1hcF9hMTAxNGI2MWUxY2I0YWMyOTI3YTJhMWNhZTgzMWJkNik7CiAgICAgICAgCiAgICAKICAgICAgICAgICAgdmFyIGljb25fMGQ4MDFiYTU5MTA0NGY4NjgxZGVmZGM2MGM0ODBmNDUgPSBMLkF3ZXNvbWVNYXJrZXJzLmljb24oCiAgICAgICAgICAgICAgICB7ImV4dHJhQ2xhc3NlcyI6ICJmYS1yb3RhdGUtMCIsICJpY29uIjogImluZm8tc2lnbiIsICJpY29uQ29sb3IiOiAid2hpdGUiLCAibWFya2VyQ29sb3IiOiAiZGFya3B1cnBsZSIsICJwcmVmaXgiOiAiZ2x5cGhpY29uIn0KICAgICAgICAgICAgKTsKICAgICAgICAgICAgbWFya2VyXzQwZmQ2YTMxMDBhYzQzOWVhZTA3NmI3NmM3YzhjMjI0LnNldEljb24oaWNvbl8wZDgwMWJhNTkxMDQ0Zjg2ODFkZWZkYzYwYzQ4MGY0NSk7CiAgICAgICAgCiAgICAKICAgICAgICAgICAgbWFya2VyXzQwZmQ2YTMxMDBhYzQzOWVhZTA3NmI3NmM3YzhjMjI0LmJpbmRUb29sdGlwKAogICAgICAgICAgICAgICAgYDxkaXY+CiAgICAgICAgICAgICAgICAgICAgIE1vc3QgQ2VudHJhbCBMb2NhdGlvbiEKICAgICAgICAgICAgICAgICA8L2Rpdj5gLAogICAgICAgICAgICAgICAgeyJzdGlja3kiOiB0cnVlfQogICAgICAgICAgICApOwogICAgICAgIAogICAgCiAgICAgICAgICAgIHZhciBtYXJrZXJfNGIyYzE2Yjk1Y2UxNGQ5MjhjMjg0OTQ2MjRjYmE0MjYgPSBMLm1hcmtlcigKICAgICAgICAgICAgICAgIFs0MC42MzE4Nzk5OTk5OTk5OTUsIC03My45MzI0OF0sCiAgICAgICAgICAgICAgICB7fQogICAgICAgICAgICApLmFkZFRvKG1hcF9hMTAxNGI2MWUxY2I0YWMyOTI3YTJhMWNhZTgzMWJkNik7CiAgICAgICAgCiAgICAKICAgICAgICAgICAgdmFyIGljb25fYmMwMzI2ZTEzZDA0NDg0MDljMmMxMjQ2MGQyOWU3MjkgPSBMLkF3ZXNvbWVNYXJrZXJzLmljb24oCiAgICAgICAgICAgICAgICB7ImV4dHJhQ2xhc3NlcyI6ICJmYS1yb3RhdGUtMCIsICJpY29uIjogImluZm8tc2lnbiIsICJpY29uQ29sb3IiOiAid2hpdGUiLCAibWFya2VyQ29sb3IiOiAiZGFya3B1cnBsZSIsICJwcmVmaXgiOiAiZ2x5cGhpY29uIn0KICAgICAgICAgICAgKTsKICAgICAgICAgICAgbWFya2VyXzRiMmMxNmI5NWNlMTRkOTI4YzI4NDk0NjI0Y2JhNDI2LnNldEljb24oaWNvbl9iYzAzMjZlMTNkMDQ0ODQwOWMyYzEyNDYwZDI5ZTcyOSk7CiAgICAgICAgCiAgICAKICAgICAgICAgICAgbWFya2VyXzRiMmMxNmI5NWNlMTRkOTI4YzI4NDk0NjI0Y2JhNDI2LmJpbmRUb29sdGlwKAogICAgICAgICAgICAgICAgYDxkaXY+CiAgICAgICAgICAgICAgICAgICAgIFNhbmN0dWFyeSBpbiBFYXN0IEZsYXRidXNoCiAgICAgICAgICAgICAgICAgPC9kaXY+YCwKICAgICAgICAgICAgICAgIHsic3RpY2t5IjogdHJ1ZX0KICAgICAgICAgICAgKTsKICAgICAgICAKICAgIAogICAgICAgICAgICB2YXIgbWFya2VyX2ZhNTMxN2EyMDliZDQ2OTZiOWFmYThiZjc0YzZjN2YxID0gTC5tYXJrZXIoCiAgICAgICAgICAgICAgICBbNDAuNjg3MywgLTczLjk2MzRdLAogICAgICAgICAgICAgICAge30KICAgICAgICAgICAgKS5hZGRUbyhtYXBfYTEwMTRiNjFlMWNiNGFjMjkyN2EyYTFjYWU4MzFiZDYpOwogICAgICAgIAogICAgCiAgICAgICAgICAgIHZhciBpY29uXzY5ZDg5NTU0YWY4OTRjNmY5OTg2NzY2ZTgzODI0YzBjID0gTC5Bd2Vzb21lTWFya2Vycy5pY29uKAogICAgICAgICAgICAgICAgeyJleHRyYUNsYXNzZXMiOiAiZmEtcm90YXRlLTAiLCAiaWNvbiI6ICJpbmZvLXNpZ24iLCAiaWNvbkNvbG9yIjogIndoaXRlIiwgIm1hcmtlckNvbG9yIjogImRhcmtwdXJwbGUiLCAicHJlZml4IjogImdseXBoaWNvbiJ9CiAgICAgICAgICAgICk7CiAgICAgICAgICAgIG1hcmtlcl9mYTUzMTdhMjA5YmQ0Njk2YjlhZmE4YmY3NGM2YzdmMS5zZXRJY29uKGljb25fNjlkODk1NTRhZjg5NGM2Zjk5ODY3NjZlODM4MjRjMGMpOwogICAgICAgIAogICAgCiAgICAgICAgICAgIG1hcmtlcl9mYTUzMTdhMjA5YmQ0Njk2YjlhZmE4YmY3NGM2YzdmMS5iaW5kVG9vbHRpcCgKICAgICAgICAgICAgICAgIGA8ZGl2PgogICAgICAgICAgICAgICAgICAgICBSb29tIHdpdGggRW4gU3VpdGUgQmF0aHJvb20gJiBEZWNrCiAgICAgICAgICAgICAgICAgPC9kaXY+YCwKICAgICAgICAgICAgICAgIHsic3RpY2t5IjogdHJ1ZX0KICAgICAgICAgICAgKTsKICAgICAgICAKICAgIAogICAgICAgICAgICB2YXIgbWFya2VyX2ZlNjdjMmM1ZDYyNTQ2YTViNGJiZGI0ZTIxYzg3Y2UxID0gTC5tYXJrZXIoCiAgICAgICAgICAgICAgICBbNDAuNjgyOTU5OTk5OTk5OTk0LCAtNzMuOTM2NjE5OTk5OTk5OTldLAogICAgICAgICAgICAgICAge30KICAgICAgICAgICAgKS5hZGRUbyhtYXBfYTEwMTRiNjFlMWNiNGFjMjkyN2EyYTFjYWU4MzFiZDYpOwogICAgICAgIAogICAgCiAgICAgICAgICAgIHZhciBpY29uXzRkZWQ2YjQ3NWRhMTQ5YTBhZDQxOGNhNTM4M2ExMjAyID0gTC5Bd2Vzb21lTWFya2Vycy5pY29uKAogICAgICAgICAgICAgICAgeyJleHRyYUNsYXNzZXMiOiAiZmEtcm90YXRlLTAiLCAiaWNvbiI6ICJpbmZvLXNpZ24iLCAiaWNvbkNvbG9yIjogIndoaXRlIiwgIm1hcmtlckNvbG9yIjogImRhcmtwdXJwbGUiLCAicHJlZml4IjogImdseXBoaWNvbiJ9CiAgICAgICAgICAgICk7CiAgICAgICAgICAgIG1hcmtlcl9mZTY3YzJjNWQ2MjU0NmE1YjRiYmRiNGUyMWM4N2NlMS5zZXRJY29uKGljb25fNGRlZDZiNDc1ZGExNDlhMGFkNDE4Y2E1MzgzYTEyMDIpOwogICAgICAgIAogICAgCiAgICAgICAgICAgIG1hcmtlcl9mZTY3YzJjNWQ2MjU0NmE1YjRiYmRiNGUyMWM4N2NlMS5iaW5kVG9vbHRpcCgKICAgICAgICAgICAgICAgIGA8ZGl2PgogICAgICAgICAgICAgICAgICAgICBGTEFUIE1BQ0RPTk9VR0gKICAgICAgICAgICAgICAgICA8L2Rpdj5gLAogICAgICAgICAgICAgICAgeyJzdGlja3kiOiB0cnVlfQogICAgICAgICAgICApOwogICAgICAgIAogICAgCiAgICAgICAgICAgIHZhciBtYXJrZXJfNzIwYTQwNTVkZGU1NDczOGFlYTllZmI4OWE1MmMzMGIgPSBMLm1hcmtlcigKICAgICAgICAgICAgICAgIFs0MC42ODI4MDk5OTk5OTk5OTYsIC03My45MzUyNDAwMDAwMDAwMV0sCiAgICAgICAgICAgICAgICB7fQogICAgICAgICAgICApLmFkZFRvKG1hcF9hMTAxNGI2MWUxY2I0YWMyOTI3YTJhMWNhZTgzMWJkNik7CiAgICAgICAgCiAgICAKICAgICAgICAgICAgdmFyIGljb25fNjVhMTU0YmJjNzA2NGJiYzk4ZWM3OWNlZGYxYzQ5NWQgPSBMLkF3ZXNvbWVNYXJrZXJzLmljb24oCiAgICAgICAgICAgICAgICB7ImV4dHJhQ2xhc3NlcyI6ICJmYS1yb3RhdGUtMCIsICJpY29uIjogImluZm8tc2lnbiIsICJpY29uQ29sb3IiOiAid2hpdGUiLCAibWFya2VyQ29sb3IiOiAiZGFya3B1cnBsZSIsICJwcmVmaXgiOiAiZ2x5cGhpY29uIn0KICAgICAgICAgICAgKTsKICAgICAgICAgICAgbWFya2VyXzcyMGE0MDU1ZGRlNTQ3MzhhZWE5ZWZiODlhNTJjMzBiLnNldEljb24oaWNvbl82NWExNTRiYmM3MDY0YmJjOThlYzc5Y2VkZjFjNDk1ZCk7CiAgICAgICAgCiAgICAKICAgICAgICAgICAgbWFya2VyXzcyMGE0MDU1ZGRlNTQ3MzhhZWE5ZWZiODlhNTJjMzBiLmJpbmRUb29sdGlwKAogICAgICAgICAgICAgICAgYDxkaXY+CiAgICAgICAgICAgICAgICAgICAgIEZMQVQgTUFDRE9OT1VHSCBHQVJERU4KICAgICAgICAgICAgICAgICA8L2Rpdj5gLAogICAgICAgICAgICAgICAgeyJzdGlja3kiOiB0cnVlfQogICAgICAgICAgICApOwogICAgICAgIAogICAgCiAgICAgICAgICAgIHZhciBtYXJrZXJfMDUwOGI2YjU4OWQ1NGMzNDg2NzAzY2Q3ZTZhZDE2MTYgPSBMLm1hcmtlcigKICAgICAgICAgICAgICAgIFs0MC43MTU5NTk5OTk5OTk5OTUsIC03My45MzkzOF0sCiAgICAgICAgICAgICAgICB7fQogICAgICAgICAgICApLmFkZFRvKG1hcF9hMTAxNGI2MWUxY2I0YWMyOTI3YTJhMWNhZTgzMWJkNik7CiAgICAgICAgCiAgICAKICAgICAgICAgICAgdmFyIGljb25fYzMwZjA2NTkxMmVjNDE2NmFiMjY2MjIwNTI3OTdkMWQgPSBMLkF3ZXNvbWVNYXJrZXJzLmljb24oCiAgICAgICAgICAgICAgICB7ImV4dHJhQ2xhc3NlcyI6ICJmYS1yb3RhdGUtMCIsICJpY29uIjogImluZm8tc2lnbiIsICJpY29uQ29sb3IiOiAid2hpdGUiLCAibWFya2VyQ29sb3IiOiAiZGFya3B1cnBsZSIsICJwcmVmaXgiOiAiZ2x5cGhpY29uIn0KICAgICAgICAgICAgKTsKICAgICAgICAgICAgbWFya2VyXzA1MDhiNmI1ODlkNTRjMzQ4NjcwM2NkN2U2YWQxNjE2LnNldEljb24oaWNvbl9jMzBmMDY1OTEyZWM0MTY2YWIyNjYyMjA1Mjc5N2QxZCk7CiAgICAgICAgCiAgICAKICAgICAgICAgICAgbWFya2VyXzA1MDhiNmI1ODlkNTRjMzQ4NjcwM2NkN2U2YWQxNjE2LmJpbmRUb29sdGlwKAogICAgICAgICAgICAgICAgYDxkaXY+CiAgICAgICAgICAgICAgICAgICAgIExpZ2h0IGZpbGxlZCBXaWxsaWFtc2J1cmcgQXBhcnRtZW50CiAgICAgICAgICAgICAgICAgPC9kaXY+YCwKICAgICAgICAgICAgICAgIHsic3RpY2t5IjogdHJ1ZX0KICAgICAgICAgICAgKTsKICAgICAgICAKICAgIAogICAgICAgICAgICB2YXIgbWFya2VyXzExM2I4MmZiYjE0MDQwNDdhNzYyNDVlNjBlNzUxZTFhID0gTC5tYXJrZXIoCiAgICAgICAgICAgICAgICBbNDAuNzE0OTIsIC03My45NTkzNV0sCiAgICAgICAgICAgICAgICB7fQogICAgICAgICAgICApLmFkZFRvKG1hcF9hMTAxNGI2MWUxY2I0YWMyOTI3YTJhMWNhZTgzMWJkNik7CiAgICAgICAgCiAgICAKICAgICAgICAgICAgdmFyIGljb25fYzkzZDRhODdlODg3NDIwOWIwZGUzMWUxNzZjYTg3ZmUgPSBMLkF3ZXNvbWVNYXJrZXJzLmljb24oCiAgICAgICAgICAgICAgICB7ImV4dHJhQ2xhc3NlcyI6ICJmYS1yb3RhdGUtMCIsICJpY29uIjogImluZm8tc2lnbiIsICJpY29uQ29sb3IiOiAid2hpdGUiLCAibWFya2VyQ29sb3IiOiAiZGFya3B1cnBsZSIsICJwcmVmaXgiOiAiZ2x5cGhpY29uIn0KICAgICAgICAgICAgKTsKICAgICAgICAgICAgbWFya2VyXzExM2I4MmZiYjE0MDQwNDdhNzYyNDVlNjBlNzUxZTFhLnNldEljb24oaWNvbl9jOTNkNGE4N2U4ODc0MjA5YjBkZTMxZTE3NmNhODdmZSk7CiAgICAgICAgCiAgICAKICAgICAgICAgICAgbWFya2VyXzExM2I4MmZiYjE0MDQwNDdhNzYyNDVlNjBlNzUxZTFhLmJpbmRUb29sdGlwKAogICAgICAgICAgICAgICAgYDxkaXY+CiAgICAgICAgICAgICAgICAgICAgIFJldHJlYXQgaW4gV2lsbGlhbXNidXJnCiAgICAgICAgICAgICAgICAgPC9kaXY+YCwKICAgICAgICAgICAgICAgIHsic3RpY2t5IjogdHJ1ZX0KICAgICAgICAgICAgKTsKICAgICAgICAKICAgIAogICAgICAgICAgICB2YXIgbWFya2VyX2JhZDA2YjYwNmVmZTRkNjU5MjI1YTZlNTZjOTY2NTBkID0gTC5tYXJrZXIoCiAgICAgICAgICAgICAgICBbNDAuNzIzNTQsIC03My45ODI5NV0sCiAgICAgICAgICAgICAgICB7fQogICAgICAgICAgICApLmFkZFRvKG1hcF9hMTAxNGI2MWUxY2I0YWMyOTI3YTJhMWNhZTgzMWJkNik7CiAgICAgICAgCiAgICAKICAgICAgICAgICAgdmFyIGljb25fYzRkZGJkMGQwZmUxNDIzZTk1ZWZkMTZlODU2MTkwZGIgPSBMLkF3ZXNvbWVNYXJrZXJzLmljb24oCiAgICAgICAgICAgICAgICB7ImV4dHJhQ2xhc3NlcyI6ICJmYS1yb3RhdGUtMCIsICJpY29uIjogImluZm8tc2lnbiIsICJpY29uQ29sb3IiOiAid2hpdGUiLCAibWFya2VyQ29sb3IiOiAiZGFya3B1cnBsZSIsICJwcmVmaXgiOiAiZ2x5cGhpY29uIn0KICAgICAgICAgICAgKTsKICAgICAgICAgICAgbWFya2VyX2JhZDA2YjYwNmVmZTRkNjU5MjI1YTZlNTZjOTY2NTBkLnNldEljb24oaWNvbl9jNGRkYmQwZDBmZTE0MjNlOTVlZmQxNmU4NTYxOTBkYik7CiAgICAgICAgCiAgICAKICAgICAgICAgICAgbWFya2VyX2JhZDA2YjYwNmVmZTRkNjU5MjI1YTZlNTZjOTY2NTBkLmJpbmRUb29sdGlwKAogICAgICAgICAgICAgICAgYDxkaXY+CiAgICAgICAgICAgICAgICAgICAgIE5ZQyBaZW4KICAgICAgICAgICAgICAgICA8L2Rpdj5gLAogICAgICAgICAgICAgICAgeyJzdGlja3kiOiB0cnVlfQogICAgICAgICAgICApOwogICAgICAgIAo8L3NjcmlwdD4=\" style=\"position:absolute;width:100%;height:100%;left:0;top:0;border:none !important;\" allowfullscreen webkitallowfullscreen mozallowfullscreen></iframe></div></div>"
      ],
      "text/plain": [
       "<folium.folium.Map at 0x1182e6abcf8>"
      ]
     },
     "execution_count": 96,
     "metadata": {},
     "output_type": "execute_result"
    }
   ],
   "source": [
    "m = folium.Map(location=[df['latitude'].mean(), df['longitude'].mean()], zoom_start = 12)\n",
    "colors = []\n",
    "for color in folium.map.Icon().color_options:\n",
    "    colors.append(color)\n",
    "for c in range(len(recommended)):\n",
    "\n",
    "    for x,y,n in recommended[c][['latitude', 'longitude',  'name']].values.tolist():\n",
    "        folium.Marker([x,y], tooltip=n, icon=folium.Icon(color = colors[c])).add_to(m)\n",
    "\n",
    "m"
   ]
  },
  {
   "cell_type": "markdown",
   "metadata": {},
   "source": [
    "##### 3.32 Result and Analysis"
   ]
  },
  {
   "cell_type": "code",
   "execution_count": 97,
   "metadata": {},
   "outputs": [
    {
     "name": "stdout",
     "output_type": "stream",
     "text": [
      "cluster_recommended:  [3 0]\n"
     ]
    }
   ],
   "source": [
    "print('cluster_recommended: ' ,cluster_recommended)\n"
   ]
  },
  {
   "cell_type": "code",
   "execution_count": 98,
   "metadata": {},
   "outputs": [
    {
     "data": {
      "text/plain": [
       "<matplotlib.axes._subplots.AxesSubplot at 0x1182e6ab128>"
      ]
     },
     "execution_count": 98,
     "metadata": {},
     "output_type": "execute_result"
    },
    {
     "data": {
      "image/png": "[encoded data removed]",
      "text/plain": [
       "<Figure size 432x288 with 1 Axes>"
      ]
     },
     "metadata": {
      "needs_background": "light"
     },
     "output_type": "display_data"
    }
   ],
   "source": [
    "cluster_rank.iloc[3,1:].plot.bar()"
   ]
  },
  {
   "cell_type": "markdown",
   "metadata": {},
   "source": [
    "The cluster 3 has a relatively well reviews per month score and a really good price sccore.\n",
    "\n",
    "Note that the in the chart the Y-axis is the score value of the rank, and 5 means the cluster is the best in this particular aspect."
   ]
  },
  {
   "cell_type": "markdown",
   "metadata": {},
   "source": [
    "As the map suggests, if the customer cares about both price and the review, there are a variety of choices. On manhattan, the majority of the recommendations lies on Financial District, West Village, and East Village, where the housing price is relatively better. At the same time, per the personal experience, there are a lot of housing available in East Village as well. The community is cozy and quiet, and is very nice to live in. It's no wonder why it has the best score in the number of review, which suggests about the popularity of a place.\n",
    "\n",
    "In Brooklyn, the maojority lies in Williamsburg and Downtown Brooklyn. Both are very popular place nowadays even for New Yorkers to live, and the price is much lower than on the manhattan.\n"
   ]
  },
  {
   "cell_type": "markdown",
   "metadata": {},
   "source": [
    "# 4. Conclusion <a name=\"Conclusion\"></a>"
   ]
  },
  {
   "cell_type": "markdown",
   "metadata": {},
   "source": [
    "The purpose of this project is to build a model that could provide insights for people looking for airbnb in NYC through clustering analysis. The data comes mainly from Kaggle and the model is built mainly on Scikit-Learn. \n",
    "\n",
    "The recommendation system is based on clustering analysis. We use this version because we don't have access to enough data to make a content based filtering or collaborative filtering. As a result, we applied Clustering method of KMeans to group the choices, and then use weighted score depending on customer needs to choose the cluster. This isn't the most accurate way but it could provide insights for customers and save their time.Through this clustering analysis, customer could add their preference on the community by focusing on the area that they are interested in. The final decision would be made based on customer's other consideration\n",
    "\n",
    "\n",
    "The model could be further improved by mining more data and features. For example, how long does it take to go from the house to the main tourist sites? How many good restaurant are there within reach? What's the safety issue there? More data could improve the clusters.\n",
    "\n"
   ]
  },
  {
   "cell_type": "code",
   "execution_count": null,
   "metadata": {},
   "outputs": [],
   "source": []
  },
  {
   "cell_type": "code",
   "execution_count": null,
   "metadata": {},
   "outputs": [],
   "source": []
  }
 ],
 "metadata": {
  "kernelspec": {
   "display_name": "Python 3",
   "language": "python",
   "name": "python3"
  },
  "language_info": {
   "codemirror_mode": {
    "name": "ipython",
    "version": 3
   },
   "file_extension": ".py",
   "mimetype": "text/x-python",
   "name": "python",
   "nbconvert_exporter": "python",
   "pygments_lexer": "ipython3",
   "version": "3.7.3"
  }
 },
 "nbformat": 4,
 "nbformat_minor": 2
}
